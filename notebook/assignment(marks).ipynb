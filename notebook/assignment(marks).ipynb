{
 "cells": [
  {
   "cell_type": "code",
   "execution_count": 1,
   "id": "d4f88d0a",
   "metadata": {},
   "outputs": [
    {
     "name": "stdout",
     "output_type": "stream",
     "text": [
      "enter marks of english:50\n",
      "can go ahead\n",
      "enter marks of hindi:62\n",
      "can go ahead\n",
      "enter marks of maths:35\n",
      "you are failed\n",
      "enter marks of science:85\n",
      "can go ahead\n",
      "enter marks of social science:58\n",
      "can go ahead\n",
      "total marks of 5 sujects are: 290\n",
      "your grade is C\n"
     ]
    }
   ],
   "source": [
    "a=int(input(\"enter marks of english:\"))\n",
    "if a>40 and a<=100:\n",
    "    print(\"can go ahead\")\n",
    "else:\n",
    "     print(\"you are failing\")      \n",
    "b=int(input(\"enter marks of hindi:\"))\n",
    "if b>40 and b<=100:\n",
    "    print(\"can go ahead\")\n",
    "else:\n",
    "     print(\"you are failing\")   \n",
    "c=int(input(\"enter marks of maths:\"))\n",
    "if c>40 and c<=100:\n",
    "    print(\"can go ahead\")\n",
    "else:\n",
    "     print(\"you are failing\")   \n",
    "d=int(input(\"enter marks of science:\"))\n",
    "if d>40 and d<=100:\n",
    "    print(\"can go ahead\")\n",
    "else:\n",
    "     print(\"you are failing\")   \n",
    "e=int(input(\"enter marks of social science:\"))\n",
    "if e>40 and e<=100:\n",
    "    print(\"can go ahead\")\n",
    "else:\n",
    "     print(\"you are failing\")   \n",
    "marks=a+b+c+d+e\n",
    "print(\"total marks of 5 sujects are:\",marks)\n",
    "\n",
    "if marks>=450 and marks<=500:\n",
    "    print(\"your grade is A+\")\n",
    "elif marks>=400 and marks<=449:\n",
    "    print(\"your grade is A\")\n",
    "elif marks>=350 and marks<=399:\n",
    "    print(\"your grade is B+\")\n",
    "elif marks>=300 and marks<=349:\n",
    "    print(\"your grade is B\")\n",
    "elif marks>=200 and marks<=299:\n",
    "    print(\"your grade is C\")\n",
    "else:\n",
    "    print(\"better luck nxt time\")"
   ]
  },
  {
   "cell_type": "code",
   "execution_count": null,
   "id": "b706f760",
   "metadata": {},
   "outputs": [],
   "source": []
  }
 ],
 "metadata": {
  "kernelspec": {
   "display_name": "Python 3",
   "language": "python",
   "name": "python3"
  },
  "language_info": {
   "codemirror_mode": {
    "name": "ipython",
    "version": 3
   },
   "file_extension": ".py",
   "mimetype": "text/x-python",
   "name": "python",
   "nbconvert_exporter": "python",
   "pygments_lexer": "ipython3",
   "version": "3.8.8"
  }
 },
 "nbformat": 4,
 "nbformat_minor": 5
}
