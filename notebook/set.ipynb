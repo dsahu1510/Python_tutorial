{
 "cells": [
  {
   "cell_type": "code",
   "execution_count": 1,
   "id": "322230aa",
   "metadata": {},
   "outputs": [
    {
     "name": "stdout",
     "output_type": "stream",
     "text": [
      "<class 'set'>\n",
      "{'Apple', 'orange', 'Mango', 'banana'}\n"
     ]
    }
   ],
   "source": [
    "FruitBasket={\"Apple\",\"Mango\",\"orange\",\"banana\",\"Apple\",\"Mango\"}\n",
    "print(type(FruitBasket))\n",
    "print(FruitBasket)\n"
   ]
  },
  {
   "cell_type": "code",
   "execution_count": 4,
   "id": "a7639990",
   "metadata": {},
   "outputs": [
    {
     "name": "stdout",
     "output_type": "stream",
     "text": [
      "<class 'set'>\n",
      "0\n",
      "1\n",
      "2\n",
      "3\n",
      "4\n",
      "5\n"
     ]
    }
   ],
   "source": [
    "NumSet ={0, 1, 2, 3, 4, 5} \n",
    "print(type(NumSet))\n",
    "for n in NumSet:  \n",
    "      print(n)  "
   ]
  },
  {
   "cell_type": "code",
   "execution_count": 5,
   "id": "55fe2339",
   "metadata": {},
   "outputs": [
    {
     "name": "stdout",
     "output_type": "stream",
     "text": [
      "{'Data Science', 'Big Data'}\n"
     ]
    }
   ],
   "source": [
    "DataSet=set() \n",
    "DataSet.update([\"Data Science\", \"Big Data\"])  \n",
    "print(DataSet) \n"
   ]
  },
  {
   "cell_type": "code",
   "execution_count": 6,
   "id": "722db9ed",
   "metadata": {},
   "outputs": [
    {
     "name": "stdout",
     "output_type": "stream",
     "text": [
      "{0, 1, 2, 3, 4, 40, 10, 50, 20, 60, 30}\n"
     ]
    }
   ],
   "source": [
    "A={10,20,30}; B=[40,50,60,10]\n",
    "A.update(B,range(5))\n",
    "print(A)"
   ]
  },
  {
   "cell_type": "code",
   "execution_count": 8,
   "id": "ea77be14",
   "metadata": {},
   "outputs": [
    {
     "name": "stdout",
     "output_type": "stream",
     "text": [
      "d\n",
      "{'a', 'b', 'c'}\n"
     ]
    }
   ],
   "source": [
    "A ={'a', 'b', 'c', 'd'}\n",
    "print( A.pop())\n",
    "print(A)\n"
   ]
  },
  {
   "cell_type": "code",
   "execution_count": 14,
   "id": "49f75755",
   "metadata": {},
   "outputs": [
    {
     "name": "stdout",
     "output_type": "stream",
     "text": [
      "{1, 2, 3, 4, 5}\n",
      "{2, 3, 4, 5}\n"
     ]
    }
   ],
   "source": [
    "NumSet = set((0, 1, 2, 3, 4, 5))\n",
    "#print(type(NumSet))\n",
    "NumSet.pop()  \n",
    "print(NumSet)  \n",
    "NumSet.pop()  \n",
    "print(NumSet) \n"
   ]
  },
  {
   "cell_type": "code",
   "execution_count": 16,
   "id": "e14fde6a",
   "metadata": {},
   "outputs": [
    {
     "name": "stdout",
     "output_type": "stream",
     "text": [
      "{0, 1, 2, 3, 4}\n"
     ]
    }
   ],
   "source": [
    "NumSet = set([0, 1, 2, 3, 4, 5])  \n",
    "NumSet.remove(5)  \n",
    "print(NumSet)  \n"
   ]
  },
  {
   "cell_type": "code",
   "execution_count": 1,
   "id": "7080ed04",
   "metadata": {},
   "outputs": [
    {
     "name": "stdout",
     "output_type": "stream",
     "text": [
      "{2, 4, 5}\n",
      "{2, 4, 5}\n"
     ]
    }
   ],
   "source": [
    "PyNums={2, 3, 4, 5}\n",
    "PyNums.discard(3)\n",
    "print(PyNums)\n",
    "PyNums.discard(10)\n",
    "print(PyNums)"
   ]
  },
  {
   "cell_type": "code",
   "execution_count": 2,
   "id": "4d702116",
   "metadata": {},
   "outputs": [
    {
     "name": "stdout",
     "output_type": "stream",
     "text": [
      "{'Red', 'Violet', 'Black', 'Orange'}\n",
      "Red\n",
      "{'Violet', 'Black', 'Orange'}\n"
     ]
    }
   ],
   "source": [
    "Colour = {\"Black\", \"Blue\", \"Red\", \"Green\", \"Orange\", \"Violet\"}\n",
    "Colour.remove(\"Blue\")\n",
    "Colour.discard(\"Green\")\n",
    "print(Colour)\n",
    "x = Colour.pop()\n",
    "print(x)\n",
    "print(Colour)"
   ]
  },
  {
   "cell_type": "code",
   "execution_count": 3,
   "id": "43b5ae8f",
   "metadata": {},
   "outputs": [
    {
     "name": "stdout",
     "output_type": "stream",
     "text": [
      "{'c', 'd', 'e'}\n",
      "{'c', 'd', 'e'}\n"
     ]
    }
   ],
   "source": [
    "x = {\"a\",\"b\",\"c\",\"d\",\"e\"}\n",
    "y = {\"c\",\"d\",\"e\",\"f\",\"g\"}\n",
    "print(x.intersection(y))\n",
    "print(x & y)"
   ]
  },
  {
   "cell_type": "code",
   "execution_count": 4,
   "id": "7b547377",
   "metadata": {},
   "outputs": [
    {
     "name": "stdout",
     "output_type": "stream",
     "text": [
      "{3, 4, 5}\n",
      "{3, 4, 5}\n"
     ]
    }
   ],
   "source": [
    "x = {1,2,3,4,5}\n",
    "y = {3,4,5,6,7}\n",
    "print(x.intersection(y))\n",
    "print(x & y)"
   ]
  },
  {
   "cell_type": "code",
   "execution_count": 5,
   "id": "c2b98d58",
   "metadata": {},
   "outputs": [
    {
     "name": "stdout",
     "output_type": "stream",
     "text": [
      "{2, 3, 4}\n",
      "{2, 3, 4, 5}\n"
     ]
    }
   ],
   "source": [
    "A = {1, 2, 3, 4}\n",
    "B = {2, 3, 4, 5}\n",
    "A.intersection_update(B)\n",
    "print(A)\n",
    "print(B)"
   ]
  },
  {
   "cell_type": "code",
   "execution_count": 6,
   "id": "a9c46e44",
   "metadata": {},
   "outputs": [
    {
     "name": "stdout",
     "output_type": "stream",
     "text": [
      "{'Big Data', 'Data Science', 'Spark'}\n"
     ]
    }
   ],
   "source": [
    "PySetx=set([\"Big Data\", \"Data Science\"])  \n",
    "PySety=set([\"Data Science\", \"Spark\"])  \n",
    "PySeta = PySetx |PySety  #Union\n",
    "print (PySeta) "
   ]
  },
  {
   "cell_type": "code",
   "execution_count": 14,
   "id": "c15e0070",
   "metadata": {},
   "outputs": [
    {
     "name": "stdout",
     "output_type": "stream",
     "text": [
      "<class 'NoneType'>\n"
     ]
    }
   ],
   "source": [
    "def f():pass\n",
    "print(type(f()))"
   ]
  },
  {
   "cell_type": "code",
   "execution_count": null,
   "id": "714c181a",
   "metadata": {},
   "outputs": [],
   "source": []
  },
  {
   "cell_type": "code",
   "execution_count": null,
   "id": "43cbb4f6",
   "metadata": {},
   "outputs": [],
   "source": []
  }
 ],
 "metadata": {
  "kernelspec": {
   "display_name": "Python 3",
   "language": "python",
   "name": "python3"
  },
  "language_info": {
   "codemirror_mode": {
    "name": "ipython",
    "version": 3
   },
   "file_extension": ".py",
   "mimetype": "text/x-python",
   "name": "python",
   "nbconvert_exporter": "python",
   "pygments_lexer": "ipython3",
   "version": "3.8.8"
  }
 },
 "nbformat": 4,
 "nbformat_minor": 5
}
