{
 "cells": [
  {
   "cell_type": "code",
   "execution_count": null,
   "id": "f7ba143b",
   "metadata": {},
   "outputs": [],
   "source": [
    "data=(2,3,5,7)\n",
    "print(data)\n",
    "\n",
    "x=8\n",
    "y=100\n",
    "for a in range(x,y):\n",
    "    if a%2==0:\n",
    "        print(\"it is not a prime no.\",a)\n",
    "    else:\n",
    "        if a%3==0:\n",
    "            print(\"it is not a prime no.\",a)\n",
    "        else:         \n",
    "            if a%5==0:\n",
    "                print(\"it is not a prime no.\",a)\n",
    "            else:\n",
    "                if a%7==0:\n",
    "                    print(\"it is not a prime no.\",a)\n",
    "                else:\n",
    "                    print(\"it is a prime no.\",a)\n",
    "                "
   ]
  }
 ],
 "metadata": {
  "kernelspec": {
   "display_name": "Python 3",
   "language": "python",
   "name": "python3"
  },
  "language_info": {
   "codemirror_mode": {
    "name": "ipython",
    "version": 3
   },
   "file_extension": ".py",
   "mimetype": "text/x-python",
   "name": "python",
   "nbconvert_exporter": "python",
   "pygments_lexer": "ipython3",
   "version": "3.8.8"
  }
 },
 "nbformat": 4,
 "nbformat_minor": 5
}
