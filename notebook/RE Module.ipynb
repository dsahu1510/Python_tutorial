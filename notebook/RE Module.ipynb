{
 "cells": [
  {
   "cell_type": "code",
   "execution_count": 8,
   "id": "ad6d6a9e",
   "metadata": {},
   "outputs": [
    {
     "name": "stdout",
     "output_type": "stream",
     "text": [
      "pet:cat\n"
     ]
    }
   ],
   "source": [
    "import re\n",
    "line=\"pet:cat I love cats\"\n",
    "mat=re.match(\"pet:\\w\\w\\w\",line)\n",
    "print(mat.group(0))\n"
   ]
  },
  {
   "cell_type": "code",
   "execution_count": 9,
   "id": "f1ad0e55",
   "metadata": {},
   "outputs": [
    {
     "name": "stdout",
     "output_type": "stream",
     "text": [
      "Pet:Cat\n"
     ]
    }
   ],
   "source": [
    "import re\n",
    "line=\"Pet:Cat I like Pets Pet:Cow I love Cows\"\n",
    "mat=re.match(r\"Pet:\\w\\w\\w\",line)\n",
    "print(mat.group(0))"
   ]
  },
  {
   "cell_type": "code",
   "execution_count": 13,
   "id": "9a47f38f",
   "metadata": {},
   "outputs": [
    {
     "name": "stdout",
     "output_type": "stream",
     "text": [
      "enter ur namesama\n",
      "Striing Pattern Matched\n"
     ]
    }
   ],
   "source": [
    "from re import *\n",
    "StrPatt = '^s..a$' \n",
    "PyStr = input(\"enter ur name\")\n",
    "PyResult = match(StrPatt, PyStr) \n",
    "if(PyResult):\n",
    "  print(\"Striing Pattern Matched\") \n",
    "else:\n",
    "  print(\"String Pattern Not Matched\")\n"
   ]
  },
  {
   "cell_type": "code",
   "execution_count": 16,
   "id": "bc497ffe",
   "metadata": {},
   "outputs": [
    {
     "name": "stdout",
     "output_type": "stream",
     "text": [
      "pet:cat\n"
     ]
    }
   ],
   "source": [
    "import re\n",
    "line=\"pet:cat I love cats\"\n",
    "mat=re.search(r\"pet:\\w\\w\\w\",line)\n",
    "print(mat.group())\n"
   ]
  },
  {
   "cell_type": "code",
   "execution_count": 21,
   "id": "643e4676",
   "metadata": {},
   "outputs": [
    {
     "ename": "AttributeError",
     "evalue": "'NoneType' object has no attribute 'group'",
     "output_type": "error",
     "traceback": [
      "\u001b[1;31m---------------------------------------------------------------------------\u001b[0m",
      "\u001b[1;31mAttributeError\u001b[0m                            Traceback (most recent call last)",
      "\u001b[1;32m<ipython-input-21-133a3796aa78>\u001b[0m in \u001b[0;36m<module>\u001b[1;34m\u001b[0m\n\u001b[0;32m      2\u001b[0m \u001b[0mline\u001b[0m\u001b[1;33m=\u001b[0m\u001b[1;34m\"I love cats pet:cat\"\u001b[0m\u001b[1;33m\u001b[0m\u001b[1;33m\u001b[0m\u001b[0m\n\u001b[0;32m      3\u001b[0m \u001b[0mmat\u001b[0m\u001b[1;33m=\u001b[0m\u001b[0mre\u001b[0m\u001b[1;33m.\u001b[0m\u001b[0mmatch\u001b[0m\u001b[1;33m(\u001b[0m\u001b[1;34mr\"pet:\\w\\w\\w\"\u001b[0m\u001b[1;33m,\u001b[0m\u001b[0mline\u001b[0m\u001b[1;33m)\u001b[0m\u001b[1;33m\u001b[0m\u001b[1;33m\u001b[0m\u001b[0m\n\u001b[1;32m----> 4\u001b[1;33m \u001b[0mprint\u001b[0m\u001b[1;33m(\u001b[0m\u001b[0mmat\u001b[0m\u001b[1;33m.\u001b[0m\u001b[0mgroup\u001b[0m\u001b[1;33m(\u001b[0m\u001b[1;36m0\u001b[0m\u001b[1;33m)\u001b[0m\u001b[1;33m)\u001b[0m\u001b[1;33m\u001b[0m\u001b[1;33m\u001b[0m\u001b[0m\n\u001b[0m",
      "\u001b[1;31mAttributeError\u001b[0m: 'NoneType' object has no attribute 'group'"
     ]
    }
   ],
   "source": [
    "import re\n",
    "line=\"I love cats pet:cat\"\n",
    "mat=re.match(r\"pet:\\w\\w\\w\",line)\n",
    "print(mat.group(0))\n"
   ]
  },
  {
   "cell_type": "code",
   "execution_count": 20,
   "id": "3b20b160",
   "metadata": {},
   "outputs": [
    {
     "name": "stdout",
     "output_type": "stream",
     "text": [
      "pet:cat\n"
     ]
    }
   ],
   "source": [
    "import re\n",
    "line=\"I love cats pet:cat\"\n",
    "mat=re.search(r\"pet:\\w\\w\\w\",line)\n",
    "print(mat.group(0))\n"
   ]
  },
  {
   "cell_type": "code",
   "execution_count": 24,
   "id": "38ec720c",
   "metadata": {},
   "outputs": [
    {
     "name": "stdout",
     "output_type": "stream",
     "text": [
      "pet:cows\n"
     ]
    }
   ],
   "source": [
    "import re\n",
    "line=\" pet:cat I love cats pet:cows I love cow\"\n",
    "mat=re.search(r\"pet:\\w\\w\\w\\w\",line)\n",
    "print(mat.group(0))\n"
   ]
  },
  {
   "cell_type": "code",
   "execution_count": 38,
   "id": "0019c317",
   "metadata": {},
   "outputs": [
    {
     "name": "stdout",
     "output_type": "stream",
     "text": [
      "Pattern Found\n"
     ]
    }
   ],
   "source": [
    "import re\n",
    "#pyin=input(\"enter word\")\n",
    "PyResult = re.search('m*', 'programing')\n",
    "if(PyResult):\n",
    "  print(\"Pattern Found\")\n",
    "else:\n",
    "  print(\"Pattern Not Found\")\n"
   ]
  },
  {
   "cell_type": "code",
   "execution_count": 6,
   "id": "ee77c2c2",
   "metadata": {},
   "outputs": [
    {
     "name": "stdout",
     "output_type": "stream",
     "text": [
      "YES Found\n"
     ]
    }
   ],
   "source": [
    "#For Exactly 1 time.\n",
    "from re import *\n",
    "PyResult =search('!?', 'Hello World!!!')\n",
    "if(PyResult):\n",
    "  print(\"YES Found\")\n",
    "else:\n",
    "  print(\"NOT Found\")\n"
   ]
  },
  {
   "cell_type": "code",
   "execution_count": 7,
   "id": "d0cb1a3e",
   "metadata": {},
   "outputs": [
    {
     "name": "stdout",
     "output_type": "stream",
     "text": [
      "['pet:cat', 'pet:cow']\n"
     ]
    }
   ],
   "source": [
    "import re\n",
    "line=\" pet:cat I love cats pet:cow I love cow\"\n",
    "mat=re.findall(r\"pet:\\w\\w\\w\",line)\n",
    "print(mat)\n"
   ]
  },
  {
   "cell_type": "code",
   "execution_count": 18,
   "id": "25a5d4d2",
   "metadata": {},
   "outputs": [
    {
     "name": "stdout",
     "output_type": "stream",
     "text": [
      "['@gmail.com', '@test.in', '@analyticsvidhya.com', '@rest.biz']\n"
     ]
    }
   ],
   "source": [
    "import re\n",
    "result=re.findall(r'@\\w+.\\w+','abc.test@gmail.com, xyz@test.in, test.first@analyticsvidhya.com, first.test@rest.biz')\n",
    "print(result)"
   ]
  },
  {
   "cell_type": "code",
   "execution_count": 19,
   "id": "b30f5001",
   "metadata": {},
   "outputs": [
    {
     "name": "stdout",
     "output_type": "stream",
     "text": [
      "['com', 'in', 'com', 'biz']\n"
     ]
    }
   ],
   "source": [
    "import re\n",
    "result=re.findall(r'@\\w+.(\\w+)','abc.test@gmail.com, xyz@test.in, test.first@analyticsvidhya.com, first.test@rest.biz')\n",
    "print(result)\n"
   ]
  },
  {
   "cell_type": "code",
   "execution_count": 23,
   "id": "18cd53a8",
   "metadata": {},
   "outputs": [
    {
     "name": "stdout",
     "output_type": "stream",
     "text": [
      "['I love cats ', ' I love cows, ', ' thank U']\n"
     ]
    }
   ],
   "source": [
    "import re\n",
    "line=\"I love cats pet:cat I love cows, pet:cow thank U\"\n",
    "mat=re.split(r\"pet:\\w\\w\\w\",line)\n",
    "print(mat)\n",
    "\n"
   ]
  },
  {
   "cell_type": "code",
   "execution_count": 24,
   "id": "e655d01d",
   "metadata": {},
   "outputs": [
    {
     "name": "stdout",
     "output_type": "stream",
     "text": [
      "['Naresh', 'i', 'Technologies', 'Ameerpet']\n",
      "['Leader', 'in', 'IT', 'Training']\n"
     ]
    }
   ],
   "source": [
    "import re\n",
    "print(re.split(r'\\s','Naresh i Technologies Ameerpet'))\n",
    "print(re.split(r'\\s','Leader in IT Training'))\n"
   ]
  },
  {
   "cell_type": "code",
   "execution_count": 29,
   "id": "d3686177",
   "metadata": {},
   "outputs": [
    {
     "name": "stdout",
     "output_type": "stream",
     "text": [
      "['NareshIT', 'HYDERABAD']\n"
     ]
    }
   ],
   "source": [
    "import re\n",
    "result=re.split(r' ','NareshIT HYDERABAD')\n",
    "print(result)\n"
   ]
  },
  {
   "cell_type": "code",
   "execution_count": 34,
   "id": "138d0d35",
   "metadata": {},
   "outputs": [
    {
     "name": "stdout",
     "output_type": "stream",
     "text": [
      "['NareshITHYDER', 'B', 'D']\n"
     ]
    }
   ],
   "source": [
    "import re\n",
    "result=re.split(r'A','NareshITHYDERABAD',maxsplit=2)\n",
    "print(result)\n"
   ]
  },
  {
   "cell_type": "code",
   "execution_count": 35,
   "id": "0ece9c23",
   "metadata": {},
   "outputs": [
    {
     "name": "stdout",
     "output_type": "stream",
     "text": [
      "raju@gmail.com and ksr@gmail.com and vara@gmail.in\n"
     ]
    }
   ],
   "source": [
    "import re\n",
    "str1=\"raju@abc.com and ksr@pqr.com and vara@vvv.in\"\n",
    "mat=re.sub(r\"@\\w+\",\"@gmail\",str1)\n",
    "print(mat)\n"
   ]
  },
  {
   "cell_type": "code",
   "execution_count": 36,
   "id": "233cdc9e",
   "metadata": {},
   "outputs": [
    {
     "name": "stdout",
     "output_type": "stream",
     "text": [
      "Python for beginners is a good Scripting\n"
     ]
    }
   ],
   "source": [
    "import re\n",
    "text = \"Python for beginners is a cool Scripting\"\n",
    "pattern = re.sub(\"cool\", \"good\", text)\n",
    "print(pattern)"
   ]
  },
  {
   "cell_type": "code",
   "execution_count": 58,
   "id": "a7aecbc5",
   "metadata": {},
   "outputs": [
    {
     "name": "stdout",
     "output_type": "stream",
     "text": [
      "BigData\n"
     ]
    }
   ],
   "source": [
    "import re\n",
    "result = re.search(r'BigData', 'Data Science Based on BigData')\n",
    "print (result.group(0))\n",
    "#group(0) didn't return the entire match\n",
    "\t"
   ]
  },
  {
   "cell_type": "code",
   "execution_count": 59,
   "id": "cf31d15d",
   "metadata": {},
   "outputs": [
    {
     "name": "stdout",
     "output_type": "stream",
     "text": [
      "['N', 'a', 'r', 'e', 's', 'h', ' ', 'i', ' ', 'T', 'e', 'c', 'h', 'n', 'o', 'l', 'o', 'g', 'i', 'e', 's']\n",
      "['N', 'a', 'r', 'e', 's', 'h', 'i', 'T', 'e', 'c', 'h', 'n', 'o', 'l', 'o', 'g', 'i', 'e', 's']\n"
     ]
    }
   ],
   "source": [
    "import re\n",
    "result=re.findall(r'.','Naresh i Technologies')\n",
    "print(result)\n",
    "result1=re.findall(r'\\w','Naresh i Technologies')\n",
    "print(result1)\n"
   ]
  },
  {
   "cell_type": "code",
   "execution_count": 41,
   "id": "b7d2ac47",
   "metadata": {},
   "outputs": [
    {
     "name": "stdout",
     "output_type": "stream",
     "text": [
      "['Naresh', '', 'i', '', 'Technologies', '', 'Leader', '', 'in', '', 'IT', '', 'Training', '']\n"
     ]
    }
   ],
   "source": [
    "import re\n",
    "result=re.findall(r'\\w*','Naresh i Technologies Leader in IT Training')\n",
    "print (result)\n"
   ]
  },
  {
   "cell_type": "code",
   "execution_count": 42,
   "id": "4c07bfb0",
   "metadata": {},
   "outputs": [
    {
     "name": "stdout",
     "output_type": "stream",
     "text": [
      "['Naresh', 'i', 'Technologies', 'Leader', 'in', 'IT', 'Training']\n"
     ]
    }
   ],
   "source": [
    "import re\n",
    "result=re.findall(r'\\w+','Naresh i Technologies Leader in IT Training')\n",
    "print (result)"
   ]
  },
  {
   "cell_type": "code",
   "execution_count": 54,
   "id": "757ea986",
   "metadata": {},
   "outputs": [
    {
     "name": "stdout",
     "output_type": "stream",
     "text": [
      "['Technologies']\n"
     ]
    }
   ],
   "source": [
    "\n",
    "import re\n",
    "result=re.findall(r'\\w+$','NiT  Naresh i Technologies')\n",
    "print (result)\n"
   ]
  },
  {
   "cell_type": "code",
   "execution_count": 55,
   "id": "ff89b374",
   "metadata": {},
   "outputs": [
    {
     "name": "stdout",
     "output_type": "stream",
     "text": [
      "['NiT', 'Nar', 'esh', 'Tec', 'hno', 'log', 'ies']\n"
     ]
    }
   ],
   "source": [
    "import re\n",
    "result=re.findall(r'\\w\\w\\w','NiT Naresh i Technologies')\n",
    "print (result)\n"
   ]
  },
  {
   "cell_type": "code",
   "execution_count": 56,
   "id": "2e1c1974",
   "metadata": {},
   "outputs": [
    {
     "name": "stdout",
     "output_type": "stream",
     "text": [
      "['Ni', 'Na', 'i ', 'Te', 'Le', 'in', 'IT']\n"
     ]
    }
   ],
   "source": [
    "import re\n",
    "result=re.findall(r'\\b\\w.','NiT Naresh i Technologies Leader in IT')\n",
    "print (result)\n"
   ]
  },
  {
   "cell_type": "code",
   "execution_count": 60,
   "id": "6cb36c7e",
   "metadata": {},
   "outputs": [
    {
     "name": "stdout",
     "output_type": "stream",
     "text": [
      "['Naresh', '', 'i', '', 'Technologies', '', 'Leader', '', 'in', '', 'IT', '', 'Training', '']\n"
     ]
    }
   ],
   "source": [
    "import re\n",
    "result=re.findall(r'\\w*','Naresh i Technologies Leader in IT Training')\n",
    "print (result)\n"
   ]
  },
  {
   "cell_type": "code",
   "execution_count": 61,
   "id": "528b37e7",
   "metadata": {},
   "outputs": [
    {
     "name": "stdout",
     "output_type": "stream",
     "text": [
      "['Naresh', 'i', 'Technologies', 'Leader', 'in', 'IT', 'Training']\n"
     ]
    }
   ],
   "source": [
    "import re\n",
    "result=re.findall(r'\\w+','Naresh i Technologies Leader in IT Training')\n",
    "print (result)\n"
   ]
  },
  {
   "cell_type": "code",
   "execution_count": 62,
   "id": "76dde666",
   "metadata": {},
   "outputs": [
    {
     "name": "stdout",
     "output_type": "stream",
     "text": [
      "['NiT']\n"
     ]
    }
   ],
   "source": [
    "import re\n",
    "result=re.findall(r'^\\w+','NiT  Naresh i Technologies')\n",
    "print (result)\n"
   ]
  },
  {
   "cell_type": "code",
   "execution_count": 63,
   "id": "ce2a7108",
   "metadata": {},
   "outputs": [
    {
     "name": "stdout",
     "output_type": "stream",
     "text": [
      "['NiT', 'Nar', 'esh', 'Tec', 'hno', 'log', 'ies']\n"
     ]
    }
   ],
   "source": [
    "import re\n",
    "result=re.findall(r'\\w\\w\\w','NiT Naresh i Technologies')\n",
    "print (result)\n"
   ]
  },
  {
   "cell_type": "code",
   "execution_count": 1,
   "id": "6764d1a2",
   "metadata": {},
   "outputs": [
    {
     "name": "stdout",
     "output_type": "stream",
     "text": [
      "['Ni', 'Na', 'i ', 'Te', 'Le', 'in', 'IT']\n"
     ]
    }
   ],
   "source": [
    "import re\n",
    "result=re.findall(r'\\b\\w.','NiT Naresh i Technologies Leader in IT')\n",
    "print (result)\n"
   ]
  },
  {
   "cell_type": "code",
   "execution_count": 7,
   "id": "d5691edd",
   "metadata": {},
   "outputs": [
    {
     "name": "stdout",
     "output_type": "stream",
     "text": [
      "['@gmail', '@test', '@nareshit', '@nit']\n"
     ]
    }
   ],
   "source": [
    "import re\n",
    "result=re.findall(r'@\\w+',\"\"\"raju.ksr@gmail.com, xyz@test.in,\n",
    "test.first@nareshit.com, first.test@nit.b\"\"\")\n",
    "print (result)"
   ]
  },
  {
   "cell_type": "code",
   "execution_count": 8,
   "id": "d954eceb",
   "metadata": {},
   "outputs": [
    {
     "name": "stdout",
     "output_type": "stream",
     "text": [
      "['com', 'in', 'com', 'biz']\n"
     ]
    }
   ],
   "source": [
    "import re\n",
    "result=re.findall(r'@\\w+.(\\w+)',\"\"\"raju.ksr@gmail.com, xyz@test.in,\n",
    "test.first@nareshit.com, first.test@nit.biz\"\"\")\n",
    "print (result)\n"
   ]
  },
  {
   "cell_type": "code",
   "execution_count": 10,
   "id": "3c88da6b",
   "metadata": {},
   "outputs": [
    {
     "name": "stdout",
     "output_type": "stream",
     "text": [
      "['2007', '2011', '2009']\n"
     ]
    }
   ],
   "source": [
    "result=re.findall(r'\\d{2}-\\d{2}-(\\d{4})',\"\"\"Amit 34-3456 12-05-2007,\n",
    "XYZ 56-4532 11-11-2011, ABC 67-8945 12-01-2009\"\"\")\n",
    "print (result)"
   ]
  },
  {
   "cell_type": "code",
   "execution_count": null,
   "id": "f930102c",
   "metadata": {},
   "outputs": [],
   "source": []
  }
 ],
 "metadata": {
  "kernelspec": {
   "display_name": "Python 3",
   "language": "python",
   "name": "python3"
  },
  "language_info": {
   "codemirror_mode": {
    "name": "ipython",
    "version": 3
   },
   "file_extension": ".py",
   "mimetype": "text/x-python",
   "name": "python",
   "nbconvert_exporter": "python",
   "pygments_lexer": "ipython3",
   "version": "3.8.8"
  }
 },
 "nbformat": 4,
 "nbformat_minor": 5
}
