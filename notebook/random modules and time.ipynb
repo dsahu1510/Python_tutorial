{
 "cells": [
  {
   "cell_type": "code",
   "execution_count": 1,
   "id": "a88bda77",
   "metadata": {},
   "outputs": [
    {
     "name": "stdout",
     "output_type": "stream",
     "text": [
      "0.09062917782832969\n",
      "0.020506737134096564\n"
     ]
    }
   ],
   "source": [
    "import random\n",
    "print(random.random())\n",
    "print(random.random())"
   ]
  },
  {
   "cell_type": "code",
   "execution_count": 4,
   "id": "0ed5853e",
   "metadata": {},
   "outputs": [
    {
     "name": "stdout",
     "output_type": "stream",
     "text": [
      "7\n"
     ]
    }
   ],
   "source": [
    "import random\n",
    "\n",
    "print(random.choice([1,2,3,4,5,6,7]))\n",
    "#print(random.choice(items))\n",
    "#print(random.choice(items))"
   ]
  },
  {
   "cell_type": "code",
   "execution_count": 7,
   "id": "3692032c",
   "metadata": {},
   "outputs": [
    {
     "name": "stdout",
     "output_type": "stream",
     "text": [
      "[1, 2, 3, 4, 5, 6, 7]\n",
      "[4, 7, 3, 6, 1, 5, 2]\n"
     ]
    }
   ],
   "source": [
    "import random\n",
    "items=[1,2,3,4,5,6,7]\n",
    "print(items)\n",
    "random.shuffle(items)\n",
    "print(items)"
   ]
  },
  {
   "cell_type": "code",
   "execution_count": 8,
   "id": "5a74b000",
   "metadata": {},
   "outputs": [
    {
     "name": "stdout",
     "output_type": "stream",
     "text": [
      "[1, 2, 3, 4, 5, 6, 7]\n",
      "[7, 5, 6]\n",
      "[6, 5, 1]\n",
      "[1, 6, 7]\n"
     ]
    }
   ],
   "source": [
    "import random\n",
    "items=[1,2,3,4,5,6,7]\n",
    "print(items)\n",
    "print(random.sample(items,3))\n",
    "print(random.sample(items,3))\n",
    "print(random.sample(items,3))"
   ]
  },
  {
   "cell_type": "code",
   "execution_count": 9,
   "id": "69400ec8",
   "metadata": {},
   "outputs": [
    {
     "name": "stdout",
     "output_type": "stream",
     "text": [
      "Enter Any Valid  Number: 10\n",
      "Enter Any Valid  Number: 20\n",
      "True\n",
      "True\n",
      "False\n"
     ]
    }
   ],
   "source": [
    "import operator\n",
    "a=int(input(\"Enter Any Valid  Number: \"))\n",
    "b=int(input(\"Enter Any Valid  Number: \"))\n",
    "print(operator.lt(a, b))\n",
    "print(operator.le(a, b))\n",
    "print(operator.eq(a, b))"
   ]
  },
  {
   "cell_type": "code",
   "execution_count": 10,
   "id": "410472ec",
   "metadata": {},
   "outputs": [
    {
     "name": "stdout",
     "output_type": "stream",
     "text": [
      "Enter Any Valid  Number: 10\n",
      "Enter Any Valid  Number: 10\n",
      "False\n",
      "True\n"
     ]
    }
   ],
   "source": [
    "a=int(input(\"Enter Any Valid  Number: \"))\n",
    "b=int(input(\"Enter Any Valid  Number: \"))\n",
    "print(operator.__lt__(a, b))\n",
    "print(operator.__le__(a, b))"
   ]
  },
  {
   "cell_type": "code",
   "execution_count": null,
   "id": "51c7672d",
   "metadata": {},
   "outputs": [],
   "source": [
    "x=float(input(\"\"))\n",
    "y=int(input(\"\"))\n",
    "z=x-y\n",
    "print(z)"
   ]
  },
  {
   "cell_type": "code",
   "execution_count": 3,
   "id": "78d436bf",
   "metadata": {},
   "outputs": [
    {
     "name": "stdout",
     "output_type": "stream",
     "text": [
      "48\n"
     ]
    }
   ],
   "source": [
    "x=eval(\"18+20+10\")\n",
    "print(x)"
   ]
  },
  {
   "cell_type": "code",
   "execution_count": 6,
   "id": "7c826503",
   "metadata": {},
   "outputs": [
    {
     "name": "stdout",
     "output_type": "stream",
     "text": [
      "Enter Data: 10\n",
      "<class 'int'>\n",
      "10\n"
     ]
    }
   ],
   "source": [
    "PyData=eval(input(\"Enter Data: \"))\n",
    "print(type(PyData))\n",
    "print(PyData)"
   ]
  },
  {
   "cell_type": "code",
   "execution_count": 7,
   "id": "ebfbf0fb",
   "metadata": {},
   "outputs": [
    {
     "name": "stdout",
     "output_type": "stream",
     "text": [
      "1631969868.407093\n"
     ]
    }
   ],
   "source": [
    "import time\n",
    "ticks = time.time()\n",
    "print(ticks)\n"
   ]
  },
  {
   "cell_type": "code",
   "execution_count": 10,
   "id": "e9c2027f",
   "metadata": {},
   "outputs": [
    {
     "name": "stdout",
     "output_type": "stream",
     "text": [
      "time.struct_time(tm_year=2021, tm_mon=9, tm_mday=18, tm_hour=18, tm_min=41, tm_sec=58, tm_wday=5, tm_yday=261, tm_isdst=0)\n"
     ]
    }
   ],
   "source": [
    "import time\n",
    "localtime = time.localtime(time.time())\n",
    "print( localtime)\n"
   ]
  },
  {
   "cell_type": "code",
   "execution_count": 5,
   "id": "af8be91b",
   "metadata": {},
   "outputs": [
    {
     "name": "stdout",
     "output_type": "stream",
     "text": [
      "Today is:  2021-09-19\n",
      "Day is:  19\n",
      "9\n",
      "9\n",
      "6\n"
     ]
    }
   ],
   "source": [
    "from datetime import date \n",
    "x=date.today()\n",
    "print(\"Today is: \",x)\n",
    "day=x.day\n",
    "print(\"Day is: \",day)\n",
    "month=x.month\n",
    "print(month)\n",
    "print(x.month)\n",
    "\n",
    "print(date.weekday(x))"
   ]
  },
  {
   "cell_type": "code",
   "execution_count": 6,
   "id": "797259f6",
   "metadata": {},
   "outputs": [
    {
     "name": "stdout",
     "output_type": "stream",
     "text": [
      "21\n",
      "2021\n",
      "Sun\n",
      "Sunday\n",
      "Sep\n",
      "September\n",
      "Sunday 19 September,21\n",
      "Sunday 09/19/21 September,2021\n"
     ]
    }
   ],
   "source": [
    "from datetime import datetime\n",
    "x=datetime.now()\n",
    "print(x.strftime(\"%y\"))\n",
    "print(x.strftime(\"%Y\"))\n",
    "print(x.strftime(\"%a\"))\n",
    "print(x.strftime(\"%A\"))\n",
    "print(x.strftime(\"%b\"))\n",
    "print(x.strftime(\"%B\"))\n",
    "print(x.strftime(\"%A %d %B,%y\"))\n",
    "print(x.strftime(\"%A %D %B,%Y\"))"
   ]
  },
  {
   "cell_type": "code",
   "execution_count": 20,
   "id": "ba2bc571",
   "metadata": {},
   "outputs": [
    {
     "name": "stdout",
     "output_type": "stream",
     "text": [
      "Sun Sep 19 00:57:38 2021\n",
      "12:57:38 AM\n",
      "2021-09-19\n",
      "00:38 AM\n"
     ]
    }
   ],
   "source": [
    "from datetime import datetime\n",
    "DFormat=datetime.now()\n",
    "print(DFormat.strftime(\"%c\"))\n",
    "#print(DFormat.strftime(\"%C\"))\n",
    "print(DFormat.strftime(\"%I:%M:%S %p\"))\n",
    "#print(DFormat.strftime(\"%I:%M %p\"))\n",
    "print(DFormat.strftime(\"%F\"))\n",
    "print(x.strftime(\"%H:%M %p\"))"
   ]
  },
  {
   "cell_type": "code",
   "execution_count": 21,
   "id": "e7e9f4c6",
   "metadata": {},
   "outputs": [
    {
     "name": "stdout",
     "output_type": "stream",
     "text": [
      "365 days, 8:15:00\n",
      "ToDay is:  2021-09-19 01:01:56.520600\n"
     ]
    }
   ],
   "source": [
    "from datetime import datetime\n",
    "from datetime import timedelta\n",
    "print(timedelta(days=365,hours=8, minutes=15))\n",
    "print(\"ToDay is: \", datetime.now())\n"
   ]
  },
  {
   "cell_type": "code",
   "execution_count": 22,
   "id": "61ecde9f",
   "metadata": {},
   "outputs": [
    {
     "name": "stdout",
     "output_type": "stream",
     "text": [
      "Sun Sep 19 01:10:08 2021\n",
      "Thu Jan  1 05:30:00 1970\n"
     ]
    }
   ],
   "source": [
    "import time\n",
    "lt=time.asctime(time.localtime(time.time()))\n",
    "print(lt)\n",
    "dst=time.asctime(time.localtime(time.daylight))\n",
    "print(dst)"
   ]
  },
  {
   "cell_type": "code",
   "execution_count": null,
   "id": "ed67e3bb",
   "metadata": {},
   "outputs": [],
   "source": []
  },
  {
   "cell_type": "code",
   "execution_count": null,
   "id": "4ac6283d",
   "metadata": {},
   "outputs": [],
   "source": []
  },
  {
   "cell_type": "code",
   "execution_count": null,
   "id": "4dd047d0",
   "metadata": {},
   "outputs": [],
   "source": []
  }
 ],
 "metadata": {
  "kernelspec": {
   "display_name": "Python 3",
   "language": "python",
   "name": "python3"
  },
  "language_info": {
   "codemirror_mode": {
    "name": "ipython",
    "version": 3
   },
   "file_extension": ".py",
   "mimetype": "text/x-python",
   "name": "python",
   "nbconvert_exporter": "python",
   "pygments_lexer": "ipython3",
   "version": "3.8.8"
  }
 },
 "nbformat": 4,
 "nbformat_minor": 5
}
