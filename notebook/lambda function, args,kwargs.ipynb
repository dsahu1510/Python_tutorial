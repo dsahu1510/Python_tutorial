{
 "cells": [
  {
   "cell_type": "code",
   "execution_count": 1,
   "id": "e0fbb88f",
   "metadata": {},
   "outputs": [
    {
     "name": "stdout",
     "output_type": "stream",
     "text": [
      "25\n"
     ]
    }
   ],
   "source": [
    "print((lambda x:x*x)(5))\n"
   ]
  },
  {
   "cell_type": "code",
   "execution_count": 2,
   "id": "047c0661",
   "metadata": {},
   "outputs": [
    {
     "name": "stdout",
     "output_type": "stream",
     "text": [
      "[16, 9, 4, 1]\n"
     ]
    }
   ],
   "source": [
    "n=[4,3,2,1]\n",
    "print(list(map(lambda x:x**2,n)))\n"
   ]
  },
  {
   "cell_type": "code",
   "execution_count": 3,
   "id": "fdeb8fff",
   "metadata": {},
   "outputs": [
    {
     "name": "stdout",
     "output_type": "stream",
     "text": [
      "(2, 10, 8, 12, 16)\n"
     ]
    }
   ],
   "source": [
    "my_list = [1, 5, 4, 6, 8]\n",
    "new_list = tuple(map(lambda x: x * 2 , my_list))\n",
    "print(new_list)\n"
   ]
  },
  {
   "cell_type": "code",
   "execution_count": 4,
   "id": "c5370d0c",
   "metadata": {},
   "outputs": [
    {
     "name": "stdout",
     "output_type": "stream",
     "text": [
      "['hey!!', 'hello!!', 'listern!!', 'come!!', 'here!!']\n"
     ]
    }
   ],
   "source": [
    "alpha=(\"hey\",\"hello\",\"listern\",\"come\",\"here\")\n",
    "modified=list(map(lambda x:x+\"!!\",alpha))\n",
    "print(modified)"
   ]
  },
  {
   "cell_type": "code",
   "execution_count": 5,
   "id": "8386da57",
   "metadata": {},
   "outputs": [
    {
     "name": "stdout",
     "output_type": "stream",
     "text": [
      "[4, 3]\n"
     ]
    }
   ],
   "source": [
    "n=[4,3,2,1]\n",
    "print(list(filter(lambda x:x>2,n)))\n"
   ]
  },
  {
   "cell_type": "code",
   "execution_count": 6,
   "id": "e2820f63",
   "metadata": {},
   "outputs": [
    {
     "name": "stdout",
     "output_type": "stream",
     "text": [
      "[2, 6, 8, 10, 12]\n",
      "[1, 3, 5, 15]\n"
     ]
    }
   ],
   "source": [
    "my_list = [1, 2, 3, 5, 6, 8,10, 12,15]\n",
    "Even_list = list(filter(lambda x: (x%2 == 0),my_list))\n",
    "print(Even_list)\n",
    "Odd_list = list(filter(lambda x: (x%2 != 0),my_list))\n",
    "print(Odd_list)\n"
   ]
  },
  {
   "cell_type": "code",
   "execution_count": 7,
   "id": "1b89534c",
   "metadata": {},
   "outputs": [
    {
     "name": "stdout",
     "output_type": "stream",
     "text": [
      "24\n"
     ]
    }
   ],
   "source": [
    "import functools\n",
    "n=[4,3,2,1]\n",
    "print(functools.reduce(lambda x,y:x*y,n))"
   ]
  },
  {
   "cell_type": "code",
   "execution_count": 8,
   "id": "af5a6d2f",
   "metadata": {},
   "outputs": [
    {
     "name": "stdout",
     "output_type": "stream",
     "text": [
      "10\n",
      "10\n"
     ]
    }
   ],
   "source": [
    "import functools\n",
    "print(functools.reduce(lambda x,y:x+y,[1,2,3,4]))\n",
    "result=sum([x for x in [1,2,3,4]])\n",
    "print(result)"
   ]
  },
  {
   "cell_type": "code",
   "execution_count": 9,
   "id": "8b66252f",
   "metadata": {},
   "outputs": [
    {
     "name": "stdout",
     "output_type": "stream",
     "text": [
      "Sum is: 8\n",
      "Sum is: 22\n",
      "Sum is: 17\n"
     ]
    }
   ],
   "source": [
    "def Add(*num):\n",
    "    Sum = 0\n",
    "    for n in num:\n",
    "        Sum=Sum+n\n",
    "    print(\"Sum is:\",Sum)\n",
    "Add(3,5)\n",
    "Add(4,5,6,7)\n",
    "Add(1,2,3,5,6)"
   ]
  },
  {
   "cell_type": "code",
   "execution_count": 10,
   "id": "0865e3f3",
   "metadata": {},
   "outputs": [
    {
     "name": "stdout",
     "output_type": "stream",
     "text": [
      "{'kwargs1': 'KORA', 'kwargs2': 'Subba Raju'}\n",
      "{'kwargs1': 'KORA', 'kwargs2': 'Subba Raju', 'kwargs3': '20-Years'}\n"
     ]
    }
   ],
   "source": [
    "def print_kwargs(**kwargs):\n",
    "        print(kwargs)\n",
    "print_kwargs(kwargs1=\"KORA\", kwargs2=\"Subba Raju\")\n",
    "print_kwargs(kwargs1=\"KORA\", kwargs2=\"Subba Raju\",kwargs3=\"20-Years\")\n"
   ]
  },
  {
   "cell_type": "code",
   "execution_count": 11,
   "id": "7cfe9cd3",
   "metadata": {},
   "outputs": [
    {
     "name": "stdout",
     "output_type": "stream",
     "text": [
      "The value of MyName is Raju\n",
      "The value of YourName is Ravi\n"
     ]
    }
   ],
   "source": [
    "def print_values(**kwargs):\n",
    "    for key, value in kwargs.items():\n",
    "        print(\"The value of {} is {}\".format(key, value))\n",
    "print_values(MyName=\"Raju\", YourName=\"Ravi\")\n"
   ]
  },
  {
   "cell_type": "code",
   "execution_count": 12,
   "id": "6ebf4a10",
   "metadata": {},
   "outputs": [
    {
     "name": "stdout",
     "output_type": "stream",
     "text": [
      "The value of Name1 is Alex\n",
      "The value of Name2 is Gray\n",
      "The value of Name3 is Harper\n",
      "The value of Name4 is Raju\n",
      "The value of Name5 is SARA\n",
      "The value of Name6 is SCOTT\n"
     ]
    }
   ],
   "source": [
    "def print_values(**kwargs):\n",
    "    for key, value in kwargs.items():\n",
    "        print(\"The value of {} is {}\".format(key, value))\n",
    "print_values(\n",
    "            Name1=\"Alex\",\n",
    "            Name2=\"Gray\",\n",
    "            Name3=\"Harper\",\n",
    "            Name4=\"Raju\",\n",
    "            Name5=\"SARA\",\n",
    "            Name6=\"SCOTT\"\n",
    "        )\n"
   ]
  },
  {
   "cell_type": "code",
   "execution_count": null,
   "id": "a5b162c1",
   "metadata": {},
   "outputs": [],
   "source": []
  }
 ],
 "metadata": {
  "kernelspec": {
   "display_name": "Python 3",
   "language": "python",
   "name": "python3"
  },
  "language_info": {
   "codemirror_mode": {
    "name": "ipython",
    "version": 3
   },
   "file_extension": ".py",
   "mimetype": "text/x-python",
   "name": "python",
   "nbconvert_exporter": "python",
   "pygments_lexer": "ipython3",
   "version": "3.8.8"
  }
 },
 "nbformat": 4,
 "nbformat_minor": 5
}
