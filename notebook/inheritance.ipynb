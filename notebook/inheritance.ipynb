{
 "cells": [
  {
   "cell_type": "code",
   "execution_count": 1,
   "id": "41e983a2",
   "metadata": {},
   "outputs": [
    {
     "name": "stdout",
     "output_type": "stream",
     "text": [
      "Eating...\n",
      "barking\n"
     ]
    }
   ],
   "source": [
    "#single level inheritance\n",
    "\n",
    "class animal:   \n",
    "    def eat(self):  \n",
    "        print('Eating...')\n",
    "\n",
    "class dog(animal):\n",
    "    def bark(self):\n",
    "        print(\"barking\")\n",
    "\n",
    "d=dog()  \n",
    "d.eat()  \n",
    "d.bark()"
   ]
  },
  {
   "cell_type": "code",
   "execution_count": 2,
   "id": "9352bbcd",
   "metadata": {},
   "outputs": [
    {
     "name": "stdout",
     "output_type": "stream",
     "text": [
      "Every Bank Provide Services to Customers\n",
      "Customer using all services from Banker\n"
     ]
    }
   ],
   "source": [
    "class Banker():\n",
    "    def Services(self):\n",
    "        print(\"Every Bank Provide Services to Customers\")\n",
    "class Customer(Banker):\n",
    "    def Cust_Ser(self):\n",
    "        print(\"Customer using all services from Banker\")\n",
    "CC=Customer()\n",
    "CC.Services()\n",
    "CC.Cust_Ser()\n"
   ]
  },
  {
   "cell_type": "code",
   "execution_count": 3,
   "id": "0244a556",
   "metadata": {},
   "outputs": [
    {
     "name": "stdout",
     "output_type": "stream",
     "text": [
      "Puppy\n"
     ]
    }
   ],
   "source": [
    "class animal:   \n",
    "    def __init__(self,name):\n",
    "        self.name=name\n",
    "class dog(animal):\n",
    "    def display(self):\n",
    "        print(self.name)\n",
    "d=dog(\"Puppy\")  \n",
    "d.display()  \n"
   ]
  },
  {
   "cell_type": "code",
   "execution_count": 1,
   "id": "6bec2839",
   "metadata": {},
   "outputs": [
    {
     "name": "stdout",
     "output_type": "stream",
     "text": [
      "Name: abc\n",
      "Age: 12\n",
      "Gender: m\n",
      "Class: 2\n",
      "Enter the marks of the respective subjects:\n",
      "Programming: 20\n",
      "Math: 20\n",
      "English: 20\n",
      "Physics: 20\n",
      "\n",
      " Name is:  abc\n",
      "Age is:  12\n",
      "Gender is:  m\n",
      "Class Name:  2\n",
      "Total Marks:  80\n"
     ]
    }
   ],
   "source": [
    "class Student():#Super Class\n",
    "    def getStudent(self):\n",
    "        self.name=input(\"Name: \")\n",
    "        self.age=int(input(\"Age: \"))\n",
    "        self.gender=input(\"Gender: \")\n",
    "\n",
    "class Subjects(Student):#Derived Class-1\n",
    "    def getMarks(self):\n",
    "        self.StudentClass=input(\"Class: \")\n",
    "        print(\"Enter the marks of the respective subjects:\")\n",
    "        self.Programming=int(input(\"Programming: \"))\n",
    "        self.math=int(input(\"Math: \"))\n",
    "        self.english=int(input(\"English: \"))\n",
    "        self.physics=int(input(\"Physics: \"))\n",
    "\n",
    "class Marks(Subjects):#Derived Class-2\n",
    "    def Display(self):\n",
    "        print(\"\\n Name is: \",self.name)\n",
    "        print(\"Age is: \",self.age)\n",
    "        print(\"Gender is: \",self.gender)\n",
    "        print(\"Class Name: \",self.StudentClass)\n",
    "        print(\"Total Marks: \",self.Programming+self.math+self.english+self.physics)\n",
    "\n",
    "MM=Marks()\n",
    "MM.getStudent()\n",
    "MM.getMarks()\n",
    "MM.Display()\n"
   ]
  },
  {
   "cell_type": "code",
   "execution_count": 2,
   "id": "b236bf27",
   "metadata": {},
   "outputs": [
    {
     "name": "stdout",
     "output_type": "stream",
     "text": [
      "All Permissions from here\n",
      "It is related Finance\n",
      "It is leading All Bankers in INDIA\n",
      "Thank u RBI\n",
      "Welcome to Indian Banks\n",
      "We are ready to serve\n",
      "We deal Finanacial Matters\n"
     ]
    }
   ],
   "source": [
    "class Finacial_Services_India():\n",
    "    def FSI(self):\n",
    "        print(\"All Permissions from here\")\n",
    "        print(\"It is related Finance\")\n",
    "class ReserveBankofIndia(Finacial_Services_India):\n",
    "    def RBI(self):\n",
    "        print(\"It is leading All Bankers in INDIA\")\n",
    "        print(\"Thank u RBI\")\n",
    "class Bankers_India(ReserveBankofIndia):\n",
    "    def Bank_INDIA(self):\n",
    "        print(\"Welcome to Indian Banks\")\n",
    "        print(\"We are ready to serve\")\n",
    "        print(\"We deal Finanacial Matters\")\n",
    "BI=Bankers_India()\n",
    "BI.FSI()\n",
    "BI.RBI()\n",
    "BI.Bank_INDIA()\n"
   ]
  },
  {
   "cell_type": "code",
   "execution_count": 3,
   "id": "b4d98330",
   "metadata": {},
   "outputs": [
    {
     "name": "stdout",
     "output_type": "stream",
     "text": [
      "I am in First PClass\n",
      "I am in Second PClass\n",
      "I am in Child Class\n"
     ]
    }
   ],
   "source": [
    "class First():\n",
    "    def A(self):\n",
    "        print(\"I am in First PClass\")\n",
    "class Second():\n",
    "    def B(self):\n",
    "        print(\"I am in Second PClass\")\n",
    "class Third(First,Second):\n",
    "    def C(self):\n",
    "        print(\"I am in Child Class\")\n",
    "\n",
    "TT=Third()\n",
    "TT.A()\n",
    "TT.B()\n",
    "TT.C()"
   ]
  },
  {
   "cell_type": "code",
   "execution_count": 4,
   "id": "f5da7d50",
   "metadata": {},
   "outputs": [
    {
     "name": "stdout",
     "output_type": "stream",
     "text": [
      "init of Second Class\n"
     ]
    }
   ],
   "source": [
    "class First():\n",
    "    def __init__(self):\n",
    "        print(\"init of First Class\")\n",
    "    def A(self):\n",
    "        print(\"I am in First PClass\")\n",
    "class Second(First):\n",
    "    def __init__(self):\n",
    "        print(\"init of Second Class\")\n",
    "    def B(self):\n",
    "        print(\"I am in Second PClass\")\n",
    "class Third(Second):\n",
    "    def C(self):\n",
    "        print(\"I am in Child Class\")\n",
    "SS=Second()"
   ]
  },
  {
   "cell_type": "code",
   "execution_count": 5,
   "id": "9427ee73",
   "metadata": {},
   "outputs": [
    {
     "name": "stdout",
     "output_type": "stream",
     "text": [
      "init of First Class\n",
      "init of Second Class\n"
     ]
    }
   ],
   "source": [
    "class First():\n",
    "    def __init__(self):\n",
    "        print(\"init of First Class\")\n",
    "    def A(self):\n",
    "        print(\"I am in First PClass\")\n",
    "class Second(First):\n",
    "    def __init__(self):\n",
    "        super().__init__()\n",
    "        print(\"init of Second Class\")\n",
    "    def B(self):\n",
    "        print(\"I am in Second PClass\")\n",
    "class Third(Second):\n",
    "    def C(self):\n",
    "        print(\"I am in Child Class\")\n",
    "\n",
    "SS=Second()\n"
   ]
  },
  {
   "cell_type": "code",
   "execution_count": 10,
   "id": "821b6fbe",
   "metadata": {},
   "outputs": [
    {
     "name": "stdout",
     "output_type": "stream",
     "text": [
      "init of Second Class\n",
      "init of Third Class\n",
      "[<class '__main__.Third'>, <class '__main__.Second'>, <class '__main__.First'>, <class 'object'>]\n"
     ]
    }
   ],
   "source": [
    "class First():\n",
    "    def __init__(self):\n",
    "        print(\"init of First Class\")\n",
    "    def A(self):\n",
    "        print(\"I am in First PClass\")\n",
    "class Second():\n",
    "    def __init__(self):\n",
    "        print(\"init of Second Class\")\n",
    "    def B(self):\n",
    "        print(\"I am in Second PClass\")\n",
    "class Third(Second,First):\n",
    "    def __init__(self):\n",
    "        super().__init__()\n",
    "        print(\"init of Third Class\")\n",
    "    def C(self):\n",
    "        print(\"I am in Child Class\")\n",
    "\n",
    "TT=Third()\n",
    "print(Third.mro())"
   ]
  },
  {
   "cell_type": "code",
   "execution_count": 1,
   "id": "b6dc8b08",
   "metadata": {},
   "outputs": [
    {
     "name": "stdout",
     "output_type": "stream",
     "text": [
      "A process()\n",
      "[<class '__main__.C'>, <class '__main__.A'>, <class '__main__.B'>, <class 'object'>]\n"
     ]
    }
   ],
   "source": [
    "class A:\n",
    "    def process(self):\n",
    "        print('A process()')\n",
    "\n",
    "class B:\n",
    "    pass\n",
    "\n",
    "class C(A, B):\n",
    "    pass\n",
    "\n",
    "obj = C()  \n",
    "obj.process()    \n",
    "print(C.mro()) \n"
   ]
  },
  {
   "cell_type": "code",
   "execution_count": 2,
   "id": "c84792c2",
   "metadata": {},
   "outputs": [
    {
     "name": "stdout",
     "output_type": "stream",
     "text": [
      "A process()\n"
     ]
    }
   ],
   "source": [
    "class A:\n",
    "    def process(self):\n",
    "        print('A process()')\n",
    "\n",
    "\n",
    "class B:\n",
    "    def process(self):\n",
    "        print('B process()')\n",
    "\n",
    "class C(A, B):\n",
    "    pass\n",
    "\n",
    "obj = C()\n",
    "obj.process()\n"
   ]
  },
  {
   "cell_type": "code",
   "execution_count": 3,
   "id": "0c2bf365",
   "metadata": {},
   "outputs": [
    {
     "name": "stdout",
     "output_type": "stream",
     "text": [
      "C process()\n",
      "[<class '__main__.D'>, <class '__main__.C'>, <class '__main__.A'>, <class '__main__.B'>, <class 'object'>]\n"
     ]
    }
   ],
   "source": [
    "class A:\n",
    "    def process(self):\n",
    "        print('A process()')\n",
    "\n",
    "class B:\n",
    "    def process(self):\n",
    "        print('B process()')\n",
    "\n",
    "class C(A, B):\n",
    "    def process(self):\n",
    "        print('C process()')\n",
    "\n",
    "class D(C,B):\n",
    "    pass\n",
    "\n",
    "obj = D()\n",
    "obj.process()\n",
    "print(D.mro())\n"
   ]
  },
  {
   "cell_type": "code",
   "execution_count": 6,
   "id": "e137b8a8",
   "metadata": {},
   "outputs": [
    {
     "name": "stdout",
     "output_type": "stream",
     "text": [
      "C process()\n"
     ]
    }
   ],
   "source": [
    "class A:\n",
    "    def process(self):\n",
    "        print('A process()')\n",
    "\n",
    "class B(A):\n",
    "    pass\n",
    "\n",
    "class C(A):\n",
    "    def process(self):\n",
    "        print('C process()')\n",
    "\n",
    "class D(B,C):\n",
    "    pass\n",
    "\n",
    "obj = D()\n",
    "obj.process()\n"
   ]
  },
  {
   "cell_type": "code",
   "execution_count": 7,
   "id": "43ab73a0",
   "metadata": {},
   "outputs": [
    {
     "ename": "TypeError",
     "evalue": "Cannot create a consistent method resolution\norder (MRO) for bases A, B",
     "output_type": "error",
     "traceback": [
      "\u001b[1;31m---------------------------------------------------------------------------\u001b[0m",
      "\u001b[1;31mTypeError\u001b[0m                                 Traceback (most recent call last)",
      "\u001b[1;32m<ipython-input-7-1fa3a4bb6fcc>\u001b[0m in \u001b[0;36m<module>\u001b[1;34m\u001b[0m\n\u001b[0;32m      7\u001b[0m         \u001b[0mprint\u001b[0m\u001b[1;33m(\u001b[0m\u001b[1;34m'B process()'\u001b[0m\u001b[1;33m)\u001b[0m\u001b[1;33m\u001b[0m\u001b[1;33m\u001b[0m\u001b[0m\n\u001b[0;32m      8\u001b[0m \u001b[1;33m\u001b[0m\u001b[0m\n\u001b[1;32m----> 9\u001b[1;33m \u001b[1;32mclass\u001b[0m \u001b[0mC\u001b[0m\u001b[1;33m(\u001b[0m\u001b[0mA\u001b[0m\u001b[1;33m,\u001b[0m \u001b[0mB\u001b[0m\u001b[1;33m)\u001b[0m\u001b[1;33m:\u001b[0m\u001b[1;33m\u001b[0m\u001b[1;33m\u001b[0m\u001b[0m\n\u001b[0m\u001b[0;32m     10\u001b[0m     \u001b[1;32mpass\u001b[0m\u001b[1;33m\u001b[0m\u001b[1;33m\u001b[0m\u001b[0m\n\u001b[0;32m     11\u001b[0m \u001b[1;33m\u001b[0m\u001b[0m\n",
      "\u001b[1;31mTypeError\u001b[0m: Cannot create a consistent method resolution\norder (MRO) for bases A, B"
     ]
    }
   ],
   "source": [
    "class A:\n",
    "    def process(self):\n",
    "        print('A process()')\n",
    "\n",
    "class B(A):\n",
    "    def process(self):\n",
    "        print('B process()')\n",
    "\n",
    "class C(A, B):\n",
    "    pass\n",
    "\n",
    "obj = C()\n",
    "obj.process()"
   ]
  },
  {
   "cell_type": "code",
   "execution_count": 8,
   "id": "c3e7f341",
   "metadata": {},
   "outputs": [
    {
     "name": "stdout",
     "output_type": "stream",
     "text": [
      "[<class '__main__.Company'>, <class '__main__.Employee'>, <class '__main__.Fitness'>, <class 'object'>]\n",
      "ID is:  101\n",
      "Emp Name is:  Raju\n",
      "Salary is:  70000\n",
      "Height is:  145\n",
      "Weight is:  50\n",
      "Blood Group is:  B-\n",
      "\n",
      "Company is:  IBM\n",
      "Department is:  Software\n"
     ]
    }
   ],
   "source": [
    "\n",
    "class Employee():\n",
    "    def Set1(self,empid,name,salary):\n",
    "        self.empid=empid\n",
    "        self.name=name\n",
    "        self.salary=salary\n",
    "\n",
    "class Fitness():\n",
    "    def Set2(self,height,weight, bloodGrp):\n",
    "        self.height=height\n",
    "        self.weight=weight\n",
    "        self.bloodGrp=bloodGrp\n",
    "        \n",
    "class Company(Employee,Fitness):\n",
    "    def Set3(self,Company,dep):\n",
    "        self.Company=Company\n",
    "        self.dep=dep\n",
    "\n",
    "    def Display(self):\n",
    "        print(\"ID is: \",self.empid)\n",
    "        print(\"Emp Name is: \",self.name)\n",
    "        print(\"Salary is: \",self.salary)\n",
    "        print(\"Height is: \",self.height)\n",
    "        print(\"Weight is: \",self.weight)\n",
    "        print(\"Blood Group is: \",self.bloodGrp)\n",
    "        print()\n",
    "        print(\"Company is: \",self.Company)\n",
    "        print(\"Department is: \",self.dep)\n",
    "\n",
    "CC=Company()\n",
    "print(Company.mro())\n",
    "CC.Set1(101,\"Raju\",70000)\n",
    "CC.Set2(145,50,\"B-\")\n",
    "CC.Set3(\"IBM\",\"Software\")    \n",
    "CC.Display()"
   ]
  },
  {
   "cell_type": "code",
   "execution_count": 1,
   "id": "2b541334",
   "metadata": {},
   "outputs": [
    {
     "name": "stdout",
     "output_type": "stream",
     "text": [
      "Employee Class Object\n",
      "ID:  101\n",
      "Name:  Raju\n",
      "Company:  TCS\n",
      "Department:  IT\n",
      "\n",
      " Doctor Class Object: \n",
      "ID:  101\n",
      "Name:  RaviKumar\n",
      "Hospital:  Prime\n",
      "Department:  Dental\n"
     ]
    }
   ],
   "source": [
    "class Details():\n",
    "    def __init__(self):\n",
    "        self.Id=\"\"\n",
    "        self.Name=\"\"\n",
    "    def SetData(self,Id,Name):\n",
    "        self.Id=Id\n",
    "        self.Name=Name\n",
    "    def ShowData(self):\n",
    "        print(\"ID: \",self.Id)\n",
    "        print(\"Name: \",self.Name)\n",
    "\n",
    "class Employee(Details):\n",
    "    def __init__(self):\n",
    "        self.Company=\"\"\n",
    "        self.Dept=\"\"\n",
    "    def SetEmployee(self,Id,Name,Comp,Dept):\n",
    "        self.SetData(Id,Name)\n",
    "        self.Company=Comp\n",
    "        self.Dept=Dept\n",
    "    def ShowEmployee(self):\n",
    "        self.ShowData()\n",
    "        print(\"Company: \",self.Company)\n",
    "        print(\"Department: \",self.Dept)\n",
    "\n",
    "class Doctor(Details):\n",
    "    def __init__(self):\n",
    "        self.Hospital=\"\"\n",
    "        self.Dept=\"\"\n",
    "    def SetEmployee(self,Id,Name,Hos,Dept):\n",
    "        self.SetData(Id,Name)\n",
    "        self.Hospital=Hos\n",
    "        self.Dept=Dept\n",
    "    def ShowEmployee(self):\n",
    "        self.ShowData()\n",
    "        print(\"Hospital: \",self.Hospital)\n",
    "        print(\"Department: \",self.Dept)\n",
    "\n",
    "print(\"Employee Class Object\")\n",
    "EE=Employee()\n",
    "EE.SetEmployee(101,\"Raju\",\"TCS\",\"IT\")\n",
    "EE.ShowEmployee()\n",
    "\n",
    "print(\"\\n Doctor Class Object: \")\n",
    "DD=Doctor()\n",
    "DD.SetEmployee(101,'RaviKumar',\"Prime\",\"Dental\")\n",
    "DD.ShowEmployee()"
   ]
  },
  {
   "cell_type": "code",
   "execution_count": 2,
   "id": "c88a0347",
   "metadata": {},
   "outputs": [
    {
     "name": "stdout",
     "output_type": "stream",
     "text": [
      "Welcome to Banking Services\n",
      "Welcome to Phone Banking\n",
      "Welcome to Banking Services\n",
      "Welcome to Mobile Banking\n",
      "Welcome to Banking Services\n",
      "Welcome to Email Banking\n"
     ]
    }
   ],
   "source": [
    "class Banker():\n",
    "    def Bank_Services(self):\n",
    "        print(\"Welcome to Banking Services\")\n",
    "class EBanking(Banker):\n",
    "    def Email(self):\n",
    "        print(\"Welcome to Email Banking\")\n",
    "class Banking_Mobile(Banker):\n",
    "    def Mobile(self):\n",
    "        print(\"Welcome to Mobile Banking\")\n",
    "class Banking_Phone(Banker):\n",
    "    def Phone(self):\n",
    "        print(\"Welcome to Phone Banking\")\n",
    "BP=Banking_Phone()\n",
    "BP.Bank_Services()\n",
    "BP.Phone()\n",
    "BM=Banking_Mobile()\n",
    "BM.Bank_Services()\n",
    "BM.Mobile()\n",
    "BE=EBanking()\n",
    "BE.Bank_Services()\n",
    "BE.Email()\n"
   ]
  },
  {
   "cell_type": "code",
   "execution_count": 1,
   "id": "8820081c",
   "metadata": {},
   "outputs": [
    {
     "name": "stdout",
     "output_type": "stream",
     "text": [
      "I am in Hello Class\n",
      "I am in Hei Class\n",
      "I am in Hello Class\n",
      "I a, in Bye Class\n"
     ]
    }
   ],
   "source": [
    "class Hello():\n",
    "  def MyOne(self):\n",
    "      print(\"I am in Hello Class\")\n",
    "class Hei(Hello):\n",
    "  def MyTwo(self):\n",
    "    print(\"I am in Hei Class\")\n",
    "class Bye(Hello):\n",
    "  def MyThree(self):\n",
    "    print(\"I a, in Bye Class\")\n",
    "\n",
    "HH=Hei()\n",
    "HH.MyOne()\n",
    "HH.MyTwo()\n",
    "BB=Bye()\n",
    "BB.MyOne()\n",
    "BB.MyThree()"
   ]
  },
  {
   "cell_type": "code",
   "execution_count": 2,
   "id": "f761f81a",
   "metadata": {},
   "outputs": [
    {
     "name": "stdout",
     "output_type": "stream",
     "text": [
      "Cat is MewMewMewMewMewMew..!!\n",
      "Dog is Barkingngngngngngngng..!!\n"
     ]
    }
   ],
   "source": [
    "class Animal():\n",
    "  def __init__(self,name):\n",
    "    self.name=name\n",
    "  def talk(self):\n",
    "    pass\n",
    "  \n",
    "class Cat(Animal):\n",
    "  def talk(self):\n",
    "    print(\"Cat is MewMewMewMewMewMew..!!\")\n",
    "\n",
    "class Dog(Animal):\n",
    "  def talk(self):\n",
    "    print(\"Dog is Barkingngngngngngngng..!!\")\n",
    "\n",
    "a=Animal('Sound')\n",
    "c=Cat(\"KITTY\")\n",
    "c.talk()\n",
    "\n",
    "d=Dog(\"TOMMY\")\n",
    "d.talk()\n"
   ]
  },
  {
   "cell_type": "code",
   "execution_count": 12,
   "id": "696ba96e",
   "metadata": {},
   "outputs": [
    {
     "name": "stdout",
     "output_type": "stream",
     "text": [
      "method from Class D....\n",
      "method from Class B....\n",
      "method from Class C....\n",
      "method from Class A....\n"
     ]
    }
   ],
   "source": [
    "class A:\n",
    "    def m(self):\n",
    "        print(\"method from Class A....\")\n",
    "\n",
    "class B(A):\n",
    "    def m(self):\n",
    "        print(\"method from Class B....\")\n",
    "\n",
    "class C(A):\n",
    "      def m(self):\n",
    "        print(\"method from Class C....\")\n",
    "\n",
    "class D(B, C):\n",
    "      def m(self):\n",
    "        print(\"method from Class D....\")\n",
    "        B.m(self)\n",
    "        C.m(self)\n",
    "        A.m(self)\n",
    "\n",
    "def main():\n",
    "      obj1=D()\n",
    "      obj1.m()\n",
    "  \n",
    "if __name__==\"__main__\":\n",
    " main()"
   ]
  },
  {
   "cell_type": "code",
   "execution_count": 3,
   "id": "520bd4ef",
   "metadata": {},
   "outputs": [
    {
     "name": "stdout",
     "output_type": "stream",
     "text": [
      "method from Class D....\n",
      "method from Class B....\n",
      "method from Class A....\n",
      "method from Class C....\n",
      "method from Class A....\n",
      "method from Class A....\n"
     ]
    }
   ],
   "source": [
    "class A:\n",
    "  def m(self):\n",
    "    print(\"method from Class A....\")\n",
    "\n",
    "class B(A):\n",
    "  def m(self):\n",
    "    print(\"method from Class B....\")\n",
    "    A.m(self)\n",
    "\n",
    "class C(A):\n",
    "  def m(self):\n",
    "    print(\"method from Class C....\")\n",
    "    A.m(self)\n",
    "\n",
    "class D(B, C):\n",
    "  def m(self):\n",
    "    print(\"method from Class D....\")\n",
    "    B.m(self)\n",
    "    C.m(self)\n",
    "    A.m(self)\n",
    "\n",
    "def main():\n",
    "  obj1=D()\n",
    "  obj1.m()\n",
    "  \n",
    "if __name__==\"__main__\":\n",
    "        \n",
    "    main()"
   ]
  },
  {
   "cell_type": "code",
   "execution_count": 4,
   "id": "b5f319d2",
   "metadata": {},
   "outputs": [
    {
     "name": "stdout",
     "output_type": "stream",
     "text": [
      "method from Class D....\n",
      "method from Class B....\n",
      "method from Class C....\n",
      "method from Class A....\n"
     ]
    }
   ],
   "source": [
    "class A:\n",
    "  def m(self):\n",
    "    print(\"method from Class A....\")\n",
    "\n",
    "class B(A):\n",
    "  def m(self):\n",
    "    print(\"method from Class B....\")\n",
    "    super().m()\n",
    "\n",
    "class C(A):\n",
    "  def m(self):\n",
    "    print(\"method from Class C....\")\n",
    "    super().m()\n",
    "\n",
    "class D(B, C):\n",
    "  def m(self):\n",
    "    print(\"method from Class D....\")\n",
    "    super().m()\n",
    "    \n",
    "def main():\n",
    "  obj1=D()\n",
    "  obj1.m()\n",
    "  \n",
    "if __name__==\"__main__\":\n",
    "  main()"
   ]
  },
  {
   "cell_type": "code",
   "execution_count": 6,
   "id": "6f0f4ab7",
   "metadata": {},
   "outputs": [
    {
     "name": "stdout",
     "output_type": "stream",
     "text": [
      "6\n"
     ]
    }
   ],
   "source": [
    "def Mul(a,b):\n",
    "  return a*b\n",
    "print(Mul(2,3))\n",
    "#print(__name__)\n"
   ]
  },
  {
   "cell_type": "code",
   "execution_count": 8,
   "id": "1df2c417",
   "metadata": {},
   "outputs": [
    {
     "ename": "ModuleNotFoundError",
     "evalue": "No module named 'multiply'",
     "output_type": "error",
     "traceback": [
      "\u001b[1;31m---------------------------------------------------------------------------\u001b[0m",
      "\u001b[1;31mModuleNotFoundError\u001b[0m                       Traceback (most recent call last)",
      "\u001b[1;32m<ipython-input-8-2d3249d0f99e>\u001b[0m in \u001b[0;36m<module>\u001b[1;34m\u001b[0m\n\u001b[1;32m----> 1\u001b[1;33m \u001b[1;32mimport\u001b[0m \u001b[0mmultiply\u001b[0m\u001b[1;33m\u001b[0m\u001b[1;33m\u001b[0m\u001b[0m\n\u001b[0m\u001b[0;32m      2\u001b[0m \u001b[0mprint\u001b[0m\u001b[1;33m(\u001b[0m\u001b[0mmultiply\u001b[0m\u001b[1;33m.\u001b[0m\u001b[0mMul\u001b[0m\u001b[1;33m(\u001b[0m\u001b[1;36m2.3\u001b[0m\u001b[1;33m,\u001b[0m\u001b[1;36m1.1\u001b[0m\u001b[1;33m)\u001b[0m\u001b[1;33m)\u001b[0m\u001b[1;33m\u001b[0m\u001b[1;33m\u001b[0m\u001b[0m\n\u001b[0;32m      3\u001b[0m \u001b[0mprint\u001b[0m\u001b[1;33m(\u001b[0m\u001b[0m__name__\u001b[0m\u001b[1;33m)\u001b[0m\u001b[1;33m\u001b[0m\u001b[1;33m\u001b[0m\u001b[0m\n",
      "\u001b[1;31mModuleNotFoundError\u001b[0m: No module named 'multiply'"
     ]
    }
   ],
   "source": [
    "import multiply\n",
    "print(multiply.Mul(2.3,1.1))\n",
    "print(__name__)\n"
   ]
  },
  {
   "cell_type": "code",
   "execution_count": 9,
   "id": "bab0bb0b",
   "metadata": {},
   "outputs": [
    {
     "name": "stdout",
     "output_type": "stream",
     "text": [
      "6\n",
      "__main__\n"
     ]
    }
   ],
   "source": [
    "def Mul(a,b):\n",
    "  return a*b\n",
    "if __name__==\"__main__\":\n",
    "  print(Mul(2,3))\n",
    "  print(__name__)\n"
   ]
  },
  {
   "cell_type": "code",
   "execution_count": 4,
   "id": "6d9dae08",
   "metadata": {},
   "outputs": [
    {
     "name": "stdout",
     "output_type": "stream",
     "text": [
      "8\n"
     ]
    }
   ],
   "source": [
    "print(len(list(range(1,25,3))))"
   ]
  },
  {
   "cell_type": "code",
   "execution_count": 5,
   "id": "27be09c7",
   "metadata": {},
   "outputs": [
    {
     "name": "stdout",
     "output_type": "stream",
     "text": [
      "Method belongs to Class A\n"
     ]
    }
   ],
   "source": [
    "class A():\n",
    "    def display(self):\n",
    "        print(\"Method belongs to Class A\")\n",
    "class B(A):\n",
    "    pass\n",
    "\n",
    "b1=B()\n",
    "b1.display()\n"
   ]
  },
  {
   "cell_type": "code",
   "execution_count": 6,
   "id": "32652fcd",
   "metadata": {},
   "outputs": [
    {
     "name": "stdout",
     "output_type": "stream",
     "text": [
      "Method belongs to Class B\n"
     ]
    }
   ],
   "source": [
    "class A():\n",
    "    def display(self):\n",
    "        print(\"Method belongs to Class A\")\n",
    "class B(A):\n",
    "    def display(self):\n",
    "        print(\"Method belongs to Class B\")\n",
    "\n",
    "b1=B()\n",
    "b1.display()\n"
   ]
  },
  {
   "cell_type": "code",
   "execution_count": 7,
   "id": "a36d2405",
   "metadata": {},
   "outputs": [
    {
     "name": "stdout",
     "output_type": "stream",
     "text": [
      "CAR\n"
     ]
    }
   ],
   "source": [
    "class ParentClass():\n",
    "    def Transport(self):\n",
    "        print(\"CYCLE\")\n",
    "class ChildClass(ParentClass):\n",
    "    def Transport(self):\n",
    "        print(\"BIKE\")\n",
    "class GrandChildClass(ChildClass):\n",
    "    def Transport(self):\n",
    "        print(\"CAR\")\n",
    "\n",
    "GG=GrandChildClass()\n",
    "GG.Transport()"
   ]
  },
  {
   "cell_type": "code",
   "execution_count": 8,
   "id": "59e04fd6",
   "metadata": {},
   "outputs": [
    {
     "name": "stdout",
     "output_type": "stream",
     "text": [
      "SonFirstName\n",
      "FatherLastName\n"
     ]
    }
   ],
   "source": [
    "class Father():\n",
    "    def Fname(self):\n",
    "        print(\"FatherFirstName\")\n",
    "    def Lname(self):\n",
    "        print(\"FatherLastName\")\n",
    "class Son(Father):\n",
    "    def Fname(self):\n",
    "        print(\"SonFirstName\")\n",
    "\n",
    "ObjSon=Son()\n",
    "ObjSon.Fname()\n",
    "ObjSon.Lname()\n"
   ]
  },
  {
   "cell_type": "code",
   "execution_count": 1,
   "id": "1ada3199",
   "metadata": {},
   "outputs": [
    {
     "name": "stdout",
     "output_type": "stream",
     "text": [
      "Parent Class Method\n",
      "Name is:  Rama\n",
      "Age is:  45\n",
      "\n",
      "Employee Class Display-Data Method\n",
      "Name is:  Rama\n",
      "Age is:  45\n",
      "Emp ID is:  101\n",
      "\n",
      "Developer Class Display-Data Method\n",
      "Name is:  Rama\n",
      "Age is:  45\n",
      "Emp ID is:  101\n",
      "Exp is:  5 Yrs\n",
      "Parent Class Method\n",
      "Name is:  Rama\n",
      "Age is:  45\n",
      "\n",
      "Employee Class Display-Data Method\n",
      "Name is:  Rama\n",
      "Age is:  45\n",
      "Emp ID is:  101\n",
      "\n",
      "Developer Class Display-Data Method\n",
      "Name is:  Rama\n",
      "Age is:  45\n",
      "Emp ID is:  101\n",
      "Exp is:  5 Yrs\n"
     ]
    }
   ],
   "source": [
    "class Person():\n",
    "    def __init__(self,name,age):\n",
    "        self.name=name\n",
    "        self.age=age\n",
    "    \n",
    "    def DisplayData(self):#OverriddenMethod\n",
    "        print(\"Parent Class Method\")\n",
    "        print(\"Name is: \",self.name)\n",
    "        print(\"Age is: \",self.age)\n",
    "\n",
    "class Employee(Person):\n",
    "    def __init__(self,name,age,Id):\n",
    "        super().__init__(name,age)\n",
    "        self.empID=Id\n",
    "    \n",
    "    def DisplayData(self):#OverriddenMethod\n",
    "        print(\"Employee Class Display-Data Method\")\n",
    "        print(\"Name is: \",self.name)\n",
    "        print(\"Age is: \",self.age)\n",
    "        print(\"Emp ID is: \",self.empID)\n",
    "        \n",
    "class Developer(Employee):\n",
    "    def __init__(self,name,age,Id,Exp):\n",
    "        super().__init__(name,age,Id)\n",
    "        self.Exp=Exp\n",
    "    \n",
    "    def DisplayData(self):#OverriddenMethod\n",
    "        print(\"Developer Class Display-Data Method\")\n",
    "        print(\"Name is: \",self.name)\n",
    "        print(\"Age is: \",self.age)\n",
    "        print(\"Emp ID is: \",self.empID)\n",
    "        print(\"Exp is: \",self.Exp)\n",
    "\n",
    "#Person Class Insatnce or Object\n",
    "PP=Person(\"Rama\",45)\n",
    "PP.DisplayData()\n",
    "print()\n",
    "#Employee Class Instance or Object\n",
    "EE=Employee(\"Rama\",45,101)\n",
    "EE.DisplayData()\n",
    "print()\n",
    "#Developer Class Instance or Object\n",
    "Dev=Developer(\"Rama\",45,\"101\",\"5 Yrs\")\n",
    "Dev.DisplayData()\n",
    "\n",
    "class Person():\n",
    "    def __init__(self,name,age):\n",
    "        self.name=name\n",
    "        self.age=age\n",
    "    \n",
    "    def DisplayData(self):#OverriddenMethod\n",
    "        print(\"Parent Class Method\")\n",
    "        print(\"Name is: \",self.name)\n",
    "        print(\"Age is: \",self.age)\n",
    "\n",
    "class Employee(Person):\n",
    "    def __init__(self,name,age,Id):\n",
    "        super().__init__(name,age)\n",
    "        self.empID=Id\n",
    "    \n",
    "    def DisplayData(self):#OverriddenMethod\n",
    "        print(\"Employee Class Display-Data Method\")\n",
    "        print(\"Name is: \",self.name)\n",
    "        print(\"Age is: \",self.age)\n",
    "        print(\"Emp ID is: \",self.empID)\n",
    "        \n",
    "class Developer(Employee):\n",
    "    def __init__(self,name,age,Id,Exp):\n",
    "        super().__init__(name,age,Id)\n",
    "        self.Exp=Exp\n",
    "    \n",
    "    def DisplayData(self):#OverriddenMethod\n",
    "        print(\"Developer Class Display-Data Method\")\n",
    "        print(\"Name is: \",self.name)\n",
    "        print(\"Age is: \",self.age)\n",
    "        print(\"Emp ID is: \",self.empID)\n",
    "        print(\"Exp is: \",self.Exp)\n",
    "\n",
    "#Person Class Insatnce or Object\n",
    "PP=Person(\"Rama\",45)\n",
    "PP.DisplayData()\n",
    "print()\n",
    "#Employee Class Instance or Object\n",
    "EE=Employee(\"Rama\",45,101)\n",
    "EE.DisplayData()\n",
    "print()\n",
    "#Developer Class Instance or Object\n",
    "Dev=Developer(\"Rama\",45,\"101\",\"5 Yrs\")\n",
    "Dev.DisplayData()\n",
    "\n"
   ]
  },
  {
   "cell_type": "code",
   "execution_count": 2,
   "id": "1544dcad",
   "metadata": {},
   "outputs": [
    {
     "name": "stdout",
     "output_type": "stream",
     "text": [
      "Good Bye Sub Constructor\n"
     ]
    }
   ],
   "source": [
    "class PConstructor():\n",
    "    def __init__(self):\n",
    "        print('Welcome to Main Constructor')\n",
    "class CContstructor(PConstructor):\n",
    "    def __init__(self):\n",
    "        print('Good Bye Sub Constructor')\n",
    "\n",
    "#Creating Instance\n",
    "HelloCons=CContstructor()\n"
   ]
  },
  {
   "cell_type": "code",
   "execution_count": 5,
   "id": "34ad2eba",
   "metadata": {},
   "outputs": [
    {
     "ename": "TypeError",
     "evalue": "add() missing 1 required positional argument: 'c'",
     "output_type": "error",
     "traceback": [
      "\u001b[1;31m---------------------------------------------------------------------------\u001b[0m",
      "\u001b[1;31mTypeError\u001b[0m                                 Traceback (most recent call last)",
      "\u001b[1;32m<ipython-input-5-b2de7af87e74>\u001b[0m in \u001b[0;36m<module>\u001b[1;34m\u001b[0m\n\u001b[0;32m      5\u001b[0m         \u001b[1;32mreturn\u001b[0m \u001b[0ma\u001b[0m\u001b[1;33m+\u001b[0m\u001b[0mb\u001b[0m\u001b[1;33m+\u001b[0m\u001b[0mc\u001b[0m\u001b[1;33m\u001b[0m\u001b[1;33m\u001b[0m\u001b[0m\n\u001b[0;32m      6\u001b[0m \u001b[0mobj\u001b[0m\u001b[1;33m=\u001b[0m\u001b[0mCalCulate\u001b[0m\u001b[1;33m(\u001b[0m\u001b[1;33m)\u001b[0m\u001b[1;33m\u001b[0m\u001b[1;33m\u001b[0m\u001b[0m\n\u001b[1;32m----> 7\u001b[1;33m \u001b[0mprint\u001b[0m\u001b[1;33m(\u001b[0m\u001b[0mobj\u001b[0m\u001b[1;33m.\u001b[0m\u001b[0madd\u001b[0m\u001b[1;33m(\u001b[0m\u001b[1;36m3\u001b[0m\u001b[1;33m,\u001b[0m\u001b[1;36m1\u001b[0m\u001b[1;33m)\u001b[0m\u001b[1;33m)\u001b[0m\u001b[1;33m\u001b[0m\u001b[1;33m\u001b[0m\u001b[0m\n\u001b[0m\u001b[0;32m      8\u001b[0m \u001b[0mprint\u001b[0m\u001b[1;33m(\u001b[0m\u001b[0mobj\u001b[0m\u001b[1;33m.\u001b[0m\u001b[0madd\u001b[0m\u001b[1;33m(\u001b[0m\u001b[1;36m3\u001b[0m\u001b[1;33m,\u001b[0m\u001b[1;36m1\u001b[0m\u001b[1;33m,\u001b[0m\u001b[1;36m3\u001b[0m\u001b[1;33m)\u001b[0m\u001b[1;33m)\u001b[0m\u001b[1;33m\u001b[0m\u001b[1;33m\u001b[0m\u001b[0m\n",
      "\u001b[1;31mTypeError\u001b[0m: add() missing 1 required positional argument: 'c'"
     ]
    }
   ],
   "source": [
    "class CalCulate():\n",
    "    def add(self,a,b):\n",
    "        return a+b\n",
    "    def add(self,a,b,c):\n",
    "        return a+b+c\n",
    "obj=CalCulate()\n",
    "print(obj.add(3,1))\n",
    "print(obj.add(3,1,3))"
   ]
  },
  {
   "cell_type": "code",
   "execution_count": 6,
   "id": "ed06643b",
   "metadata": {},
   "outputs": [
    {
     "name": "stdout",
     "output_type": "stream",
     "text": [
      "15\n",
      "24\n",
      "34\n"
     ]
    }
   ],
   "source": [
    "class MethodOverLoading():\n",
    "    def Total(self,a,b,c=0,d=0):\n",
    "        Sum=a+b+c+d\n",
    "        return Sum\n",
    "\n",
    "MOL=MethodOverLoading()\n",
    "Tot1=MOL.Total(7,8)\n",
    "print(Tot1)\n",
    "\n",
    "Tot2=MOL.Total(7,8,9)\n",
    "print(Tot2)\n",
    "\n",
    "Tot3=MOL.Total(7,8,9,10)\n",
    "print(Tot3)\n"
   ]
  },
  {
   "cell_type": "code",
   "execution_count": 7,
   "id": "cd5a4484",
   "metadata": {},
   "outputs": [
    {
     "name": "stdout",
     "output_type": "stream",
     "text": [
      "Welcome To Constructor2\n"
     ]
    }
   ],
   "source": [
    "class Constructor1():\n",
    "    def __init__(self):\n",
    "        print('Welcome to Constructor1')\n",
    "    def __init__(self):\n",
    "        print('Welcome To Constructor2')\n",
    "\n",
    "#Creating Object    \n",
    "CC=Constructor1()"
   ]
  },
  {
   "cell_type": "code",
   "execution_count": 8,
   "id": "cd872e70",
   "metadata": {},
   "outputs": [
    {
     "name": "stdout",
     "output_type": "stream",
     "text": [
      "Welcome To Constructor2\n"
     ]
    }
   ],
   "source": [
    "class Constructor1():\n",
    "    def __init__(self,x):\n",
    "        print('Welcome to Constructor1')\n",
    "    def __init__(self,x,y):\n",
    "        print('Welcome To Constructor2')\n",
    "\n",
    "#Creating Object    \n",
    "CC=Constructor1(1,2)\n"
   ]
  },
  {
   "cell_type": "code",
   "execution_count": 1,
   "id": "c78fec3c",
   "metadata": {},
   "outputs": [
    {
     "name": "stdout",
     "output_type": "stream",
     "text": [
      "TotalSalaryOfEmployeesIS:  500000\n"
     ]
    }
   ],
   "source": [
    "class EmpSlary():\n",
    "    def __init__(self, salary):\n",
    "        self.salary=salary\n",
    "    \n",
    "    def __add__(self,other):\n",
    "        return self.salary+other.salary\n",
    "\n",
    "Emp1=EmpSlary(300000)\n",
    "Emp2=EmpSlary(200000)\n",
    "TotalSal=Emp1+Emp2\n",
    "print(\"TotalSalaryOfEmployeesIS: \",TotalSal)"
   ]
  },
  {
   "cell_type": "code",
   "execution_count": 2,
   "id": "58e25418",
   "metadata": {},
   "outputs": [
    {
     "name": "stdout",
     "output_type": "stream",
     "text": [
      "TotalSalaryOfEmployeesIS:  3000\n"
     ]
    }
   ],
   "source": [
    "class EmpSlary():\n",
    "    def __init__(self, salary):\n",
    "        self.salary=salary\n",
    "    \n",
    "    def __add__(self,other):\n",
    "        return 3000\n",
    "\n",
    "Emp1=EmpSlary(300000)\n",
    "Emp2=EmpSlary(200000)\n",
    "TotalSal=Emp1+Emp2\n",
    "print(\"TotalSalaryOfEmployeesIS: \",TotalSal)"
   ]
  },
  {
   "cell_type": "code",
   "execution_count": 1,
   "id": "d7d3c330",
   "metadata": {},
   "outputs": [
    {
     "name": "stdout",
     "output_type": "stream",
     "text": [
      "145\n"
     ]
    }
   ],
   "source": [
    "class Subject():\n",
    "    def __init__(self,Course):\n",
    "        self.Course=Course\n",
    "    \n",
    "    def __add__(self,other):\n",
    "        return self.Course+other.Course\n",
    "\n",
    "Sub1=Subject(89)\n",
    "Sub2=Subject(56)\n",
    "print(Sub1+Sub2)\n"
   ]
  },
  {
   "cell_type": "code",
   "execution_count": 2,
   "id": "d8fae468",
   "metadata": {},
   "outputs": [
    {
     "name": "stdout",
     "output_type": "stream",
     "text": [
      "41\n",
      "41\n",
      "139\n",
      "139\n"
     ]
    }
   ],
   "source": [
    "class Subject():\n",
    "    \n",
    "    def __init__(self,Course):\n",
    "        self.Course=Course\n",
    "    \n",
    "    def __sub__(self,Other):\n",
    "        return self.Course-Other.Course\n",
    "    \n",
    "    def __add__(self,Other):\n",
    "        return self.Course+Other.Course\n",
    "    \n",
    "SubjectOne=Subject(90)\n",
    "SubjectTwo=Subject(49)\n",
    "print(SubjectOne-SubjectTwo)\n",
    "print(SubjectOne-SubjectTwo)\n",
    "print(SubjectOne+SubjectTwo)\n",
    "print(SubjectOne+SubjectTwo)"
   ]
  },
  {
   "cell_type": "code",
   "execution_count": 3,
   "id": "48c0213d",
   "metadata": {},
   "outputs": [
    {
     "name": "stdout",
     "output_type": "stream",
     "text": [
      "True\n"
     ]
    }
   ],
   "source": [
    "class Subject():\n",
    "    def __init__(self,Sub,Price):\n",
    "        self.Sub=Sub\n",
    "        self.Price=Price\n",
    "    \n",
    "    def __gt__(self,other):\n",
    "        return self.Price>other.Price\n",
    "    \n",
    "Sub1=Subject('Maths',100)\n",
    "Sub2=Subject('Social',200)\n",
    "print(Sub2>Sub1)"
   ]
  },
  {
   "cell_type": "code",
   "execution_count": 1,
   "id": "0d774750",
   "metadata": {},
   "outputs": [
    {
     "name": "stdout",
     "output_type": "stream",
     "text": [
      "Roar, Roar, Roaring..!!\n"
     ]
    }
   ],
   "source": [
    "class Lion():\n",
    "    def Sound(self):\n",
    "        print('Roar, Roar, Roaring..!!')\n",
    "\n",
    "class Cow():\n",
    "    def Sound(self):\n",
    "        print('Ammmmmm..!!')\n",
    "        \n",
    "def AnimalSound(obj):\n",
    "    obj.Sound()\n",
    "\n",
    "PyList=Lion()\n",
    "AnimalSound(PyList)\n"
   ]
  },
  {
   "cell_type": "code",
   "execution_count": 2,
   "id": "6596100d",
   "metadata": {},
   "outputs": [
    {
     "name": "stdout",
     "output_type": "stream",
     "text": [
      "Roar, Roar, Roaring..!!\n",
      "Ammmmmm..!!\n"
     ]
    }
   ],
   "source": [
    "class Lion():\n",
    "    def Sound(self):\n",
    "        print('Roar, Roar, Roaring..!!')\n",
    "\n",
    "class Cow():\n",
    "    def Sound(self):\n",
    "        print('Ammmmmm..!!')\n",
    "        \n",
    "def MyFun(obj):\n",
    "    obj.Sound()\n",
    "\n",
    "PyList=[Lion(),Cow()]\n",
    "for obj in PyList:\n",
    "    MyFun(obj)"
   ]
  },
  {
   "cell_type": "code",
   "execution_count": 1,
   "id": "8b0069a3",
   "metadata": {},
   "outputs": [
    {
     "name": "stdout",
     "output_type": "stream",
     "text": [
      "It is Private Access\n"
     ]
    },
    {
     "ename": "AttributeError",
     "evalue": "'DataBinding' object has no attribute '__x'",
     "output_type": "error",
     "traceback": [
      "\u001b[1;31m---------------------------------------------------------------------------\u001b[0m",
      "\u001b[1;31mAttributeError\u001b[0m                            Traceback (most recent call last)",
      "\u001b[1;32m<ipython-input-1-2d57d1441459>\u001b[0m in \u001b[0;36m<module>\u001b[1;34m\u001b[0m\n\u001b[0;32m      5\u001b[0m \u001b[1;33m\u001b[0m\u001b[0m\n\u001b[0;32m      6\u001b[0m \u001b[0mDD\u001b[0m\u001b[1;33m=\u001b[0m\u001b[0mDataBinding\u001b[0m\u001b[1;33m(\u001b[0m\u001b[1;33m)\u001b[0m\u001b[1;33m\u001b[0m\u001b[1;33m\u001b[0m\u001b[0m\n\u001b[1;32m----> 7\u001b[1;33m \u001b[0mprint\u001b[0m\u001b[1;33m(\u001b[0m\u001b[0mDD\u001b[0m\u001b[1;33m.\u001b[0m\u001b[0m__x\u001b[0m\u001b[1;33m)\u001b[0m\u001b[1;31m#AttributeError:\u001b[0m\u001b[1;33m\u001b[0m\u001b[1;33m\u001b[0m\u001b[0m\n\u001b[0m",
      "\u001b[1;31mAttributeError\u001b[0m: 'DataBinding' object has no attribute '__x'"
     ]
    }
   ],
   "source": [
    "class DataBinding():\n",
    "    def __init__(self):\n",
    "        self.__x=\"It is Private Access\"\n",
    "        print(self.__x)\n",
    "\n",
    "DD=DataBinding()\n",
    "print(DD.__x)#AttributeError:\n"
   ]
  },
  {
   "cell_type": "code",
   "execution_count": 3,
   "id": "a577d61d",
   "metadata": {},
   "outputs": [
    {
     "name": "stdout",
     "output_type": "stream",
     "text": [
      "Public Method\n",
      "Protect Method\n"
     ]
    }
   ],
   "source": [
    "class Banking():\n",
    "#Public Method\n",
    "    def PublicMethod(self):\n",
    "        print(\"Public Method\")\n",
    "#Protected Method\n",
    "    def _ProtectMethod(self):\n",
    "        print(\"Protect Method\")\n",
    "#Private Method\n",
    "    def __PrivateMethod(self):\n",
    "        print(\"Private Method\")\n",
    "\n",
    "#CreatingInstance\n",
    "BB=Banking()\n",
    "BB.PublicMethod()\n",
    "BB._ProtectMethod()\n",
    "#BB.__PrivateMethod()\n"
   ]
  },
  {
   "cell_type": "code",
   "execution_count": 4,
   "id": "6c6b241a",
   "metadata": {},
   "outputs": [
    {
     "name": "stdout",
     "output_type": "stream",
     "text": [
      "Public Method\n",
      "Protect Method\n",
      "Private Method\n"
     ]
    }
   ],
   "source": [
    "class Banking():\n",
    "    def PublicMethod(self):\n",
    "        print(\"Public Method\")\n",
    "    def _ProtectMethod(self):\n",
    "        print(\"Protect Method\")\n",
    "    def __PrivateMethod(self):\n",
    "        print(\"Private Method\")\n",
    "\n",
    "#CreatingInstance\n",
    "BB=Banking()\n",
    "BB.PublicMethod()\n",
    "BB._ProtectMethod()\n",
    "BB._Banking__PrivateMethod()\n"
   ]
  },
  {
   "cell_type": "code",
   "execution_count": 5,
   "id": "63473a3f",
   "metadata": {},
   "outputs": [
    {
     "name": "stdout",
     "output_type": "stream",
     "text": [
      "Car Software Updated Successfully\n",
      "I am Driving a Car\n"
     ]
    }
   ],
   "source": [
    "class car():\n",
    "    def __init__(self):\n",
    "        self.__updatesoftware()\n",
    "    def drive(self):\n",
    "        print(\"I am Driving a Car\")\n",
    "    def __updatesoftware(self): \n",
    "        print(\"Car Software Updated Successfully\")\n",
    "\n",
    "#Creating Instance  or Object        \n",
    "blackcar=car()\n",
    "blackcar.drive()\n"
   ]
  },
  {
   "cell_type": "code",
   "execution_count": 8,
   "id": "8f7b8498",
   "metadata": {},
   "outputs": [
    {
     "name": "stdout",
     "output_type": "stream",
     "text": [
      "Driving\n"
     ]
    },
    {
     "ename": "AttributeError",
     "evalue": "'car' object has no attribute '__updatesoftware'",
     "output_type": "error",
     "traceback": [
      "\u001b[1;31m---------------------------------------------------------------------------\u001b[0m",
      "\u001b[1;31mAttributeError\u001b[0m                            Traceback (most recent call last)",
      "\u001b[1;32m<ipython-input-8-cf24dcb4e447>\u001b[0m in \u001b[0;36m<module>\u001b[1;34m\u001b[0m\n\u001b[0;32m      9\u001b[0m \u001b[0mblackcar\u001b[0m\u001b[1;33m=\u001b[0m\u001b[0mcar\u001b[0m\u001b[1;33m(\u001b[0m\u001b[1;33m)\u001b[0m\u001b[1;33m\u001b[0m\u001b[1;33m\u001b[0m\u001b[0m\n\u001b[0;32m     10\u001b[0m \u001b[0mblackcar\u001b[0m\u001b[1;33m.\u001b[0m\u001b[0mdrive\u001b[0m\u001b[1;33m(\u001b[0m\u001b[1;33m)\u001b[0m\u001b[1;33m\u001b[0m\u001b[1;33m\u001b[0m\u001b[0m\n\u001b[1;32m---> 11\u001b[1;33m \u001b[0mblackcar\u001b[0m\u001b[1;33m.\u001b[0m\u001b[0m__updatesoftware\u001b[0m\u001b[1;33m(\u001b[0m\u001b[1;33m)\u001b[0m\u001b[1;33m\u001b[0m\u001b[1;33m\u001b[0m\u001b[0m\n\u001b[0m",
      "\u001b[1;31mAttributeError\u001b[0m: 'car' object has no attribute '__updatesoftware'"
     ]
    }
   ],
   "source": [
    "class car:\n",
    "    #def __init__(self):\n",
    "        #self.__updatesoftware()\n",
    "    def drive(self):\n",
    "        print(\"Driving\")\n",
    "    def __updatesoftware(self):\n",
    "        print(\"Update Software\")\n",
    "        \n",
    "blackcar=car()\n",
    "blackcar.drive()\n",
    "blackcar.__updatesoftware()\n"
   ]
  },
  {
   "cell_type": "code",
   "execution_count": 1,
   "id": "90115a80",
   "metadata": {},
   "outputs": [
    {
     "name": "stdout",
     "output_type": "stream",
     "text": [
      "Driving\n",
      "300\n",
      "100\n"
     ]
    }
   ],
   "source": [
    "class car:\n",
    "    __maxspeed=0\n",
    "    __name=\"\"\n",
    "    def __init__(self):\n",
    "        self.__maxspeed=300\n",
    "        self.name=\"SuperCar\"\n",
    "    def drive(self):\n",
    "        print(\"Driving\")\n",
    "        print(self.__maxspeed)\n",
    "    def setspeed(self,speed):\n",
    "        self.__maxspeed=speed\n",
    "        print(self.__maxspeed)\n",
    "    \n",
    "bluecar=car()\n",
    "bluecar.drive()\n",
    "bluecar.setspeed(100)"
   ]
  },
  {
   "cell_type": "code",
   "execution_count": 2,
   "id": "353e200b",
   "metadata": {},
   "outputs": [
    {
     "name": "stdout",
     "output_type": "stream",
     "text": [
      "10\n",
      "20\n"
     ]
    },
    {
     "ename": "AttributeError",
     "evalue": "'Circle' object has no attribute 'length'",
     "output_type": "error",
     "traceback": [
      "\u001b[1;31m---------------------------------------------------------------------------\u001b[0m",
      "\u001b[1;31mAttributeError\u001b[0m                            Traceback (most recent call last)",
      "\u001b[1;32m<ipython-input-2-5284b7bcff75>\u001b[0m in \u001b[0;36m<module>\u001b[1;34m\u001b[0m\n\u001b[0;32m      9\u001b[0m \u001b[1;33m\u001b[0m\u001b[0m\n\u001b[0;32m     10\u001b[0m \u001b[0mCC\u001b[0m\u001b[1;33m=\u001b[0m\u001b[0mCircle\u001b[0m\u001b[1;33m(\u001b[0m\u001b[1;33m)\u001b[0m\u001b[1;33m\u001b[0m\u001b[1;33m\u001b[0m\u001b[0m\n\u001b[1;32m---> 11\u001b[1;33m \u001b[0mprint\u001b[0m\u001b[1;33m(\u001b[0m\u001b[0mCC\u001b[0m\u001b[1;33m.\u001b[0m\u001b[0mlength\u001b[0m\u001b[1;33m)\u001b[0m\u001b[1;33m\u001b[0m\u001b[1;33m\u001b[0m\u001b[0m\n\u001b[0m\u001b[0;32m     12\u001b[0m \u001b[0mprint\u001b[0m\u001b[1;33m(\u001b[0m\u001b[0mCC\u001b[0m\u001b[1;33m.\u001b[0m\u001b[0mwidth\u001b[0m\u001b[1;33m)\u001b[0m\u001b[1;33m\u001b[0m\u001b[1;33m\u001b[0m\u001b[0m\n",
      "\u001b[1;31mAttributeError\u001b[0m: 'Circle' object has no attribute 'length'"
     ]
    }
   ],
   "source": [
    "class Shape():\n",
    "    _length=10\n",
    "    _width=20\n",
    "\n",
    "class Circle(Shape):\n",
    "    def __init__(self):\n",
    "        print(self._length)\n",
    "        print(self._width)\n",
    "\n",
    "CC=Circle()\n",
    "print(CC.length)\n",
    "print(CC.width)"
   ]
  },
  {
   "cell_type": "code",
   "execution_count": 7,
   "id": "fcaf68a2",
   "metadata": {},
   "outputs": [
    {
     "name": "stdout",
     "output_type": "stream",
     "text": [
      "Name: sss\n",
      "sss 's Salary: sss\n",
      "Programming: sss\n",
      "Existing Salary:  sss\n",
      "Revised Salary is:  60000\n"
     ]
    },
    {
     "ename": "AttributeError",
     "evalue": "'Employee' object has no attribute '_Salary_Employee'",
     "output_type": "error",
     "traceback": [
      "\u001b[1;31m---------------------------------------------------------------------------\u001b[0m",
      "\u001b[1;31mAttributeError\u001b[0m                            Traceback (most recent call last)",
      "\u001b[1;32m<ipython-input-7-7face73b706a>\u001b[0m in \u001b[0;36m<module>\u001b[1;34m\u001b[0m\n\u001b[0;32m     21\u001b[0m \u001b[0mEE\u001b[0m\u001b[1;33m.\u001b[0m\u001b[0mgetDetails\u001b[0m\u001b[1;33m(\u001b[0m\u001b[1;33m)\u001b[0m\u001b[1;33m\u001b[0m\u001b[1;33m\u001b[0m\u001b[0m\n\u001b[0;32m     22\u001b[0m \u001b[0mEE\u001b[0m\u001b[1;33m.\u001b[0m\u001b[0mRevisedSalary\u001b[0m\u001b[1;33m(\u001b[0m\u001b[1;33m)\u001b[0m\u001b[1;33m\u001b[0m\u001b[1;33m\u001b[0m\u001b[0m\n\u001b[1;32m---> 23\u001b[1;33m \u001b[0mEE\u001b[0m\u001b[1;33m.\u001b[0m\u001b[0m_Salary_Employee\u001b[0m\u001b[1;33m(\u001b[0m\u001b[1;33m)\u001b[0m\u001b[1;33m\u001b[0m\u001b[1;33m\u001b[0m\u001b[0m\n\u001b[0m",
      "\u001b[1;31mAttributeError\u001b[0m: 'Employee' object has no attribute '_Salary_Employee'"
     ]
    }
   ],
   "source": [
    "class Employee():\n",
    "    Company=\"NareshIT\"#Public variable\n",
    "    __Group=\"IT-Training\"#Private Variable\n",
    "    \n",
    "    def getDetails(self):\n",
    "        self.Name=input(\"Name: \")\n",
    "        self.__Salary=input(self.Name+\" 's \"+ \"Salary: \")\n",
    "        self.Programming=input(\"Programming: \")\n",
    "    \n",
    "    def Display(self):\n",
    "        print(\"Name: \",self.Name)\n",
    "        print(\"Salary: \",self.Salary)\n",
    "        print(\"Programming Name: \",self.Programming)\n",
    "        \n",
    "    def RevisedSalary(self):\n",
    "        print(\"Existing Salary: \",self.__Salary)\n",
    "        self.__Salary=60000\n",
    "        print(\"Revised Salary is: \",self.__Salary)\n",
    "\n",
    "EE=Employee()\n",
    "EE.getDetails()\n",
    "EE.RevisedSalary()\n",
    "EE._Salary_Employee()"
   ]
  },
  {
   "cell_type": "code",
   "execution_count": 1,
   "id": "e98ea9a8",
   "metadata": {},
   "outputs": [
    {
     "ename": "NameError",
     "evalue": "name 'foo' is not defined",
     "output_type": "error",
     "traceback": [
      "\u001b[1;31m---------------------------------------------------------------------------\u001b[0m",
      "\u001b[1;31mNameError\u001b[0m                                 Traceback (most recent call last)",
      "\u001b[1;32m<ipython-input-1-e30c5d9da4d6>\u001b[0m in \u001b[0;36m<module>\u001b[1;34m\u001b[0m\n\u001b[1;32m----> 1\u001b[1;33m \u001b[0mf\u001b[0m\u001b[1;33m=\u001b[0m\u001b[0mfoo\u001b[0m\u001b[1;33m(\u001b[0m\u001b[1;33m)\u001b[0m\u001b[1;33m\u001b[0m\u001b[1;33m\u001b[0m\u001b[0m\n\u001b[0m\u001b[0;32m      2\u001b[0m \u001b[0mformat\u001b[0m\u001b[1;33m(\u001b[0m\u001b[0mf\u001b[0m\u001b[1;33m)\u001b[0m\u001b[1;33m\u001b[0m\u001b[1;33m\u001b[0m\u001b[0m\n\u001b[0;32m      3\u001b[0m \u001b[0m__str__\u001b[0m\u001b[1;33m(\u001b[0m\u001b[1;33m)\u001b[0m\u001b[1;33m\u001b[0m\u001b[1;33m\u001b[0m\u001b[0m\n",
      "\u001b[1;31mNameError\u001b[0m: name 'foo' is not defined"
     ]
    }
   ],
   "source": [
    "f=foo()\n",
    "format(f)\n",
    "__str__()"
   ]
  },
  {
   "cell_type": "code",
   "execution_count": 1,
   "id": "921f168e",
   "metadata": {},
   "outputs": [
    {
     "ename": "TypeError",
     "evalue": "Can't instantiate abstract class Banking with abstract methods MonthInterest",
     "output_type": "error",
     "traceback": [
      "\u001b[1;31m---------------------------------------------------------------------------\u001b[0m",
      "\u001b[1;31mTypeError\u001b[0m                                 Traceback (most recent call last)",
      "\u001b[1;32m<ipython-input-1-71fdbc6387c9>\u001b[0m in \u001b[0;36m<module>\u001b[1;34m\u001b[0m\n\u001b[0;32m      6\u001b[0m     \u001b[1;32mdef\u001b[0m \u001b[0mQuaterlyInterest\u001b[0m\u001b[1;33m(\u001b[0m\u001b[0mself\u001b[0m\u001b[1;33m)\u001b[0m\u001b[1;33m:\u001b[0m\u001b[1;31m#Abstract Method\u001b[0m\u001b[1;33m\u001b[0m\u001b[1;33m\u001b[0m\u001b[0m\n\u001b[0;32m      7\u001b[0m         \u001b[1;32mpass\u001b[0m\u001b[1;33m\u001b[0m\u001b[1;33m\u001b[0m\u001b[0m\n\u001b[1;32m----> 8\u001b[1;33m \u001b[0mAA\u001b[0m\u001b[1;33m=\u001b[0m\u001b[0mBanking\u001b[0m\u001b[1;33m(\u001b[0m\u001b[1;33m)\u001b[0m\u001b[1;33m\u001b[0m\u001b[1;33m\u001b[0m\u001b[0m\n\u001b[0m",
      "\u001b[1;31mTypeError\u001b[0m: Can't instantiate abstract class Banking with abstract methods MonthInterest"
     ]
    }
   ],
   "source": [
    "from abc import ABC,abstractmethod\n",
    "class Banking(ABC):#Abstract Class\n",
    "    @abstractmethod\n",
    "    def MonthInterest(self):#Abstract Method\n",
    "        pass\n",
    "    def QuaterlyInterest(self):#Abstract Method\n",
    "        pass\n",
    "AA=Banking()"
   ]
  },
  {
   "cell_type": "code",
   "execution_count": 2,
   "id": "d181f2d6",
   "metadata": {},
   "outputs": [
    {
     "name": "stdout",
     "output_type": "stream",
     "text": [
      "Montly Interest is: 4.5% \n",
      "Quarterly Interest is: 5.5% \n"
     ]
    }
   ],
   "source": [
    "from abc import ABC,abstractmethod\n",
    "class Banking(ABC):#Abstract Class\n",
    "    @abstractmethod\n",
    "    def MonthInterest(self):#Abstract Method\n",
    "        pass\n",
    "    @abstractmethod\n",
    "    def QuaterlyInterest(self):#Abstract Method\n",
    "        pass\n",
    "\n",
    "class SBI(Banking):#Concrete Class\n",
    "    def MonthInterest(self):\n",
    "        print(\"Montly Interest is: 4.5% \")\n",
    "    def QuaterlyInterest(self):\n",
    "        print(\"Quarterly Interest is: 5.5% \")\n",
    "\n",
    "SS=SBI()\n",
    "SS.MonthInterest()\n",
    "SS.QuaterlyInterest()\n"
   ]
  },
  {
   "cell_type": "code",
   "execution_count": 3,
   "id": "b45214bd",
   "metadata": {},
   "outputs": [
    {
     "ename": "TypeError",
     "evalue": "Can't instantiate abstract class SBI with abstract methods QuaterlyInterest",
     "output_type": "error",
     "traceback": [
      "\u001b[1;31m---------------------------------------------------------------------------\u001b[0m",
      "\u001b[1;31mTypeError\u001b[0m                                 Traceback (most recent call last)",
      "\u001b[1;32m<ipython-input-3-915a9153602b>\u001b[0m in \u001b[0;36m<module>\u001b[1;34m\u001b[0m\n\u001b[0;32m     12\u001b[0m         \u001b[0mprint\u001b[0m\u001b[1;33m(\u001b[0m\u001b[1;34m\"Montly Interest is: 4.5% \"\u001b[0m\u001b[1;33m)\u001b[0m\u001b[1;33m\u001b[0m\u001b[1;33m\u001b[0m\u001b[0m\n\u001b[0;32m     13\u001b[0m \u001b[1;33m\u001b[0m\u001b[0m\n\u001b[1;32m---> 14\u001b[1;33m \u001b[0mSS\u001b[0m\u001b[1;33m=\u001b[0m\u001b[0mSBI\u001b[0m\u001b[1;33m(\u001b[0m\u001b[1;33m)\u001b[0m\u001b[1;33m\u001b[0m\u001b[1;33m\u001b[0m\u001b[0m\n\u001b[0m\u001b[0;32m     15\u001b[0m \u001b[0mSS\u001b[0m\u001b[1;33m.\u001b[0m\u001b[0mMonthInterest\u001b[0m\u001b[1;33m(\u001b[0m\u001b[1;33m)\u001b[0m\u001b[1;33m\u001b[0m\u001b[1;33m\u001b[0m\u001b[0m\n",
      "\u001b[1;31mTypeError\u001b[0m: Can't instantiate abstract class SBI with abstract methods QuaterlyInterest"
     ]
    }
   ],
   "source": [
    "from abc import ABC,abstractmethod\n",
    "class Banking(ABC):#Abstract Class\n",
    "    @abstractmethod\n",
    "    def MonthInterest(self):#Abstract Method\n",
    "        pass\n",
    "    @abstractmethod\n",
    "    def QuaterlyInterest(self):#Abstract Method\n",
    "        pass\n",
    "\n",
    "class SBI(Banking):#Abstract Class\n",
    "    def MonthInterest(self):\n",
    "        print(\"Montly Interest is: 4.5% \")\n",
    "\n",
    "SS=SBI()\n",
    "SS.MonthInterest()\n"
   ]
  },
  {
   "cell_type": "code",
   "execution_count": 1,
   "id": "56571dfe",
   "metadata": {},
   "outputs": [
    {
     "name": "stdout",
     "output_type": "stream",
     "text": [
      "AbstractBaseClass\n",
      "Subclass With ConcreteMethod\n"
     ]
    }
   ],
   "source": [
    "from abc import ABC\n",
    "class BaseClass(ABC): #Abstract Base Class\n",
    "    def BaseMethod(self): \n",
    "        print(\"AbstractBaseClass\") \n",
    "  \n",
    "class Concrete(BaseClass): #Concrete Class\n",
    "    def ConcreteMethod(self):\n",
    "        super().BaseMethod()\n",
    "        print(\"Subclass With ConcreteMethod\") \n",
    "\n",
    "#Driver code\n",
    "CC=Concrete()\n",
    "CC.ConcreteMethod()"
   ]
  },
  {
   "cell_type": "code",
   "execution_count": 3,
   "id": "ba5a2084",
   "metadata": {},
   "outputs": [
    {
     "name": "stdout",
     "output_type": "stream",
     "text": [
      "Calculate Square Of Numbers\n",
      "SQUARE: 4\n",
      "SQUARE: 9\n",
      "SQUARE: 16\n",
      "SQUARE: 25\n",
      "SQUARE: 36\n",
      "SQUARE: 49\n",
      "Calculate Cube Of Numbers\n",
      "CUBE: 8\n",
      "CUBE: 27\n",
      "CUBE: 64\n",
      "CUBE: 125\n",
      "CUBE: 216\n",
      "CUBE: 343\n",
      "done in :  2.482051134109497\n",
      "Hah... I am done with all my work now!\n"
     ]
    }
   ],
   "source": [
    "import time\n",
    "def Square(numbers):\n",
    "    print(\"Calculate Square Of Numbers\")\n",
    "    for n in numbers:\n",
    "        time.sleep(0.2)\n",
    "        print('SQUARE:',n*n)\n",
    "\n",
    "def Cube(numbers):\n",
    "    print(\"Calculate Cube Of Numbers\")\n",
    "    for n in numbers:\n",
    "        time.sleep(0.2)\n",
    "        print('CUBE:',n*n*n)\n",
    "\n",
    "arr = [2,3,4,5,6,7]\n",
    "stime = time.time()\n",
    "Square(arr)\n",
    "Cube(arr)\n",
    "print(\"done in : \",time.time()-stime)\n",
    "print(\"Hah... I am done with all my work now!\")\n"
   ]
  },
  {
   "cell_type": "code",
   "execution_count": 5,
   "id": "6c1f6b28",
   "metadata": {},
   "outputs": [
    {
     "name": "stdout",
     "output_type": "stream",
     "text": [
      "calculate square numberscalculate cube of numbers\n",
      "\n",
      "cube: 8\n",
      "square: 4\n",
      "cube:square: 9\n",
      " 27\n",
      "cube: 512\n",
      "square: 64\n",
      "cube: square: 81\n",
      "729\n",
      "done in :  0.8530011177062988\n",
      "Hah... I am done with all my work now!\n"
     ]
    }
   ],
   "source": [
    "import time\n",
    "import threading\n",
    "\n",
    "def calc_square(numbers):\n",
    "    print(\"calculate square numbers\")\n",
    "    for n in numbers:\n",
    "        time.sleep(0.2)\n",
    "        print('square:',n*n)\n",
    "\n",
    "def calc_cube(numbers):\n",
    "    print(\"calculate cube of numbers\")\n",
    "    for n in numbers:\n",
    "        time.sleep(0.2)\n",
    "        print('cube:',n*n*n)\n",
    "\n",
    "arr = [2,3,8,9]\n",
    "t = time.time()\n",
    "t1= threading.Thread(target=calc_square, args=(arr,))\n",
    "t2= threading.Thread(target=calc_cube, args=(arr,))\n",
    "\n",
    "t1.start()\n",
    "t2.start()\n",
    "\n",
    "t1.join()\n",
    "t2.join()\n",
    "\n",
    "print(\"done in : \",time.time()-t)\n",
    "print(\"Hah... I am done with all my work now!\")\n"
   ]
  },
  {
   "cell_type": "code",
   "execution_count": 6,
   "id": "0ef2bfb8",
   "metadata": {},
   "outputs": [
    {
     "name": "stdout",
     "output_type": "stream",
     "text": [
      "1\n",
      "2\n",
      "3\n",
      "4\n",
      "5\n",
      "1\n",
      "2\n",
      "3\n",
      "4\n",
      "5\n"
     ]
    }
   ],
   "source": [
    "import threading\n",
    "class Thread1(threading.Thread):\n",
    "    def run(self):\n",
    "        i=1\n",
    "        while i<=5:\n",
    "            print(i)\n",
    "            i=i+1\n",
    "class Thread2(threading.Thread):\n",
    "    def run(self):\n",
    "        i=1\n",
    "        while i<=5:\n",
    "            print(i)\n",
    "            i=i+1\n",
    "t1=Thread1()\n",
    "t2=Thread2()\n",
    "t1.start()\n",
    "t2.start()"
   ]
  },
  {
   "cell_type": "code",
   "execution_count": 10,
   "id": "30a88ad5",
   "metadata": {},
   "outputs": [
    {
     "name": "stdout",
     "output_type": "stream",
     "text": [
      "PyThread\n",
      "PyThread\n",
      "PyThread\n"
     ]
    }
   ],
   "source": [
    "from threading import *\n",
    "print(current_thread().getName())\n",
    "current_thread().setName(\"PyThread\")\n",
    "print(current_thread().getName())\n",
    "print(current_thread().name)\n"
   ]
  },
  {
   "cell_type": "code",
   "execution_count": 11,
   "id": "d9c9dece",
   "metadata": {},
   "outputs": [
    {
     "name": "stdout",
     "output_type": "stream",
     "text": [
      "MyThreadMain Thread ID: 560\n",
      "Child Thread ID: 5580\n",
      " "
     ]
    }
   ],
   "source": [
    "from threading import *\n",
    "def Test_Thread():\n",
    "    print(\"MyThread\",end=\" \")\n",
    "th=Thread(target=Test_Thread)\n",
    "th.start()\n",
    "print(\"Main Thread ID:\",current_thread().ident)\n",
    "print(\"Child Thread ID:\",th.ident)\n"
   ]
  },
  {
   "cell_type": "code",
   "execution_count": 12,
   "id": "0957fef6",
   "metadata": {},
   "outputs": [
    {
     "name": "stdout",
     "output_type": "stream",
     "text": [
      "False\n",
      "False\n"
     ]
    }
   ],
   "source": [
    "from threading import *\n",
    "print(current_thread().isDaemon()) #False\n",
    "print(current_thread().daemon) #False\n"
   ]
  },
  {
   "cell_type": "code",
   "execution_count": 15,
   "id": "50d6edbb",
   "metadata": {},
   "outputs": [
    {
     "name": "stdout",
     "output_type": "stream",
     "text": [
      "False\n",
      "True\n"
     ]
    }
   ],
   "source": [
    "from threading import *\n",
    "def ThTask():\n",
    "    print(\"ChildThread\")\n",
    "th=Thread(target=ThTask)\n",
    "print(th.isDaemon())\n",
    "th.setDaemon(True)\n",
    "print(th.isDaemon())\n"
   ]
  },
  {
   "cell_type": "code",
   "execution_count": null,
   "id": "5b725f16",
   "metadata": {},
   "outputs": [],
   "source": []
  }
 ],
 "metadata": {
  "kernelspec": {
   "display_name": "Python 3",
   "language": "python",
   "name": "python3"
  },
  "language_info": {
   "codemirror_mode": {
    "name": "ipython",
    "version": 3
   },
   "file_extension": ".py",
   "mimetype": "text/x-python",
   "name": "python",
   "nbconvert_exporter": "python",
   "pygments_lexer": "ipython3",
   "version": "3.8.8"
  }
 },
 "nbformat": 4,
 "nbformat_minor": 5
}
