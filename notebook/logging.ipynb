{
 "cells": [
  {
   "cell_type": "code",
   "execution_count": 4,
   "id": "998e5b11",
   "metadata": {},
   "outputs": [
    {
     "name": "stdout",
     "output_type": "stream",
     "text": [
      "Hey Demo for Logging\n",
      "LoggingFileCreatedSuccessfully\n"
     ]
    }
   ],
   "source": [
    "import logging\n",
    "logging.basicConfig(filename='logging.txt',level=logging.INFO)\n",
    "print(\"Hey Demo for Logging\")\n",
    "logging.debug(\"This is Debug Message\")\n",
    "logging.info(\"This is Info Message\")\n",
    "logging.warning(\"This is Warning Message\")\n",
    "logging.error(\"This is Error Message\")\n",
    "logging.critical(\"This is Critical Message\")\n",
    "print(\"LoggingFileCreatedSuccessfully\")\n"
   ]
  },
  {
   "cell_type": "code",
   "execution_count": 3,
   "id": "3d7a8c84",
   "metadata": {},
   "outputs": [
    {
     "name": "stdout",
     "output_type": "stream",
     "text": [
      "Hey Demo for Logging\n",
      "LoggingFileCreatedSuccessfully\n"
     ]
    }
   ],
   "source": [
    "import logging\n",
    "logging.basicConfig(filename='logging.txt',level=logging.DEBUG)\n",
    "print(\"Hey Demo for Logging\")\n",
    "logging.debug(\"This is Debug Message\")\n",
    "logging.info(\"This is Info Message\")\n",
    "logging.warning(\"This is Warning Message\")\n",
    "logging.error(\"This is Error Message\")\n",
    "logging.critical(\"This is Critical Message\")\n",
    "print(\"LoggingFileCreatedSuccessfully\")"
   ]
  },
  {
   "cell_type": "code",
   "execution_count": 4,
   "id": "d65b8ce8",
   "metadata": {},
   "outputs": [
    {
     "name": "stdout",
     "output_type": "stream",
     "text": [
      "Hey Demo for Logging\n",
      "LoggingFileCreatedSuccessfully\n"
     ]
    }
   ],
   "source": [
    "import logging\n",
    "logging.basicConfig(filename='logging.txt',level=logging.WARNING)\n",
    "print(\"Hey Demo for Logging\")\n",
    "logging.debug(\"This is Debug Message\")\n",
    "logging.info(\"This is Info Message\")\n",
    "logging.warning(\"This is Warning Message\")\n",
    "logging.error(\"This is Error Message\")\n",
    "logging.critical(\"This is Critical Message\")\n",
    "print(\"LoggingFileCreatedSuccessfully\")\n"
   ]
  },
  {
   "cell_type": "code",
   "execution_count": 6,
   "id": "e515302d",
   "metadata": {},
   "outputs": [
    {
     "name": "stdout",
     "output_type": "stream",
     "text": [
      "Enter First Number:10\n",
      "Enter Second Number:k\n",
      "Integer Only\n"
     ]
    }
   ],
   "source": [
    "import logging\n",
    "logging.basicConfig(filename='logging.txt',level=logging.INFO)\n",
    "logging.info('Hei DevTeam New Log Tracked..!!')\n",
    "try:\n",
    "    x=int(input('Enter First Number:'))\n",
    "    y=int(input('Enter Second Number:'))\n",
    "    print('The Result:',x/y)\n",
    "except ZeroDivisionError as msg:\n",
    "    print('Error Divide With Zero')\n",
    "    logging.exception(msg)\n",
    "except ValueError as msg:\n",
    "    print('Integer Only')\n",
    "    logging.exception(msg)\n",
    "logging.info('Logging Finished Guys..!!')"
   ]
  },
  {
   "cell_type": "code",
   "execution_count": 10,
   "id": "f89f2cc3",
   "metadata": {},
   "outputs": [
    {
     "name": "stdout",
     "output_type": "stream",
     "text": [
      "Enter First Number:10\n",
      "Enter Second Number:l\n",
      "Integer Only\n"
     ]
    }
   ],
   "source": [
    "import logging\n",
    "logging.basicConfig(filename='logging.txt',level=logging.DEBUG,format='%(levelname)s')\n",
    "logging.info('Hei Dev. Team,New Log Track..!!')\n",
    "try:\n",
    "    x=int(input('Enter First Number:'))\n",
    "    y=int(input('Enter Second Number:'))\n",
    "    print('The Result:',x/y)\n",
    "except ZeroDivisionError as msg:\n",
    "    print('Error Divide With Zero')\n",
    "    logging.exception(msg)\n",
    "except ValueError as msg:\n",
    "    print('Integer Only')\n",
    "    logging.exception(msg)\n",
    "logging.info('Logging Finished Guys..!!')"
   ]
  },
  {
   "cell_type": "code",
   "execution_count": 11,
   "id": "ac285407",
   "metadata": {},
   "outputs": [
    {
     "name": "stdout",
     "output_type": "stream",
     "text": [
      "Enter First Number:12\n",
      "Enter Second Number:p\n",
      "Integer Only\n"
     ]
    }
   ],
   "source": [
    "import logging\n",
    "logging.basicConfig(filename='logging.txt',level=logging.DEBUG,format='%(asctime)s:%(levelname)s:%(message)s')\n",
    "logging.info('Hei Dev. Team,New Log Track..!!')\n",
    "try:\n",
    "    x=int(input('Enter First Number:'))\n",
    "    y=int(input('Enter Second Number:'))\n",
    "    print('The Result:',x/y)\n",
    "except ZeroDivisionError as msg:\n",
    "    print('Error Divide With Zero')\n",
    "    logging.exception(msg)\n",
    "except ValueError as msg:\n",
    "    print('Integer Only')\n",
    "    logging.exception(msg)\n",
    "logging.info('Logging Finished Guys..!!')"
   ]
  },
  {
   "cell_type": "code",
   "execution_count": 6,
   "id": "327dda5c",
   "metadata": {},
   "outputs": [
    {
     "name": "stdout",
     "output_type": "stream",
     "text": [
      "Enter First Number:12\n",
      "Enter Second Number:l\n",
      "Integer Only\n"
     ]
    }
   ],
   "source": [
    "import logging\n",
    "logging.basicConfig(filename='practise.txt',level=logging.CRITICAL,format='%(asctime)s:%(levelname)s:%(message)s')\n",
    "logging.info('Hei Dev. Team,New Log Track..!!')\n",
    "try:\n",
    "    x=int(input('Enter First Number:'))\n",
    "    y=int(input('Enter Second Number:'))\n",
    "    print('The Result:',x/y)\n",
    "except ZeroDivisionError as msg:\n",
    "    print('Error Divide With Zero')\n",
    "    logging.exception(msg)\n",
    "except ValueError as msg:\n",
    "    print('Integer Only')\n",
    "    logging.exception(msg)\n",
    "logging.info('Logging Finished Guys..!!')"
   ]
  },
  {
   "cell_type": "code",
   "execution_count": 10,
   "id": "0619f24d",
   "metadata": {},
   "outputs": [
    {
     "name": "stdout",
     "output_type": "stream",
     "text": [
      "Enter First Number:12\n",
      "Enter Second Number:3\n",
      "The Result: 4.0\n"
     ]
    }
   ],
   "source": [
    "import logging\n",
    "logging.basicConfig(filename='practise.txt',level=logging.INFO,format='%(asctime)s:%(levelname)s:%(message)s', datefmt='%m/%d/%Y  %I:%M:%S  %P')\n",
    "logging.info('HeyDevTeamNew Log Track..!!')\n",
    "try:\n",
    "    x=int(input('Enter First Number:'))\n",
    "    y=int(input('Enter Second Number:'))\n",
    "    print('The Result:',x/y)\n",
    "except ZeroDivisionError as msg:\n",
    "    print('Error Divide With Zero')\n",
    "    logging.exception(msg)\n",
    "except ValueError as msg:\n",
    "    print('Integer Only')\n",
    "    logging.exception(msg)\n",
    "logging.info('Logging Finished..!!')"
   ]
  },
  {
   "cell_type": "code",
   "execution_count": null,
   "id": "0733d9b7",
   "metadata": {},
   "outputs": [],
   "source": []
  },
  {
   "cell_type": "code",
   "execution_count": null,
   "id": "84169677",
   "metadata": {},
   "outputs": [],
   "source": []
  },
  {
   "cell_type": "code",
   "execution_count": null,
   "id": "acb06939",
   "metadata": {},
   "outputs": [],
   "source": []
  },
  {
   "cell_type": "code",
   "execution_count": null,
   "id": "e037c5d2",
   "metadata": {},
   "outputs": [],
   "source": []
  },
  {
   "cell_type": "code",
   "execution_count": null,
   "id": "b0accc2b",
   "metadata": {},
   "outputs": [],
   "source": []
  },
  {
   "cell_type": "code",
   "execution_count": null,
   "id": "36deec1b",
   "metadata": {},
   "outputs": [],
   "source": []
  }
 ],
 "metadata": {
  "kernelspec": {
   "display_name": "Python 3",
   "language": "python",
   "name": "python3"
  },
  "language_info": {
   "codemirror_mode": {
    "name": "ipython",
    "version": 3
   },
   "file_extension": ".py",
   "mimetype": "text/x-python",
   "name": "python",
   "nbconvert_exporter": "python",
   "pygments_lexer": "ipython3",
   "version": "3.8.8"
  }
 },
 "nbformat": 4,
 "nbformat_minor": 5
}
