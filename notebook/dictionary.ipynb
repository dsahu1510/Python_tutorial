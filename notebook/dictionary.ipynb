{
 "cells": [
  {
   "cell_type": "code",
   "execution_count": 14,
   "id": "f2a5c1e7",
   "metadata": {},
   "outputs": [
    {
     "name": "stdout",
     "output_type": "stream",
     "text": [
      "<class 'dict'>\n"
     ]
    }
   ],
   "source": [
    "PyDict={1:'Bigdata', 2:'Hadoop'}\n",
    "print(type(PyDict))#<class 'dict'>\n"
   ]
  },
  {
   "cell_type": "code",
   "execution_count": 12,
   "id": "6bcdf5f2",
   "metadata": {},
   "outputs": [
    {
     "name": "stdout",
     "output_type": "stream",
     "text": [
      "<class 'dict'>\n"
     ]
    }
   ],
   "source": [
    "PyDict=dict ([(1,'Bigdata'), (2,'Hadoop')])\n",
    "print(type(PyDict))#<class 'dict'>\n"
   ]
  },
  {
   "cell_type": "code",
   "execution_count": 10,
   "id": "489df790",
   "metadata": {},
   "outputs": [
    {
     "name": "stdout",
     "output_type": "stream",
     "text": [
      "{1: 'Hadoop'}\n",
      "{1: 'Hadoop', 2: 'Spark'}\n",
      "{1: 'H2O', 2: 'Spark'}\n",
      "{1: 'H2O', 2: 'Spark', 4: 'abc'}\n"
     ]
    }
   ],
   "source": [
    "PyDict= {1:\"Hadoop\"}\n",
    "print(PyDict)#{1: 'Hadoop'}\n",
    "PyDict[2]=\"Spark\"\n",
    "print(PyDict)#{1: 'Hadoop', 2: 'Spark'}\n",
    "PyDict[1]=\"H2O\"\n",
    "print(PyDict)#{1: 'H2O', 2: 'Spark'}\n",
    "PyDict[4]='abc'\n",
    "print(PyDict)"
   ]
  },
  {
   "cell_type": "code",
   "execution_count": 16,
   "id": "8281bbdd",
   "metadata": {},
   "outputs": [
    {
     "name": "stdout",
     "output_type": "stream",
     "text": [
      "{1: 'Hadoop'}\n",
      "{1: 'Hadoop', 2: 'Spark'}\n",
      "{1: 'Hadoop', 2: 'Spark', 3: 'H2O'}\n"
     ]
    }
   ],
   "source": [
    "PyDict={1:\"Hadoop\"}\n",
    "print(PyDict)#{1: 'Hadoop'}\n",
    "PyDict[2]=\"Spark\"\n",
    "print(PyDict)#{1: 'Hadoop', 2: 'Spark'}\n",
    "PyDict[3]=\"H2O\"\n",
    "print(PyDict)#{1: 'H2O', 2: 'Spark'}\n"
   ]
  },
  {
   "cell_type": "code",
   "execution_count": 17,
   "id": "90c87238",
   "metadata": {},
   "outputs": [
    {
     "name": "stdout",
     "output_type": "stream",
     "text": [
      "{1: 'PYTHON', 2: 'ML', 3: 'DS'}\n",
      "PYTHON\n",
      "ML\n",
      "DS\n"
     ]
    }
   ],
   "source": [
    "PyCourses = {1: \"PYTHON\",2: \"ML\", 3: \"DS\" }\n",
    "print(PyCourses)\n",
    "for item in PyCourses.values():\n",
    "    print(item)"
   ]
  },
  {
   "cell_type": "code",
   "execution_count": 18,
   "id": "7c110cd7",
   "metadata": {},
   "outputs": [
    {
     "name": "stdout",
     "output_type": "stream",
     "text": [
      "{1: 'PYTHON', 2: 'ML', 3: 'DS'}\n",
      "1\n",
      "2\n",
      "3\n"
     ]
    }
   ],
   "source": [
    "PyCourses = {1: \"PYTHON\",2: \"ML\", 3: \"DS\" }\n",
    "print(PyCourses)\n",
    "for item in PyCourses.keys():\n",
    "    print(item)\n"
   ]
  },
  {
   "cell_type": "code",
   "execution_count": 19,
   "id": "6a1c4e64",
   "metadata": {},
   "outputs": [
    {
     "name": "stdout",
     "output_type": "stream",
     "text": [
      "{1: 'PYTHON', 2: 'ML', 3: 'DS'}\n",
      "(1, 'PYTHON')\n",
      "(2, 'ML')\n",
      "(3, 'DS')\n"
     ]
    }
   ],
   "source": [
    "PyCourses = {1: \"PYTHON\",2: \"ML\", 3: \"DS\" }\n",
    "print(PyCourses)\n",
    "for item in PyCourses.items():\n",
    "    print(item)"
   ]
  },
  {
   "cell_type": "code",
   "execution_count": null,
   "id": "bc514e8c",
   "metadata": {},
   "outputs": [],
   "source": []
  }
 ],
 "metadata": {
  "kernelspec": {
   "display_name": "Python 3",
   "language": "python",
   "name": "python3"
  },
  "language_info": {
   "codemirror_mode": {
    "name": "ipython",
    "version": 3
   },
   "file_extension": ".py",
   "mimetype": "text/x-python",
   "name": "python",
   "nbconvert_exporter": "python",
   "pygments_lexer": "ipython3",
   "version": "3.8.8"
  }
 },
 "nbformat": 4,
 "nbformat_minor": 5
}
