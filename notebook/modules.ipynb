{
 "cells": [
  {
   "cell_type": "code",
   "execution_count": 1,
   "id": "fc0043dc",
   "metadata": {},
   "outputs": [
    {
     "ename": "ModuleNotFoundError",
     "evalue": "No module named 'MyMod'",
     "output_type": "error",
     "traceback": [
      "\u001b[1;31m---------------------------------------------------------------------------\u001b[0m",
      "\u001b[1;31mModuleNotFoundError\u001b[0m                       Traceback (most recent call last)",
      "\u001b[1;32m<ipython-input-1-534e0c120284>\u001b[0m in \u001b[0;36m<module>\u001b[1;34m\u001b[0m\n\u001b[1;32m----> 1\u001b[1;33m \u001b[1;32mimport\u001b[0m \u001b[0mMyMod\u001b[0m\u001b[1;33m\u001b[0m\u001b[1;33m\u001b[0m\u001b[0m\n\u001b[0m\u001b[0;32m      2\u001b[0m \u001b[0mMyMod\u001b[0m\u001b[1;33m.\u001b[0m\u001b[0mMyFun1\u001b[0m\u001b[1;33m(\u001b[0m\u001b[1;33m)\u001b[0m\u001b[1;33m\u001b[0m\u001b[1;33m\u001b[0m\u001b[0m\n\u001b[0;32m      3\u001b[0m \u001b[0mMyMod\u001b[0m\u001b[1;33m.\u001b[0m\u001b[0mMyFun2\u001b[0m\u001b[1;33m(\u001b[0m\u001b[1;33m)\u001b[0m\u001b[1;33m\u001b[0m\u001b[1;33m\u001b[0m\u001b[0m\n\u001b[0;32m      4\u001b[0m \u001b[0mprint\u001b[0m\u001b[1;33m(\u001b[0m\u001b[1;34m\"END\"\u001b[0m\u001b[1;33m)\u001b[0m\u001b[1;33m\u001b[0m\u001b[1;33m\u001b[0m\u001b[0m\n",
      "\u001b[1;31mModuleNotFoundError\u001b[0m: No module named 'MyMod'"
     ]
    }
   ],
   "source": [
    "import MyMod\n",
    "MyMod.MyFun1()\n",
    "MyMod.MyFun2()\n",
    "print(\"END\")"
   ]
  },
  {
   "cell_type": "code",
   "execution_count": 3,
   "id": "9193a6be",
   "metadata": {},
   "outputs": [
    {
     "ename": "NameError",
     "evalue": "name 'mt' is not defined",
     "output_type": "error",
     "traceback": [
      "\u001b[1;31m---------------------------------------------------------------------------\u001b[0m",
      "\u001b[1;31mNameError\u001b[0m                                 Traceback (most recent call last)",
      "\u001b[1;32m<ipython-input-3-0afac778f250>\u001b[0m in \u001b[0;36m<module>\u001b[1;34m\u001b[0m\n\u001b[1;32m----> 1\u001b[1;33m \u001b[0mSum\u001b[0m\u001b[1;33m=\u001b[0m\u001b[0mmt\u001b[0m\u001b[1;33m.\u001b[0m\u001b[0madd\u001b[0m\u001b[1;33m(\u001b[0m\u001b[1;36m10\u001b[0m\u001b[1;33m,\u001b[0m\u001b[1;36m20\u001b[0m\u001b[1;33m)\u001b[0m\u001b[1;33m\u001b[0m\u001b[1;33m\u001b[0m\u001b[0m\n\u001b[0m\u001b[0;32m      2\u001b[0m \u001b[0mprint\u001b[0m\u001b[1;33m(\u001b[0m\u001b[1;34m\"Sum of the numbers is: \"\u001b[0m \u001b[1;33m,\u001b[0m\u001b[0mSum\u001b[0m\u001b[1;33m)\u001b[0m\u001b[1;33m\u001b[0m\u001b[1;33m\u001b[0m\u001b[0m\n\u001b[0;32m      3\u001b[0m \u001b[0mdif\u001b[0m\u001b[1;33m=\u001b[0m\u001b[0mmt\u001b[0m\u001b[1;33m.\u001b[0m\u001b[0msub\u001b[0m\u001b[1;33m(\u001b[0m\u001b[1;36m20\u001b[0m\u001b[1;33m,\u001b[0m\u001b[1;36m10\u001b[0m\u001b[1;33m)\u001b[0m\u001b[1;33m\u001b[0m\u001b[1;33m\u001b[0m\u001b[0m\n\u001b[0;32m      4\u001b[0m \u001b[0mprint\u001b[0m\u001b[1;33m(\u001b[0m\u001b[1;34m\"Difference of the numbers is: \"\u001b[0m \u001b[1;33m,\u001b[0m\u001b[0mdif\u001b[0m\u001b[1;33m)\u001b[0m\u001b[1;33m\u001b[0m\u001b[1;33m\u001b[0m\u001b[0m\n\u001b[0;32m      5\u001b[0m \u001b[0mprd\u001b[0m\u001b[1;33m=\u001b[0m\u001b[0mmt\u001b[0m\u001b[1;33m.\u001b[0m\u001b[0mprod\u001b[0m\u001b[1;33m(\u001b[0m\u001b[1;36m10\u001b[0m\u001b[1;33m,\u001b[0m\u001b[1;36m10\u001b[0m\u001b[1;33m)\u001b[0m\u001b[1;33m\u001b[0m\u001b[1;33m\u001b[0m\u001b[0m\n",
      "\u001b[1;31mNameError\u001b[0m: name 'mt' is not defined"
     ]
    }
   ],
   "source": [
    "\n",
    "Sum=mt.add(10,20)\n",
    "print(\"Sum of the numbers is: \" ,Sum)\n",
    "dif=mt.sub(20,10)\n",
    "print(\"Difference of the numbers is: \" ,dif)\n",
    "prd=mt.prod(10,10)\n",
    "print(\"Difference of the numbers is: \" ,prd)"
   ]
  },
  {
   "cell_type": "code",
   "execution_count": 1,
   "id": "c6c1fdd4",
   "metadata": {},
   "outputs": [
    {
     "name": "stdout",
     "output_type": "stream",
     "text": [
      "45\n",
      "100.12\n"
     ]
    }
   ],
   "source": [
    "print(abs(-45))\n",
    "print(abs(100.12))\n"
   ]
  },
  {
   "cell_type": "code",
   "execution_count": 1,
   "id": "403f006c",
   "metadata": {},
   "outputs": [
    {
     "name": "stdout",
     "output_type": "stream",
     "text": [
      "-45\n",
      "101\n",
      "101\n"
     ]
    }
   ],
   "source": [
    "import math \n",
    "print(math.ceil(-45.17))\n",
    "print (math.ceil(100.12))\n",
    "print (math.ceil(100.72))\n"
   ]
  },
  {
   "cell_type": "code",
   "execution_count": 2,
   "id": "3f45f784",
   "metadata": {},
   "outputs": [
    {
     "name": "stdout",
     "output_type": "stream",
     "text": [
      "-46\n",
      "100\n",
      "100\n"
     ]
    }
   ],
   "source": [
    "import math \n",
    "print(math.floor(-45.17))\n",
    "print(math.floor(100.12))\n",
    "print(math.floor(100.72))\n"
   ]
  },
  {
   "cell_type": "code",
   "execution_count": 3,
   "id": "b266b541",
   "metadata": {},
   "outputs": [
    {
     "name": "stdout",
     "output_type": "stream",
     "text": [
      "10.99\n",
      "10.99\n",
      "100.01\n"
     ]
    }
   ],
   "source": [
    "import math\n",
    "print(math.fabs(-10.99))\n",
    "print(math.fabs(10.99))\n",
    "print(math.fabs(-100.01))\n"
   ]
  },
  {
   "cell_type": "code",
   "execution_count": 4,
   "id": "b792b611",
   "metadata": {},
   "outputs": [
    {
     "name": "stdout",
     "output_type": "stream",
     "text": [
      "120\n"
     ]
    }
   ],
   "source": [
    "import math\n",
    "print(math.factorial(5))"
   ]
  },
  {
   "cell_type": "code",
   "execution_count": 5,
   "id": "45f4a88c",
   "metadata": {},
   "outputs": [
    {
     "name": "stdout",
     "output_type": "stream",
     "text": [
      "1\n"
     ]
    }
   ],
   "source": [
    "import math\n",
    "print(math.factorial(0))"
   ]
  },
  {
   "cell_type": "code",
   "execution_count": 6,
   "id": "1d517706",
   "metadata": {},
   "outputs": [
    {
     "ename": "ValueError",
     "evalue": "factorial() not defined for negative values",
     "output_type": "error",
     "traceback": [
      "\u001b[1;31m---------------------------------------------------------------------------\u001b[0m",
      "\u001b[1;31mValueError\u001b[0m                                Traceback (most recent call last)",
      "\u001b[1;32m<ipython-input-6-7915a6c54d48>\u001b[0m in \u001b[0;36m<module>\u001b[1;34m\u001b[0m\n\u001b[0;32m      1\u001b[0m \u001b[1;32mimport\u001b[0m \u001b[0mmath\u001b[0m\u001b[1;33m\u001b[0m\u001b[1;33m\u001b[0m\u001b[0m\n\u001b[1;32m----> 2\u001b[1;33m \u001b[0mprint\u001b[0m\u001b[1;33m(\u001b[0m\u001b[0mmath\u001b[0m\u001b[1;33m.\u001b[0m\u001b[0mfactorial\u001b[0m\u001b[1;33m(\u001b[0m\u001b[1;33m-\u001b[0m\u001b[1;36m3\u001b[0m\u001b[1;33m)\u001b[0m\u001b[1;33m)\u001b[0m\u001b[1;33m\u001b[0m\u001b[1;33m\u001b[0m\u001b[0m\n\u001b[0m",
      "\u001b[1;31mValueError\u001b[0m: factorial() not defined for negative values"
     ]
    }
   ],
   "source": [
    "import math\n",
    "print(math.factorial(-3))"
   ]
  },
  {
   "cell_type": "code",
   "execution_count": 7,
   "id": "39012705",
   "metadata": {},
   "outputs": [
    {
     "name": "stdout",
     "output_type": "stream",
     "text": [
      "18.0\n",
      "18.0\n",
      "18.0\n"
     ]
    }
   ],
   "source": [
    "import math\n",
    "print(math.fsum([5,7,2,4]))\n",
    "print(math.fsum({5,7,2,4}))\n",
    "print(math.fsum((5,7,2,4)))\n"
   ]
  },
  {
   "cell_type": "code",
   "execution_count": 8,
   "id": "39b87e29",
   "metadata": {},
   "outputs": [
    {
     "name": "stdout",
     "output_type": "stream",
     "text": [
      "10000.0\n",
      "16.0\n",
      "1.0\n"
     ]
    }
   ],
   "source": [
    "import math \n",
    "print(math.pow(100, 2))\n",
    "print(math.pow(2, 4))\n",
    "print(math.pow(3, 0))\n"
   ]
  },
  {
   "cell_type": "code",
   "execution_count": 10,
   "id": "0db64ad4",
   "metadata": {},
   "outputs": [
    {
     "name": "stdout",
     "output_type": "stream",
     "text": [
      "80.24\n",
      "100.562\n"
     ]
    }
   ],
   "source": [
    "print(round(80.23656, 2))\n",
    "print(round(100.5623, 3))\n"
   ]
  },
  {
   "cell_type": "code",
   "execution_count": null,
   "id": "ba41d049",
   "metadata": {},
   "outputs": [],
   "source": []
  }
 ],
 "metadata": {
  "kernelspec": {
   "display_name": "Python 3",
   "language": "python",
   "name": "python3"
  },
  "language_info": {
   "codemirror_mode": {
    "name": "ipython",
    "version": 3
   },
   "file_extension": ".py",
   "mimetype": "text/x-python",
   "name": "python",
   "nbconvert_exporter": "python",
   "pygments_lexer": "ipython3",
   "version": "3.8.8"
  }
 },
 "nbformat": 4,
 "nbformat_minor": 5
}
