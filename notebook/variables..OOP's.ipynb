{
 "cells": [
  {
   "cell_type": "code",
   "execution_count": 1,
   "id": "9baf1e5b",
   "metadata": {},
   "outputs": [
    {
     "name": "stdout",
     "output_type": "stream",
     "text": [
      "{'eid': 1, 'ename': 'Rama', 'esal': '$1000'}\n"
     ]
    }
   ],
   "source": [
    "class Emp():\n",
    "    def __init__(self):\n",
    "        self.eid=1\n",
    "        self.ename='Rama'\n",
    "        self.esal=\"$1000\"\n",
    "\n",
    "eDetails=Emp()\n",
    "print(eDetails.__dict__)"
   ]
  },
  {
   "cell_type": "code",
   "execution_count": 7,
   "id": "87920c13",
   "metadata": {},
   "outputs": [
    {
     "name": "stdout",
     "output_type": "stream",
     "text": [
      "{'x': 100, 'y': 200}\n"
     ]
    }
   ],
   "source": [
    "class MyClass():\n",
    "    def __init__(self):\n",
    "        self.x=100\n",
    "    \n",
    "    def MyMethod(self):\n",
    "        self.y=200\n",
    "\n",
    "MM=MyClass()\n",
    "MM.MyMethod()\n",
    "print(MM.__dict__)"
   ]
  },
  {
   "cell_type": "code",
   "execution_count": 9,
   "id": "46bb033b",
   "metadata": {},
   "outputs": [
    {
     "name": "stdout",
     "output_type": "stream",
     "text": [
      "{'x': 100, 'y': 200, 'z': 345}\n"
     ]
    }
   ],
   "source": [
    "MM.z=345\n",
    "print(MM.__dict__)"
   ]
  },
  {
   "cell_type": "code",
   "execution_count": 10,
   "id": "59b63b0d",
   "metadata": {},
   "outputs": [
    {
     "name": "stdout",
     "output_type": "stream",
     "text": [
      "{'x': 200, 'y': 400, 'z': 500}\n"
     ]
    }
   ],
   "source": [
    "class MyClass():\n",
    "    def __init__(self):\n",
    "        self.x=100\n",
    "    \n",
    "    def MyMethod(self):\n",
    "        self.x=200\n",
    "        self.y=300\n",
    "\n",
    "MM=MyClass()\n",
    "MM.MyMethod()\n",
    "MM.y=400\n",
    "MM.z=500\n",
    "print(MM.__dict__)"
   ]
  },
  {
   "cell_type": "code",
   "execution_count": 11,
   "id": "9920ef85",
   "metadata": {},
   "outputs": [
    {
     "name": "stdout",
     "output_type": "stream",
     "text": [
      "{'z': 500}\n"
     ]
    }
   ],
   "source": [
    "class MyClass():\n",
    "    def __init__(self):\n",
    "        self.x=100\n",
    "    \n",
    "    def MyMethod(self):\n",
    "        self.x=200\n",
    "        self.y=300\n",
    "        #Deleting Instance variables\n",
    "        del self.x\n",
    "\n",
    "MM=MyClass()\n",
    "MM.MyMethod()\n",
    "MM.y=400\n",
    "#Deleting Instance variables\n",
    "del MM.y\n",
    "MM.z=500\n",
    "print(MM.__dict__)\n"
   ]
  },
  {
   "cell_type": "code",
   "execution_count": 14,
   "id": "e9a9dc01",
   "metadata": {},
   "outputs": [
    {
     "name": "stdout",
     "output_type": "stream",
     "text": [
      "{'x': 300, 'y': 200}\n",
      "{'x': 100, 'y': 400}\n"
     ]
    }
   ],
   "source": [
    "class MyClass():\n",
    "    def __init__(self):\n",
    "        self.x=100\n",
    "        self.y=200\n",
    "    \n",
    "MM1=MyClass()\n",
    "MM1.x=300\n",
    "MM2=MyClass()\n",
    "MM2.y=400\n",
    "#print(MM1.x,MM1.y)\n",
    "#print(MM2.x,MM2.y)\n",
    "print(MM1.__dict__)\n",
    "print(MM2.__dict__)"
   ]
  },
  {
   "cell_type": "code",
   "execution_count": 15,
   "id": "27c0b702",
   "metadata": {},
   "outputs": [
    {
     "name": "stdout",
     "output_type": "stream",
     "text": [
      "666 333\n",
      "666 2\n"
     ]
    }
   ],
   "source": [
    "class MyClass():\n",
    "#Static Variable\n",
    "    x=1\n",
    "    def __init__(self):\n",
    "        self.y=2\n",
    "    \n",
    "MM1=MyClass()\n",
    "MM1.y=333\n",
    "MyClass.x=666\n",
    "MM2=MyClass()\n",
    "print(MM1.x,MM1.y)\n",
    "print(MM2.x,MM2.y)"
   ]
  },
  {
   "cell_type": "code",
   "execution_count": 18,
   "id": "1419a027",
   "metadata": {},
   "outputs": [
    {
     "name": "stdout",
     "output_type": "stream",
     "text": [
      "666 333\n",
      "1 2\n"
     ]
    }
   ],
   "source": [
    "class MyClass():\n",
    "    x=1\n",
    "    def __init__(self):\n",
    "        self.y=2\n",
    "    \n",
    "MM1=MyClass()\n",
    "MM1.y=333\n",
    "MM1.x=666\n",
    "MM2=MyClass()\n",
    "print(MM1.x,MM1.y)\n",
    "print(MM2.x,MM2.y)"
   ]
  },
  {
   "cell_type": "code",
   "execution_count": 20,
   "id": "9baeebb3",
   "metadata": {},
   "outputs": [
    {
     "name": "stdout",
     "output_type": "stream",
     "text": [
      "{'__module__': '__main__', 'p': 1, '__init__': <function MyClass.__init__ at 0x0000000004D3AD30>, 'MyMethod': <function MyClass.MyMethod at 0x0000000004D3A310>, 'ClassMethod': <classmethod object at 0x0000000004E1E8B0>, 'StaticMethod': <staticmethod object at 0x0000000004E1E3A0>, '__dict__': <attribute '__dict__' of 'MyClass' objects>, '__weakref__': <attribute '__weakref__' of 'MyClass' objects>, '__doc__': None, 'q': 2, 'r': 3, 's': 4, 't': 5, 'u': 5, 'v': 6}\n"
     ]
    }
   ],
   "source": [
    "class MyClass():\n",
    "    #We can declare within the class directly\n",
    "    p=1\n",
    "    def __init__(self):\n",
    "        #Inside constructor by using class name\n",
    "        MyClass.q=2\n",
    "    \n",
    "    def MyMethod(self):\n",
    "        #Inside instance method by using class name\n",
    "        MyClass.r=3\n",
    "        \n",
    "    @classmethod\n",
    "    def ClassMethod(cls):\n",
    "        #Inside classmethod by using either class name or cls variable\n",
    "        MyClass.s=4\n",
    "        cls.t=5\n",
    "    @staticmethod\n",
    "    def StaticMethod():\n",
    "        #Inside static method by using class name\n",
    "        MyClass.u=5\n",
    "MM=MyClass()\n",
    "MM.MyMethod()\n",
    "MM.ClassMethod()\n",
    "MM.StaticMethod()\n",
    "#Outside of class using obj ref. or class name\n",
    "MyClass.v=6\n",
    "print(MyClass.__dict__)\n"
   ]
  },
  {
   "cell_type": "code",
   "execution_count": 21,
   "id": "48b88ed3",
   "metadata": {},
   "outputs": [
    {
     "name": "stdout",
     "output_type": "stream",
     "text": [
      "1\n",
      "2\n"
     ]
    }
   ],
   "source": [
    "class MyClass():\n",
    "    def MyMethodOne(self):\n",
    "        #Local Variable\n",
    "        x=1\n",
    "        print(x)\n",
    "    def MyMethodTwo(self):\n",
    "        #Local Variable\n",
    "        y=2\n",
    "        print(y)\n",
    "MM=MyClass()\n",
    "MM.MyMethodOne()\n",
    "MM.MyMethodTwo()"
   ]
  },
  {
   "cell_type": "code",
   "execution_count": 1,
   "id": "e1884238",
   "metadata": {},
   "outputs": [
    {
     "name": "stdout",
     "output_type": "stream",
     "text": [
      "1\n",
      "2\n"
     ]
    }
   ],
   "source": [
    "class MyClass():\n",
    "    def MyMethodOne(self):\n",
    "        #Local Variable\n",
    "        x=1\n",
    "        print(x)\n",
    "    def MyMethodTwo(self):\n",
    "        #Local Variable\n",
    "        y=2\n",
    "        print(y)\n",
    "        #print(x)\n",
    "MM=MyClass()\n",
    "MM.MyMethodOne()\n",
    "MM.MyMethodTwo()"
   ]
  },
  {
   "cell_type": "code",
   "execution_count": null,
   "id": "2cb29f92",
   "metadata": {},
   "outputs": [],
   "source": []
  }
 ],
 "metadata": {
  "kernelspec": {
   "display_name": "Python 3",
   "language": "python",
   "name": "python3"
  },
  "language_info": {
   "codemirror_mode": {
    "name": "ipython",
    "version": 3
   },
   "file_extension": ".py",
   "mimetype": "text/x-python",
   "name": "python",
   "nbconvert_exporter": "python",
   "pygments_lexer": "ipython3",
   "version": "3.8.8"
  }
 },
 "nbformat": 4,
 "nbformat_minor": 5
}
