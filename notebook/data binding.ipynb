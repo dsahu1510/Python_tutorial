{
 "cells": [
  {
   "cell_type": "code",
   "execution_count": 5,
   "id": "7b755ec4",
   "metadata": {},
   "outputs": [
    {
     "name": "stdout",
     "output_type": "stream",
     "text": [
      "Welcome to BuiltInAttrs\n",
      "__main__\n"
     ]
    }
   ],
   "source": [
    "class Built_Attr():\n",
    "    \"Welcome to BuiltInAttrs\"\n",
    "#print(Built_Attr.__dict__)\n",
    "#print(Built_Attr.__name__)\n",
    "#print(Built_Attr.__bases__)\n",
    "print(Built_Attr.__doc__)\n",
    "print(Built_Attr.__module__)"
   ]
  },
  {
   "cell_type": "code",
   "execution_count": 6,
   "id": "64f38afc",
   "metadata": {},
   "outputs": [
    {
     "name": "stdout",
     "output_type": "stream",
     "text": [
      "100\n",
      "100\n"
     ]
    }
   ],
   "source": [
    "class Employee():\n",
    "    empCount=100\n",
    "print(Employee.empCount)\n",
    "obj=Employee()\n",
    "print(obj.empCount)"
   ]
  },
  {
   "cell_type": "code",
   "execution_count": 3,
   "id": "c5e43b1b",
   "metadata": {},
   "outputs": [
    {
     "name": "stdout",
     "output_type": "stream",
     "text": [
      "I am Public\n",
      "I am Public  Can U add me PUBLIC\n"
     ]
    }
   ],
   "source": [
    "class Nit():\n",
    "    def __init__(self):\n",
    "        self.__pri=\"I am Private\"\n",
    "        self._pro=\"I am Protected\"\n",
    "        self.pub=\"I am Public\"\n",
    "ob=Nit()\n",
    "print(ob.pub )\n",
    "ob.pub= ob.pub + '  Can U add me PUBLIC'\n",
    "print(ob.pub) #Updaing and accessing Public attribute\n"
   ]
  },
  {
   "cell_type": "code",
   "execution_count": 4,
   "id": "2037976e",
   "metadata": {},
   "outputs": [
    {
     "name": "stdout",
     "output_type": "stream",
     "text": [
      "It is Public Access\n",
      "It is Public Access\n"
     ]
    }
   ],
   "source": [
    "class DataBinding():\n",
    "    def __init__(self):\n",
    "        self.x=\"It is Public Access\"\n",
    "        print(self.x)\n",
    "\n",
    "DD=DataBinding()\n",
    "print(DD.x)\n"
   ]
  },
  {
   "cell_type": "code",
   "execution_count": 5,
   "id": "79672380",
   "metadata": {},
   "outputs": [
    {
     "name": "stdout",
     "output_type": "stream",
     "text": [
      "It is Protected Access\n",
      "It is Protected Access\n"
     ]
    }
   ],
   "source": [
    "class DataBinding():\n",
    "    def __init__(self):\n",
    "        self._x=\"It is Protected Access\"\n",
    "        print(self._x)\n",
    "\n",
    "DD=DataBinding()\n",
    "print(DD._x)\n"
   ]
  },
  {
   "cell_type": "code",
   "execution_count": 6,
   "id": "0441a6f4",
   "metadata": {},
   "outputs": [
    {
     "name": "stdout",
     "output_type": "stream",
     "text": [
      "It is Private Access\n"
     ]
    },
    {
     "ename": "AttributeError",
     "evalue": "'DataBinding' object has no attribute '__x'",
     "output_type": "error",
     "traceback": [
      "\u001b[1;31m---------------------------------------------------------------------------\u001b[0m",
      "\u001b[1;31mAttributeError\u001b[0m                            Traceback (most recent call last)",
      "\u001b[1;32m<ipython-input-6-7d77959e50c6>\u001b[0m in \u001b[0;36m<module>\u001b[1;34m\u001b[0m\n\u001b[0;32m      5\u001b[0m \u001b[1;33m\u001b[0m\u001b[0m\n\u001b[0;32m      6\u001b[0m \u001b[0mDD\u001b[0m\u001b[1;33m=\u001b[0m\u001b[0mDataBinding\u001b[0m\u001b[1;33m(\u001b[0m\u001b[1;33m)\u001b[0m\u001b[1;33m\u001b[0m\u001b[1;33m\u001b[0m\u001b[0m\n\u001b[1;32m----> 7\u001b[1;33m \u001b[0mprint\u001b[0m\u001b[1;33m(\u001b[0m\u001b[0mDD\u001b[0m\u001b[1;33m.\u001b[0m\u001b[0m__x\u001b[0m\u001b[1;33m)\u001b[0m\u001b[1;33m\u001b[0m\u001b[1;33m\u001b[0m\u001b[0m\n\u001b[0m",
      "\u001b[1;31mAttributeError\u001b[0m: 'DataBinding' object has no attribute '__x'"
     ]
    }
   ],
   "source": [
    "class DataBinding():\n",
    "    def __init__(self):\n",
    "        self.__x=\"It is Private Access\"\n",
    "        print(self.__x)\n",
    "\n",
    "DD=DataBinding()\n",
    "print(DD.__x)"
   ]
  },
  {
   "cell_type": "code",
   "execution_count": 1,
   "id": "dd395f53",
   "metadata": {},
   "outputs": [
    {
     "name": "stdout",
     "output_type": "stream",
     "text": [
      "The Exp is: 15+\n",
      "The Exp is: 15+\n"
     ]
    }
   ],
   "source": [
    "class Person:\n",
    "    exp = \"15+\"\n",
    "    name = \"KSRaju\"\n",
    "person = Person()\n",
    "print('The Exp is:', getattr(person, \"exp\"))\n",
    "print('The Exp is:', person.exp)"
   ]
  },
  {
   "cell_type": "code",
   "execution_count": 10,
   "id": "bd9c7588",
   "metadata": {},
   "outputs": [
    {
     "name": "stdout",
     "output_type": "stream",
     "text": [
      "Innova\n",
      "Toyota\n",
      "Toyota\n",
      "2021\n"
     ]
    }
   ],
   "source": [
    "class Car():\n",
    "    brand='Toyota'\n",
    "    name='Innova'\n",
    "    model=2021\n",
    "obj= Car()\n",
    "print(getattr(obj,'name'))\n",
    "print(getattr(obj,'brand'))\n",
    "print(obj.brand)\n",
    "print(obj.model)\n"
   ]
  },
  {
   "cell_type": "code",
   "execution_count": 15,
   "id": "4e699010",
   "metadata": {},
   "outputs": [
    {
     "name": "stdout",
     "output_type": "stream",
     "text": [
      "The Gender is: female\n",
      "female\n"
     ]
    }
   ],
   "source": [
    "class Person:\n",
    "    exp = \"15+\"\n",
    "    name = \"KSRaju\"\n",
    "    gen = \"female\"\n",
    "person = Person()\n",
    "print('The Gender is:', getattr(person, \"gen\" ))\n",
    "print(person.gen)\n"
   ]
  },
  {
   "cell_type": "code",
   "execution_count": 16,
   "id": "032548c4",
   "metadata": {},
   "outputs": [
    {
     "name": "stdout",
     "output_type": "stream",
     "text": [
      "Before modification: KSRaju\n",
      "After modification: NareshIT\n"
     ]
    }
   ],
   "source": [
    "class Person:\n",
    "    name = 'KSRaju'\n",
    "p = Person()\n",
    "print('Before modification:', p.name)\n",
    "setattr(p, 'name', 'NareshIT')\n",
    "print('After modification:', p.name)"
   ]
  },
  {
   "cell_type": "code",
   "execution_count": 17,
   "id": "f62d7ee7",
   "metadata": {},
   "outputs": [
    {
     "name": "stdout",
     "output_type": "stream",
     "text": [
      "Name is: None\n",
      "Exp is: 15\n"
     ]
    }
   ],
   "source": [
    "class Person:\n",
    "    name = 'KSRaju'\n",
    "p = Person()\n",
    "setattr(p, 'name', None)\n",
    "print('Name is:', p.name)\n",
    "setattr(p, 'exp', 15)\n",
    "print('Exp is:', p.exp)"
   ]
  },
  {
   "cell_type": "code",
   "execution_count": 18,
   "id": "f6d16fa8",
   "metadata": {},
   "outputs": [
    {
     "name": "stdout",
     "output_type": "stream",
     "text": [
      "True\n",
      "False\n"
     ]
    }
   ],
   "source": [
    "class Person:\n",
    "    exp = 15\n",
    "    name = 'KSRaju'\n",
    "person = Person()\n",
    "print(hasattr(person, 'exp'))\n",
    "print(hasattr(person, 'salary'))\n",
    "\n"
   ]
  },
  {
   "cell_type": "code",
   "execution_count": 19,
   "id": "ef5e75e3",
   "metadata": {},
   "outputs": [
    {
     "ename": "AttributeError",
     "evalue": "exp",
     "output_type": "error",
     "traceback": [
      "\u001b[1;31m---------------------------------------------------------------------------\u001b[0m",
      "\u001b[1;31mAttributeError\u001b[0m                            Traceback (most recent call last)",
      "\u001b[1;32m<ipython-input-19-d1320a3be042>\u001b[0m in \u001b[0;36m<module>\u001b[1;34m\u001b[0m\n\u001b[0;32m      3\u001b[0m     \u001b[0mname\u001b[0m \u001b[1;33m=\u001b[0m \u001b[1;34m'KSRaju'\u001b[0m\u001b[1;33m\u001b[0m\u001b[1;33m\u001b[0m\u001b[0m\n\u001b[0;32m      4\u001b[0m \u001b[0mperson\u001b[0m \u001b[1;33m=\u001b[0m \u001b[0mPerson\u001b[0m\u001b[1;33m(\u001b[0m\u001b[1;33m)\u001b[0m\u001b[1;33m\u001b[0m\u001b[1;33m\u001b[0m\u001b[0m\n\u001b[1;32m----> 5\u001b[1;33m \u001b[0mprint\u001b[0m\u001b[1;33m(\u001b[0m\u001b[0mdelattr\u001b[0m\u001b[1;33m(\u001b[0m\u001b[0mperson\u001b[0m\u001b[1;33m,\u001b[0m \u001b[1;34m'exp'\u001b[0m\u001b[1;33m)\u001b[0m\u001b[1;33m)\u001b[0m\u001b[1;33m\u001b[0m\u001b[1;33m\u001b[0m\u001b[0m\n\u001b[0m",
      "\u001b[1;31mAttributeError\u001b[0m: exp"
     ]
    }
   ],
   "source": [
    "class Person:\n",
    "    exp = 15\n",
    "    name = 'KSRaju'\n",
    "person = Person()\n",
    "print(delattr(person, 'exp'))\n"
   ]
  },
  {
   "cell_type": "code",
   "execution_count": 20,
   "id": "7950f519",
   "metadata": {},
   "outputs": [
    {
     "name": "stdout",
     "output_type": "stream",
     "text": [
      "John\n",
      "23\n",
      "True\n"
     ]
    },
    {
     "ename": "AttributeError",
     "evalue": "'Student' object has no attribute 'age'",
     "output_type": "error",
     "traceback": [
      "\u001b[1;31m---------------------------------------------------------------------------\u001b[0m",
      "\u001b[1;31mAttributeError\u001b[0m                            Traceback (most recent call last)",
      "\u001b[1;32m<ipython-input-20-cff28ceffc0c>\u001b[0m in \u001b[0;36m<module>\u001b[1;34m\u001b[0m\n\u001b[0;32m     17\u001b[0m \u001b[0mdelattr\u001b[0m\u001b[1;33m(\u001b[0m\u001b[0ms\u001b[0m\u001b[1;33m,\u001b[0m \u001b[1;34m'age'\u001b[0m\u001b[1;33m)\u001b[0m\u001b[1;33m\u001b[0m\u001b[1;33m\u001b[0m\u001b[0m\n\u001b[0;32m     18\u001b[0m \u001b[1;31m# this will give an error since the attribute age has been deleted\u001b[0m\u001b[1;33m\u001b[0m\u001b[1;33m\u001b[0m\u001b[1;33m\u001b[0m\u001b[0m\n\u001b[1;32m---> 19\u001b[1;33m \u001b[0mprint\u001b[0m\u001b[1;33m(\u001b[0m\u001b[0ms\u001b[0m\u001b[1;33m.\u001b[0m\u001b[0mage\u001b[0m\u001b[1;33m)\u001b[0m\u001b[1;33m\u001b[0m\u001b[1;33m\u001b[0m\u001b[0m\n\u001b[0m",
      "\u001b[1;31mAttributeError\u001b[0m: 'Student' object has no attribute 'age'"
     ]
    }
   ],
   "source": [
    "class Student:\n",
    "    def __init__(self, name, id, age):\n",
    "        self.name = name  \n",
    "        self.id = id  \n",
    "        self.age = age  \n",
    "#Creates the object of the class Student  \n",
    "s = Student(\"John\", 101, 22)  \n",
    "# prints the attribute name of the object s  \n",
    "print(getattr(s, 'name'))  \n",
    "# reset the value of attribute age to 23  \n",
    "setattr(s, \"age\", 23)  \n",
    "# prints the modified value of age  \n",
    "print(getattr(s, 'age'))  \n",
    "# prints true if the student contains the attribute with name id  \n",
    "print(hasattr(s, 'id'))  \n",
    "# deletes the attribute age  \n",
    "delattr(s, 'age')  \n",
    "# this will give an error since the attribute age has been deleted  \n",
    "print(s.age)  \n"
   ]
  },
  {
   "cell_type": "code",
   "execution_count": 29,
   "id": "dedfbd34",
   "metadata": {},
   "outputs": [
    {
     "name": "stdout",
     "output_type": "stream",
     "text": [
      "Perimeter of Rectangle: 560 \n"
     ]
    }
   ],
   "source": [
    "class Rectangle:\n",
    "   def __init__(self, length, breadth):\n",
    "       self.length = length\n",
    "       self.breadth = breadth\n",
    "   \n",
    "   def get_perimeter(self):\n",
    "       return 2 * (self.length + self.breadth)\n",
    "   \n",
    "   def get_area(self):\n",
    "       return self.length * self.breadth\n",
    "   \n",
    "   def calculate_cost(self):\n",
    "       area = self.get_perimeter()\n",
    "       return perimeter * self.unit_cost\n",
    "r = Rectangle(160, 120)\n",
    "print(\"Perimeter of Rectangle: %s \" % (r.get_perimeter()))\n"
   ]
  },
  {
   "cell_type": "code",
   "execution_count": 40,
   "id": "72677fd9",
   "metadata": {},
   "outputs": [
    {
     "name": "stdout",
     "output_type": "stream",
     "text": [
      "started\n",
      "gear changed\n",
      "accelarating...\n",
      "stopped\n"
     ]
    }
   ],
   "source": [
    "\n",
    "\n",
    "class Car(object):\n",
    "   def __init__(self, model, color, company, speed_limit):\n",
    "       self.color = color\n",
    "       self.company = company\n",
    "       self.speed_limit = speed_limit\n",
    "       self.model = model\n",
    "\n",
    "   def start(self):\n",
    "       print(\"started\")\n",
    "\n",
    "   def stop(self):\n",
    "         print(\"stopped\")\n",
    "\n",
    "   def accelarate(self):\n",
    "       print(\"accelarating...\")\n",
    "\n",
    "   def change_gear(self, gear_type):\n",
    "       print(\"gear changed\")\n",
    "      \n",
    "maruthi_suzuki=Car(\"ertiga\", \"black\", \"suzuki\", 60)\n",
    "maruthi_suzuki.start()\n",
    "maruthi_suzuki.change_gear(0)\n",
    "maruthi_suzuki.accelarate()\n",
    "maruthi_suzuki.stop()"
   ]
  },
  {
   "cell_type": "code",
   "execution_count": 41,
   "id": "4fc0d05e",
   "metadata": {},
   "outputs": [
    {
     "name": "stdout",
     "output_type": "stream",
     "text": [
      "Student Name: Raju\n",
      "Student RollNumber: 100005\n",
      "Student College: NareshIT\n",
      "Student Name: DRaju\n",
      "Student RollNumber: 100006\n",
      "Student College: NareshIT\n"
     ]
    }
   ],
   "source": [
    "class student:\t\n",
    "  clg='NareshIT' #Class  Variable\n",
    "  def __init__(self,rollno,name):\n",
    "#Defining an Instance Variable\n",
    "    self.rollno=rollno\n",
    "    self.name=name\n",
    "\n",
    "  def display(self):\n",
    "    print(\"Student Name:\" ,self.name)\n",
    "    print(\"Student RollNumber:\" ,self.rollno)\n",
    "    print(\"Student College:\" ,self.clg)\n",
    "\n",
    "#Declaring an Instance of  Class\n",
    "student1=student('100005','Raju')\n",
    "student1.display()\n",
    "\n",
    "#Declaring an Instance of  Class\n",
    "student2=student('100006','DRaju')\n",
    "student2.display()   "
   ]
  },
  {
   "cell_type": "code",
   "execution_count": null,
   "id": "f32aee2a",
   "metadata": {},
   "outputs": [],
   "source": []
  }
 ],
 "metadata": {
  "kernelspec": {
   "display_name": "Python 3",
   "language": "python",
   "name": "python3"
  },
  "language_info": {
   "codemirror_mode": {
    "name": "ipython",
    "version": 3
   },
   "file_extension": ".py",
   "mimetype": "text/x-python",
   "name": "python",
   "nbconvert_exporter": "python",
   "pygments_lexer": "ipython3",
   "version": "3.8.8"
  }
 },
 "nbformat": 4,
 "nbformat_minor": 5
}
