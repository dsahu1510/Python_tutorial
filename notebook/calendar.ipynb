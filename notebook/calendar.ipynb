{
 "cells": [
  {
   "cell_type": "code",
   "execution_count": 1,
   "id": "8c8e3cb0",
   "metadata": {},
   "outputs": [
    {
     "name": "stdout",
     "output_type": "stream",
     "text": [
      "3\n",
      "4\n",
      "5\n",
      "6\n",
      "0\n",
      "1\n",
      "2\n"
     ]
    }
   ],
   "source": [
    "import calendar  \n",
    "cal= calendar.Calendar(firstweekday=3)  \n",
    "for x in cal.iterweekdays():  \n",
    "    print(x) \n"
   ]
  },
  {
   "cell_type": "code",
   "execution_count": 4,
   "id": "7c1e2d84",
   "metadata": {},
   "outputs": [
    {
     "name": "stdout",
     "output_type": "stream",
     "text": [
      "0\n",
      "0\n",
      "1\n",
      "2\n",
      "3\n",
      "4\n",
      "5\n",
      "6\n",
      "7\n",
      "8\n",
      "9\n",
      "10\n",
      "11\n",
      "12\n",
      "13\n",
      "14\n",
      "15\n",
      "16\n",
      "17\n",
      "18\n",
      "19\n",
      "20\n",
      "21\n",
      "22\n",
      "23\n",
      "24\n",
      "25\n",
      "26\n",
      "27\n",
      "28\n",
      "29\n",
      "30\n",
      "0\n",
      "0\n",
      "0\n"
     ]
    }
   ],
   "source": [
    "import calendar  \n",
    "cal= calendar.Calendar()  \n",
    "for x in cal.itermonthdays(2021, 9):  \n",
    "  print(x)"
   ]
  },
  {
   "cell_type": "code",
   "execution_count": 15,
   "id": "3551ffb0",
   "metadata": {},
   "outputs": [
    {
     "name": "stdout",
     "output_type": "stream",
     "text": [
      "(2021, 8, 30, 0)\n",
      "(2021, 8, 31, 1)\n",
      "(2021, 9, 1, 2)\n",
      "(2021, 9, 2, 3)\n",
      "(2021, 9, 3, 4)\n",
      "(2021, 9, 4, 5)\n",
      "(2021, 9, 5, 6)\n",
      "(2021, 9, 6, 0)\n",
      "(2021, 9, 7, 1)\n",
      "(2021, 9, 8, 2)\n",
      "(2021, 9, 9, 3)\n",
      "(2021, 9, 10, 4)\n",
      "(2021, 9, 11, 5)\n",
      "(2021, 9, 12, 6)\n",
      "(2021, 9, 13, 0)\n",
      "(2021, 9, 14, 1)\n",
      "(2021, 9, 15, 2)\n",
      "(2021, 9, 16, 3)\n",
      "(2021, 9, 17, 4)\n",
      "(2021, 9, 18, 5)\n",
      "(2021, 9, 19, 6)\n",
      "(2021, 9, 20, 0)\n",
      "(2021, 9, 21, 1)\n",
      "(2021, 9, 22, 2)\n",
      "(2021, 9, 23, 3)\n",
      "(2021, 9, 24, 4)\n",
      "(2021, 9, 25, 5)\n",
      "(2021, 9, 26, 6)\n",
      "(2021, 9, 27, 0)\n",
      "(2021, 9, 28, 1)\n",
      "(2021, 9, 29, 2)\n",
      "(2021, 9, 30, 3)\n",
      "(2021, 10, 1, 4)\n",
      "(2021, 10, 2, 5)\n",
      "(2021, 10, 3, 6)\n"
     ]
    }
   ],
   "source": [
    "import calendar\n",
    "cal=calendar.Calendar(firstweekday=0)\n",
    "for x in cal.itermonthdays4(2021,9):\n",
    "    print(x)\n"
   ]
  },
  {
   "cell_type": "code",
   "execution_count": 17,
   "id": "c3f59321",
   "metadata": {},
   "outputs": [
    {
     "name": "stdout",
     "output_type": "stream",
     "text": [
      "2021-08-30\n",
      "2021-08-31\n",
      "2021-09-01\n",
      "2021-09-02\n",
      "2021-09-03\n",
      "2021-09-04\n",
      "2021-09-05\n",
      "2021-09-06\n",
      "2021-09-07\n",
      "2021-09-08\n",
      "2021-09-09\n",
      "2021-09-10\n",
      "2021-09-11\n",
      "2021-09-12\n",
      "2021-09-13\n",
      "2021-09-14\n",
      "2021-09-15\n",
      "2021-09-16\n",
      "2021-09-17\n",
      "2021-09-18\n",
      "2021-09-19\n",
      "2021-09-20\n",
      "2021-09-21\n",
      "2021-09-22\n",
      "2021-09-23\n",
      "2021-09-24\n",
      "2021-09-25\n",
      "2021-09-26\n",
      "2021-09-27\n",
      "2021-09-28\n",
      "2021-09-29\n",
      "2021-09-30\n",
      "2021-10-01\n",
      "2021-10-02\n",
      "2021-10-03\n"
     ]
    }
   ],
   "source": [
    "import calendar\n",
    "cal=calendar.Calendar(firstweekday=0)\n",
    "for x in cal.itermonthdates(2021,9):\n",
    "    print(x)"
   ]
  },
  {
   "cell_type": "code",
   "execution_count": 19,
   "id": "54ea0bef",
   "metadata": {},
   "outputs": [
    {
     "name": "stdout",
     "output_type": "stream",
     "text": [
      "[[datetime.date(2021, 8, 30), datetime.date(2021, 8, 31), datetime.date(2021, 9, 1), datetime.date(2021, 9, 2), datetime.date(2021, 9, 3), datetime.date(2021, 9, 4), datetime.date(2021, 9, 5)], [datetime.date(2021, 9, 6), datetime.date(2021, 9, 7), datetime.date(2021, 9, 8), datetime.date(2021, 9, 9), datetime.date(2021, 9, 10), datetime.date(2021, 9, 11), datetime.date(2021, 9, 12)], [datetime.date(2021, 9, 13), datetime.date(2021, 9, 14), datetime.date(2021, 9, 15), datetime.date(2021, 9, 16), datetime.date(2021, 9, 17), datetime.date(2021, 9, 18), datetime.date(2021, 9, 19)], [datetime.date(2021, 9, 20), datetime.date(2021, 9, 21), datetime.date(2021, 9, 22), datetime.date(2021, 9, 23), datetime.date(2021, 9, 24), datetime.date(2021, 9, 25), datetime.date(2021, 9, 26)], [datetime.date(2021, 9, 27), datetime.date(2021, 9, 28), datetime.date(2021, 9, 29), datetime.date(2021, 9, 30), datetime.date(2021, 10, 1), datetime.date(2021, 10, 2), datetime.date(2021, 10, 3)]]\n"
     ]
    }
   ],
   "source": [
    "\n",
    "import calendar  \n",
    "cal= calendar.Calendar()  \n",
    "print(cal.monthdatescalendar(2021, 9))  \n"
   ]
  },
  {
   "cell_type": "code",
   "execution_count": 20,
   "id": "e673e824",
   "metadata": {},
   "outputs": [
    {
     "name": "stdout",
     "output_type": "stream",
     "text": [
      "                                                                                                                      2020\n",
      "\n",
      "                                  January                                                                           February                                                                           March\n",
      "  Monday    Tuesday   Wednesday   Thursday    Friday    Saturday    Sunday          Monday    Tuesday   Wednesday   Thursday    Friday    Saturday    Sunday          Monday    Tuesday   Wednesday   Thursday    Friday    Saturday    Sunday\n",
      "                           1          2          3          4          5                                                                      1          2                                                                                 1\n",
      "     6          7          8          9         10         11         12               3          4          5          6          7          8          9               2          3          4          5          6          7          8\n",
      "    13         14         15         16         17         18         19              10         11         12         13         14         15         16               9         10         11         12         13         14         15\n",
      "    20         21         22         23         24         25         26              17         18         19         20         21         22         23              16         17         18         19         20         21         22\n",
      "    27         28         29         30         31                                    24         25         26         27         28         29                         23         24         25         26         27         28         29\n",
      "                                                                                                                                                                        30         31\n",
      "\n",
      "                                   April                                                                              May                                                                               June\n",
      "  Monday    Tuesday   Wednesday   Thursday    Friday    Saturday    Sunday          Monday    Tuesday   Wednesday   Thursday    Friday    Saturday    Sunday          Monday    Tuesday   Wednesday   Thursday    Friday    Saturday    Sunday\n",
      "                           1          2          3          4          5                                                           1          2          3               1          2          3          4          5          6          7\n",
      "     6          7          8          9         10         11         12               4          5          6          7          8          9         10               8          9         10         11         12         13         14\n",
      "    13         14         15         16         17         18         19              11         12         13         14         15         16         17              15         16         17         18         19         20         21\n",
      "    20         21         22         23         24         25         26              18         19         20         21         22         23         24              22         23         24         25         26         27         28\n",
      "    27         28         29         30                                               25         26         27         28         29         30         31              29         30\n",
      "\n",
      "                                    July                                                                             August                                                                          September\n",
      "  Monday    Tuesday   Wednesday   Thursday    Friday    Saturday    Sunday          Monday    Tuesday   Wednesday   Thursday    Friday    Saturday    Sunday          Monday    Tuesday   Wednesday   Thursday    Friday    Saturday    Sunday\n",
      "                           1          2          3          4          5                                                                      1          2                          1          2          3          4          5          6\n",
      "     6          7          8          9         10         11         12               3          4          5          6          7          8          9               7          8          9         10         11         12         13\n",
      "    13         14         15         16         17         18         19              10         11         12         13         14         15         16              14         15         16         17         18         19         20\n",
      "    20         21         22         23         24         25         26              17         18         19         20         21         22         23              21         22         23         24         25         26         27\n",
      "    27         28         29         30         31                                    24         25         26         27         28         29         30              28         29         30\n",
      "                                                                                      31\n",
      "\n",
      "                                  October                                                                           November                                                                          December\n",
      "  Monday    Tuesday   Wednesday   Thursday    Friday    Saturday    Sunday          Monday    Tuesday   Wednesday   Thursday    Friday    Saturday    Sunday          Monday    Tuesday   Wednesday   Thursday    Friday    Saturday    Sunday\n",
      "                                      1          2          3          4                                                                                 1                          1          2          3          4          5          6\n",
      "     5          6          7          8          9         10         11               2          3          4          5          6          7          8               7          8          9         10         11         12         13\n",
      "    12         13         14         15         16         17         18               9         10         11         12         13         14         15              14         15         16         17         18         19         20\n",
      "    19         20         21         22         23         24         25              16         17         18         19         20         21         22              21         22         23         24         25         26         27\n",
      "    26         27         28         29         30         31                         23         24         25         26         27         28         29              28         29         30         31\n",
      "                                                                                      30\n",
      "\n"
     ]
    }
   ],
   "source": [
    "import calendar\n",
    "cal=calendar.TextCalendar(firstweekday=0)\n",
    "print(cal.formatyear(2020,10))"
   ]
  },
  {
   "cell_type": "code",
   "execution_count": 23,
   "id": "ea1b6021",
   "metadata": {},
   "outputs": [
    {
     "name": "stdout",
     "output_type": "stream",
     "text": [
      "                                            2021\n",
      "\n",
      "                 January                                            February\n",
      " Mon   Tue   Wed   Thu   Fri   Sat   Sun            Mon   Tue   Wed   Thu   Fri   Sat   Sun\n",
      "                           1     2     3              1     2     3     4     5     6     7\n",
      "   4     5     6     7     8     9    10              8     9    10    11    12    13    14\n",
      "  11    12    13    14    15    16    17             15    16    17    18    19    20    21\n",
      "  18    19    20    21    22    23    24             22    23    24    25    26    27    28\n",
      "  25    26    27    28    29    30    31\n",
      "\n",
      "                  March                                              April\n",
      " Mon   Tue   Wed   Thu   Fri   Sat   Sun            Mon   Tue   Wed   Thu   Fri   Sat   Sun\n",
      "   1     2     3     4     5     6     7                                1     2     3     4\n",
      "   8     9    10    11    12    13    14              5     6     7     8     9    10    11\n",
      "  15    16    17    18    19    20    21             12    13    14    15    16    17    18\n",
      "  22    23    24    25    26    27    28             19    20    21    22    23    24    25\n",
      "  29    30    31                                     26    27    28    29    30\n",
      "\n",
      "                   May                                                June\n",
      " Mon   Tue   Wed   Thu   Fri   Sat   Sun            Mon   Tue   Wed   Thu   Fri   Sat   Sun\n",
      "                                 1     2                    1     2     3     4     5     6\n",
      "   3     4     5     6     7     8     9              7     8     9    10    11    12    13\n",
      "  10    11    12    13    14    15    16             14    15    16    17    18    19    20\n",
      "  17    18    19    20    21    22    23             21    22    23    24    25    26    27\n",
      "  24    25    26    27    28    29    30             28    29    30\n",
      "  31\n",
      "\n",
      "                   July                                              August\n",
      " Mon   Tue   Wed   Thu   Fri   Sat   Sun            Mon   Tue   Wed   Thu   Fri   Sat   Sun\n",
      "                     1     2     3     4                                                  1\n",
      "   5     6     7     8     9    10    11              2     3     4     5     6     7     8\n",
      "  12    13    14    15    16    17    18              9    10    11    12    13    14    15\n",
      "  19    20    21    22    23    24    25             16    17    18    19    20    21    22\n",
      "  26    27    28    29    30    31                   23    24    25    26    27    28    29\n",
      "                                                     30    31\n",
      "\n",
      "                September                                           October\n",
      " Mon   Tue   Wed   Thu   Fri   Sat   Sun            Mon   Tue   Wed   Thu   Fri   Sat   Sun\n",
      "               1     2     3     4     5                                      1     2     3\n",
      "   6     7     8     9    10    11    12              4     5     6     7     8     9    10\n",
      "  13    14    15    16    17    18    19             11    12    13    14    15    16    17\n",
      "  20    21    22    23    24    25    26             18    19    20    21    22    23    24\n",
      "  27    28    29    30                               25    26    27    28    29    30    31\n",
      "\n",
      "                 November                                           December\n",
      " Mon   Tue   Wed   Thu   Fri   Sat   Sun            Mon   Tue   Wed   Thu   Fri   Sat   Sun\n",
      "   1     2     3     4     5     6     7                          1     2     3     4     5\n",
      "   8     9    10    11    12    13    14              6     7     8     9    10    11    12\n",
      "  15    16    17    18    19    20    21             13    14    15    16    17    18    19\n",
      "  22    23    24    25    26    27    28             20    21    22    23    24    25    26\n",
      "  29    30                                           27    28    29    30    31\n",
      "\n"
     ]
    }
   ],
   "source": [
    "import calendar\n",
    "cal=calendar.TextCalendar(firstweekday=0)\n",
    "print(cal.formatyear(2021,5,1,10,2))\n"
   ]
  },
  {
   "cell_type": "code",
   "execution_count": 24,
   "id": "7754e001",
   "metadata": {},
   "outputs": [
    {
     "name": "stdout",
     "output_type": "stream",
     "text": [
      "<table border=\"0\" cellpadding=\"0\" cellspacing=\"0\" class=\"month\">\n",
      "<tr><th colspan=\"7\" class=\"month\">February 2020</th></tr>\n",
      "<tr><th class=\"mon\">Mon</th><th class=\"tue\">Tue</th><th class=\"wed\">Wed</th><th class=\"thu\">Thu</th><th class=\"fri\">Fri</th><th class=\"sat\">Sat</th><th class=\"sun\">Sun</th></tr>\n",
      "<tr><td class=\"noday\">&nbsp;</td><td class=\"noday\">&nbsp;</td><td class=\"noday\">&nbsp;</td><td class=\"noday\">&nbsp;</td><td class=\"noday\">&nbsp;</td><td class=\"sat\">1</td><td class=\"sun\">2</td></tr>\n",
      "<tr><td class=\"mon\">3</td><td class=\"tue\">4</td><td class=\"wed\">5</td><td class=\"thu\">6</td><td class=\"fri\">7</td><td class=\"sat\">8</td><td class=\"sun\">9</td></tr>\n",
      "<tr><td class=\"mon\">10</td><td class=\"tue\">11</td><td class=\"wed\">12</td><td class=\"thu\">13</td><td class=\"fri\">14</td><td class=\"sat\">15</td><td class=\"sun\">16</td></tr>\n",
      "<tr><td class=\"mon\">17</td><td class=\"tue\">18</td><td class=\"wed\">19</td><td class=\"thu\">20</td><td class=\"fri\">21</td><td class=\"sat\">22</td><td class=\"sun\">23</td></tr>\n",
      "<tr><td class=\"mon\">24</td><td class=\"tue\">25</td><td class=\"wed\">26</td><td class=\"thu\">27</td><td class=\"fri\">28</td><td class=\"sat\">29</td><td class=\"noday\">&nbsp;</td></tr>\n",
      "</table>\n",
      "\n"
     ]
    }
   ],
   "source": [
    "import calendar\n",
    "cal=calendar.HTMLCalendar(firstweekday=0)\n",
    "print(cal.formatmonth(2020,2))\n",
    "\n"
   ]
  },
  {
   "cell_type": "code",
   "execution_count": 25,
   "id": "e2479107",
   "metadata": {},
   "outputs": [
    {
     "name": "stdout",
     "output_type": "stream",
     "text": [
      "Mon Tue Wed Thu Fri Sat Sun\n"
     ]
    }
   ],
   "source": [
    "import calendar  \n",
    "print(calendar.weekheader(3)) \n"
   ]
  },
  {
   "cell_type": "code",
   "execution_count": 26,
   "id": "5241bd75",
   "metadata": {},
   "outputs": [
    {
     "name": "stdout",
     "output_type": "stream",
     "text": [
      "Enter Any Year: 2021\n",
      "                                  2021\n",
      "\n",
      "      January                   February                   March\n",
      "Mo Tu We Th Fr Sa Su      Mo Tu We Th Fr Sa Su      Mo Tu We Th Fr Sa Su\n",
      "             1  2  3       1  2  3  4  5  6  7       1  2  3  4  5  6  7\n",
      " 4  5  6  7  8  9 10       8  9 10 11 12 13 14       8  9 10 11 12 13 14\n",
      "11 12 13 14 15 16 17      15 16 17 18 19 20 21      15 16 17 18 19 20 21\n",
      "18 19 20 21 22 23 24      22 23 24 25 26 27 28      22 23 24 25 26 27 28\n",
      "25 26 27 28 29 30 31                                29 30 31\n",
      "\n",
      "       April                      May                       June\n",
      "Mo Tu We Th Fr Sa Su      Mo Tu We Th Fr Sa Su      Mo Tu We Th Fr Sa Su\n",
      "          1  2  3  4                      1  2          1  2  3  4  5  6\n",
      " 5  6  7  8  9 10 11       3  4  5  6  7  8  9       7  8  9 10 11 12 13\n",
      "12 13 14 15 16 17 18      10 11 12 13 14 15 16      14 15 16 17 18 19 20\n",
      "19 20 21 22 23 24 25      17 18 19 20 21 22 23      21 22 23 24 25 26 27\n",
      "26 27 28 29 30            24 25 26 27 28 29 30      28 29 30\n",
      "                          31\n",
      "\n",
      "        July                     August                  September\n",
      "Mo Tu We Th Fr Sa Su      Mo Tu We Th Fr Sa Su      Mo Tu We Th Fr Sa Su\n",
      "          1  2  3  4                         1             1  2  3  4  5\n",
      " 5  6  7  8  9 10 11       2  3  4  5  6  7  8       6  7  8  9 10 11 12\n",
      "12 13 14 15 16 17 18       9 10 11 12 13 14 15      13 14 15 16 17 18 19\n",
      "19 20 21 22 23 24 25      16 17 18 19 20 21 22      20 21 22 23 24 25 26\n",
      "26 27 28 29 30 31         23 24 25 26 27 28 29      27 28 29 30\n",
      "                          30 31\n",
      "\n",
      "      October                   November                  December\n",
      "Mo Tu We Th Fr Sa Su      Mo Tu We Th Fr Sa Su      Mo Tu We Th Fr Sa Su\n",
      "             1  2  3       1  2  3  4  5  6  7             1  2  3  4  5\n",
      " 4  5  6  7  8  9 10       8  9 10 11 12 13 14       6  7  8  9 10 11 12\n",
      "11 12 13 14 15 16 17      15 16 17 18 19 20 21      13 14 15 16 17 18 19\n",
      "18 19 20 21 22 23 24      22 23 24 25 26 27 28      20 21 22 23 24 25 26\n",
      "25 26 27 28 29 30 31      29 30                     27 28 29 30 31\n",
      "\n"
     ]
    }
   ],
   "source": [
    "import calendar\n",
    "Year=int(input(\"Enter Any Year: \"))\n",
    "Data=calendar.calendar(Year)\n",
    "print(Data)"
   ]
  },
  {
   "cell_type": "code",
   "execution_count": 35,
   "id": "b63e2fc5",
   "metadata": {},
   "outputs": [
    {
     "name": "stdout",
     "output_type": "stream",
     "text": [
      "enter the year:2021\n",
      "enter a month:10\n",
      "    January 2021\n",
      "Mo Tu We Th Fr Sa Su\n",
      "             1  2  3\n",
      " 4  5  6  7  8  9 10\n",
      "11 12 13 14 15 16 17\n",
      "18 19 20 21 22 23 24\n",
      "25 26 27 28 29 30 31\n",
      "\n"
     ]
    }
   ],
   "source": [
    "import calendar\n",
    "year=int(input(\"enter the year:\"))\n",
    "month=int(input(\"enter a month:\"))\n",
    "\n",
    "print(calendar.month(Year,Month))\n"
   ]
  },
  {
   "cell_type": "code",
   "execution_count": 29,
   "id": "31686a2e",
   "metadata": {},
   "outputs": [
    {
     "name": "stdout",
     "output_type": "stream",
     "text": [
      "                                  2017\n",
      "\n",
      "      January                   February                   March\n",
      "Mo Tu We Th Fr Sa Su      Mo Tu We Th Fr Sa Su      Mo Tu We Th Fr Sa Su\n",
      "                   1             1  2  3  4  5             1  2  3  4  5\n",
      " 2  3  4  5  6  7  8       6  7  8  9 10 11 12       6  7  8  9 10 11 12\n",
      " 9 10 11 12 13 14 15      13 14 15 16 17 18 19      13 14 15 16 17 18 19\n",
      "16 17 18 19 20 21 22      20 21 22 23 24 25 26      20 21 22 23 24 25 26\n",
      "23 24 25 26 27 28 29      27 28                     27 28 29 30 31\n",
      "30 31\n",
      "\n",
      "       April                      May                       June\n",
      "Mo Tu We Th Fr Sa Su      Mo Tu We Th Fr Sa Su      Mo Tu We Th Fr Sa Su\n",
      "                1  2       1  2  3  4  5  6  7                1  2  3  4\n",
      " 3  4  5  6  7  8  9       8  9 10 11 12 13 14       5  6  7  8  9 10 11\n",
      "10 11 12 13 14 15 16      15 16 17 18 19 20 21      12 13 14 15 16 17 18\n",
      "17 18 19 20 21 22 23      22 23 24 25 26 27 28      19 20 21 22 23 24 25\n",
      "24 25 26 27 28 29 30      29 30 31                  26 27 28 29 30\n",
      "\n",
      "        July                     August                  September\n",
      "Mo Tu We Th Fr Sa Su      Mo Tu We Th Fr Sa Su      Mo Tu We Th Fr Sa Su\n",
      "                1  2          1  2  3  4  5  6                   1  2  3\n",
      " 3  4  5  6  7  8  9       7  8  9 10 11 12 13       4  5  6  7  8  9 10\n",
      "10 11 12 13 14 15 16      14 15 16 17 18 19 20      11 12 13 14 15 16 17\n",
      "17 18 19 20 21 22 23      21 22 23 24 25 26 27      18 19 20 21 22 23 24\n",
      "24 25 26 27 28 29 30      28 29 30 31               25 26 27 28 29 30\n",
      "31\n",
      "\n",
      "      October                   November                  December\n",
      "Mo Tu We Th Fr Sa Su      Mo Tu We Th Fr Sa Su      Mo Tu We Th Fr Sa Su\n",
      "                   1             1  2  3  4  5                   1  2  3\n",
      " 2  3  4  5  6  7  8       6  7  8  9 10 11 12       4  5  6  7  8  9 10\n",
      " 9 10 11 12 13 14 15      13 14 15 16 17 18 19      11 12 13 14 15 16 17\n",
      "16 17 18 19 20 21 22      20 21 22 23 24 25 26      18 19 20 21 22 23 24\n",
      "23 24 25 26 27 28 29      27 28 29 30               25 26 27 28 29 30 31\n",
      "30 31\n",
      "\n"
     ]
    }
   ],
   "source": [
    "import calendar  \n",
    "print(calendar.calendar(2017))  \n"
   ]
  },
  {
   "cell_type": "code",
   "execution_count": 30,
   "id": "9652a335",
   "metadata": {},
   "outputs": [
    {
     "name": "stdout",
     "output_type": "stream",
     "text": [
      "      May 2017\n",
      "Mo Tu We Th Fr Sa Su\n",
      " 1  2  3  4  5  6  7\n",
      " 8  9 10 11 12 13 14\n",
      "15 16 17 18 19 20 21\n",
      "22 23 24 25 26 27 28\n",
      "29 30 31\n",
      "\n"
     ]
    }
   ],
   "source": [
    "import calendar  \n",
    "print(calendar.month(2017,5))  \n"
   ]
  },
  {
   "cell_type": "code",
   "execution_count": 32,
   "id": "929b9918",
   "metadata": {},
   "outputs": [
    {
     "name": "stdout",
     "output_type": "stream",
     "text": [
      "Options: \n",
      "Enter 'Yes' to Display Calendar: \n",
      "Enter Quit to End Program: \n",
      ":yes\n",
      "Options: \n",
      "Enter 'Yes' to Display Calendar: \n",
      "Enter Quit to End Program: \n",
      ":Yes\n",
      "Enter Year: 2021\n",
      "Enter Month: 10\n",
      "    October 2021\n",
      "Mo Tu We Th Fr Sa Su\n",
      "             1  2  3\n",
      " 4  5  6  7  8  9 10\n",
      "11 12 13 14 15 16 17\n",
      "18 19 20 21 22 23 24\n",
      "25 26 27 28 29 30 31\n",
      "\n",
      "Options: \n",
      "Enter 'Yes' to Display Calendar: \n",
      "Enter Quit to End Program: \n"
     ]
    },
    {
     "ename": "KeyboardInterrupt",
     "evalue": "Interrupted by user",
     "output_type": "error",
     "traceback": [
      "\u001b[1;31m---------------------------------------------------------------------------\u001b[0m",
      "\u001b[1;31mKeyboardInterrupt\u001b[0m                         Traceback (most recent call last)",
      "\u001b[1;32m<ipython-input-32-dad9f9db773b>\u001b[0m in \u001b[0;36m<module>\u001b[1;34m\u001b[0m\n\u001b[0;32m      3\u001b[0m     \u001b[0mprint\u001b[0m\u001b[1;33m(\u001b[0m\u001b[1;34m\"Enter 'Yes' to Display Calendar: \"\u001b[0m\u001b[1;33m)\u001b[0m\u001b[1;33m\u001b[0m\u001b[1;33m\u001b[0m\u001b[0m\n\u001b[0;32m      4\u001b[0m     \u001b[0mprint\u001b[0m\u001b[1;33m(\u001b[0m\u001b[1;34m\"Enter Quit to End Program: \"\u001b[0m\u001b[1;33m)\u001b[0m\u001b[1;33m\u001b[0m\u001b[1;33m\u001b[0m\u001b[0m\n\u001b[1;32m----> 5\u001b[1;33m     \u001b[0muser_input\u001b[0m\u001b[1;33m=\u001b[0m\u001b[0minput\u001b[0m\u001b[1;33m(\u001b[0m\u001b[1;34m\":\"\u001b[0m\u001b[1;33m)\u001b[0m\u001b[1;33m\u001b[0m\u001b[1;33m\u001b[0m\u001b[0m\n\u001b[0m\u001b[0;32m      6\u001b[0m     \u001b[1;32mif\u001b[0m \u001b[0muser_input\u001b[0m\u001b[1;33m==\u001b[0m\u001b[1;34m\"Quit\"\u001b[0m\u001b[1;33m:\u001b[0m\u001b[1;33m\u001b[0m\u001b[1;33m\u001b[0m\u001b[0m\n\u001b[0;32m      7\u001b[0m         \u001b[1;32mbreak\u001b[0m\u001b[1;33m\u001b[0m\u001b[1;33m\u001b[0m\u001b[0m\n",
      "\u001b[1;32mD:\\New folder\\anaconda\\lib\\site-packages\\ipykernel\\kernelbase.py\u001b[0m in \u001b[0;36mraw_input\u001b[1;34m(self, prompt)\u001b[0m\n\u001b[0;32m    858\u001b[0m                 \u001b[1;34m\"raw_input was called, but this frontend does not support input requests.\"\u001b[0m\u001b[1;33m\u001b[0m\u001b[1;33m\u001b[0m\u001b[0m\n\u001b[0;32m    859\u001b[0m             )\n\u001b[1;32m--> 860\u001b[1;33m         return self._input_request(str(prompt),\n\u001b[0m\u001b[0;32m    861\u001b[0m             \u001b[0mself\u001b[0m\u001b[1;33m.\u001b[0m\u001b[0m_parent_ident\u001b[0m\u001b[1;33m,\u001b[0m\u001b[1;33m\u001b[0m\u001b[1;33m\u001b[0m\u001b[0m\n\u001b[0;32m    862\u001b[0m             \u001b[0mself\u001b[0m\u001b[1;33m.\u001b[0m\u001b[0m_parent_header\u001b[0m\u001b[1;33m,\u001b[0m\u001b[1;33m\u001b[0m\u001b[1;33m\u001b[0m\u001b[0m\n",
      "\u001b[1;32mD:\\New folder\\anaconda\\lib\\site-packages\\ipykernel\\kernelbase.py\u001b[0m in \u001b[0;36m_input_request\u001b[1;34m(self, prompt, ident, parent, password)\u001b[0m\n\u001b[0;32m    902\u001b[0m             \u001b[1;32mexcept\u001b[0m \u001b[0mKeyboardInterrupt\u001b[0m\u001b[1;33m:\u001b[0m\u001b[1;33m\u001b[0m\u001b[1;33m\u001b[0m\u001b[0m\n\u001b[0;32m    903\u001b[0m                 \u001b[1;31m# re-raise KeyboardInterrupt, to truncate traceback\u001b[0m\u001b[1;33m\u001b[0m\u001b[1;33m\u001b[0m\u001b[1;33m\u001b[0m\u001b[0m\n\u001b[1;32m--> 904\u001b[1;33m                 \u001b[1;32mraise\u001b[0m \u001b[0mKeyboardInterrupt\u001b[0m\u001b[1;33m(\u001b[0m\u001b[1;34m\"Interrupted by user\"\u001b[0m\u001b[1;33m)\u001b[0m \u001b[1;32mfrom\u001b[0m \u001b[1;32mNone\u001b[0m\u001b[1;33m\u001b[0m\u001b[1;33m\u001b[0m\u001b[0m\n\u001b[0m\u001b[0;32m    905\u001b[0m             \u001b[1;32mexcept\u001b[0m \u001b[0mException\u001b[0m \u001b[1;32mas\u001b[0m \u001b[0me\u001b[0m\u001b[1;33m:\u001b[0m\u001b[1;33m\u001b[0m\u001b[1;33m\u001b[0m\u001b[0m\n\u001b[0;32m    906\u001b[0m                 \u001b[0mself\u001b[0m\u001b[1;33m.\u001b[0m\u001b[0mlog\u001b[0m\u001b[1;33m.\u001b[0m\u001b[0mwarning\u001b[0m\u001b[1;33m(\u001b[0m\u001b[1;34m\"Invalid Message:\"\u001b[0m\u001b[1;33m,\u001b[0m \u001b[0mexc_info\u001b[0m\u001b[1;33m=\u001b[0m\u001b[1;32mTrue\u001b[0m\u001b[1;33m)\u001b[0m\u001b[1;33m\u001b[0m\u001b[1;33m\u001b[0m\u001b[0m\n",
      "\u001b[1;31mKeyboardInterrupt\u001b[0m: Interrupted by user"
     ]
    }
   ],
   "source": [
    "while True:\n",
    "    print(\"Options: \")\n",
    "    print(\"Enter 'Yes' to Display Calendar: \")\n",
    "    print(\"Enter Quit to End Program: \")\n",
    "    user_input=input(\":\")\n",
    "    if user_input==\"Quit\":\n",
    "        break\n",
    "    elif user_input==\"Yes\":\n",
    "        import calendar\n",
    "        Y=int(input(\"Enter Year: \"))\n",
    "        M=int(input(\"Enter Month: \"))\n",
    "        print(calendar.month(Y,M))  "
   ]
  },
  {
   "cell_type": "code",
   "execution_count": 1,
   "id": "20b43f93",
   "metadata": {},
   "outputs": [
    {
     "name": "stdout",
     "output_type": "stream",
     "text": [
      "1\n",
      "1\n",
      "5\n",
      "6\n"
     ]
    }
   ],
   "source": [
    "import calendar  \n",
    "print(calendar.leapdays(2015, 2018))\n",
    "print(calendar.leapdays(2015, 2020))\n",
    "print(calendar.leapdays(2000, 2020))\n",
    "print(calendar.leapdays(2000, 2024))\n"
   ]
  },
  {
   "cell_type": "code",
   "execution_count": 4,
   "id": "53ca2e58",
   "metadata": {},
   "outputs": [
    {
     "name": "stdout",
     "output_type": "stream",
     "text": [
      "  Mon      Tue      Wed      Thu      Fri      Sat      Sun   \n"
     ]
    }
   ],
   "source": [
    "import calendar  \n",
    "print(calendar.weekheader(8)) \n"
   ]
  },
  {
   "cell_type": "code",
   "execution_count": 5,
   "id": "602c7167",
   "metadata": {},
   "outputs": [
    {
     "name": "stdout",
     "output_type": "stream",
     "text": [
      "Enter Any Year: 2020\n",
      "                                  2020\n",
      "\n",
      "      January                   February                   March\n",
      "Mo Tu We Th Fr Sa Su      Mo Tu We Th Fr Sa Su      Mo Tu We Th Fr Sa Su\n",
      "       1  2  3  4  5                      1  2                         1\n",
      " 6  7  8  9 10 11 12       3  4  5  6  7  8  9       2  3  4  5  6  7  8\n",
      "13 14 15 16 17 18 19      10 11 12 13 14 15 16       9 10 11 12 13 14 15\n",
      "20 21 22 23 24 25 26      17 18 19 20 21 22 23      16 17 18 19 20 21 22\n",
      "27 28 29 30 31            24 25 26 27 28 29         23 24 25 26 27 28 29\n",
      "                                                    30 31\n",
      "\n",
      "       April                      May                       June\n",
      "Mo Tu We Th Fr Sa Su      Mo Tu We Th Fr Sa Su      Mo Tu We Th Fr Sa Su\n",
      "       1  2  3  4  5                   1  2  3       1  2  3  4  5  6  7\n",
      " 6  7  8  9 10 11 12       4  5  6  7  8  9 10       8  9 10 11 12 13 14\n",
      "13 14 15 16 17 18 19      11 12 13 14 15 16 17      15 16 17 18 19 20 21\n",
      "20 21 22 23 24 25 26      18 19 20 21 22 23 24      22 23 24 25 26 27 28\n",
      "27 28 29 30               25 26 27 28 29 30 31      29 30\n",
      "\n",
      "        July                     August                  September\n",
      "Mo Tu We Th Fr Sa Su      Mo Tu We Th Fr Sa Su      Mo Tu We Th Fr Sa Su\n",
      "       1  2  3  4  5                      1  2          1  2  3  4  5  6\n",
      " 6  7  8  9 10 11 12       3  4  5  6  7  8  9       7  8  9 10 11 12 13\n",
      "13 14 15 16 17 18 19      10 11 12 13 14 15 16      14 15 16 17 18 19 20\n",
      "20 21 22 23 24 25 26      17 18 19 20 21 22 23      21 22 23 24 25 26 27\n",
      "27 28 29 30 31            24 25 26 27 28 29 30      28 29 30\n",
      "                          31\n",
      "\n",
      "      October                   November                  December\n",
      "Mo Tu We Th Fr Sa Su      Mo Tu We Th Fr Sa Su      Mo Tu We Th Fr Sa Su\n",
      "          1  2  3  4                         1          1  2  3  4  5  6\n",
      " 5  6  7  8  9 10 11       2  3  4  5  6  7  8       7  8  9 10 11 12 13\n",
      "12 13 14 15 16 17 18       9 10 11 12 13 14 15      14 15 16 17 18 19 20\n",
      "19 20 21 22 23 24 25      16 17 18 19 20 21 22      21 22 23 24 25 26 27\n",
      "26 27 28 29 30 31         23 24 25 26 27 28 29      28 29 30 31\n",
      "                          30\n",
      "\n"
     ]
    }
   ],
   "source": [
    "import calendar\n",
    "Year=int(input(\"Enter Any Year: \"))\n",
    "Data=calendar.calendar(Year)\n",
    "print(Data)\n"
   ]
  },
  {
   "cell_type": "code",
   "execution_count": 6,
   "id": "67d4e4f0",
   "metadata": {},
   "outputs": [
    {
     "name": "stdout",
     "output_type": "stream",
     "text": [
      "                                  2021\n",
      "\n",
      "      January                   February                   March\n",
      "Mo Tu We Th Fr Sa Su      Mo Tu We Th Fr Sa Su      Mo Tu We Th Fr Sa Su\n",
      "             1  2  3       1  2  3  4  5  6  7       1  2  3  4  5  6  7\n",
      " 4  5  6  7  8  9 10       8  9 10 11 12 13 14       8  9 10 11 12 13 14\n",
      "11 12 13 14 15 16 17      15 16 17 18 19 20 21      15 16 17 18 19 20 21\n",
      "18 19 20 21 22 23 24      22 23 24 25 26 27 28      22 23 24 25 26 27 28\n",
      "25 26 27 28 29 30 31                                29 30 31\n",
      "\n",
      "       April                      May                       June\n",
      "Mo Tu We Th Fr Sa Su      Mo Tu We Th Fr Sa Su      Mo Tu We Th Fr Sa Su\n",
      "          1  2  3  4                      1  2          1  2  3  4  5  6\n",
      " 5  6  7  8  9 10 11       3  4  5  6  7  8  9       7  8  9 10 11 12 13\n",
      "12 13 14 15 16 17 18      10 11 12 13 14 15 16      14 15 16 17 18 19 20\n",
      "19 20 21 22 23 24 25      17 18 19 20 21 22 23      21 22 23 24 25 26 27\n",
      "26 27 28 29 30            24 25 26 27 28 29 30      28 29 30\n",
      "                          31\n",
      "\n",
      "        July                     August                  September\n",
      "Mo Tu We Th Fr Sa Su      Mo Tu We Th Fr Sa Su      Mo Tu We Th Fr Sa Su\n",
      "          1  2  3  4                         1             1  2  3  4  5\n",
      " 5  6  7  8  9 10 11       2  3  4  5  6  7  8       6  7  8  9 10 11 12\n",
      "12 13 14 15 16 17 18       9 10 11 12 13 14 15      13 14 15 16 17 18 19\n",
      "19 20 21 22 23 24 25      16 17 18 19 20 21 22      20 21 22 23 24 25 26\n",
      "26 27 28 29 30 31         23 24 25 26 27 28 29      27 28 29 30\n",
      "                          30 31\n",
      "\n",
      "      October                   November                  December\n",
      "Mo Tu We Th Fr Sa Su      Mo Tu We Th Fr Sa Su      Mo Tu We Th Fr Sa Su\n",
      "             1  2  3       1  2  3  4  5  6  7             1  2  3  4  5\n",
      " 4  5  6  7  8  9 10       8  9 10 11 12 13 14       6  7  8  9 10 11 12\n",
      "11 12 13 14 15 16 17      15 16 17 18 19 20 21      13 14 15 16 17 18 19\n",
      "18 19 20 21 22 23 24      22 23 24 25 26 27 28      20 21 22 23 24 25 26\n",
      "25 26 27 28 29 30 31      29 30                     27 28 29 30 31\n",
      "\n"
     ]
    }
   ],
   "source": [
    "import calendar  \n",
    "print(calendar.calendar(2021)) "
   ]
  },
  {
   "cell_type": "code",
   "execution_count": 8,
   "id": "22edfd1b",
   "metadata": {},
   "outputs": [
    {
     "name": "stdout",
     "output_type": "stream",
     "text": [
      "      May 2017\n",
      "Mo Tu We Th Fr Sa Su\n",
      " 1  2  3  4  5  6  7\n",
      " 8  9 10 11 12 13 14\n",
      "15 16 17 18 19 20 21\n",
      "22 23 24 25 26 27 28\n",
      "29 30 31\n",
      "\n"
     ]
    }
   ],
   "source": [
    "import calendar  \n",
    "print(calendar.month(2017,5))  \n"
   ]
  },
  {
   "cell_type": "code",
   "execution_count": null,
   "id": "e9ceb3b5",
   "metadata": {},
   "outputs": [],
   "source": []
  }
 ],
 "metadata": {
  "kernelspec": {
   "display_name": "Python 3",
   "language": "python",
   "name": "python3"
  },
  "language_info": {
   "codemirror_mode": {
    "name": "ipython",
    "version": 3
   },
   "file_extension": ".py",
   "mimetype": "text/x-python",
   "name": "python",
   "nbconvert_exporter": "python",
   "pygments_lexer": "ipython3",
   "version": "3.9.7"
  }
 },
 "nbformat": 4,
 "nbformat_minor": 5
}
