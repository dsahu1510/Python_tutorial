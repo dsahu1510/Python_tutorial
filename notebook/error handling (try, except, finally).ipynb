{
 "cells": [
  {
   "cell_type": "code",
   "execution_count": 3,
   "id": "963f5139",
   "metadata": {},
   "outputs": [
    {
     "name": "stdout",
     "output_type": "stream",
     "text": [
      "Enter a value: lkj\n",
      "ExceptBlock:Invalid Input Enter Only Numbers\n"
     ]
    }
   ],
   "source": [
    "try:\n",
    "      x=int(input(\"Enter a value: \"))\n",
    "      print(\"Try Block:Enter Number is: \",x)\n",
    "except ValueError:\n",
    "      print(\"ExceptBlock:Invalid Input Enter Only Numbers\");\n"
   ]
  },
  {
   "cell_type": "code",
   "execution_count": 6,
   "id": "6eb208f9",
   "metadata": {},
   "outputs": [
    {
     "name": "stdout",
     "output_type": "stream",
     "text": [
      "Enter any Number: lkj\n",
      "SooryInvalidInput\n"
     ]
    }
   ],
   "source": [
    "try:\n",
    "    a=int(input(\"Enter any Number: \"))\n",
    "    b=int(input(\"Enter any Number: \"))\n",
    "    c=a/b\n",
    "    print(\"The Value is: \" ,c)\n",
    "except ValueError:\n",
    "    print(\"SooryInvalidInput\")\n"
   ]
  },
  {
   "cell_type": "code",
   "execution_count": 11,
   "id": "1fc58705",
   "metadata": {},
   "outputs": [
    {
     "name": "stdout",
     "output_type": "stream",
     "text": [
      "Enter any Number: 101\n",
      "Enter any Number: 0\n",
      "b must be valid Number\n"
     ]
    }
   ],
   "source": [
    "try:\n",
    "    a=int(input(\"Enter any Number: \"))\n",
    "    b=int(input(\"Enter any Number: \"))\n",
    "    c=a/b\n",
    "    print(\"The Value is: \" ,c)\n",
    "except ValueError:\n",
    "    print(\"SooryInvalidInput\")\n",
    "except ZeroDivisionError:\n",
    "    print(\"b must be valid Number\")"
   ]
  },
  {
   "cell_type": "code",
   "execution_count": 13,
   "id": "e0a2c4aa",
   "metadata": {},
   "outputs": [
    {
     "name": "stdout",
     "output_type": "stream",
     "text": [
      "Enter Required Number: 10\n",
      "Enter Required Number: 30\n",
      "The Result is:  0.3333333333333333\n"
     ]
    }
   ],
   "source": [
    "try:\n",
    "  x=int(input(\"Enter Required Number: \"))\n",
    "  y=int(input(\"Enter Required Number: \"))\n",
    "  print(\"The Result is: \",x/y)\n",
    "except Exception as arg:\n",
    "    print(\"You can't divide by zero.\")\n",
    "    print('Error: ', arg)"
   ]
  },
  {
   "cell_type": "code",
   "execution_count": 16,
   "id": "5ed9baea",
   "metadata": {},
   "outputs": [
    {
     "name": "stdout",
     "output_type": "stream",
     "text": [
      "Enter Any Number: 23\n",
      "Enter Any Number: 0\n",
      "You can't divide by zero.\n",
      "Error:  division by zero\n"
     ]
    }
   ],
   "source": [
    "try:\n",
    "    p=int(input(\"Enter Any Number: \"))\n",
    "    q=int(input(\"Enter Any Number: \"))\n",
    "    r=p/q\n",
    "    print(\"The Value is: \",int(r))\n",
    "    print(\"TryBlockIsExecuted:\")\n",
    "except ValueError:\n",
    "    print(\"ExceptBlock\")\n",
    "    print(\"Sorry User Numbers Only Valid\")\n",
    "except Exception as arg:\n",
    "    print(\"You can't divide by zero.\")\n",
    "    print('Error: ', arg)\n"
   ]
  },
  {
   "cell_type": "code",
   "execution_count": 17,
   "id": "2ee40581",
   "metadata": {},
   "outputs": [
    {
     "name": "stdout",
     "output_type": "stream",
     "text": [
      "File Not Existed Please Create\n"
     ]
    }
   ],
   "source": [
    "try:\n",
    "    fi=open(\"Hai1.txt\",'r')\n",
    "    print(fi.read(6))\n",
    "except IOError:\n",
    "    print(\"File Not Existed Please Create\")\n",
    "else:\n",
    "    print(\"ContentReadSuccessfully\")\n",
    "    fi.close()"
   ]
  },
  {
   "cell_type": "code",
   "execution_count": 18,
   "id": "1a2b4749",
   "metadata": {},
   "outputs": [
    {
     "name": "stdout",
     "output_type": "stream",
     "text": [
      "Enter Any Input: 10\n",
      "Enter Any Input: 20\n",
      "0.5\n",
      "Welcome to Else Block\n",
      "Else Block Successfully Executed\n",
      "Welcome to More Computations\n",
      "30\n",
      "-10\n",
      "200\n"
     ]
    }
   ],
   "source": [
    "try:\n",
    "    x=int(input(\"Enter Any Input: \"))\n",
    "    y=int(input(\"Enter Any Input: \"))\n",
    "    z=x/y\n",
    "    print(z)\n",
    "except ValueError:\n",
    "    print(\"SorryAlphabetsUnableToCompute\")\n",
    "    print(\"Special Chars Also Not Accepted\")\n",
    "except Exception as arg:\n",
    "    print(\"Error: \",arg)\n",
    "else:\n",
    "    print(\"Welcome to Else Block\")\n",
    "    print(\"Else Block Successfully Executed\")\n",
    "    print(\"Welcome to More Computations\")\n",
    "    print(x+y)\n",
    "    print(x-y)\n",
    "    print(x*y)"
   ]
  },
  {
   "cell_type": "code",
   "execution_count": 19,
   "id": "1b912e31",
   "metadata": {},
   "outputs": [
    {
     "name": "stdout",
     "output_type": "stream",
     "text": [
      "OuterTryBlock\n",
      "InnerTryBlock\n",
      "InnerFinallyBlock\n",
      "OuterFinallyBlock\n"
     ]
    }
   ],
   "source": [
    "try:\n",
    "    print(\"OuterTryBlock\")\n",
    "    try:\n",
    "        print(\"InnerTryBlock\")\n",
    "    except ZeroDivisionError:\n",
    "        print(\"InnerExceptBlock\")\n",
    "    finally:\n",
    "        print(\"InnerFinallyBlock\")\n",
    "except:\n",
    "    print(\"OuterExceptBlock\")\n",
    "finally:\n",
    "    print(\"OuterFinallyBlock\")\n"
   ]
  },
  {
   "cell_type": "code",
   "execution_count": 1,
   "id": "f775f6c8",
   "metadata": {},
   "outputs": [
    {
     "ename": "NameError",
     "evalue": "Raju",
     "output_type": "error",
     "traceback": [
      "\u001b[1;31m---------------------------------------------------------------------------\u001b[0m",
      "\u001b[1;31mNameError\u001b[0m                                 Traceback (most recent call last)",
      "\u001b[1;32m<ipython-input-1-5e7054003e1c>\u001b[0m in \u001b[0;36m<module>\u001b[1;34m\u001b[0m\n\u001b[1;32m----> 1\u001b[1;33m \u001b[1;32mraise\u001b[0m \u001b[0mNameError\u001b[0m\u001b[1;33m(\u001b[0m\u001b[1;34m\"Raju\"\u001b[0m\u001b[1;33m)\u001b[0m\u001b[1;33m\u001b[0m\u001b[1;33m\u001b[0m\u001b[0m\n\u001b[0m\u001b[0;32m      2\u001b[0m \u001b[1;32mraise\u001b[0m \u001b[0mValueError\u001b[0m\u001b[1;33m(\u001b[0m\u001b[1;34m\"InvalidData\"\u001b[0m\u001b[1;33m)\u001b[0m\u001b[1;33m\u001b[0m\u001b[1;33m\u001b[0m\u001b[0m\n",
      "\u001b[1;31mNameError\u001b[0m: Raju"
     ]
    }
   ],
   "source": [
    "raise NameError(\"Raju\")\n",
    "raise ValueError(\"InvalidData\")\n"
   ]
  },
  {
   "cell_type": "code",
   "execution_count": 4,
   "id": "926e26cb",
   "metadata": {},
   "outputs": [
    {
     "name": "stdout",
     "output_type": "stream",
     "text": [
      "Enter Any Number: 0.12\n"
     ]
    },
    {
     "ename": "ValueError",
     "evalue": "invalid literal for int() with base 10: '0.12'",
     "output_type": "error",
     "traceback": [
      "\u001b[1;31m---------------------------------------------------------------------------\u001b[0m",
      "\u001b[1;31mValueError\u001b[0m                                Traceback (most recent call last)",
      "\u001b[1;32m<ipython-input-4-2dad396d248e>\u001b[0m in \u001b[0;36m<module>\u001b[1;34m\u001b[0m\n\u001b[1;32m----> 1\u001b[1;33m \u001b[0mx\u001b[0m\u001b[1;33m=\u001b[0m\u001b[0mint\u001b[0m\u001b[1;33m(\u001b[0m\u001b[0minput\u001b[0m\u001b[1;33m(\u001b[0m\u001b[1;34m\"Enter Any Number: \"\u001b[0m\u001b[1;33m)\u001b[0m\u001b[1;33m)\u001b[0m\u001b[1;33m\u001b[0m\u001b[1;33m\u001b[0m\u001b[0m\n\u001b[0m\u001b[0;32m      2\u001b[0m \u001b[1;32mif\u001b[0m \u001b[0mx\u001b[0m\u001b[1;33m<=\u001b[0m\u001b[1;36m10\u001b[0m\u001b[1;33m:\u001b[0m\u001b[1;33m\u001b[0m\u001b[1;33m\u001b[0m\u001b[0m\n\u001b[0;32m      3\u001b[0m     \u001b[1;32mraise\u001b[0m \u001b[0mNameError\u001b[0m\u001b[1;33m(\u001b[0m\u001b[1;34m'x should not be less than 10!'\u001b[0m\u001b[1;33m)\u001b[0m\u001b[1;33m\u001b[0m\u001b[1;33m\u001b[0m\u001b[0m\n\u001b[0;32m      4\u001b[0m \u001b[1;32melse\u001b[0m\u001b[1;33m:\u001b[0m\u001b[1;33m\u001b[0m\u001b[1;33m\u001b[0m\u001b[0m\n\u001b[0;32m      5\u001b[0m     \u001b[0mprint\u001b[0m\u001b[1;33m(\u001b[0m\u001b[1;34m\"Great Value\"\u001b[0m\u001b[1;33m)\u001b[0m\u001b[1;33m\u001b[0m\u001b[1;33m\u001b[0m\u001b[0m\n",
      "\u001b[1;31mValueError\u001b[0m: invalid literal for int() with base 10: '0.12'"
     ]
    }
   ],
   "source": [
    "x=int(input(\"Enter Any Number: \"))\n",
    "if x<=10:\n",
    "    raise NameError('x should not be less than 10!')\n",
    "else:\n",
    "    print(\"Great Value\")\n"
   ]
  },
  {
   "cell_type": "code",
   "execution_count": 9,
   "id": "27b774ad",
   "metadata": {},
   "outputs": [
    {
     "name": "stdout",
     "output_type": "stream",
     "text": [
      "Enter Any Number: 0.1\n",
      "u did it\n"
     ]
    },
    {
     "ename": "ValueError",
     "evalue": "Invalid Input",
     "output_type": "error",
     "traceback": [
      "\u001b[1;31m---------------------------------------------------------------------------\u001b[0m",
      "\u001b[1;31mValueError\u001b[0m                                Traceback (most recent call last)",
      "\u001b[1;32m<ipython-input-9-a0d7aea74506>\u001b[0m in \u001b[0;36m<module>\u001b[1;34m\u001b[0m\n\u001b[0;32m      1\u001b[0m \u001b[1;32mtry\u001b[0m\u001b[1;33m:\u001b[0m\u001b[1;33m\u001b[0m\u001b[1;33m\u001b[0m\u001b[0m\n\u001b[1;32m----> 2\u001b[1;33m     \u001b[0mx\u001b[0m\u001b[1;33m=\u001b[0m\u001b[0mint\u001b[0m\u001b[1;33m(\u001b[0m\u001b[0minput\u001b[0m\u001b[1;33m(\u001b[0m\u001b[1;34m\"Enter Any Number: \"\u001b[0m\u001b[1;33m)\u001b[0m\u001b[1;33m)\u001b[0m\u001b[1;33m\u001b[0m\u001b[1;33m\u001b[0m\u001b[0m\n\u001b[0m\u001b[0;32m      3\u001b[0m     \u001b[0mprint\u001b[0m\u001b[1;33m(\u001b[0m\u001b[0mx\u001b[0m\u001b[1;33m)\u001b[0m\u001b[1;33m\u001b[0m\u001b[1;33m\u001b[0m\u001b[0m\n",
      "\u001b[1;31mValueError\u001b[0m: invalid literal for int() with base 10: '0.1'",
      "\nDuring handling of the above exception, another exception occurred:\n",
      "\u001b[1;31mValueError\u001b[0m                                Traceback (most recent call last)",
      "\u001b[1;32m<ipython-input-9-a0d7aea74506>\u001b[0m in \u001b[0;36m<module>\u001b[1;34m\u001b[0m\n\u001b[0;32m      3\u001b[0m     \u001b[0mprint\u001b[0m\u001b[1;33m(\u001b[0m\u001b[0mx\u001b[0m\u001b[1;33m)\u001b[0m\u001b[1;33m\u001b[0m\u001b[1;33m\u001b[0m\u001b[0m\n\u001b[0;32m      4\u001b[0m \u001b[1;32mexcept\u001b[0m\u001b[1;33m:\u001b[0m\u001b[1;33m\u001b[0m\u001b[1;33m\u001b[0m\u001b[0m\n\u001b[1;32m----> 5\u001b[1;33m     \u001b[1;32mraise\u001b[0m \u001b[0mValueError\u001b[0m\u001b[1;33m(\u001b[0m\u001b[1;34m\"Invalid Input\"\u001b[0m\u001b[1;33m)\u001b[0m\u001b[1;33m\u001b[0m\u001b[1;33m\u001b[0m\u001b[0m\n\u001b[0m\u001b[0;32m      6\u001b[0m \u001b[1;32mfinally\u001b[0m\u001b[1;33m:\u001b[0m\u001b[1;33m\u001b[0m\u001b[1;33m\u001b[0m\u001b[0m\n\u001b[0;32m      7\u001b[0m     \u001b[0mprint\u001b[0m\u001b[1;33m(\u001b[0m\u001b[1;34m\"u did it\"\u001b[0m\u001b[1;33m)\u001b[0m\u001b[1;33m\u001b[0m\u001b[1;33m\u001b[0m\u001b[0m\n",
      "\u001b[1;31mValueError\u001b[0m: Invalid Input"
     ]
    }
   ],
   "source": [
    "try:\n",
    "    x=int(input(\"Enter Any Number: \"))\n",
    "    print(x)\n",
    "except:\n",
    "    raise ValueError(\"Invalid Input\")\n",
    "finally:\n",
    "    print(\"u did it\")\n"
   ]
  },
  {
   "cell_type": "code",
   "execution_count": 11,
   "id": "7d69ad7a",
   "metadata": {},
   "outputs": [
    {
     "name": "stdout",
     "output_type": "stream",
     "text": [
      "Enter a negative integer: 12\n",
      "That is not a negative number!\n"
     ]
    }
   ],
   "source": [
    "try:\n",
    "    a = int(input(\"Enter a negative integer: \"))\n",
    "    if a >= 0:\n",
    "        raise ValueError(\"That is not a negative number!\")\n",
    "except ValueError as ve:\n",
    "    print(ve)"
   ]
  },
  {
   "cell_type": "code",
   "execution_count": null,
   "id": "8659918c",
   "metadata": {},
   "outputs": [],
   "source": []
  }
 ],
 "metadata": {
  "kernelspec": {
   "display_name": "Python 3",
   "language": "python",
   "name": "python3"
  },
  "language_info": {
   "codemirror_mode": {
    "name": "ipython",
    "version": 3
   },
   "file_extension": ".py",
   "mimetype": "text/x-python",
   "name": "python",
   "nbconvert_exporter": "python",
   "pygments_lexer": "ipython3",
   "version": "3.8.8"
  }
 },
 "nbformat": 4,
 "nbformat_minor": 5
}
