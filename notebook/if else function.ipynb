{
 "cells": [
  {
   "cell_type": "code",
   "execution_count": null,
   "id": "36217781",
   "metadata": {},
   "outputs": [],
   "source": []
  },
  {
   "cell_type": "code",
   "execution_count": null,
   "id": "85ee0b57",
   "metadata": {},
   "outputs": [],
   "source": []
  },
  {
   "cell_type": "code",
   "execution_count": 1,
   "id": "5b081efc",
   "metadata": {},
   "outputs": [],
   "source": [
    "num=-1\n",
    "if num>0:\n",
    "    print(num,\"it is +ve no.\")\n",
    "    print(\"this is always printed\")"
   ]
  },
  {
   "cell_type": "code",
   "execution_count": 2,
   "id": "20f43be3",
   "metadata": {},
   "outputs": [
    {
     "name": "stdout",
     "output_type": "stream",
     "text": [
      "enter data:1\n",
      "type of data is:\n",
      "<class 'str'>\n"
     ]
    }
   ],
   "source": [
    "num=input(\"enter data:\")\n",
    "print(\"type of data is:\")\n",
    "print(type(num))"
   ]
  },
  {
   "cell_type": "code",
   "execution_count": 3,
   "id": "792fbaa9",
   "metadata": {},
   "outputs": [
    {
     "name": "stdout",
     "output_type": "stream",
     "text": [
      "enter any no.20\n",
      "<class 'int'>\n",
      "the no. here is +ve\n"
     ]
    }
   ],
   "source": [
    "num=int(input(\"enter any no.\"))\n",
    "print(type(num))\n",
    "if int(num)>0:\n",
    "    print(\"the no. here is +ve\")\n",
    "else:\n",
    "    print(\"the no. is -ve\")"
   ]
  },
  {
   "cell_type": "code",
   "execution_count": 4,
   "id": "4cd34d93",
   "metadata": {},
   "outputs": [
    {
     "name": "stdout",
     "output_type": "stream",
     "text": [
      "enter any no.20\n",
      "is even\n"
     ]
    }
   ],
   "source": [
    "num=int(input(\"enter any no.\"))\n",
    "if num*2:\n",
    "    print(\"is even\")\n",
    "else:\n",
    "    print(\"is odd\")"
   ]
  },
  {
   "cell_type": "code",
   "execution_count": 4,
   "id": "f2ff8345",
   "metadata": {},
   "outputs": [
    {
     "name": "stdout",
     "output_type": "stream",
     "text": [
      "enter ur no.0\n",
      "this is zero\n"
     ]
    }
   ],
   "source": [
    "a=int(input(\"enter ur no.\"))\n",
    "if a>0:\n",
    "    print(\"the entered no. is positive\",a)\n",
    "elif a<0:\n",
    "    print(\"the no. is negative\",a)\n",
    "else:\n",
    "    print(\"this is zero\")"
   ]
  },
  {
   "cell_type": "code",
   "execution_count": 5,
   "id": "13c6c724",
   "metadata": {},
   "outputs": [
    {
     "name": "stdout",
     "output_type": "stream",
     "text": [
      "ohh no!!\n"
     ]
    }
   ],
   "source": [
    "x=\"welcome to the world of python\"\n",
    "if \"t0o\" in x:\n",
    "    print(\"ys u found it\")\n",
    "else:\n",
    "    print(\"ohh no!!\")"
   ]
  },
  {
   "cell_type": "code",
   "execution_count": 6,
   "id": "3dfdfbf3",
   "metadata": {},
   "outputs": [
    {
     "name": "stdout",
     "output_type": "stream",
     "text": [
      "1\n"
     ]
    }
   ],
   "source": [
    "x=1\n",
    "print(--x)"
   ]
  },
  {
   "cell_type": "code",
   "execution_count": 7,
   "id": "08a8029f",
   "metadata": {},
   "outputs": [
    {
     "name": "stdout",
     "output_type": "stream",
     "text": [
      "1\n"
     ]
    }
   ],
   "source": [
    "x=1\n",
    "print(++x)"
   ]
  },
  {
   "cell_type": "code",
   "execution_count": 8,
   "id": "ac4cdec2",
   "metadata": {},
   "outputs": [
    {
     "name": "stdout",
     "output_type": "stream",
     "text": [
      "9\n"
     ]
    }
   ],
   "source": [
    "\n",
    "x=9\n",
    "print(--x)"
   ]
  },
  {
   "cell_type": "code",
   "execution_count": 9,
   "id": "3cbb3e20",
   "metadata": {},
   "outputs": [
    {
     "name": "stdout",
     "output_type": "stream",
     "text": [
      "8\n"
     ]
    }
   ],
   "source": [
    "x=x-1\n",
    "print(x)"
   ]
  },
  {
   "cell_type": "code",
   "execution_count": 10,
   "id": "ec8e5446",
   "metadata": {},
   "outputs": [
    {
     "name": "stdout",
     "output_type": "stream",
     "text": [
      "nxt try\n"
     ]
    }
   ],
   "source": [
    "a=[1,2,3,4,5,6,7,8,9,10]\n",
    "if 100 in a:\n",
    "    print(\"ys u got it\")\n",
    "else:\n",
    "    print(\"nxt try\")"
   ]
  },
  {
   "cell_type": "code",
   "execution_count": 11,
   "id": "a7c24580",
   "metadata": {},
   "outputs": [
    {
     "name": "stdout",
     "output_type": "stream",
     "text": [
      "enter a no.20\n",
      "positive no.\n"
     ]
    }
   ],
   "source": [
    "num=int(input(\"enter a no.\"))\n",
    "if num>=0:\n",
    "    if num==0:\n",
    "        print(\"zero\")\n",
    "    else:\n",
    "        print(\"positive no.\")\n",
    "else:\n",
    "        print(\"negative no.\")"
   ]
  },
  {
   "cell_type": "code",
   "execution_count": 12,
   "id": "74ab80f0",
   "metadata": {},
   "outputs": [
    {
     "name": "stdout",
     "output_type": "stream",
     "text": [
      "enter a no.20\n",
      "the entered no.is positive 20\n"
     ]
    }
   ],
   "source": [
    "a=int(input(\"enter a no.\"))\n",
    "if a>0:\n",
    "    print(\"the entered no.is positive\",a)\n",
    "elif a==0:\n",
    "    print(\"u entered zero\")\n",
    "else:\n",
    "    print(\"negative no.\")"
   ]
  },
  {
   "cell_type": "code",
   "execution_count": 14,
   "id": "64abb53c",
   "metadata": {},
   "outputs": [
    {
     "name": "stdout",
     "output_type": "stream",
     "text": [
      "enter no0\n",
      "enterno.20\n",
      "j\n"
     ]
    }
   ],
   "source": [
    "x=int(input(\"enter no\"))\n",
    "y=int(input(\"enter no.\"))\n",
    "if x>0 and y>0:\n",
    "    print(\"you entered a no. greater thn 0\")\n",
    "elif x==0 and y==0:\n",
    "    print(\"c\")\n",
    "else:\n",
    "    print(\"j\")"
   ]
  },
  {
   "cell_type": "code",
   "execution_count": 15,
   "id": "e2ebc737",
   "metadata": {},
   "outputs": [
    {
     "ename": "SyntaxError",
     "evalue": "invalid syntax (<ipython-input-15-d4f1edbfb48a>, line 8)",
     "output_type": "error",
     "traceback": [
      "\u001b[1;36m  File \u001b[1;32m\"<ipython-input-15-d4f1edbfb48a>\"\u001b[1;36m, line \u001b[1;32m8\u001b[0m\n\u001b[1;33m    if b<= and c<d:\u001b[0m\n\u001b[1;37m           ^\u001b[0m\n\u001b[1;31mSyntaxError\u001b[0m\u001b[1;31m:\u001b[0m invalid syntax\n"
     ]
    }
   ],
   "source": [
    "a=int(input(\"enter a no.\"))\n",
    "b=int(input(\"enter a no.\"))\n",
    "c=int(input(\"enter a no.\"))\n",
    "d=int(input(\"enter a no.\"))\n",
    "if a>0:\n",
    "    if b<0:\n",
    "        print(\"a is bigger thn b\")\n",
    "        if b<= and c<d:\n",
    "            print(\"c is smallest\")\n",
    "        else:\n",
    "            print(\"oohh\")\n",
    "    else:\n",
    "        print(\"d is unknown\")"
   ]
  },
  {
   "cell_type": "code",
   "execution_count": null,
   "id": "bf0fae33",
   "metadata": {},
   "outputs": [],
   "source": []
  },
  {
   "cell_type": "code",
   "execution_count": 16,
   "id": "33b939c5",
   "metadata": {},
   "outputs": [
    {
     "name": "stdout",
     "output_type": "stream",
     "text": [
      "1\n",
      "3\n",
      "5\n",
      "7\n",
      "9\n",
      "11\n",
      "13\n",
      "15\n",
      "17\n",
      "19\n",
      "21\n",
      "23\n",
      "25\n",
      "27\n",
      "29\n",
      "31\n",
      "33\n",
      "35\n",
      "37\n",
      "39\n",
      "41\n",
      "43\n",
      "45\n",
      "47\n",
      "49\n",
      "51\n",
      "53\n",
      "55\n",
      "57\n",
      "59\n",
      "61\n",
      "63\n",
      "65\n",
      "67\n",
      "69\n",
      "71\n",
      "73\n",
      "75\n",
      "77\n",
      "79\n",
      "81\n",
      "83\n",
      "85\n",
      "87\n",
      "89\n",
      "91\n",
      "93\n",
      "95\n",
      "97\n",
      "99\n"
     ]
    }
   ],
   "source": [
    "#prime no. \n",
    "for n in range(1,100,2):\n",
    "    print(n)"
   ]
  },
  {
   "cell_type": "code",
   "execution_count": null,
   "id": "66f5febb",
   "metadata": {},
   "outputs": [],
   "source": []
  }
 ],
 "metadata": {
  "kernelspec": {
   "display_name": "Python 3",
   "language": "python",
   "name": "python3"
  },
  "language_info": {
   "codemirror_mode": {
    "name": "ipython",
    "version": 3
   },
   "file_extension": ".py",
   "mimetype": "text/x-python",
   "name": "python",
   "nbconvert_exporter": "python",
   "pygments_lexer": "ipython3",
   "version": "3.8.8"
  }
 },
 "nbformat": 4,
 "nbformat_minor": 5
}
