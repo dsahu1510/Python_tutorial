{
 "cells": [
  {
   "cell_type": "code",
   "execution_count": 12,
   "id": "26fb7a2f",
   "metadata": {},
   "outputs": [
    {
     "name": "stdout",
     "output_type": "stream",
     "text": [
      "CSVFileCreatedSuccessfully\n",
      "FinallyBlockSuccess\n"
     ]
    }
   ],
   "source": [
    "import csv\n",
    "try:\n",
    "    with open(\"MyFile.csv\",'w',encoding='utf-8') as FP:\n",
    "        a=csv.writer(FP,delimiter='.')\n",
    "        data=[['STOCK','SALES','PRICE'],\n",
    "              ['100','90','90$'],\n",
    "              ['300','100','100$'],\n",
    "              ['100','200','200$']]\n",
    "        a.writerows(data)\n",
    "        print(\"CSVFileCreatedSuccessfully\")\n",
    "except IOError:\n",
    "    print(\"SorryCSVFileUnableTOCreate\")\n",
    "    print(\"ServerWriteProtected\")\n",
    "finally:\n",
    "    print(\"FinallyBlockSuccess\")\n"
   ]
  },
  {
   "cell_type": "code",
   "execution_count": 18,
   "id": "e1ecab9e",
   "metadata": {},
   "outputs": [
    {
     "name": "stdout",
     "output_type": "stream",
     "text": [
      "CSVFileAppendSuccessfully\n",
      "FinallyBlockSuccess\n"
     ]
    }
   ],
   "source": [
    "import csv\n",
    "try:\n",
    "    with open(\"MyFile.csv\",mode='a',encoding='utf-8') as FP:\n",
    "        a=csv.writer(FP,delimiter='.')\n",
    "        data=[['10','9','9$'],\n",
    "              ['0','0','0$'],\n",
    "              ['10','2','2$']]\n",
    "        a.writerows(data)\n",
    "        print(\"CSVFileAppendSuccessfully\")\n",
    "except IOError:\n",
    "    print(\"SorryCSVFileUnableTOAppend\")\n",
    "    print(\"ServerWriteProtected\")\n",
    "finally:\n",
    "    print(\"FinallyBlockSuccess\")\n"
   ]
  },
  {
   "cell_type": "code",
   "execution_count": 19,
   "id": "a7fe31f5",
   "metadata": {},
   "outputs": [
    {
     "name": "stdout",
     "output_type": "stream",
     "text": [
      "[['STOCK.SALES.PRICE'], ['100.90.90$'], ['300.100.100$'], ['100.200.200$'], ['10.9.9$'], ['0.0.0$'], ['10.2.2$']]\n"
     ]
    }
   ],
   "source": [
    "import csv\n",
    "with open(\"MyFile.csv\",'r') as FP:\n",
    "    a=csv.reader(FP)\n",
    "    data=[]\n",
    "    for row in a:\n",
    "        if len(row)!=0:\n",
    "            data=data+[row]\n",
    "print(data) "
   ]
  },
  {
   "cell_type": "code",
   "execution_count": 20,
   "id": "e20a3ec8",
   "metadata": {},
   "outputs": [
    {
     "name": "stdout",
     "output_type": "stream",
     "text": [
      "STOCK.SALES.PRICE\n",
      "\n"
     ]
    }
   ],
   "source": [
    "path=\"MyFile.csv\"\n",
    "lines=[line for line in open(path)]\n",
    "print(lines[0])\n"
   ]
  },
  {
   "cell_type": "code",
   "execution_count": 24,
   "id": "f420c5e1",
   "metadata": {},
   "outputs": [
    {
     "name": "stdout",
     "output_type": "stream",
     "text": [
      "STOCK.SALES.PRICE\n",
      "\n",
      "\n"
     ]
    }
   ],
   "source": [
    "path=\"MyFile.csv\"\n",
    "lines=[line for line in open(path)]\n",
    "print(lines[0])\n",
    "print(lines[1].strip())\n"
   ]
  },
  {
   "cell_type": "code",
   "execution_count": 28,
   "id": "b9a5d53b",
   "metadata": {},
   "outputs": [
    {
     "name": "stdout",
     "output_type": "stream",
     "text": [
      "STOCK.SALES.PRICE\n",
      "\n",
      "\n",
      "['']\n"
     ]
    }
   ],
   "source": [
    "path=\"MyFile.csv\"\n",
    "lines=[line for line in open(path)]\n",
    "print(lines[0])\n",
    "print(lines[1].strip())\n",
    "print(lines[1].strip().split(','))\n"
   ]
  },
  {
   "cell_type": "code",
   "execution_count": 29,
   "id": "15c8ffd6",
   "metadata": {},
   "outputs": [
    {
     "name": "stdout",
     "output_type": "stream",
     "text": [
      "Hey Demo for Logging\n",
      "LoggingFileCreatedSuccessfully\n"
     ]
    }
   ],
   "source": []
  },
  {
   "cell_type": "code",
   "execution_count": null,
   "id": "8062871e",
   "metadata": {},
   "outputs": [],
   "source": []
  }
 ],
 "metadata": {
  "kernelspec": {
   "display_name": "Python 3",
   "language": "python",
   "name": "python3"
  },
  "language_info": {
   "codemirror_mode": {
    "name": "ipython",
    "version": 3
   },
   "file_extension": ".py",
   "mimetype": "text/x-python",
   "name": "python",
   "nbconvert_exporter": "python",
   "pygments_lexer": "ipython3",
   "version": "3.8.8"
  }
 },
 "nbformat": 4,
 "nbformat_minor": 5
}
