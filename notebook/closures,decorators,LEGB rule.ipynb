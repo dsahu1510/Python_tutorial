{
 "cells": [
  {
   "cell_type": "code",
   "execution_count": 1,
   "id": "a4654700",
   "metadata": {},
   "outputs": [
    {
     "name": "stdout",
     "output_type": "stream",
     "text": [
      "10\n"
     ]
    }
   ],
   "source": [
    "def OuterFun():\n",
    "    x=10\n",
    "    def InnerFun():\n",
    "        print(x)\n",
    "    InnerFun()\n",
    "OuterFun()\n"
   ]
  },
  {
   "cell_type": "code",
   "execution_count": 11,
   "id": "4774620e",
   "metadata": {},
   "outputs": [
    {
     "ename": "NameError",
     "evalue": "name 'InnerFun' is not defined",
     "output_type": "error",
     "traceback": [
      "\u001b[1;31m---------------------------------------------------------------------------\u001b[0m",
      "\u001b[1;31mNameError\u001b[0m                                 Traceback (most recent call last)",
      "\u001b[1;32m<ipython-input-11-c6e83f92fac3>\u001b[0m in \u001b[0;36m<module>\u001b[1;34m\u001b[0m\n\u001b[0;32m      3\u001b[0m     \u001b[1;32mdef\u001b[0m \u001b[0mInnerFun\u001b[0m\u001b[1;33m(\u001b[0m\u001b[1;33m)\u001b[0m\u001b[1;33m:\u001b[0m\u001b[1;33m\u001b[0m\u001b[1;33m\u001b[0m\u001b[0m\n\u001b[0;32m      4\u001b[0m         \u001b[0mprint\u001b[0m\u001b[1;33m(\u001b[0m\u001b[0mx\u001b[0m\u001b[1;33m)\u001b[0m\u001b[1;33m\u001b[0m\u001b[1;33m\u001b[0m\u001b[0m\n\u001b[1;32m----> 5\u001b[1;33m \u001b[0mInnerFun\u001b[0m\u001b[1;33m(\u001b[0m\u001b[1;33m)\u001b[0m\u001b[1;33m\u001b[0m\u001b[1;33m\u001b[0m\u001b[0m\n\u001b[0m\u001b[0;32m      6\u001b[0m \u001b[0mOuterFun\u001b[0m\u001b[1;33m(\u001b[0m\u001b[1;33m)\u001b[0m\u001b[1;33m\u001b[0m\u001b[1;33m\u001b[0m\u001b[0m\n",
      "\u001b[1;31mNameError\u001b[0m: name 'InnerFun' is not defined"
     ]
    }
   ],
   "source": [
    "def OuterFun():\n",
    "    x=10\n",
    "    def InnerFun():\n",
    "        print(x)\n",
    "InnerFun()\n",
    "OuterFun()\n"
   ]
  },
  {
   "cell_type": "code",
   "execution_count": 3,
   "id": "6a781955",
   "metadata": {},
   "outputs": [
    {
     "name": "stdout",
     "output_type": "stream",
     "text": [
      "10\n",
      "None\n"
     ]
    }
   ],
   "source": [
    "def OuterFun():\n",
    "    x=10\n",
    "    def InnerFun():\n",
    "        print(x)\n",
    "    return InnerFun()\n",
    "OO=OuterFun()\n",
    "print(OO)\n"
   ]
  },
  {
   "cell_type": "code",
   "execution_count": 14,
   "id": "382c93fe",
   "metadata": {},
   "outputs": [
    {
     "name": "stdout",
     "output_type": "stream",
     "text": [
      "30\n"
     ]
    }
   ],
   "source": [
    "def OuterFun():\n",
    "    x=10\n",
    "    def InnerFun():\n",
    "        y=20\n",
    "        Total=x+y\n",
    "        return Total\n",
    "    return InnerFun()#Executing function definition\n",
    "\n",
    "OO=OuterFun()\n",
    "print(OO)"
   ]
  },
  {
   "cell_type": "code",
   "execution_count": 5,
   "id": "d4bfc146",
   "metadata": {},
   "outputs": [
    {
     "name": "stdout",
     "output_type": "stream",
     "text": [
      "30\n"
     ]
    }
   ],
   "source": [
    "def OuterFun():\n",
    "    x=10\n",
    "    def InnerFun():\n",
    "        y=20\n",
    "        Total=x+y\n",
    "        return Total\n",
    "    return InnerFun #Returing function reference\n",
    "\n",
    "OO=OuterFun()\n",
    "print(OO())\n"
   ]
  },
  {
   "cell_type": "code",
   "execution_count": 20,
   "id": "748b9c39",
   "metadata": {},
   "outputs": [
    {
     "name": "stdout",
     "output_type": "stream",
     "text": [
      "10\n",
      "None\n"
     ]
    }
   ],
   "source": [
    "def OuterFun():\n",
    "    x=10\n",
    "    def InnerFun():\n",
    "        print(x)\n",
    "    return InnerFun()\n",
    "\n",
    "OO=OuterFun()\n",
    "print(OO)\n"
   ]
  },
  {
   "cell_type": "code",
   "execution_count": 7,
   "id": "db7d26f0",
   "metadata": {},
   "outputs": [
    {
     "name": "stdout",
     "output_type": "stream",
     "text": [
      "InnerFun\n"
     ]
    }
   ],
   "source": [
    "def OuterFun():\n",
    "    x=10\n",
    "    def InnerFun():\n",
    "        y=20\n",
    "        Total=x+y\n",
    "        return Total\n",
    "    return InnerFun #Returing function reference\n",
    "\n",
    "OO=OuterFun()\n",
    "print(OO.__name__)"
   ]
  },
  {
   "cell_type": "code",
   "execution_count": 8,
   "id": "21d22a4d",
   "metadata": {},
   "outputs": [
    {
     "name": "stdout",
     "output_type": "stream",
     "text": [
      "Hi\n",
      "Hello\n"
     ]
    }
   ],
   "source": [
    "def Outer_Func(msg):\n",
    "    message=msg\n",
    "    def Inner_Func():\n",
    "        print(message)\n",
    "    return Inner_Func\n",
    "hi_func=Outer_Func(\"Hi\")\n",
    "hello_func=Outer_Func(\"Hello\")\n",
    "hi_func()\n",
    "hello_func() \n"
   ]
  },
  {
   "cell_type": "code",
   "execution_count": 9,
   "id": "a0912ccc",
   "metadata": {},
   "outputs": [
    {
     "name": "stdout",
     "output_type": "stream",
     "text": [
      "Hello\n"
     ]
    }
   ],
   "source": [
    "def Fun():\n",
    "    print(\"Hello\")\n",
    "#print(Fun)\n",
    "Gun=Fun\n",
    "#print(Gun)\n",
    "Gun()\n"
   ]
  },
  {
   "cell_type": "code",
   "execution_count": 21,
   "id": "4f34ea3a",
   "metadata": {},
   "outputs": [
    {
     "name": "stdout",
     "output_type": "stream",
     "text": [
      "PYTHON\n"
     ]
    }
   ],
   "source": [
    "def Outer_Func():\n",
    "    Msg=\"PYTHON\"\n",
    "    def Inner_Func():\n",
    "        print(Msg)\n",
    "    return Inner_Func\n",
    "My_Func=Outer_Func()\n",
    "My_Func()\n"
   ]
  },
  {
   "cell_type": "code",
   "execution_count": 1,
   "id": "e92a9f86",
   "metadata": {},
   "outputs": [
    {
     "name": "stdout",
     "output_type": "stream",
     "text": [
      "Feature-1\n"
     ]
    }
   ],
   "source": [
    "def NorFun():\n",
    "    print(\"Feature-1\")\n",
    "NorFun()"
   ]
  },
  {
   "cell_type": "code",
   "execution_count": 11,
   "id": "79a86679",
   "metadata": {},
   "outputs": [
    {
     "name": "stdout",
     "output_type": "stream",
     "text": [
      "Feature-1\n",
      "Feature-2\n",
      "Feature-3\n"
     ]
    }
   ],
   "source": [
    "def DecFun(func):\n",
    "    def Addon():\n",
    "        func()\n",
    "        print(\"Feature-2\")\n",
    "        print(\"Feature-3\")\n",
    "    return Addon\n",
    "\n",
    "def NorFun():\n",
    "    print(\"Feature-1\")\n",
    "NorFun=DecFun(NorFun) #=> Best for Debug\n",
    "NorFun()\n"
   ]
  },
  {
   "cell_type": "code",
   "execution_count": 31,
   "id": "b0651756",
   "metadata": {},
   "outputs": [
    {
     "name": "stdout",
     "output_type": "stream",
     "text": [
      "Feature-1\n",
      "Feature-2\n",
      "Feature-3\n"
     ]
    }
   ],
   "source": [
    "def DecFun(func):\n",
    "    def Addon():\n",
    "        #func()\n",
    "        print(\"Feature-1\")\n",
    "        func()\n",
    "        print(\"Feature-3\")\n",
    "        #func()\n",
    "    return Addon\n",
    "\n",
    "@DecFun\n",
    "def NorFun():\n",
    "    print(\"Feature-2\")\n",
    "NorFun() #=> Best for Debug"
   ]
  },
  {
   "cell_type": "code",
   "execution_count": 17,
   "id": "6191e8c3",
   "metadata": {},
   "outputs": [
    {
     "name": "stdout",
     "output_type": "stream",
     "text": [
      "Added New Functionality\n",
      "My Original Function\n"
     ]
    }
   ],
   "source": [
    "def MyDecor(func):\n",
    "    def MyInner():\n",
    "        #func()\n",
    "        print(\"Added New Functionality\")\n",
    "        func()\n",
    "    return MyInner\n",
    "\n",
    "@MyDecor\n",
    "def MyOrginal():\n",
    "    print(\"My Original Function\")\n",
    "MyOrginal()\n"
   ]
  },
  {
   "cell_type": "code",
   "execution_count": 27,
   "id": "78f079f3",
   "metadata": {},
   "outputs": [
    {
     "name": "stdout",
     "output_type": "stream",
     "text": [
      "Prepare Well\n",
      "Congratulations..!!\n",
      "Say Hey You are PASS\n"
     ]
    }
   ],
   "source": [
    "def Success(func):\n",
    "    def Study():\n",
    "        print(\"Prepare Well\")\n",
    "        #func()\n",
    "        print(\"Congratulations..!!\")\n",
    "        func()\n",
    "    return Study\n",
    "\n",
    "@Success\n",
    "def MyFun():\n",
    "    print(\"Say Hey You are PASS\")\n",
    "MyFun()"
   ]
  },
  {
   "cell_type": "code",
   "execution_count": 32,
   "id": "44c02474",
   "metadata": {},
   "outputs": [
    {
     "name": "stdout",
     "output_type": "stream",
     "text": [
      "2.0\n",
      "1.0\n"
     ]
    }
   ],
   "source": [
    "def Div(x,y):\n",
    "    return x/y\n",
    "print(Div(2,1))\n",
    "print(Div(2,2))\n"
   ]
  },
  {
   "cell_type": "code",
   "execution_count": 33,
   "id": "0f6ab8f6",
   "metadata": {},
   "outputs": [
    {
     "name": "stdout",
     "output_type": "stream",
     "text": [
      "2.0\n",
      "SorryUnableToCompute\n",
      "1.0\n"
     ]
    }
   ],
   "source": [
    "def DivUpdate(func):\n",
    "    def Inner(a,b):\n",
    "        if b==0:\n",
    "            print(\"SorryUnableToCompute\")\n",
    "        else:\n",
    "            return func(a,b)\n",
    "    return Inner\n",
    "\n",
    "@DivUpdate #Callable\n",
    "def Div(a,b):\n",
    "    return a/b\n",
    "print(Div(2,1))##=> Best for Debug\n",
    "Div(2,0)\n",
    "print(Div(2,2))"
   ]
  },
  {
   "cell_type": "code",
   "execution_count": 39,
   "id": "82f4c036",
   "metadata": {},
   "outputs": [
    {
     "name": "stdout",
     "output_type": "stream",
     "text": [
      "My Original Function\n",
      "New Functionality for Decorator One\n",
      "New Functionality for Decorator Two\n"
     ]
    }
   ],
   "source": [
    "def MyDecor_Two(func):\n",
    "    def MyInner_Two():\n",
    "        func()\n",
    "        print(\"New Functionality for Decorator Two\")\n",
    "        #func()\n",
    "    return MyInner_Two\n",
    "\n",
    "def MyDecor_One(func):\n",
    "    def MyInner_One():\n",
    "        func()\n",
    "        print(\"New Functionality for Decorator One\")\n",
    "        #func()\n",
    "    return MyInner_One\n",
    "\n",
    "@MyDecor_Two\n",
    "@MyDecor_One\n",
    "def MyOrginal():\n",
    "    print(\"My Original Function\")\n",
    "MyOrginal()"
   ]
  },
  {
   "cell_type": "code",
   "execution_count": 3,
   "id": "8893fc23",
   "metadata": {},
   "outputs": [
    {
     "ename": "NameError",
     "evalue": "name 'closures' is not defined",
     "output_type": "error",
     "traceback": [
      "\u001b[1;31m---------------------------------------------------------------------------\u001b[0m",
      "\u001b[1;31mNameError\u001b[0m                                 Traceback (most recent call last)",
      "\u001b[1;32m<ipython-input-3-f6d31919f157>\u001b[0m in \u001b[0;36m<module>\u001b[1;34m\u001b[0m\n\u001b[1;32m----> 1\u001b[1;33m \u001b[0mclosures\u001b[0m\u001b[1;33m.\u001b[0m\u001b[0mipynb\u001b[0m\u001b[1;33m\u001b[0m\u001b[1;33m\u001b[0m\u001b[0m\n\u001b[0m\u001b[0;32m      2\u001b[0m \u001b[1;32mimport\u001b[0m \u001b[0mhello\u001b[0m\u001b[1;33m\u001b[0m\u001b[1;33m\u001b[0m\u001b[0m\n\u001b[0;32m      3\u001b[0m \u001b[1;32mimport\u001b[0m \u001b[0mabc\u001b[0m\u001b[1;33m\u001b[0m\u001b[1;33m\u001b[0m\u001b[0m\n\u001b[0;32m      4\u001b[0m \u001b[0mhello\u001b[0m\u001b[1;33m.\u001b[0m\u001b[0mhello\u001b[0m\u001b[1;33m(\u001b[0m\u001b[1;33m)\u001b[0m\u001b[1;33m\u001b[0m\u001b[1;33m\u001b[0m\u001b[0m\n\u001b[0;32m      5\u001b[0m \u001b[0mabc\u001b[0m\u001b[1;33m.\u001b[0m\u001b[0mhellopython\u001b[0m\u001b[1;33m(\u001b[0m\u001b[1;33m)\u001b[0m\u001b[1;33m\u001b[0m\u001b[1;33m\u001b[0m\u001b[0m\n",
      "\u001b[1;31mNameError\u001b[0m: name 'closures' is not defined"
     ]
    }
   ],
   "source": []
  },
  {
   "cell_type": "code",
   "execution_count": 1,
   "id": "888a3c25",
   "metadata": {},
   "outputs": [
    {
     "name": "stdout",
     "output_type": "stream",
     "text": [
      "X value is:  100\n",
      "Y value is:  200\n",
      "Y value is:  200\n"
     ]
    }
   ],
   "source": [
    "y=200\n",
    "def InnerFunction():\n",
    "    x=100\n",
    "    print(\"X value is: \",x)\n",
    "    print(\"Y value is: \",y)\n",
    "InnerFunction()\n",
    "print(\"Y value is: \",y)\n"
   ]
  },
  {
   "cell_type": "code",
   "execution_count": 2,
   "id": "90ac3b9b",
   "metadata": {},
   "outputs": [
    {
     "name": "stdout",
     "output_type": "stream",
     "text": [
      "400\n",
      "640\n"
     ]
    }
   ],
   "source": [
    "x=40#Global Scope\n",
    "def Scope_Variables1():\n",
    "    x=200#Local Scope\n",
    "    print(x+x)#Local+Local\n",
    "    return\n",
    "Scope_Variables1()\n",
    "def Scope_Variables2():\n",
    "    z=600#Local SCope\n",
    "    print(x+z)#Global+Local\n",
    "    return\n",
    "Scope_Variables2()\n"
   ]
  },
  {
   "cell_type": "code",
   "execution_count": 15,
   "id": "313700a4",
   "metadata": {},
   "outputs": [
    {
     "name": "stdout",
     "output_type": "stream",
     "text": [
      "OutSide Y value is:  200\n"
     ]
    }
   ],
   "source": [
    "y=200\n",
    "def InnerFunction():\n",
    "    x=100\n",
    "    y=y+1\n",
    "    print(\"Inside X value is: \",x)\n",
    "    print(\"Inside Y value is: \",y)\n",
    "    InnerFunction()\n",
    "print(\"OutSide Y value is: \",y)\n"
   ]
  },
  {
   "cell_type": "code",
   "execution_count": 16,
   "id": "a56be122",
   "metadata": {},
   "outputs": [
    {
     "name": "stdout",
     "output_type": "stream",
     "text": [
      "Inside X value is:  100\n",
      "Inside Y value is:  201\n",
      "OutSide Y value is:  201\n"
     ]
    }
   ],
   "source": [
    "y=200\n",
    "def InnerFunction():\n",
    "    x=100\n",
    "    global y\n",
    "    y=y+1\n",
    "    print(\"Inside X value is: \",x)\n",
    "    print(\"Inside Y value is: \",y)\n",
    "InnerFunction()\n",
    "print(\"OutSide Y value is: \",y)"
   ]
  },
  {
   "cell_type": "code",
   "execution_count": 17,
   "id": "ea9918e1",
   "metadata": {},
   "outputs": [
    {
     "name": "stdout",
     "output_type": "stream",
     "text": [
      "X Value is:  5\n",
      "Inside Y value is:  20\n",
      "Z Value is:  10\n"
     ]
    }
   ],
   "source": [
    "y=20 #Global Scope\n",
    "def OuterFunction():#Enclosed Function \n",
    "    #Enclosed Scope\n",
    "    #We can't access z outside the OuterFunction\n",
    "    z=10\n",
    "    def InnerFunction():#Inner/Nested Function\n",
    "        #Local Scope\n",
    "        x=5\n",
    "        print(\"X Value is: \",x)\n",
    "        print(\"Inside Y value is: \",y)\n",
    "    InnerFunction()\n",
    "    print(\"Z Value is: \",z)\n",
    "OuterFunction()\n"
   ]
  },
  {
   "cell_type": "code",
   "execution_count": 18,
   "id": "2e355f1d",
   "metadata": {},
   "outputs": [
    {
     "name": "stdout",
     "output_type": "stream",
     "text": [
      "X Value is:  5\n",
      "Inside Z value is:  102\n",
      "Z Value is:  102\n"
     ]
    }
   ],
   "source": [
    "y=20 #Globa;\n",
    "def OuterFunction():\n",
    "    z=100#Enclosed\n",
    "    def InnerFunction():\n",
    "        x=5#Local\n",
    "        nonlocal z\n",
    "        z=z+2\n",
    "        print(\"X Value is: \",x)\n",
    "        print(\"Inside Z value is: \",z)\n",
    "    InnerFunction()\n",
    "    print(\"Z Value is: \",z)\n",
    "OuterFunction()"
   ]
  },
  {
   "cell_type": "code",
   "execution_count": 22,
   "id": "beea2665",
   "metadata": {},
   "outputs": [
    {
     "name": "stdout",
     "output_type": "stream",
     "text": [
      "Welcome\n",
      "0 1 2 3 4\n"
     ]
    }
   ],
   "source": [
    "print(\"Welcome\")\n",
    "print(*range(0,5))\n"
   ]
  },
  {
   "cell_type": "code",
   "execution_count": 23,
   "id": "d5a92153",
   "metadata": {},
   "outputs": [
    {
     "name": "stdout",
     "output_type": "stream",
     "text": [
      "X value is:  3\n"
     ]
    }
   ],
   "source": [
    "x=1\n",
    "def OuterFunction():\n",
    "    #Enclosed Scope\n",
    "    x=2\n",
    "    def InnerFunction():\n",
    "        #Local Scope\n",
    "        x=3\n",
    "        print(\"X value is: \",x)\n",
    "    InnerFunction()\n",
    "OuterFunction()"
   ]
  },
  {
   "cell_type": "code",
   "execution_count": null,
   "id": "c9080f21",
   "metadata": {},
   "outputs": [],
   "source": []
  },
  {
   "cell_type": "code",
   "execution_count": null,
   "id": "e52d8ae9",
   "metadata": {},
   "outputs": [],
   "source": []
  },
  {
   "cell_type": "code",
   "execution_count": null,
   "id": "7dbb3bb5",
   "metadata": {},
   "outputs": [],
   "source": []
  },
  {
   "cell_type": "code",
   "execution_count": null,
   "id": "6f3635a1",
   "metadata": {},
   "outputs": [],
   "source": []
  },
  {
   "cell_type": "code",
   "execution_count": null,
   "id": "93c0ec74",
   "metadata": {},
   "outputs": [],
   "source": []
  },
  {
   "cell_type": "code",
   "execution_count": null,
   "id": "9cf2863a",
   "metadata": {},
   "outputs": [],
   "source": []
  },
  {
   "cell_type": "code",
   "execution_count": null,
   "id": "6409b89c",
   "metadata": {},
   "outputs": [],
   "source": []
  },
  {
   "cell_type": "code",
   "execution_count": null,
   "id": "3c89fb13",
   "metadata": {},
   "outputs": [],
   "source": []
  },
  {
   "cell_type": "code",
   "execution_count": null,
   "id": "96d56690",
   "metadata": {},
   "outputs": [],
   "source": []
  },
  {
   "cell_type": "code",
   "execution_count": null,
   "id": "9a588ae5",
   "metadata": {},
   "outputs": [],
   "source": []
  }
 ],
 "metadata": {
  "kernelspec": {
   "display_name": "Python 3",
   "language": "python",
   "name": "python3"
  },
  "language_info": {
   "codemirror_mode": {
    "name": "ipython",
    "version": 3
   },
   "file_extension": ".py",
   "mimetype": "text/x-python",
   "name": "python",
   "nbconvert_exporter": "python",
   "pygments_lexer": "ipython3",
   "version": "3.8.8"
  }
 },
 "nbformat": 4,
 "nbformat_minor": 5
}
