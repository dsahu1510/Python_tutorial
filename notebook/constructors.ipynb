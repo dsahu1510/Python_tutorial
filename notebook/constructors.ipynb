{
 "cells": [
  {
   "cell_type": "code",
   "execution_count": 1,
   "id": "7cc2f5fd",
   "metadata": {},
   "outputs": [
    {
     "name": "stdout",
     "output_type": "stream",
     "text": [
      "Hello I am Always First Get Executed\n",
      "Thank U\n"
     ]
    }
   ],
   "source": [
    "class MyBanking():\n",
    "    def __init__(self):\n",
    "        print(\"Hello I am Always First Get Executed\")\n",
    "        print(\"Thank U\")\n",
    "#Creating an Object\n",
    "MM=MyBanking() "
   ]
  },
  {
   "cell_type": "code",
   "execution_count": 2,
   "id": "5c6805e5",
   "metadata": {},
   "outputs": [
    {
     "name": "stdout",
     "output_type": "stream",
     "text": [
      "Hello I am Always First Get Executed\n",
      "Thank U\n",
      "My Name is:  PYTHON\n"
     ]
    }
   ],
   "source": [
    "class MyBanking():\n",
    "    def __init__(self,name):\n",
    "        print(\"Hello I am Always First Get Executed\")\n",
    "        print(\"Thank U\")\n",
    "      #Instance Variable is name\n",
    "        self.name=name\n",
    "        print(\"My Name is: \",self.name)\n",
    "#Creating Object or Instance/Driver Code\n",
    "MM=MyBanking(\"PYTHON\")\n"
   ]
  },
  {
   "cell_type": "code",
   "execution_count": 5,
   "id": "84bf3b96",
   "metadata": {},
   "outputs": [
    {
     "name": "stdout",
     "output_type": "stream",
     "text": [
      "The number of students: 3\n"
     ]
    }
   ],
   "source": [
    "class Student:    \n",
    "    count = 0  \n",
    "    def __init__(self):    \n",
    "        Student.count = Student.count + 1    \n",
    "s1=Student()    \n",
    "s2=Student()    \n",
    "s3=Student()    \n",
    "print(\"The number of students:\",Student.count)\n"
   ]
  },
  {
   "cell_type": "code",
   "execution_count": 8,
   "id": "bdd7466a",
   "metadata": {},
   "outputs": [
    {
     "name": "stdout",
     "output_type": "stream",
     "text": [
      "Air & Water\n",
      "Height of Ram is 6\n",
      "Height of Ram is 70\n",
      "Ram is eating Pizza\n",
      "Height of Scott is 6\n",
      "Height of Scott is 76\n",
      "Ram is eating Big Burger\n"
     ]
    }
   ],
   "source": [
    "class Human():\n",
    "    life=\"Air & Water\"\n",
    "    #Instance Attributes\n",
    "    def __init__(self,name,height,weight):\n",
    "        self.name=name\n",
    "        self.height=height\n",
    "        self.weight=weight\n",
    "    #Instance Method\n",
    "    def Eating(self,food):\n",
    "        return \"{} is eating {}\".format(self.name,food)\n",
    "#Creating object of human class\n",
    "Ram=Human('Ram',6,70)\n",
    "Scott=Human('Scott',6,76)\n",
    "print(Human.life)#Accessing class level variable\n",
    "print(\"Height of {} is {}\".format(Ram.name,Ram.height))\n",
    "print(\"Height of {} is {}\".format(Ram.name,Ram.weight))\n",
    "print(Ram.Eating(\"Pizza\"))\n",
    "print(\"Height of {} is {}\".format(Scott.name,Scott.height))\n",
    "print(\"Height of {} is {}\".format(Scott.name,Scott.weight))\n",
    "print(Ram.Eating(\"Big Burger\"))\n"
   ]
  },
  {
   "cell_type": "code",
   "execution_count": 12,
   "id": "1a4de2da",
   "metadata": {},
   "outputs": [
    {
     "name": "stdout",
     "output_type": "stream",
     "text": [
      "Apple\n",
      "Grapes\n",
      "Papaya\n",
      "\n",
      "Apple\n",
      "Papaya\n"
     ]
    }
   ],
   "source": [
    "class Basket():\n",
    "    def __init__(self):\n",
    "        self.basket=[]\n",
    "    \n",
    "    #Creating Instance Methods\n",
    "    def Fill(self,fruit):\n",
    "        self.basket.append(fruit)\n",
    "        \n",
    "    def Delete(self,fruit):\n",
    "        if fruit in self.basket:\n",
    "            self.basket.remove(fruit)\n",
    "            \n",
    "    def Show(self):\n",
    "        for fruit  in self.basket:\n",
    "            print(fruit)\n",
    "Obj=Basket()\n",
    "Obj.Fill(\"Apple\")\n",
    "Obj.Fill(\"Grapes\")\n",
    "Obj.Fill(\"Papaya\")\n",
    "Obj.Show()\n",
    "print()\n",
    "Obj.Delete(\"Grapes\")\n",
    "Obj.Show()"
   ]
  },
  {
   "cell_type": "code",
   "execution_count": 16,
   "id": "b323ede6",
   "metadata": {},
   "outputs": [
    {
     "name": "stdout",
     "output_type": "stream",
     "text": [
      "Hello I am Always First Get Executed\n",
      "Welcome to Display Method\n",
      "Good Bye\n"
     ]
    }
   ],
   "source": [
    "class MyBanking():\n",
    "    def __init__(self):\n",
    "        print(\"Hello I am Always First Get Executed\")\n",
    "    def Display(self):\n",
    "        print(\"Welcome to Display Method\")\n",
    "        print(\"Good Bye\")\n",
    "#Creating Object or Instance\n",
    "MM=MyBanking()\n",
    "MM.Display()"
   ]
  },
  {
   "cell_type": "code",
   "execution_count": 19,
   "id": "fc51a3cc",
   "metadata": {},
   "outputs": [
    {
     "name": "stdout",
     "output_type": "stream",
     "text": [
      "Hello Raju\n"
     ]
    }
   ],
   "source": [
    "class person:\n",
    "    def __init__(self,name):\n",
    "        self.name=name\n",
    "    def display(self):\n",
    "        print(\"Hello\",self.name)\n",
    "        return\n",
    "MyObj=person('Raju')\n",
    "MyObj.display()\n"
   ]
  },
  {
   "cell_type": "code",
   "execution_count": 26,
   "id": "34bc1a49",
   "metadata": {},
   "outputs": [
    {
     "name": "stdout",
     "output_type": "stream",
     "text": [
      "Hello Raju\n"
     ]
    }
   ],
   "source": [
    "class person:\n",
    "    def __init__(self,name):\n",
    "        self.n=name\n",
    "    def display(self):\n",
    "        print(\"Hello\",self.n)\n",
    "        return\n",
    "person('Raju').display()\n"
   ]
  },
  {
   "cell_type": "code",
   "execution_count": 27,
   "id": "6ab7bbdc",
   "metadata": {},
   "outputs": [
    {
     "name": "stdout",
     "output_type": "stream",
     "text": [
      "Hello Name is: KSRaju\n",
      "Employee ID is: 1139\n",
      "Employee Location is: HYD\n"
     ]
    }
   ],
   "source": [
    "class Employee():\n",
    "    def __init__(self,name,eid,loc):\n",
    "        self.name=name\n",
    "        self.eid=eid\n",
    "        self.loc=loc\n",
    "    def eDetails(self):\n",
    "        print(\"Hello Name is:\",self.name)\n",
    "        print(\"Employee ID is:\",self.eid)\n",
    "        print(\"Employee Location is:\",self.loc)\n",
    "Emp=Employee(\"KSRaju\",1139,\"HYD\")\n",
    "Emp.eDetails()\n"
   ]
  },
  {
   "cell_type": "code",
   "execution_count": 30,
   "id": "ce2c87b1",
   "metadata": {},
   "outputs": [
    {
     "name": "stdout",
     "output_type": "stream",
     "text": [
      "Hello Name is: Raju\n",
      "Employee ID is: 101\n",
      "Employee Location is: HYD\n"
     ]
    }
   ],
   "source": [
    "class Employee():\n",
    "    def eDetails(self):\n",
    "        print(\"Hello Name is:\",self.name)\n",
    "        print(\"Employee ID is:\",self.eid)\n",
    "        print(\"Employee Location is:\",self.loc)\n",
    "Emp=Employee()\n",
    "Emp.name='Raju'\n",
    "Emp.eid=101\n",
    "Emp.loc=\"HYD\"\n",
    "Emp.eDetails()"
   ]
  },
  {
   "cell_type": "code",
   "execution_count": 31,
   "id": "e57f7463",
   "metadata": {},
   "outputs": [
    {
     "name": "stdout",
     "output_type": "stream",
     "text": [
      "Hello Name is: Raju\n",
      "Employee ID is: 1001\n",
      "Employee Location is: Hyd\n"
     ]
    }
   ],
   "source": [
    "class Employee():\n",
    "    def Emp(self,Name,Id,Loc):\n",
    "        self.Name=Name\n",
    "        self.Id=Id\n",
    "        self.Loc=Loc\n",
    "        \n",
    "    def eDetails(self):\n",
    "        print(\"Hello Name is:\",self.Name)\n",
    "        print(\"Employee ID is:\",self.Id)\n",
    "        print(\"Employee Location is:\",self.Loc)\n",
    "\n",
    "EE=Employee()\n",
    "EE.Emp(\"Raju\",1001,'Hyd')\n",
    "EE.eDetails()\n"
   ]
  },
  {
   "cell_type": "code",
   "execution_count": 33,
   "id": "154b8ca0",
   "metadata": {},
   "outputs": [
    {
     "name": "stdout",
     "output_type": "stream",
     "text": [
      "Hei I am a Constructor.!\n",
      "Hei I am a Constructor.!\n",
      "Hei I am a Constructor.!\n",
      "Hello I am a Method.!\n"
     ]
    }
   ],
   "source": [
    "class Test():\n",
    "    def __init__(self): \n",
    "        print(\"Hei I am a Constructor.!\")\n",
    "    def Method(self):\n",
    "        print(\"Hello I am a Method.!\")\n",
    "Tst_One=Test()\n",
    "Tst_Two=Test()\n",
    "Tst_Three=Test()\n",
    "Tst_Two.Method()"
   ]
  },
  {
   "cell_type": "code",
   "execution_count": 34,
   "id": "93a7263c",
   "metadata": {},
   "outputs": [
    {
     "name": "stdout",
     "output_type": "stream",
     "text": [
      "Hei Constructor\n",
      "86366096\n",
      "Hei Constructor\n",
      "86366096\n",
      "Hei Constructor\n",
      "86366096\n"
     ]
    }
   ],
   "source": [
    "class Me():\n",
    "    def __init__(self):\n",
    "        print(\"Hei Constructor\")\n",
    "        print(id(self))\n",
    "MM=Me()\n",
    "MM.__init__()\n",
    "MM.__init__()\n"
   ]
  },
  {
   "cell_type": "code",
   "execution_count": 39,
   "id": "4755b7fe",
   "metadata": {},
   "outputs": [
    {
     "name": "stdout",
     "output_type": "stream",
     "text": [
      "4\n"
     ]
    }
   ],
   "source": [
    "import sys\n",
    "class Bank():\n",
    "    pass\n",
    "BB=Bank()\n",
    "BB1=BB\n",
    "BB2=BB1\n",
    "print(sys.getrefcount(BB))"
   ]
  },
  {
   "cell_type": "code",
   "execution_count": 40,
   "id": "35c01ef2",
   "metadata": {},
   "outputs": [
    {
     "name": "stdout",
     "output_type": "stream",
     "text": [
      "101 Joseph\n"
     ]
    }
   ],
   "source": [
    "class Student:  \n",
    "    roll_num = 101  \n",
    "    name = \"Joseph\"  \n",
    "    def display(self):  \n",
    "        print(self.roll_num,self.name)  \n",
    "      \n",
    "st = Student()  \n",
    "st.display()"
   ]
  },
  {
   "cell_type": "code",
   "execution_count": null,
   "id": "80079d0d",
   "metadata": {},
   "outputs": [],
   "source": []
  }
 ],
 "metadata": {
  "kernelspec": {
   "display_name": "Python 3",
   "language": "python",
   "name": "python3"
  },
  "language_info": {
   "codemirror_mode": {
    "name": "ipython",
    "version": 3
   },
   "file_extension": ".py",
   "mimetype": "text/x-python",
   "name": "python",
   "nbconvert_exporter": "python",
   "pygments_lexer": "ipython3",
   "version": "3.8.8"
  }
 },
 "nbformat": 4,
 "nbformat_minor": 5
}
