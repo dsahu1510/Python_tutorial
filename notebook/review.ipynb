{
 "cells": [
  {
   "cell_type": "code",
   "execution_count": 1,
   "id": "27b4008c",
   "metadata": {},
   "outputs": [
    {
     "name": "stdout",
     "output_type": "stream",
     "text": [
      "n\n"
     ]
    }
   ],
   "source": [
    "names = ['Amir', 'Bear', 'Charlton', 'Daman']\n",
    "print(names[-1][-1])\n"
   ]
  },
  {
   "cell_type": "code",
   "execution_count": 4,
   "id": "0d84aaa3",
   "metadata": {},
   "outputs": [
    {
     "name": "stdout",
     "output_type": "stream",
     "text": [
      "[0.0, 0.5, 1.0, 1.5]\n"
     ]
    }
   ],
   "source": [
    "list1 = [0.5 * x for x in range(0, 4)]\n",
    "print(list1)"
   ]
  },
  {
   "cell_type": "code",
   "execution_count": 1,
   "id": "0d66e7ae",
   "metadata": {},
   "outputs": [
    {
     "data": {
      "text/plain": [
       "['welcome', 'to', 'python']"
      ]
     },
     "execution_count": 1,
     "metadata": {},
     "output_type": "execute_result"
    }
   ],
   "source": [
    "\"welcome to python\".split()"
   ]
  },
  {
   "cell_type": "code",
   "execution_count": 7,
   "id": "4f5b89ae",
   "metadata": {},
   "outputs": [
    {
     "data": {
      "text/plain": [
       "['a', 'b', 'c', 'd']"
      ]
     },
     "execution_count": 7,
     "metadata": {},
     "output_type": "execute_result"
    }
   ],
   "source": [
    "list(\"a#b#c#d\".split('#'))"
   ]
  },
  {
   "cell_type": "code",
   "execution_count": 8,
   "id": "3e2282fe",
   "metadata": {},
   "outputs": [
    {
     "name": "stdout",
     "output_type": "stream",
     "text": [
      "[44, 2, 3]\n"
     ]
    }
   ],
   "source": [
    "def f(values):\n",
    "  values[0] = 44\n",
    "v = [1, 2, 3]\n",
    "f(v)\n",
    "print(v)\n"
   ]
  },
  {
   "cell_type": "code",
   "execution_count": 11,
   "id": "448849b5",
   "metadata": {},
   "outputs": [
    {
     "name": "stdout",
     "output_type": "stream",
     "text": [
      "[(0, 1, 2), (1, 2, 3), (2, 3, 4)]\n"
     ]
    }
   ],
   "source": [
    "m = [(x, x + 1, x + 2) for x in range(0, 3)]\n",
    "print(m)"
   ]
  },
  {
   "cell_type": "code",
   "execution_count": 12,
   "id": "eed3daee",
   "metadata": {},
   "outputs": [
    {
     "name": "stdout",
     "output_type": "stream",
     "text": [
      "5\n"
     ]
    }
   ],
   "source": [
    "data = [[[1, 2], [3, 4]], [[5, 6], [7, 8]]]\n",
    "print(data[1][0][0])\n"
   ]
  },
  {
   "cell_type": "code",
   "execution_count": 16,
   "id": "9ff420b2",
   "metadata": {},
   "outputs": [
    {
     "name": "stdout",
     "output_type": "stream",
     "text": [
      "[[0.5, 0.5], [1, 2], [3, 1.5]]\n"
     ]
    }
   ],
   "source": [
    "points = [[1, 2], [3, 1.5], [0.5, 0.5]]\n",
    "points.sort()\n",
    "print(points)\n"
   ]
  },
  {
   "cell_type": "code",
   "execution_count": 20,
   "id": "502dcc6b",
   "metadata": {},
   "outputs": [
    {
     "name": "stdout",
     "output_type": "stream",
     "text": [
      "[10, 23, 56, [95]]\n"
     ]
    }
   ],
   "source": [
    "a=[10,23,56,[78]]\n",
    "b=list(a)\n",
    "a[3][0]=95\n",
    "a[1]=34\n",
    "print(b)\n"
   ]
  },
  {
   "cell_type": "code",
   "execution_count": 21,
   "id": "324e2838",
   "metadata": {},
   "outputs": [
    {
     "name": "stdout",
     "output_type": "stream",
     "text": [
      "[3, 7, 8, 6, 1, 2]\n"
     ]
    }
   ],
   "source": [
    "lst=[3,4,6,1,2]\n",
    "lst[1:2]=[7,8]\n",
    "print(lst)\n"
   ]
  },
  {
   "cell_type": "code",
   "execution_count": 24,
   "id": "c5c818aa",
   "metadata": {},
   "outputs": [
    {
     "name": "stdout",
     "output_type": "stream",
     "text": [
      "['Ball', 'Apple', 'Cobra']\n"
     ]
    }
   ],
   "source": [
    "a=[\"Apple\",\"Ball\",\"Cobra\"]\n",
    "a.sort(key=len)\n",
    "print(a)\n"
   ]
  },
  {
   "cell_type": "code",
   "execution_count": 32,
   "id": "9cc5929e",
   "metadata": {},
   "outputs": [
    {
     "name": "stdout",
     "output_type": "stream",
     "text": [
      "[1.0, 0.5, 0.3333333333333333]\n"
     ]
    }
   ],
   "source": [
    "print(list(map(lambda x: x**-1, [1, 2, 3])))"
   ]
  },
  {
   "cell_type": "code",
   "execution_count": 39,
   "id": "9aae336d",
   "metadata": {},
   "outputs": [
    {
     "name": "stdout",
     "output_type": "stream",
     "text": [
      "False\n",
      "4\n",
      "4\n"
     ]
    }
   ],
   "source": [
    "t=(1, 2, 4, 3)\n",
    "print(t[3]==12)\n",
    "print(max(t))\n",
    "print(len(t))\n"
   ]
  },
  {
   "cell_type": "code",
   "execution_count": 45,
   "id": "690fae63",
   "metadata": {},
   "outputs": [
    {
     "name": "stdout",
     "output_type": "stream",
     "text": [
      "(1, 2, 3, 4)\n"
     ]
    }
   ],
   "source": [
    "a=(1,2)\n",
    "b=(3,4)\n",
    "c=a+b\n",
    "print(c)\n"
   ]
  },
  {
   "cell_type": "code",
   "execution_count": 41,
   "id": "49375a21",
   "metadata": {},
   "outputs": [
    {
     "name": "stdout",
     "output_type": "stream",
     "text": [
      "[(1, 2), (2, 4), (3, 9)]\n"
     ]
    }
   ],
   "source": [
    "a=[(2,4),(1,2),(3,9)]\n",
    "a.sort()\n",
    "print(a)\n"
   ]
  },
  {
   "cell_type": "code",
   "execution_count": 46,
   "id": "c23d7e24",
   "metadata": {},
   "outputs": [
    {
     "name": "stdout",
     "output_type": "stream",
     "text": [
      "{5, 6, 10, 11}\n"
     ]
    }
   ],
   "source": [
    "a={5,6,7,8}\n",
    "b={7,8,10,11}\n",
    "print(a^b)\n"
   ]
  },
  {
   "cell_type": "code",
   "execution_count": 47,
   "id": "74d848a2",
   "metadata": {},
   "outputs": [
    {
     "name": "stdout",
     "output_type": "stream",
     "text": [
      "True\n"
     ]
    }
   ],
   "source": [
    "a={5,6,7,8}\n",
    "b={7,5,6,8}\n",
    "print(a==b)\n",
    "\n"
   ]
  },
  {
   "cell_type": "code",
   "execution_count": 51,
   "id": "15981ea1",
   "metadata": {},
   "outputs": [
    {
     "name": "stdout",
     "output_type": "stream",
     "text": [
      "{1, 2, 3}\n"
     ]
    }
   ],
   "source": [
    "a={1,2,3}\n",
    "b=a.copy()\n",
    "b.add(4)\n",
    "print(a)\n"
   ]
  },
  {
   "cell_type": "code",
   "execution_count": 55,
   "id": "8dd69ca0",
   "metadata": {},
   "outputs": [
    {
     "name": "stdout",
     "output_type": "stream",
     "text": [
      "True\n"
     ]
    }
   ],
   "source": [
    "a={1,2,3,4,5}\n",
    "b={1,2,3}\n",
    "c=b.issubset(a)\n",
    "print(c)\n"
   ]
  },
  {
   "cell_type": "code",
   "execution_count": 62,
   "id": "8ce2c898",
   "metadata": {},
   "outputs": [
    {
     "name": "stdout",
     "output_type": "stream",
     "text": [
      "pppqqqrrr"
     ]
    }
   ],
   "source": [
    "for x in set('pqr'):\n",
    "    print(x*3,end='')\n"
   ]
  },
  {
   "cell_type": "code",
   "execution_count": 63,
   "id": "2c054775",
   "metadata": {},
   "outputs": [
    {
     "name": "stdout",
     "output_type": "stream",
     "text": [
      "{1, 2}\n",
      "{4, 5, 6}\n"
     ]
    }
   ],
   "source": [
    "s1={1, 2, 3}\n",
    "s2={3, 4, 5, 6}\n",
    "print(s1.difference(s2))\n",
    "print(s2.difference(s1))\n",
    "\n"
   ]
  },
  {
   "cell_type": "code",
   "execution_count": 64,
   "id": "ceaebabb",
   "metadata": {},
   "outputs": [
    {
     "ename": "TypeError",
     "evalue": "unhashable type: 'set'",
     "output_type": "error",
     "traceback": [
      "\u001b[1;31m---------------------------------------------------------------------------\u001b[0m",
      "\u001b[1;31mTypeError\u001b[0m                                 Traceback (most recent call last)",
      "\u001b[1;32m<ipython-input-64-1c4fef8785c7>\u001b[0m in \u001b[0;36m<module>\u001b[1;34m\u001b[0m\n\u001b[1;32m----> 1\u001b[1;33m \u001b[0ma\u001b[0m\u001b[1;33m=\u001b[0m\u001b[1;33m{\u001b[0m\u001b[1;36m3\u001b[0m\u001b[1;33m,\u001b[0m\u001b[1;36m4\u001b[0m\u001b[1;33m,\u001b[0m\u001b[1;33m{\u001b[0m\u001b[1;36m7\u001b[0m\u001b[1;33m,\u001b[0m\u001b[1;36m5\u001b[0m\u001b[1;33m}\u001b[0m\u001b[1;33m}\u001b[0m\u001b[1;33m\u001b[0m\u001b[1;33m\u001b[0m\u001b[0m\n\u001b[0m\u001b[0;32m      2\u001b[0m \u001b[0mprint\u001b[0m\u001b[1;33m(\u001b[0m\u001b[0ma\u001b[0m\u001b[1;33m[\u001b[0m\u001b[1;36m2\u001b[0m\u001b[1;33m]\u001b[0m\u001b[1;33m[\u001b[0m\u001b[1;36m0\u001b[0m\u001b[1;33m]\u001b[0m\u001b[1;33m)\u001b[0m\u001b[1;33m\u001b[0m\u001b[1;33m\u001b[0m\u001b[0m\n",
      "\u001b[1;31mTypeError\u001b[0m: unhashable type: 'set'"
     ]
    }
   ],
   "source": [
    "a={3,4,{7,5}}\n",
    "print(a[2][0])\n"
   ]
  },
  {
   "cell_type": "code",
   "execution_count": 3,
   "id": "fb9c38db",
   "metadata": {},
   "outputs": [
    {
     "name": "stdout",
     "output_type": "stream",
     "text": [
      "var1[0] H\n",
      "var2[1:5] ares\n"
     ]
    }
   ],
   "source": [
    "var1 = \"Hello Nareshit\";\n",
    "var2 = \"Naresh\";\n",
    "print(\"var1[0]\",var1[0])\n",
    "print(\"var2[1:5]\",var2[1:5])"
   ]
  },
  {
   "cell_type": "code",
   "execution_count": 6,
   "id": "27bbd8b6",
   "metadata": {},
   "outputs": [
    {
     "data": {
      "text/plain": [
       "'0b10000b1000'"
      ]
     },
     "execution_count": 6,
     "metadata": {},
     "output_type": "execute_result"
    }
   ],
   "source": [
    "bin(10-2)+bin(12^4)"
   ]
  },
  {
   "cell_type": "code",
   "execution_count": 7,
   "id": "978517a9",
   "metadata": {},
   "outputs": [
    {
     "data": {
      "text/plain": [
       "'0b1000'"
      ]
     },
     "execution_count": 7,
     "metadata": {},
     "output_type": "execute_result"
    }
   ],
   "source": [
    "bin(8)"
   ]
  },
  {
   "cell_type": "code",
   "execution_count": 14,
   "id": "8de35565",
   "metadata": {},
   "outputs": [
    {
     "name": "stdout",
     "output_type": "stream",
     "text": [
      "morning\n"
     ]
    }
   ],
   "source": [
    "print(['hello','morning'][bool(True)])"
   ]
  },
  {
   "cell_type": "code",
   "execution_count": 1,
   "id": "8ae089c5",
   "metadata": {},
   "outputs": [
    {
     "name": "stdout",
     "output_type": "stream",
     "text": [
      "Please Enter Your Own String : hello and welcome to the python classes\n",
      "Total Number of Vowels in this String =  11\n"
     ]
    }
   ],
   "source": [
    "str1 = input(\"Please Enter Your Own String : \")\n",
    "vowels = 0\n",
    " \n",
    "for i in str1:\n",
    "    if(i == 'a' or i == 'e' or i == 'i' or i == 'o' or i == 'u' or i == 'A'\n",
    "       or i == 'E' or i == 'I' or i == 'O' or i == 'U'):\n",
    "        vowels = vowels + 1\n",
    " \n",
    "print(\"Total Number of Vowels in this String = \", vowels)"
   ]
  },
  {
   "cell_type": "code",
   "execution_count": 10,
   "id": "6bdfe501",
   "metadata": {},
   "outputs": [
    {
     "name": "stdout",
     "output_type": "stream",
     "text": [
      "Input a string101lkl\n",
      "Letters 3\n",
      "Digits 3\n"
     ]
    }
   ],
   "source": [
    "s = input(\"Input a string\")\n",
    "d=l=0\n",
    "for c in s:\n",
    "    if c.isdigit():\n",
    "        d=d+1\n",
    "    elif c.isalpha():\n",
    "        l=l+1\n",
    "    else:\n",
    "        pass\n",
    "print(\"Letters\", l)\n",
    "print(\"Digits\", d)"
   ]
  },
  {
   "cell_type": "code",
   "execution_count": 4,
   "id": "5887e81a",
   "metadata": {},
   "outputs": [
    {
     "name": "stdout",
     "output_type": "stream",
     "text": [
      "0\n",
      "1\n",
      "2\n",
      "3\n",
      "4\n"
     ]
    }
   ],
   "source": [
    "for i in range(10):\n",
    "    \n",
    "    if i == 5:\n",
    "        break\n",
    "    else:\n",
    "        print(i)\n",
    "else:\n",
    "    print(\"here\")"
   ]
  },
  {
   "cell_type": "code",
   "execution_count": 19,
   "id": "337c3d7c",
   "metadata": {},
   "outputs": [
    {
     "name": "stdout",
     "output_type": "stream",
     "text": [
      "True\n"
     ]
    }
   ],
   "source": [
    "print('hello'.isidentifier())"
   ]
  },
  {
   "cell_type": "code",
   "execution_count": 20,
   "id": "efd50721",
   "metadata": {},
   "outputs": [
    {
     "name": "stdout",
     "output_type": "stream",
     "text": [
      "[2, 3, [4, 5]]\n",
      "[88, 3, [4, 5]]\n"
     ]
    }
   ],
   "source": [
    "l=[2, 3, [4, 5]]\n",
    "l2=l.copy()\n",
    "l2[0]=88\n",
    "print(l)\n",
    "print(l2)"
   ]
  },
  {
   "cell_type": "code",
   "execution_count": 21,
   "id": "cadbd5a6",
   "metadata": {},
   "outputs": [
    {
     "name": "stdout",
     "output_type": "stream",
     "text": [
      "[0, 0, 0]\n"
     ]
    }
   ],
   "source": [
    "l1=[10, 20, 30]\n",
    "l2=[-10, -20, -30]\n",
    "l3=[x+y for x, y in zip(l1, l2)]\n",
    "print(l3)"
   ]
  },
  {
   "cell_type": "code",
   "execution_count": 23,
   "id": "156889d6",
   "metadata": {},
   "outputs": [
    {
     "name": "stdout",
     "output_type": "stream",
     "text": [
      "1 4 7\n",
      "2 5 8\n",
      "3 6 9\n"
     ]
    }
   ],
   "source": [
    "l1=[1,2,3]\n",
    "l2=[4,5,6]\n",
    "l3=[7,8,9]\n",
    "for x, y, z in zip(l1, l2, l3):\n",
    "    print(x, y, z)"
   ]
  },
  {
   "cell_type": "code",
   "execution_count": 24,
   "id": "9daabfaf",
   "metadata": {},
   "outputs": [
    {
     "name": "stdout",
     "output_type": "stream",
     "text": [
      "{1: 'check', 2: 'check', 3: 'check'}\n"
     ]
    }
   ],
   "source": [
    "a={}\n",
    "print(a.fromkeys([1,2,3],'check'))"
   ]
  },
  {
   "cell_type": "code",
   "execution_count": 6,
   "id": "d0241ec2",
   "metadata": {},
   "outputs": [
    {
     "name": "stdout",
     "output_type": "stream",
     "text": [
      "None\n"
     ]
    }
   ],
   "source": [
    "a={1,2,3}\n",
    "b=a.add(4)\n",
    "print(b)"
   ]
  },
  {
   "cell_type": "code",
   "execution_count": 30,
   "id": "2e92a37b",
   "metadata": {},
   "outputs": [
    {
     "name": "stdout",
     "output_type": "stream",
     "text": [
      "[1, 2, 3, 5]\n"
     ]
    }
   ],
   "source": [
    "a=[2,3,1,5];a.sort();print(a)"
   ]
  },
  {
   "cell_type": "code",
   "execution_count": 7,
   "id": "2b96454b",
   "metadata": {},
   "outputs": [
    {
     "name": "stdout",
     "output_type": "stream",
     "text": [
      "180\n",
      "[45, 45, 45, 45]\n"
     ]
    }
   ],
   "source": [
    "a=list((45,)*4)\n",
    "print((45)*4)\n",
    "print(a)"
   ]
  },
  {
   "cell_type": "code",
   "execution_count": 40,
   "id": "95661bab",
   "metadata": {},
   "outputs": [
    {
     "name": "stdout",
     "output_type": "stream",
     "text": [
      "[['ad', 'bd', 'cd'], ['ae', 'be', 'ce'], ['af', 'bf', 'cf']]\n"
     ]
    }
   ],
   "source": [
    "print([[i+j for i in 'abc'] for j in 'def'])"
   ]
  },
  {
   "cell_type": "code",
   "execution_count": 41,
   "id": "ff787f63",
   "metadata": {},
   "outputs": [
    {
     "name": "stdout",
     "output_type": "stream",
     "text": [
      "{'a', 'e', 'c'}\n",
      "{'x', 'y', 'b', 'z', 'd'}\n"
     ]
    }
   ],
   "source": [
    "x=set('abcde')\n",
    "y=set('xyzbd')\n",
    "x.difference_update(y)\n",
    "print(x)\n",
    "print(y)\n"
   ]
  },
  {
   "cell_type": "code",
   "execution_count": 1,
   "id": "55f236ac",
   "metadata": {},
   "outputs": [
    {
     "name": "stdout",
     "output_type": "stream",
     "text": [
      "[5, 4, 3, 2, 1]\n"
     ]
    }
   ],
   "source": [
    "x=[1,2,3,4,5]\n",
    "x.reverse()\n",
    "print(x)"
   ]
  },
  {
   "cell_type": "code",
   "execution_count": 2,
   "id": "5d008f6c",
   "metadata": {},
   "outputs": [
    {
     "name": "stdout",
     "output_type": "stream",
     "text": [
      "36 36\n"
     ]
    }
   ],
   "source": [
    "r = lambda q: q * 2; s = lambda q: q * 3\n",
    "x = 3; x = r(x);x = s(x);x = r(x)\n",
    "print (x,x)\n",
    "\n"
   ]
  },
  {
   "cell_type": "code",
   "execution_count": null,
   "id": "9d5a7449",
   "metadata": {},
   "outputs": [],
   "source": []
  }
 ],
 "metadata": {
  "kernelspec": {
   "display_name": "Python 3",
   "language": "python",
   "name": "python3"
  },
  "language_info": {
   "codemirror_mode": {
    "name": "ipython",
    "version": 3
   },
   "file_extension": ".py",
   "mimetype": "text/x-python",
   "name": "python",
   "nbconvert_exporter": "python",
   "pygments_lexer": "ipython3",
   "version": "3.8.8"
  }
 },
 "nbformat": 4,
 "nbformat_minor": 5
}
