{
 "cells": [
  {
   "cell_type": "code",
   "execution_count": 1,
   "id": "d56819c7",
   "metadata": {},
   "outputs": [
    {
     "name": "stdout",
     "output_type": "stream",
     "text": [
      "Requirement already satisfied: fpdf in c:\\users\\ishver\\anaconda3\\lib\\site-packages (1.7.2)\n"
     ]
    }
   ],
   "source": [
    "! pip3 install fpdf"
   ]
  },
  {
   "cell_type": "code",
   "execution_count": 14,
   "id": "99f68b72",
   "metadata": {},
   "outputs": [
    {
     "name": "stdout",
     "output_type": "stream",
     "text": [
      "Say Hey PDF File Creted Successfully\n"
     ]
    }
   ],
   "source": [
    "from fpdf import FPDF\n",
    "pdf = FPDF()\n",
    "pdf.add_page()\n",
    "pdf.set_font('Arial',size=25)\n",
    "pdf.cell(200,100,txt='Hello, You are in www.nareshit.com We are going to learn how to generate PDF using python. Python has many supporting libraries and world', align='L')\n",
    "pdf.output(\"txt.pdf\")\n",
    "print(\"Say Hey PDF File Creted Successfully\")\n"
   ]
  },
  {
   "cell_type": "code",
   "execution_count": 17,
   "id": "eeedb4c6",
   "metadata": {},
   "outputs": [
    {
     "data": {
      "text/plain": [
       "''"
      ]
     },
     "execution_count": 17,
     "metadata": {},
     "output_type": "execute_result"
    }
   ],
   "source": [
    "from fpdf import FPDF\n",
    "f = open('jkl.txt','r')\n",
    "content = ''\n",
    "for i in f:\n",
    "    content =i\n",
    "pdf = FPDF()\n",
    "pdf.add_page()\n",
    "pdf.set_font('Arial',size=18)\n",
    "pdf.cell(100,10,txt=content,align='C')\n",
    "pdf.output(\"txt.pdf\")"
   ]
  },
  {
   "cell_type": "code",
   "execution_count": null,
   "id": "d2a4009c",
   "metadata": {},
   "outputs": [],
   "source": []
  }
 ],
 "metadata": {
  "kernelspec": {
   "display_name": "Python 3",
   "language": "python",
   "name": "python3"
  },
  "language_info": {
   "codemirror_mode": {
    "name": "ipython",
    "version": 3
   },
   "file_extension": ".py",
   "mimetype": "text/x-python",
   "name": "python",
   "nbconvert_exporter": "python",
   "pygments_lexer": "ipython3",
   "version": "3.8.8"
  }
 },
 "nbformat": 4,
 "nbformat_minor": 5
}
