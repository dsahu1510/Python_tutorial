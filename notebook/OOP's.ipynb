{
 "cells": [
  {
   "cell_type": "code",
   "execution_count": 7,
   "id": "4a96fe75",
   "metadata": {},
   "outputs": [
    {
     "name": "stdout",
     "output_type": "stream",
     "text": [
      "<class 'str'>\n"
     ]
    }
   ],
   "source": [
    "print(type('hello'))"
   ]
  },
  {
   "cell_type": "code",
   "execution_count": 11,
   "id": "2e025c00",
   "metadata": {},
   "outputs": [
    {
     "name": "stdout",
     "output_type": "stream",
     "text": [
      "<class 'function'>\n"
     ]
    }
   ],
   "source": [
    "def Hello():\n",
    "    print(\"Wish Programmers\")\n",
    "print(type(Hello))\n"
   ]
  },
  {
   "cell_type": "code",
   "execution_count": 17,
   "id": "def06c6f",
   "metadata": {},
   "outputs": [
    {
     "ename": "IndentationError",
     "evalue": "unexpected indent (<ipython-input-17-6128171f2a2f>, line 3)",
     "output_type": "error",
     "traceback": [
      "\u001b[1;36m  File \u001b[1;32m\"<ipython-input-17-6128171f2a2f>\"\u001b[1;36m, line \u001b[1;32m3\u001b[0m\n\u001b[1;33m    pass\u001b[0m\n\u001b[1;37m    ^\u001b[0m\n\u001b[1;31mIndentationError\u001b[0m\u001b[1;31m:\u001b[0m unexpected indent\n"
     ]
    }
   ],
   "source": [
    "#syntax1\n",
    "class Account:\n",
    "    \"\"\"This is docstring, explains brief about the class\"\"\"\n",
    "          pass\n",
    "sb_account=Account()\n",
    "current_account=Account()\n"
   ]
  },
  {
   "cell_type": "code",
   "execution_count": 19,
   "id": "c1f05f44",
   "metadata": {},
   "outputs": [
    {
     "ename": "IndentationError",
     "evalue": "expected an indented block (<ipython-input-19-10aa31608458>, line 3)",
     "output_type": "error",
     "traceback": [
      "\u001b[1;36m  File \u001b[1;32m\"<ipython-input-19-10aa31608458>\"\u001b[1;36m, line \u001b[1;32m3\u001b[0m\n\u001b[1;33m    \"\"\"This is docstring, explains brief about the class\"\"\"\u001b[0m\n\u001b[1;37m    ^\u001b[0m\n\u001b[1;31mIndentationError\u001b[0m\u001b[1;31m:\u001b[0m expected an indented block\n"
     ]
    }
   ],
   "source": [
    "#Syntax2:\n",
    "class Account(object):\n",
    "\"\"\"This is docstring, explains brief about the class\"\"\"\n",
    "\tpass\n",
    "sb_account=Account()\n",
    "current_account=Account()\n"
   ]
  },
  {
   "cell_type": "code",
   "execution_count": 21,
   "id": "f5b432bc",
   "metadata": {},
   "outputs": [
    {
     "name": "stdout",
     "output_type": "stream",
     "text": [
      "<class '__main__.Car'>\n",
      "<class 'type'>\n",
      "Car\n",
      "hello welcome\n"
     ]
    }
   ],
   "source": [
    "class Car():\n",
    "    \"hello welcome\"\n",
    "print(Car)\n",
    "print(type(Car))\n",
    "print(Car.__name__)\n",
    "print(Car.__doc__)\n"
   ]
  },
  {
   "cell_type": "code",
   "execution_count": 24,
   "id": "ad6ad580",
   "metadata": {},
   "outputs": [
    {
     "name": "stdout",
     "output_type": "stream",
     "text": [
      "<class '__main__.Car'>\n",
      "<__main__.Car object at 0x000000000503BC70>\n",
      "True\n"
     ]
    }
   ],
   "source": [
    "class Car():\n",
    "    \"\"\"This is docstring, explains brief about the class\"\"\"\n",
    "    pass\n",
    "CC=Car()\n",
    "print(type(CC))\n",
    "print(CC)\n",
    "print(isinstance(CC,Car))\n"
   ]
  },
  {
   "cell_type": "code",
   "execution_count": 3,
   "id": "a97ed0dc",
   "metadata": {},
   "outputs": [
    {
     "name": "stdout",
     "output_type": "stream",
     "text": [
      "Welcome to Banking\n"
     ]
    },
    {
     "data": {
      "text/plain": [
       "()"
      ]
     },
     "execution_count": 3,
     "metadata": {},
     "output_type": "execute_result"
    }
   ],
   "source": [
    "class Banking():\n",
    "    def MyCustomer(self):\n",
    "        print(\"Welcome to Banking\")\n",
    "        return()\n",
    "#Driver Code\n",
    "BB=Banking()\n",
    "BB.MyCustomer()\n"
   ]
  },
  {
   "cell_type": "code",
   "execution_count": 11,
   "id": "14e99bea",
   "metadata": {},
   "outputs": [
    {
     "name": "stdout",
     "output_type": "stream",
     "text": [
      "100\n",
      "I am a method inside the class\n",
      "This class demonstrates the creation of Objects\n",
      "Help on class Human in module __main__:\n",
      "\n",
      "class Human(builtins.object)\n",
      " |  This class demonstrates the creation of Objects\n",
      " |  \n",
      " |  Methods defined here:\n",
      " |  \n",
      " |  Method(self)\n",
      " |      #Instance Method\n",
      " |  \n",
      " |  ----------------------------------------------------------------------\n",
      " |  Data descriptors defined here:\n",
      " |  \n",
      " |  __dict__\n",
      " |      dictionary for instance variables (if defined)\n",
      " |  \n",
      " |  __weakref__\n",
      " |      list of weak references to the object (if defined)\n",
      " |  \n",
      " |  ----------------------------------------------------------------------\n",
      " |  Data and other attributes defined here:\n",
      " |  \n",
      " |  num = 100\n",
      "\n",
      "None\n"
     ]
    }
   ],
   "source": [
    "class Human():\n",
    "    \"This class demonstrates the creation of Objects\"\n",
    "    #Instance Attributes\n",
    "    num=100\n",
    "    #Instance Method\n",
    "    def Method(self):\n",
    "        print(\"I am a method inside the class\")\n",
    "HH=Human()\n",
    "print(HH.num)\n",
    "HH.Method()\n",
    "print(Human.__doc__)\n",
    "print(help(Human))"
   ]
  },
  {
   "cell_type": "code",
   "execution_count": 24,
   "id": "ab584bc4",
   "metadata": {},
   "outputs": [
    {
     "name": "stdout",
     "output_type": "stream",
     "text": [
      "Welcome to Banking\n"
     ]
    },
    {
     "data": {
      "text/plain": [
       "()"
      ]
     },
     "execution_count": 24,
     "metadata": {},
     "output_type": "execute_result"
    }
   ],
   "source": [
    "class Banking():\n",
    "    def MyCustomer(x):\n",
    "        print(\"Welcome to Banking\")\n",
    "        return()\n",
    "#Driver COde\n",
    "BB=Banking()\n",
    "BB.MyCustomer()\n"
   ]
  },
  {
   "cell_type": "code",
   "execution_count": 15,
   "id": "6a0c7252",
   "metadata": {},
   "outputs": [
    {
     "name": "stdout",
     "output_type": "stream",
     "text": [
      "Welcome to Banking\n",
      "88383744\n",
      "88383744\n"
     ]
    }
   ],
   "source": [
    "class Banking():\n",
    "    def MyCustomer(self):\n",
    "        print(\"Welcome to Banking\")\n",
    "        print(id(self))\n",
    "#Driver Code\n",
    "BB=Banking()\n",
    "BB.MyCustomer()\n",
    "print(id(BB))"
   ]
  },
  {
   "cell_type": "code",
   "execution_count": 18,
   "id": "de240098",
   "metadata": {},
   "outputs": [
    {
     "name": "stdout",
     "output_type": "stream",
     "text": [
      "Enter Any Number: 20\n",
      "Enter Any Number: 0\n",
      "Y must not be ZERO\n",
      "FinallyBlockSuccess\n",
      "Enter Any Number: 30\n",
      "Enter Any Number: 20\n",
      "The Result is:  1.5\n",
      "FinallyBlockSuccess\n"
     ]
    }
   ],
   "source": [
    "class MyTry_Finally():\n",
    "    def Exceptions(self):\n",
    "        try:\n",
    "            x=int(input(\"Enter Any Number: \"))\n",
    "            y=int(input(\"Enter Any Number: \"))\n",
    "            z=x/y\n",
    "            print(\"The Result is: \",z)\n",
    "        except ZeroDivisionError:\n",
    "            print(\"Y must not be ZERO\")\n",
    "        except ValueError:\n",
    "            print(\"Invalid Input\")\n",
    "        finally:\n",
    "            print(\"FinallyBlockSuccess\")\n",
    "\n",
    "#Creating Instance or Object\n",
    "MyObj=MyTry_Finally()\n",
    "MyObj.Exceptions()\n",
    "MyObj.Exceptions()\n"
   ]
  },
  {
   "cell_type": "code",
   "execution_count": null,
   "id": "c865072c",
   "metadata": {},
   "outputs": [],
   "source": []
  }
 ],
 "metadata": {
  "kernelspec": {
   "display_name": "Python 3",
   "language": "python",
   "name": "python3"
  },
  "language_info": {
   "codemirror_mode": {
    "name": "ipython",
    "version": 3
   },
   "file_extension": ".py",
   "mimetype": "text/x-python",
   "name": "python",
   "nbconvert_exporter": "python",
   "pygments_lexer": "ipython3",
   "version": "3.8.8"
  }
 },
 "nbformat": 4,
 "nbformat_minor": 5
}
