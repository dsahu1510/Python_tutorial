{
 "cells": [
  {
   "cell_type": "code",
   "execution_count": 1,
   "id": "1584e585",
   "metadata": {},
   "outputs": [
    {
     "name": "stdout",
     "output_type": "stream",
     "text": [
      "MyFile.txt\n",
      "r\n",
      "False\n",
      "True\n",
      "False\n",
      "FinallyBlockSuccess\n"
     ]
    }
   ],
   "source": [
    "try:\n",
    "    with open(\"MyFile.txt\",mode='r',encoding='utf-8') as MyFile:\n",
    "        print(MyFile.name)\n",
    "        print(MyFile.mode)\n",
    "        print(MyFile.closed)\n",
    "        print(MyFile.readable())\n",
    "        print(MyFile.writable())\n",
    "except IOError:\n",
    "    print(\"SorryFileNotExisted\")\n",
    "finally:\n",
    "    print(\"FinallyBlockSuccess\")"
   ]
  },
  {
   "cell_type": "code",
   "execution_count": 2,
   "id": "595d785f",
   "metadata": {},
   "outputs": [
    {
     "name": "stdout",
     "output_type": "stream",
     "text": [
      "MyFile.txt\n",
      "r\n",
      "False\n",
      "True\n",
      "False\n",
      "FinallyBlockSuccess\n"
     ]
    }
   ],
   "source": [
    "try:\n",
    "    with open(\"MyFile.txt\",mode='r',encoding='utf-8') as MyFile:\n",
    "        print(MyFile.name)\n",
    "        print(MyFile.mode)\n",
    "        print(MyFile.closed)\n",
    "        print(MyFile.readable())\n",
    "        print(MyFile.writable())\n",
    "except IOError:\n",
    "    print(\"SorryFileNotExisted\")\n",
    "finally:\n",
    "    print(\"FinallyBlockSuccess\")"
   ]
  },
  {
   "cell_type": "code",
   "execution_count": 3,
   "id": "7a13b870",
   "metadata": {},
   "outputs": [
    {
     "name": "stdout",
     "output_type": "stream",
     "text": [
      "FinallyBlockExecutedSuccessfully\n",
      "FileOperationsSuccess\n"
     ]
    }
   ],
   "source": [
    "try:\n",
    "    with open(\"obj.txt\",mode='w',encoding='utf-8') as MyFileObj:\n",
    "        MyFileObj.writable()\n",
    "        MyFileObj.write(\"Welcome to PYTHON File Operations\\n\")\n",
    "        MyFileObj.writelines(\"\"\"Multiple lines are\n",
    "                             Writing inside the A file.\n",
    "                             Thank U\"\"\")\n",
    "except IOError:\n",
    "    print(\"SorryFileUnableToCreate\")\n",
    "    print(\"DiskWriteProtected\")\n",
    "finally:\n",
    "    print(\"FinallyBlockExecutedSuccessfully\")\n",
    "    print(\"FileOperationsSuccess\")"
   ]
  },
  {
   "cell_type": "code",
   "execution_count": 4,
   "id": "3da4c4bd",
   "metadata": {},
   "outputs": [
    {
     "name": "stdout",
     "output_type": "stream",
     "text": [
      "FileCreatedSuccessfully\n"
     ]
    }
   ],
   "source": [
    "with open(\"C:\\\\Users\\\\ISHVER\\\\Desktop\\\\testing\\\\obj\",mode='w',encoding=\"utf-8\") as MyFile:\n",
    "    MyFile.writelines(\"हिन्दी हिन्दी हिन्दी हिन्दी\\n\")\n",
    "    MyFile.writelines(\"తెలుగు తెలుగు తెలుగు తెలుగు\\n\")\n",
    "    MyFile.writelines(\"Thank U\")\n",
    "print(\"FileCreatedSuccessfully\")"
   ]
  },
  {
   "cell_type": "code",
   "execution_count": 5,
   "id": "95019db2",
   "metadata": {},
   "outputs": [
    {
     "name": "stdout",
     "output_type": "stream",
     "text": [
      "Wel\n",
      "come to PYTHON File Operations\n",
      "Multiple lines are\n",
      "                             Writing inside the A file.\n",
      "                             Thank U\n",
      "\n"
     ]
    }
   ],
   "source": [
    "with open(\"obj.txt\",'r',encoding = 'utf-8')as fi:\n",
    "    print(fi.read(3))    # read the first 3 chars. data\n",
    "    print(fi.read())     # read in the rest till end of file\n",
    "    print(fi.read())  # further reading returns empty sting\n",
    "fi.close()"
   ]
  },
  {
   "cell_type": "code",
   "execution_count": 6,
   "id": "be7cb37d",
   "metadata": {},
   "outputs": [
    {
     "name": "stdout",
     "output_type": "stream",
     "text": [
      "Welcome to PYTHON File Operations\n",
      "Multiple lines are\n",
      "                             Writing inside the A file.\n",
      "                             Thank U\n"
     ]
    }
   ],
   "source": [
    "with open(\"MyFile.txt\",'r',encoding = 'utf-8') as fi:\n",
    "    print(fi.read())\n",
    "fi.close()"
   ]
  },
  {
   "cell_type": "code",
   "execution_count": 7,
   "id": "bbae7ca3",
   "metadata": {},
   "outputs": [
    {
     "name": "stdout",
     "output_type": "stream",
     "text": [
      "Number of characters are:  145\n"
     ]
    }
   ],
   "source": [
    "with open(\"MyFile.txt\",'r',encoding='utf-8') as fi:\n",
    "    chars=fi.read()\n",
    "print(\"Number of characters are: \", len(chars))\n"
   ]
  },
  {
   "cell_type": "code",
   "execution_count": 8,
   "id": "e460975f",
   "metadata": {},
   "outputs": [
    {
     "name": "stdout",
     "output_type": "stream",
     "text": [
      "Welcome to PYTHON File Operations\n",
      "\n"
     ]
    }
   ],
   "source": [
    "with open(\"MyFile.txt\",'r',encoding = 'utf-8')as fi:\n",
    "    print(fi.readline())\n"
   ]
  },
  {
   "cell_type": "code",
   "execution_count": 9,
   "id": "3ab7c52b",
   "metadata": {},
   "outputs": [
    {
     "name": "stdout",
     "output_type": "stream",
     "text": [
      "['Welcome to PYTHON File Operations\\n', 'Multiple lines are\\n', '                             Writing inside the A file.\\n', '                             Thank U']\n"
     ]
    }
   ],
   "source": [
    "with open(\"MyFile.txt\",'r',encoding = 'utf-8')as fi:\n",
    "    print(fi.readlines())"
   ]
  },
  {
   "cell_type": "code",
   "execution_count": 10,
   "id": "8c604c5d",
   "metadata": {},
   "outputs": [
    {
     "name": "stdout",
     "output_type": "stream",
     "text": [
      "Number of characters are:  4\n"
     ]
    }
   ],
   "source": [
    "with open(\"MyFile.txt\",'r',encoding='utf-8') as fi:\n",
    "    lines=fi.readlines()\n",
    "print(\"Number of characters are: \", len(lines))\n"
   ]
  },
  {
   "cell_type": "code",
   "execution_count": 11,
   "id": "35875e43",
   "metadata": {},
   "outputs": [
    {
     "name": "stdout",
     "output_type": "stream",
     "text": [
      "Welcome to PYTHON File Operations\n",
      "\\Multiple lines are\n",
      "\\                             Writing inside the A file.\n",
      "\\                             Thank U\\"
     ]
    }
   ],
   "source": [
    "with open(\"MyFile.txt\",mode='r',encoding='utf-8') as MyFile:\n",
    "    lines=MyFile.readlines()\n",
    "    for line in lines:\n",
    "        print(line,end='\\\\')\n",
    "MyFile.close()\n"
   ]
  },
  {
   "cell_type": "code",
   "execution_count": 12,
   "id": "9c71d4ff",
   "metadata": {},
   "outputs": [
    {
     "name": "stdout",
     "output_type": "stream",
     "text": [
      "69\n"
     ]
    }
   ],
   "source": [
    "myfile=open(\"MyFile.txt\")\n",
    "c=myfile.readlines()\n",
    "intialline=len(c)\n",
    "finalline=0\n",
    "for i in c:\n",
    "    z=i.split(\" \")\n",
    "    for j in z:\n",
    "        finalline+=1\n",
    "totalnumofspace=finalline-intialline\n",
    "print(totalnumofspace)"
   ]
  },
  {
   "cell_type": "code",
   "execution_count": 13,
   "id": "47d6f5d7",
   "metadata": {},
   "outputs": [
    {
     "name": "stdout",
     "output_type": "stream",
     "text": [
      "MyFile.txt\n",
      "r\n",
      "False\n",
      "True\n",
      "False\n",
      "FinallyBlockSuccess\n"
     ]
    }
   ],
   "source": [
    "try:\n",
    "    with open(\"MyFile.txt\",mode='r',encoding='utf-8') as MyFile:\n",
    "        print(MyFile.name)\n",
    "        print(MyFile.mode)\n",
    "        print(MyFile.closed)\n",
    "        print(MyFile.readable())\n",
    "        print(MyFile.writable())\n",
    "except IOError:\n",
    "    print(\"SorryFileNotExisted\")\n",
    "finally:\n",
    "    print(\"FinallyBlockSuccess\")"
   ]
  },
  {
   "cell_type": "code",
   "execution_count": 14,
   "id": "c03365dc",
   "metadata": {},
   "outputs": [
    {
     "name": "stdout",
     "output_type": "stream",
     "text": [
      "Number of characters are:  145\n"
     ]
    }
   ],
   "source": [
    "with open(\"hello.txt\",'r',encoding='utf-8') as fi:\n",
    "    chars=fi.read()\n",
    "print(\"Number of characters are: \", len(chars))\n"
   ]
  },
  {
   "cell_type": "code",
   "execution_count": 15,
   "id": "fe2c1a45",
   "metadata": {},
   "outputs": [
    {
     "name": "stdout",
     "output_type": "stream",
     "text": [
      "['Welcome to PYTHON File Operations\\n', 'Multiple lines are\\n', '                             Writing inside the A file.\\n', '                             Thank U']\n"
     ]
    }
   ],
   "source": [
    "with open(\"hello.txt\",'r',encoding = 'utf-8')as fi:\n",
    "    print(fi.readlines())\n"
   ]
  },
  {
   "cell_type": "code",
   "execution_count": 16,
   "id": "9abd8d54",
   "metadata": {},
   "outputs": [
    {
     "name": "stdout",
     "output_type": "stream",
     "text": [
      "Welcome to PYTHON File Operations\n",
      "Multiple lines are\n",
      "                             Writing inside the A file.\n",
      "                             Thank U"
     ]
    },
    {
     "ename": "NameError",
     "evalue": "name 'hello' is not defined",
     "output_type": "error",
     "traceback": [
      "\u001b[1;31m---------------------------------------------------------------------------\u001b[0m",
      "\u001b[1;31mNameError\u001b[0m                                 Traceback (most recent call last)",
      "\u001b[1;32m<ipython-input-16-8d4d506e2b4d>\u001b[0m in \u001b[0;36m<module>\u001b[1;34m\u001b[0m\n\u001b[0;32m      3\u001b[0m     \u001b[1;32mfor\u001b[0m \u001b[0mline\u001b[0m \u001b[1;32min\u001b[0m \u001b[0mlines\u001b[0m\u001b[1;33m:\u001b[0m\u001b[1;33m\u001b[0m\u001b[1;33m\u001b[0m\u001b[0m\n\u001b[0;32m      4\u001b[0m         \u001b[0mprint\u001b[0m\u001b[1;33m(\u001b[0m\u001b[0mline\u001b[0m\u001b[1;33m,\u001b[0m\u001b[0mend\u001b[0m\u001b[1;33m=\u001b[0m\u001b[1;34m''\u001b[0m\u001b[1;33m)\u001b[0m\u001b[1;33m\u001b[0m\u001b[1;33m\u001b[0m\u001b[0m\n\u001b[1;32m----> 5\u001b[1;33m \u001b[0mhello\u001b[0m\u001b[1;33m.\u001b[0m\u001b[0mclose\u001b[0m\u001b[1;33m(\u001b[0m\u001b[1;33m)\u001b[0m\u001b[1;33m\u001b[0m\u001b[1;33m\u001b[0m\u001b[0m\n\u001b[0m",
      "\u001b[1;31mNameError\u001b[0m: name 'hello' is not defined"
     ]
    }
   ],
   "source": [
    "with open(\"hello.txt\",mode='r',encoding='utf-8') as MyFile:\n",
    "    lines=MyFile.readlines()\n",
    "    for line in lines:\n",
    "        print(line,end='')\n",
    "hello.close()\n"
   ]
  },
  {
   "cell_type": "code",
   "execution_count": 18,
   "id": "3eb385fe",
   "metadata": {},
   "outputs": [
    {
     "name": "stdout",
     "output_type": "stream",
     "text": [
      "Number of Lines in a File: 4\n"
     ]
    }
   ],
   "source": [
    "with open(\"hello.txt\",'r',encoding=\"utf-8\") as lcount:\n",
    "    count = 0\n",
    "    for line in lcount:\n",
    "        count = count + 1\n",
    "print('Number of Lines in a File:', count)\n"
   ]
  },
  {
   "cell_type": "code",
   "execution_count": 24,
   "id": "2463788e",
   "metadata": {},
   "outputs": [
    {
     "name": "stdout",
     "output_type": "stream",
     "text": [
      "69\n"
     ]
    }
   ],
   "source": [
    "myfile=open(\"hello.txt\")\n",
    "c=myfile.readlines()\n",
    "intialline=len(c)\n",
    "finalline=0\n",
    "for i in c:\n",
    "    z=i.split(\" \")\n",
    "    for j in z:\n",
    "        finalline+=1\n",
    "totalnumofspace=finalline-intialline\n",
    "print(totalnumofspace)\n"
   ]
  },
  {
   "cell_type": "code",
   "execution_count": 25,
   "id": "e400db7f",
   "metadata": {},
   "outputs": [],
   "source": [
    "fhand = open('Hello.txt','r')\n",
    "for line in fhand:\n",
    "   if line.startswith('From:') :\n",
    "        print(line)\n"
   ]
  },
  {
   "cell_type": "code",
   "execution_count": 34,
   "id": "c7b60492",
   "metadata": {},
   "outputs": [
    {
     "name": "stdout",
     "output_type": "stream",
     "text": [
      "Enter Any File Name: hello.txt\n",
      "File Existed: hello.txt\n",
      "Number of Lines: 8\n",
      "Number of Words: 28\n",
      "Number of Characters: 218\n"
     ]
    }
   ],
   "source": [
    "import os,sys\n",
    "fname=input(\"Enter Any File Name: \")\n",
    "if os.path.isfile(fname):\n",
    "    print(\"File Existed:\",fname)\n",
    "    f=open(fname,mode=\"r\")\n",
    "else:\n",
    "    print(\"Sorry File does not exist:\",fname)\n",
    "    sys.exit()\n",
    "lcount=wcount=ccount=0\n",
    "for line in f:\n",
    "    lcount=lcount+1\n",
    "    ccount=ccount+len(line)\n",
    "    words=line.split()\n",
    "    wcount=wcount+len(words)\n",
    "print(\"Number of Lines:\",lcount)\n",
    "print(\"Number of Words:\",wcount)\n",
    "print(\"Number of Characters:\",ccount)\n"
   ]
  },
  {
   "cell_type": "code",
   "execution_count": 33,
   "id": "72a8b960",
   "metadata": {},
   "outputs": [
    {
     "name": "stdout",
     "output_type": "stream",
     "text": [
      "Successfully File Appended\n"
     ]
    }
   ],
   "source": [
    "with open(\"Hello.txt\",'a',encoding=\"utf-8\") as file:\n",
    "    file.write(\"Appending a File\\n\")\n",
    "    file.write(\"Thank U\\n\")\n",
    "    file.write(\"lines incresed or not??\")\n",
    "print(\"Successfully File Appended\")\n"
   ]
  },
  {
   "cell_type": "code",
   "execution_count": 35,
   "id": "b294ae4e",
   "metadata": {},
   "outputs": [
    {
     "name": "stdout",
     "output_type": "stream",
     "text": [
      "Welco\n",
      "Read Strting is:  me to PYTH\n",
      "The Position of the cursor is:  15\n"
     ]
    }
   ],
   "source": [
    "with open(\"hello.txt\",'r',encoding = 'utf-8')as fi:\n",
    "    print(fi.read(5))\n",
    "    str = fi.read(10);\n",
    "    print(\"Read Strting is: \" ,str)\n",
    "    position=fi.tell()\n",
    "print(\"The Position of the cursor is: \",position)\n"
   ]
  },
  {
   "cell_type": "code",
   "execution_count": 37,
   "id": "c636903f",
   "metadata": {},
   "outputs": [
    {
     "name": "stdout",
     "output_type": "stream",
     "text": [
      "Welco\n",
      "me to PYTH\n",
      "The Position of the cursor is:  0\n"
     ]
    }
   ],
   "source": [
    "with open(\"hello.txt\",'r',encoding = 'utf-8')as fi:\n",
    "    print(fi.read(5))\n",
    "    print(fi.read(10));\n",
    "    position=fi.seek(0,0)\n",
    "print(\"The Position of the cursor is: \",position)\n"
   ]
  },
  {
   "cell_type": "code",
   "execution_count": 38,
   "id": "fdca5c21",
   "metadata": {},
   "outputs": [
    {
     "name": "stdout",
     "output_type": "stream",
     "text": [
      "Welco\n",
      "Read Strting is:  me to PYTH\n",
      "The Position of the cursor is:  0\n"
     ]
    }
   ],
   "source": [
    "with open(\"hello.txt\",'r',encoding = 'utf-8')as fi:\n",
    "    print(fi.read(5))\n",
    "    str = fi.read(10);\n",
    "    print(\"Read Strting is: \" ,str)\n",
    "    position=fi.seek(0,0)\n",
    "print(\"The Position of the cursor is: \",position)\n"
   ]
  },
  {
   "cell_type": "code",
   "execution_count": 39,
   "id": "e6c87e1f",
   "metadata": {},
   "outputs": [
    {
     "name": "stdout",
     "output_type": "stream",
     "text": [
      "Welco\n",
      "me to PYTH\n",
      "Welcome to\n"
     ]
    }
   ],
   "source": [
    "with open(\"hello.txt\",'r',encoding = 'utf-8')as fi:\n",
    "    print(fi.read(5))\n",
    "    print(fi.read(10))\n",
    "    position = fi.seek(0, 0);\n",
    "    print(fi.read(10))\n",
    "fi.close()"
   ]
  },
  {
   "cell_type": "code",
   "execution_count": 42,
   "id": "0186ebfe",
   "metadata": {},
   "outputs": [
    {
     "name": "stdout",
     "output_type": "stream",
     "text": [
      "Welco\n",
      "Read Strting is:  me to PYTH\n",
      "Again read String is :  Welcome to\n"
     ]
    }
   ],
   "source": [
    "with open(\"hello.txt\",'r',encoding = 'utf-8')as fi:\n",
    "    print(fi.read(5))\n",
    "    str = fi.read(10);\n",
    "    print(\"Read Strting is: \" ,str)\n",
    "    position = fi.seek(0, 0);\n",
    "    str = fi.read(10);\n",
    "print(\"Again read String is : \", str)\n",
    "fi.close()"
   ]
  },
  {
   "cell_type": "code",
   "execution_count": null,
   "id": "64ee96ef",
   "metadata": {},
   "outputs": [],
   "source": []
  }
 ],
 "metadata": {
  "kernelspec": {
   "display_name": "Python 3",
   "language": "python",
   "name": "python3"
  },
  "language_info": {
   "codemirror_mode": {
    "name": "ipython",
    "version": 3
   },
   "file_extension": ".py",
   "mimetype": "text/x-python",
   "name": "python",
   "nbconvert_exporter": "python",
   "pygments_lexer": "ipython3",
   "version": "3.8.8"
  }
 },
 "nbformat": 4,
 "nbformat_minor": 5
}
