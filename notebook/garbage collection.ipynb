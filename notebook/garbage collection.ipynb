{
 "cells": [
  {
   "cell_type": "code",
   "execution_count": 1,
   "id": "aab44ef2",
   "metadata": {},
   "outputs": [
    {
     "name": "stdout",
     "output_type": "stream",
     "text": [
      "['DEBUG_COLLECTABLE', 'DEBUG_LEAK', 'DEBUG_SAVEALL', 'DEBUG_STATS', 'DEBUG_UNCOLLECTABLE', '__doc__', '__loader__', '__name__', '__package__', '__spec__', 'callbacks', 'collect', 'disable', 'enable', 'freeze', 'garbage', 'get_count', 'get_debug', 'get_freeze_count', 'get_objects', 'get_referents', 'get_referrers', 'get_stats', 'get_threshold', 'is_tracked', 'isenabled', 'set_debug', 'set_threshold', 'unfreeze']\n"
     ]
    }
   ],
   "source": [
    "import gc\n",
    "print(dir(gc))\n"
   ]
  },
  {
   "cell_type": "code",
   "execution_count": 2,
   "id": "a9e19c5b",
   "metadata": {},
   "outputs": [
    {
     "name": "stdout",
     "output_type": "stream",
     "text": [
      "Hello InIt\n",
      "Walking\n",
      "I am Destroyed\n"
     ]
    }
   ],
   "source": [
    "class Human:\n",
    "  def __init__(self,name,age):\n",
    "    print(\"Hello InIt\")\n",
    "\n",
    "  def walk(self):\n",
    "      print(\"Walking\")\n",
    "\n",
    "  def __del__(self):\n",
    "    print(\"I am Destroyed\")\n",
    "\n",
    "a=Human(\"Raju\",44)\n",
    "a.walk()\n",
    "del a"
   ]
  },
  {
   "cell_type": "code",
   "execution_count": 4,
   "id": "6a925613",
   "metadata": {},
   "outputs": [
    {
     "name": "stdout",
     "output_type": "stream",
     "text": [
      "123\n"
     ]
    }
   ],
   "source": [
    "class Account():\n",
    "    def __init__(self,Id):\n",
    "        self.Id=Id\n",
    "        #Id=666\n",
    "Acc=Account(123)\n",
    "print(Acc.Id)"
   ]
  },
  {
   "cell_type": "code",
   "execution_count": 7,
   "id": "ac506104",
   "metadata": {},
   "outputs": [
    {
     "name": "stdout",
     "output_type": "stream",
     "text": [
      "this is outer\n",
      "this is inner\n",
      "this is inner method\n"
     ]
    }
   ],
   "source": [
    "class Outer():\n",
    "    def __init__(self):\n",
    "        print(\"this is outer\")\n",
    "    class Inner():\n",
    "        def __init__(self):\n",
    "            print(\"this is inner\")\n",
    "        def inner_method(self):\n",
    "            print(\"this is inner method\")\n",
    "oo=Outer()\n",
    "ii=oo.Inner()\n",
    "ii.inner_method()"
   ]
  },
  {
   "cell_type": "code",
   "execution_count": 6,
   "id": "cc955e71",
   "metadata": {},
   "outputs": [
    {
     "name": "stdout",
     "output_type": "stream",
     "text": [
      "Hey Outer Class\n",
      "Bye Inner Class\n",
      "InnerClassMethod\n"
     ]
    }
   ],
   "source": [
    "class Outer_Class():\n",
    "    def __init__(self):\n",
    "        print(\"Hey Outer Class\")\n",
    "    class Inner_Class():\n",
    "        def __init__(self):\n",
    "            print(\"Bye Inner Class\")\n",
    "        def Inner_Method(self):\n",
    "            print(\"InnerClassMethod\")\n",
    "OO=Outer_Class()\n",
    "II=OO.Inner_Class()\n",
    "II.Inner_Method()"
   ]
  },
  {
   "cell_type": "code",
   "execution_count": 8,
   "id": "8d8380a7",
   "metadata": {},
   "outputs": [
    {
     "name": "stdout",
     "output_type": "stream",
     "text": [
      "SBI has 10000 Customers...\n",
      "ICICI has 10000 Customers...\n"
     ]
    }
   ],
   "source": [
    "class Banker():\n",
    "    Cust=10000\n",
    "    @classmethod\n",
    "    def service(cls,name):\n",
    "        print('{} has {} Customers...'.format(name,cls.Cust))\n",
    "#Calling with class name\n",
    "Banker.service('SBI')\n",
    "Banker.service('ICICI')"
   ]
  },
  {
   "cell_type": "code",
   "execution_count": 15,
   "id": "a7e505c9",
   "metadata": {},
   "outputs": [
    {
     "name": "stdout",
     "output_type": "stream",
     "text": [
      "hello world\n",
      "hello world\n"
     ]
    }
   ],
   "source": [
    "class Nit():\n",
    "  @staticmethod\n",
    "  def static_method():\n",
    "        print(\"hello world\")\n",
    "#Calling static Method\n",
    "Nit.static_method()\n",
    "a=Nit()\n",
    "a.static_method()"
   ]
  },
  {
   "cell_type": "code",
   "execution_count": 16,
   "id": "c2a6e5e0",
   "metadata": {},
   "outputs": [
    {
     "name": "stdout",
     "output_type": "stream",
     "text": [
      "The Sum is: 3\n",
      "The Product is: 12\n",
      "The average: 5.5\n"
     ]
    }
   ],
   "source": [
    "class Math_Compute():\n",
    "    @staticmethod\n",
    "    def Sum(A,B):\n",
    "        print('The Sum is:',A+B)\n",
    "    @staticmethod\n",
    "    def Mult(A,B):\n",
    "        print('The Product is:',A*B)\n",
    "    @staticmethod\n",
    "    def Avg(A,B):\n",
    "        print('The average:',(A+B)/2)\n",
    "\n",
    "Math_Compute.Sum(1,2)\n",
    "Math_Compute.Mult(3,4)\n",
    "Math_Compute.Avg(5,6)"
   ]
  },
  {
   "cell_type": "code",
   "execution_count": 18,
   "id": "360fd449",
   "metadata": {},
   "outputs": [
    {
     "name": "stdout",
     "output_type": "stream",
     "text": [
      "Welcome to Class Decorators\n"
     ]
    }
   ],
   "source": [
    "class MyDeco(): \n",
    "\tdef __init__(self, function): \n",
    "\t\tself.function = function \n",
    "\tdef __call__(self): \n",
    "\t\tself.function() \n",
    "@MyDecorator\n",
    "def function(): \n",
    "\tprint(\"Welcome to Class Decorators\") \n",
    "function() \n"
   ]
  },
  {
   "cell_type": "code",
   "execution_count": 3,
   "id": "511492bf",
   "metadata": {},
   "outputs": [
    {
     "name": "stdout",
     "output_type": "stream",
     "text": [
      "Decorating Decorator\n",
      "inside Decorator_Method()\n"
     ]
    }
   ],
   "source": [
    "def Decorator(f):\n",
    "    def Method():\n",
    "        print(\"Decorating\", f.__name__)\n",
    "        f()\n",
    "    return Method\n",
    "@Decorator\n",
    "def Decorator():\n",
    "    print(\"inside Decorator_Method()\")\n",
    "Decorator()\n"
   ]
  },
  {
   "cell_type": "code",
   "execution_count": 6,
   "id": "07a01af3",
   "metadata": {},
   "outputs": [
    {
     "name": "stdout",
     "output_type": "stream",
     "text": [
      "Eating...\n",
      "barking\n"
     ]
    }
   ],
   "source": []
  },
  {
   "cell_type": "code",
   "execution_count": 7,
   "id": "b675708c",
   "metadata": {},
   "outputs": [
    {
     "name": "stdout",
     "output_type": "stream",
     "text": [
      "Every Bank Provide Services to Customers\n",
      "Customer using all services from Banker\n"
     ]
    }
   ],
   "source": []
  },
  {
   "cell_type": "code",
   "execution_count": 8,
   "id": "7df13ade",
   "metadata": {},
   "outputs": [
    {
     "name": "stdout",
     "output_type": "stream",
     "text": [
      "Puppy\n"
     ]
    }
   ],
   "source": []
  },
  {
   "cell_type": "code",
   "execution_count": null,
   "id": "b93e032d",
   "metadata": {},
   "outputs": [],
   "source": []
  }
 ],
 "metadata": {
  "kernelspec": {
   "display_name": "Python 3",
   "language": "python",
   "name": "python3"
  },
  "language_info": {
   "codemirror_mode": {
    "name": "ipython",
    "version": 3
   },
   "file_extension": ".py",
   "mimetype": "text/x-python",
   "name": "python",
   "nbconvert_exporter": "python",
   "pygments_lexer": "ipython3",
   "version": "3.8.8"
  }
 },
 "nbformat": 4,
 "nbformat_minor": 5
}
