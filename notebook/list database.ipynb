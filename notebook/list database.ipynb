{
 "cells": [
  {
   "cell_type": "code",
   "execution_count": 1,
   "id": "c3735361",
   "metadata": {},
   "outputs": [
    {
     "name": "stdout",
     "output_type": "stream",
     "text": [
      "[2, 2, 3]\n"
     ]
    }
   ],
   "source": [
    "pylist=[1,2,2,3,4,5,6,4]\n",
    "print(pylist[1:4])"
   ]
  },
  {
   "cell_type": "code",
   "execution_count": 2,
   "id": "77a43d17",
   "metadata": {},
   "outputs": [
    {
     "name": "stdout",
     "output_type": "stream",
     "text": [
      "[2, 3]\n"
     ]
    }
   ],
   "source": [
    "print(pylist[1:4:2])"
   ]
  },
  {
   "cell_type": "code",
   "execution_count": 3,
   "id": "1c3f9045",
   "metadata": {},
   "outputs": [
    {
     "name": "stdout",
     "output_type": "stream",
     "text": [
      "[2]\n"
     ]
    }
   ],
   "source": [
    "print(pylist[1:4:4])"
   ]
  },
  {
   "cell_type": "code",
   "execution_count": 4,
   "id": "19dd6a87",
   "metadata": {},
   "outputs": [
    {
     "name": "stdout",
     "output_type": "stream",
     "text": [
      "[2]\n"
     ]
    }
   ],
   "source": [
    "print(pylist[1:4:5])"
   ]
  },
  {
   "cell_type": "code",
   "execution_count": 5,
   "id": "e4dfb2e3",
   "metadata": {},
   "outputs": [
    {
     "name": "stdout",
     "output_type": "stream",
     "text": [
      "[1, 2, 3]\n"
     ]
    }
   ],
   "source": [
    "pylist=['python',1,2,3,['machine']]\n",
    "print(pylist[1:4])"
   ]
  },
  {
   "cell_type": "code",
   "execution_count": 6,
   "id": "b3c1e11d",
   "metadata": {},
   "outputs": [
    {
     "ename": "TypeError",
     "evalue": "'int' object is not subscriptable",
     "output_type": "error",
     "traceback": [
      "\u001b[1;31m---------------------------------------------------------------------------\u001b[0m",
      "\u001b[1;31mTypeError\u001b[0m                                 Traceback (most recent call last)",
      "\u001b[1;32m<ipython-input-6-10b7e9c47156>\u001b[0m in \u001b[0;36m<module>\u001b[1;34m\u001b[0m\n\u001b[1;32m----> 1\u001b[1;33m \u001b[0mprint\u001b[0m\u001b[1;33m(\u001b[0m\u001b[0mpylist\u001b[0m\u001b[1;33m[\u001b[0m\u001b[1;36m3\u001b[0m\u001b[1;33m]\u001b[0m\u001b[1;33m[\u001b[0m\u001b[1;36m0\u001b[0m\u001b[1;33m]\u001b[0m\u001b[1;33m)\u001b[0m\u001b[1;33m\u001b[0m\u001b[1;33m\u001b[0m\u001b[0m\n\u001b[0m",
      "\u001b[1;31mTypeError\u001b[0m: 'int' object is not subscriptable"
     ]
    }
   ],
   "source": [
    "print(pylist[3][0])"
   ]
  },
  {
   "cell_type": "code",
   "execution_count": 7,
   "id": "8a894fd3",
   "metadata": {},
   "outputs": [
    {
     "ename": "TypeError",
     "evalue": "'int' object is not subscriptable",
     "output_type": "error",
     "traceback": [
      "\u001b[1;31m---------------------------------------------------------------------------\u001b[0m",
      "\u001b[1;31mTypeError\u001b[0m                                 Traceback (most recent call last)",
      "\u001b[1;32m<ipython-input-7-6868f5744d2d>\u001b[0m in \u001b[0;36m<module>\u001b[1;34m\u001b[0m\n\u001b[1;32m----> 1\u001b[1;33m \u001b[0mprint\u001b[0m\u001b[1;33m(\u001b[0m\u001b[0mpylist\u001b[0m\u001b[1;33m[\u001b[0m\u001b[1;36m3\u001b[0m\u001b[1;33m]\u001b[0m\u001b[1;33m[\u001b[0m\u001b[1;33m-\u001b[0m\u001b[1;36m1\u001b[0m\u001b[1;33m]\u001b[0m\u001b[1;33m)\u001b[0m\u001b[1;33m\u001b[0m\u001b[1;33m\u001b[0m\u001b[0m\n\u001b[0m",
      "\u001b[1;31mTypeError\u001b[0m: 'int' object is not subscriptable"
     ]
    }
   ],
   "source": [
    "print(pylist[3][-1])"
   ]
  },
  {
   "cell_type": "code",
   "execution_count": 8,
   "id": "33d26de0",
   "metadata": {},
   "outputs": [
    {
     "ename": "TypeError",
     "evalue": "'int' object is not subscriptable",
     "output_type": "error",
     "traceback": [
      "\u001b[1;31m---------------------------------------------------------------------------\u001b[0m",
      "\u001b[1;31mTypeError\u001b[0m                                 Traceback (most recent call last)",
      "\u001b[1;32m<ipython-input-8-3519dec91c20>\u001b[0m in \u001b[0;36m<module>\u001b[1;34m\u001b[0m\n\u001b[1;32m----> 1\u001b[1;33m \u001b[0mprint\u001b[0m\u001b[1;33m(\u001b[0m\u001b[0mpylist\u001b[0m\u001b[1;33m[\u001b[0m\u001b[1;36m1\u001b[0m\u001b[1;33m]\u001b[0m\u001b[1;33m[\u001b[0m\u001b[1;36m0\u001b[0m\u001b[1;33m]\u001b[0m\u001b[1;33m)\u001b[0m\u001b[1;33m\u001b[0m\u001b[1;33m\u001b[0m\u001b[0m\n\u001b[0m",
      "\u001b[1;31mTypeError\u001b[0m: 'int' object is not subscriptable"
     ]
    }
   ],
   "source": [
    "print(pylist[1][0])"
   ]
  },
  {
   "cell_type": "code",
   "execution_count": 5,
   "id": "d28cfb4f",
   "metadata": {},
   "outputs": [
    {
     "name": "stdout",
     "output_type": "stream",
     "text": [
      "p\n"
     ]
    }
   ],
   "source": [
    "pylist=[['python'],1,2,3,['machine']]\n",
    "print(pylist[0][0][0])"
   ]
  },
  {
   "cell_type": "code",
   "execution_count": 10,
   "id": "ed67f1c2",
   "metadata": {},
   "outputs": [
    {
     "name": "stdout",
     "output_type": "stream",
     "text": [
      "o\n"
     ]
    }
   ],
   "source": [
    "print(pylist[0][-2])"
   ]
  },
  {
   "cell_type": "code",
   "execution_count": 1,
   "id": "6d0fdb62",
   "metadata": {},
   "outputs": [
    {
     "ename": "NameError",
     "evalue": "name 'pylist' is not defined",
     "output_type": "error",
     "traceback": [
      "\u001b[1;31m---------------------------------------------------------------------------\u001b[0m",
      "\u001b[1;31mNameError\u001b[0m                                 Traceback (most recent call last)",
      "\u001b[1;32m<ipython-input-1-fb2aa900470a>\u001b[0m in \u001b[0;36m<module>\u001b[1;34m\u001b[0m\n\u001b[1;32m----> 1\u001b[1;33m \u001b[0mprint\u001b[0m\u001b[1;33m(\u001b[0m\u001b[0mpylist\u001b[0m\u001b[1;33m[\u001b[0m\u001b[1;36m0\u001b[0m\u001b[1;33m]\u001b[0m\u001b[1;33m[\u001b[0m\u001b[1;36m0\u001b[0m\u001b[1;33m]\u001b[0m\u001b[1;33m[\u001b[0m\u001b[1;36m0\u001b[0m\u001b[1;33m]\u001b[0m\u001b[1;33m)\u001b[0m\u001b[1;33m\u001b[0m\u001b[1;33m\u001b[0m\u001b[0m\n\u001b[0m",
      "\u001b[1;31mNameError\u001b[0m: name 'pylist' is not defined"
     ]
    }
   ],
   "source": [
    "print(pylist[0][0][0])"
   ]
  },
  {
   "cell_type": "code",
   "execution_count": 20,
   "id": "69c6078a",
   "metadata": {},
   "outputs": [
    {
     "name": "stdout",
     "output_type": "stream",
     "text": [
      "python\n"
     ]
    }
   ],
   "source": [
    "print(pylist[0])"
   ]
  },
  {
   "cell_type": "code",
   "execution_count": 19,
   "id": "27061073",
   "metadata": {},
   "outputs": [
    {
     "name": "stdout",
     "output_type": "stream",
     "text": [
      "['machine']\n"
     ]
    }
   ],
   "source": [
    "print(pylist[-1])"
   ]
  },
  {
   "cell_type": "code",
   "execution_count": 1,
   "id": "b643c9da",
   "metadata": {},
   "outputs": [
    {
     "name": "stdout",
     "output_type": "stream",
     "text": [
      "['Hadoop', 'Spark']\n",
      "['Hadoop', 'Spark']\n",
      "['Hadoop', 'IoT']\n",
      "['Hadoop']\n",
      "['IoT', 'Spark']\n",
      "['IoT']\n"
     ]
    }
   ],
   "source": [
    "PyList=[\"Big Data\", \"Hadoop\", \"Spark\", \"IoT\"] \n",
    "#Start:Stop\n",
    "print(PyList[1:3])\n",
    "#Start:Stop:Step(Increment)\n",
    "print(PyList[1:3:1])\n",
    "#Start:Stop:Step(Increment)\n",
    "print(PyList[1:4:2])#ALternate, Hadoop, IoT\n",
    "#Start:Stop:Step(Increment)\n",
    "print(PyList[1:4:3])#TwoElements, Hadoop\n",
    "#Start:Stop:Step(decrement)\n",
    "print(PyList[3:1:-1])#IoT, SPARK\n",
    "#Start:Stop:Step(decrement)\n",
    "print(PyList[3:1:-2])#IoT"
   ]
  },
  {
   "cell_type": "code",
   "execution_count": 1,
   "id": "6d01bf64",
   "metadata": {},
   "outputs": [
    {
     "name": "stdout",
     "output_type": "stream",
     "text": [
      "[1, 3, 4, 6, 7, 8, 9]\n",
      "[3, 4, 6, 7]\n",
      "[3, 4, 6, 7]\n",
      "[3, 6]\n",
      "[3, 7]\n",
      "[3]\n",
      "[8, 7, 6, 4]\n",
      "[8, 6]\n",
      "[8, 4]\n",
      "[9, 4]\n"
     ]
    }
   ],
   "source": [
    "PyList=[1,3,4,6,7,8,9]\n",
    "print(PyList)\n",
    "print(PyList[1:5])\n",
    "print(PyList[1:5:1])\n",
    "print(PyList[1:5:2])\n",
    "print(PyList[1:5:3])\n",
    "print(PyList[1:5:4])\n",
    "print(PyList[5:1:-1])\n",
    "print(PyList[5:1:-2])\n",
    "print(PyList[5:1:-3])\n",
    "print(PyList[6:0:-4])\n"
   ]
  },
  {
   "cell_type": "code",
   "execution_count": 2,
   "id": "8e4bbc4e",
   "metadata": {},
   "outputs": [
    {
     "name": "stdout",
     "output_type": "stream",
     "text": [
      "[1, 2, 3, 4, 5, 6, 7, 8, 9, 10]\n",
      "[1, 2, 3, 4, 5, 6, 7, 8, 9, 10]\n",
      "[1, 3, 5, 7, 9]\n",
      "[1, 4, 7, 10]\n",
      "[1, 5, 9]\n",
      "[10, 9, 8, 7, 6, 5, 4, 3, 2, 1]\n",
      "[10, 8, 6, 4, 2]\n",
      "[10, 7, 4, 1]\n",
      "[10, 6, 2]\n"
     ]
    }
   ],
   "source": [
    "PyList=[1,2,3,4,5,6,7,8,9,10]\n",
    "print(PyList)\n",
    "print(PyList[::1])\n",
    "print(PyList[::2])\n",
    "print(PyList[::3])\n",
    "print(PyList[::4])\n",
    "print(PyList[::-1])\n",
    "print(PyList[::-2])\n",
    "print(PyList[::-3])\n",
    "print(PyList[::-4])\n"
   ]
  },
  {
   "cell_type": "code",
   "execution_count": 3,
   "id": "db36860a",
   "metadata": {},
   "outputs": [
    {
     "name": "stdout",
     "output_type": "stream",
     "text": [
      "[2, 7]\n",
      "[1, 7]\n",
      "[6]\n",
      "[1, 10]\n",
      "[7]\n"
     ]
    }
   ],
   "source": [
    "PyList=[1,2,3,4,5,6,7,8,9,10]\n",
    "print(PyList[1::5])\n",
    "print(PyList[0::6])\n",
    "print(PyList[5::9])\n",
    "print(PyList[0::9])\n",
    "print(PyList[6::11])\n"
   ]
  },
  {
   "cell_type": "code",
   "execution_count": 7,
   "id": "c95c9f31",
   "metadata": {},
   "outputs": [
    {
     "name": "stdout",
     "output_type": "stream",
     "text": [
      "NO, This is not Palindrome\n"
     ]
    }
   ],
   "source": [
    "PyStr=\"Malayalam\"\n",
    "if PyStr==PyStr[::-1]:\n",
    "    print(\"Yes,This is Palindrome\")\n",
    "else:\n",
    "    print(\"NO, This is not Palindrome\")\n"
   ]
  },
  {
   "cell_type": "code",
   "execution_count": 10,
   "id": "fad93682",
   "metadata": {},
   "outputs": [
    {
     "name": "stdout",
     "output_type": "stream",
     "text": [
      "['a', 'b', 'c', ('d', 'e', 'f')]\n"
     ]
    }
   ],
   "source": [
    "alist = ['a', 'b', 'c']\n",
    "alist.append(('d', 'e','f'))\n",
    "print(alist)\n"
   ]
  },
  {
   "cell_type": "code",
   "execution_count": 11,
   "id": "faa20d47",
   "metadata": {},
   "outputs": [
    {
     "name": "stdout",
     "output_type": "stream",
     "text": [
      "['BigData']\n",
      "['BigData', ('ML', 'BC')]\n",
      "['BigData', ('ML', 'BC'), {'AI'}]\n",
      "['BigData', ('ML', 'BC'), {'AI'}, {1: 'PYTHON'}]\n"
     ]
    }
   ],
   "source": [
    "PyList=[\"BigData\"]\n",
    "print(PyList)\n",
    "PyList.append((\"ML\",\"BC\"))\n",
    "print(PyList)\n",
    "PyList.append({\"AI\"})\n",
    "print(PyList)\n",
    "PyList.append({1:\"PYTHON\"})\n",
    "print(PyList)\n"
   ]
  },
  {
   "cell_type": "code",
   "execution_count": 13,
   "id": "b742db92",
   "metadata": {},
   "outputs": [
    {
     "ename": "TypeError",
     "evalue": "extend() takes exactly one argument (3 given)",
     "output_type": "error",
     "traceback": [
      "\u001b[1;31m---------------------------------------------------------------------------\u001b[0m",
      "\u001b[1;31mTypeError\u001b[0m                                 Traceback (most recent call last)",
      "\u001b[1;32m<ipython-input-13-022e98d275ef>\u001b[0m in \u001b[0;36m<module>\u001b[1;34m\u001b[0m\n\u001b[0;32m      1\u001b[0m \u001b[0malist\u001b[0m \u001b[1;33m=\u001b[0m \u001b[1;33m[\u001b[0m\u001b[1;34m'a'\u001b[0m\u001b[1;33m,\u001b[0m \u001b[1;34m'b'\u001b[0m\u001b[1;33m,\u001b[0m \u001b[1;34m'c'\u001b[0m\u001b[1;33m]\u001b[0m\u001b[1;33m\u001b[0m\u001b[1;33m\u001b[0m\u001b[0m\n\u001b[1;32m----> 2\u001b[1;33m \u001b[0malist\u001b[0m\u001b[1;33m.\u001b[0m\u001b[0mextend\u001b[0m\u001b[1;33m(\u001b[0m\u001b[1;34m'd'\u001b[0m\u001b[1;33m,\u001b[0m \u001b[1;34m'e'\u001b[0m\u001b[1;33m,\u001b[0m\u001b[1;34m'f'\u001b[0m\u001b[1;33m)\u001b[0m\u001b[1;33m\u001b[0m\u001b[1;33m\u001b[0m\u001b[0m\n\u001b[0m\u001b[0;32m      3\u001b[0m \u001b[0mprint\u001b[0m\u001b[1;33m(\u001b[0m\u001b[0malist\u001b[0m\u001b[1;33m)\u001b[0m\u001b[1;33m\u001b[0m\u001b[1;33m\u001b[0m\u001b[0m\n",
      "\u001b[1;31mTypeError\u001b[0m: extend() takes exactly one argument (3 given)"
     ]
    }
   ],
   "source": [
    "alist = ['a', 'b', 'c']\n",
    "alist.extend('d', 'e','f')\n",
    "print(alist)"
   ]
  },
  {
   "cell_type": "code",
   "execution_count": 18,
   "id": "1814e3f8",
   "metadata": {},
   "outputs": [
    {
     "name": "stdout",
     "output_type": "stream",
     "text": [
      "['Egypt', 'Kenya', 'Namibia', 'Zimbabwe', 'India', 'Pakistan', 'Sri Lanka']\n"
     ]
    }
   ],
   "source": [
    "Countries = [\"India\", \"Pakistan\", \"Sri Lanka\"]\n",
    "African_Countries = [\"Egypt\", \"Kenya\", \"Namibia\", \"Zimbabwe\"]\n",
    "African_Countries.extend(Countries)\n",
    "print(African_Countries)\n"
   ]
  },
  {
   "cell_type": "code",
   "execution_count": 22,
   "id": "e107438d",
   "metadata": {},
   "outputs": [
    {
     "name": "stdout",
     "output_type": "stream",
     "text": [
      "Updated List:  ['Big', 'Data', 'Hadoop', 'Spark', 'RADATA']\n"
     ]
    }
   ],
   "source": [
    "MyData = ['Big', 'Data', 'Hadoop', 'Spark']\n",
    "MyData.insert(10000, 'RADATA')\n",
    "print('Updated List: ', MyData)\n"
   ]
  },
  {
   "cell_type": "code",
   "execution_count": 26,
   "id": "c92eb8c9",
   "metadata": {},
   "outputs": [
    {
     "name": "stdout",
     "output_type": "stream",
     "text": [
      "['Apple', 'Cherry', 'Jackfruit', 'Grape']\n"
     ]
    }
   ],
   "source": [
    "Fruit_List = [\"Apple\", \"Banana\", \"Cherry\", \"Jackfruit\", \"Grape\"]\n",
    "del Fruit_List[1]\n",
    "print(Fruit_List)\n"
   ]
  },
  {
   "cell_type": "code",
   "execution_count": 34,
   "id": "6564360e",
   "metadata": {},
   "outputs": [
    {
     "name": "stdout",
     "output_type": "stream",
     "text": [
      "[1, 2, 3, 4]\n",
      "[1, 3, 4]\n"
     ]
    }
   ],
   "source": [
    "py_list=[1,2,3,4]  \n",
    "print(py_list)  \n",
    "py_list.remove(2)  \n",
    "print(py_list) "
   ]
  },
  {
   "cell_type": "code",
   "execution_count": 1,
   "id": "fad61a89",
   "metadata": {},
   "outputs": [
    {
     "name": "stdout",
     "output_type": "stream",
     "text": [
      "[1, 2, 3, 3, 2, 1, 5, 4]\n",
      "0\n",
      "2\n",
      "7\n",
      "3\n",
      "5\n",
      "4\n",
      "7\n"
     ]
    }
   ],
   "source": [
    "PyList=[1,2,3,3,2,1,5,4]\n",
    "print(PyList)\n",
    "print(PyList.index(1))\n",
    "print(PyList.index(3))\n",
    "print(PyList.index(4))\n",
    "print(PyList.index(3,3))\n",
    "print(PyList.index(1,3))\n",
    "print(PyList.index(2,4))\n",
    "print(PyList.index(4,4,10))\n"
   ]
  },
  {
   "cell_type": "code",
   "execution_count": 2,
   "id": "8821c9a5",
   "metadata": {},
   "outputs": [
    {
     "name": "stdout",
     "output_type": "stream",
     "text": [
      "[1, 2, 3, 1, 4, 5, 2, 5, 6, 1, 4]\n",
      "1\n",
      "6\n",
      "3\n",
      "4\n"
     ]
    }
   ],
   "source": [
    "PyList=[1,2,3,1,4,5,2,5,6,1,4]\n",
    "print(PyList)\n",
    "print(PyList.index(2))\n",
    "print(PyList.index(2,2))\n",
    "print(PyList.index(1,2,7))\n",
    "print(PyList.index(4,3,9))"
   ]
  },
  {
   "cell_type": "code",
   "execution_count": 18,
   "id": "2ede0eb5",
   "metadata": {},
   "outputs": [
    {
     "name": "stdout",
     "output_type": "stream",
     "text": [
      "['Data', 'ML', 'DL', 'Data', 'ML']\n",
      "1\n",
      "0\n",
      "3\n",
      "4\n"
     ]
    }
   ],
   "source": [
    "pyList=[\"Data\",\"ML\",\"DL\",\"Data\",\"ML\"]\n",
    "print(pyList)#['Data','ML','DL','Data','ML']\n",
    "print(pyList.index(\"ML\"))\n",
    "print(pyList.index(\"Data\"))\n",
    "print(pyList.index(\"Data\",1))\n",
    "print(pyList.index(\"ML\",2,6))\n"
   ]
  },
  {
   "cell_type": "code",
   "execution_count": 8,
   "id": "d6f49bb4",
   "metadata": {},
   "outputs": [
    {
     "name": "stdout",
     "output_type": "stream",
     "text": [
      "['H', 'E', 'L', 'L', 'O', ' ', 'W', 'O', 'R', 'L', 'D']\n",
      "2\n",
      "9\n",
      "4\n"
     ]
    }
   ],
   "source": [
    "listy = list(\"HELLO WORLD\")  \n",
    "print(listy)  \n",
    "index = listy.index(\"L\")\n",
    "print(index)  \n",
    "index = listy.index(\"L\", 4)   \n",
    "print(index)  \n",
    "index = listy.index(\"O\", 3, 5) \n",
    "print(index) \n",
    "\n"
   ]
  },
  {
   "cell_type": "code",
   "execution_count": 9,
   "id": "58c6ab02",
   "metadata": {},
   "outputs": [
    {
     "name": "stdout",
     "output_type": "stream",
     "text": [
      "3\n",
      "4\n",
      "3\n"
     ]
    }
   ],
   "source": [
    "PyList=[1,2,3,1,2,3,3,3,1,2,33]\n",
    "print(PyList.count(2))\n",
    "print(PyList.count(3))\n",
    "print(PyList.count(1))"
   ]
  },
  {
   "cell_type": "code",
   "execution_count": 30,
   "id": "04b37f88",
   "metadata": {},
   "outputs": [
    {
     "name": "stdout",
     "output_type": "stream",
     "text": [
      "2\n",
      "1\n",
      "2\n",
      "2\n",
      "2\n",
      "2\n"
     ]
    }
   ],
   "source": [
    "PyList=['hello','hello','Hello','ml','ml','ML','ML','Data','Data','data','data']\n",
    "print(PyList.count('hello'))\n",
    "print(PyList.count('Hello'))\n",
    "print(PyList.count('Data'))\n",
    "print(PyList.count('data'))\n",
    "print(PyList.count('ml'))\n",
    "print(PyList.count('ML'))\n",
    "\n",
    "\n"
   ]
  },
  {
   "cell_type": "code",
   "execution_count": 40,
   "id": "76477493",
   "metadata": {},
   "outputs": [
    {
     "name": "stdout",
     "output_type": "stream",
     "text": [
      "['cc', 'b', 'aaa', 'eeee', 'ddddddd']\n",
      "['b', 'cc', 'aaa', 'eeee', 'ddddddd']\n",
      "['b', 'cc', 'aaa', 'eeee', 'ddddddd']\n"
     ]
    }
   ],
   "source": [
    "PyList=['cc','b','aaa','eeee','ddddddd']\n",
    "print(PyList)\n",
    "PyList.sort(key=len)\n",
    "print(PyList)\n",
    "PyList.sort(reverse= False,key=len)\n",
    "print(PyList)"
   ]
  },
  {
   "cell_type": "code",
   "execution_count": 42,
   "id": "b3d33784",
   "metadata": {},
   "outputs": [
    {
     "name": "stdout",
     "output_type": "stream",
     "text": [
      "[[1, 2], [2, 4], [4, 5], [3, 1], [0, 0]]\n",
      "[[0, 0], [1, 2], [2, 4], [3, 1], [4, 5]]\n"
     ]
    }
   ],
   "source": [
    "PyList=[[1,2],[2,4],[4,5],[3,1],[0,0]]\n",
    "print(PyList)\n",
    "PyList.sort()\n",
    "print(PyList)"
   ]
  },
  {
   "cell_type": "code",
   "execution_count": 51,
   "id": "653fdd6d",
   "metadata": {},
   "outputs": [
    {
     "name": "stdout",
     "output_type": "stream",
     "text": [
      "[1, 2, 3, 1, 2, 3, 3, 3, 1, 2, 33]\n",
      "[1, 2, 3, 1, 2, 3, 3, 3, 1, 2, 33, 333]\n",
      "[1, 2, 3, 1, 2, 3, 3, 3, 1, 2, 33, 333]\n",
      "[1, 2, 3, 1, 2, 3, 3, 3, 1, 2, 33, 333, '4', '4', '4']\n"
     ]
    }
   ],
   "source": [
    "PyList=[1,2,3,1,2,3,3,3,1,2,33]\n",
    "print(PyList)\n",
    "PyList.append(333)\n",
    "print(PyList)\n",
    "PyList1=PyList.copy()\n",
    "print(PyList1)\n",
    "PyList1.extend('444')\n",
    "print(PyList1)\n"
   ]
  },
  {
   "cell_type": "code",
   "execution_count": 11,
   "id": "4160eaca",
   "metadata": {},
   "outputs": [
    {
     "name": "stdout",
     "output_type": "stream",
     "text": [
      "deque(['Hadoop', 'Spark', 'IoT', 'DataScinece', 'PYTHON', 'ML'])\n"
     ]
    }
   ],
   "source": [
    "#from collections import deque  \n",
    "py_list = deque([\"Big Data\", \"Hadoop\", \"Spark\", \"IoT\"])  \n",
    "py_list.append(\"DataScinece\")      \n",
    "#print(py_list)  \n",
    "py_list.append(\"PYTHON\")\n",
    "py_list.extend([\"ML\"])\n",
    "#print(py_list)  \n",
    "py_list.popleft() #it removes from left to right.           \n",
    "print(py_list)  \n",
    "##by default it removes from right to left.        \n",
    "#print(py_list)  \n"
   ]
  },
  {
   "cell_type": "code",
   "execution_count": 14,
   "id": "78c7d004",
   "metadata": {},
   "outputs": [
    {
     "name": "stdout",
     "output_type": "stream",
     "text": [
      "['Data', 'BigData', 'Hadoop']\n",
      "['BigData', 'Hadoop', 'Data']\n",
      "False\n",
      "True\n"
     ]
    }
   ],
   "source": [
    "PyList1=[\"Data\",\"BigData\",\"Hadoop\"]\n",
    "print(PyList1)\n",
    "PyList2=[\"BigData\",\"Hadoop\",\"Data\"]\n",
    "print(PyList2)\n",
    "print(PyList1==PyList2)\n",
    "PyList1.sort()\n",
    "PyList2.sort()\n",
    "print(PyList1==PyList2)"
   ]
  },
  {
   "cell_type": "code",
   "execution_count": 15,
   "id": "babe9de8",
   "metadata": {},
   "outputs": [
    {
     "name": "stdout",
     "output_type": "stream",
     "text": [
      "[1]\n",
      "[1, 3]\n",
      "[1, 3, 5]\n",
      "[1, 3, 5, 7]\n",
      "[1, 3, 5, 7, 9]\n"
     ]
    }
   ],
   "source": [
    "PyList=[]\n",
    "for i in range(10):\n",
    "    if i%2==1:\n",
    "        PyList.append(i)\n",
    "        print(PyList)"
   ]
  },
  {
   "cell_type": "code",
   "execution_count": 20,
   "id": "197582d9",
   "metadata": {},
   "outputs": [
    {
     "name": "stdout",
     "output_type": "stream",
     "text": [
      "<class 'enumerate'>\n",
      "[(0, 'Big Data'), (1, 'Hadoop'), (2, 'Spark'), (3, 'Data Science'), (4, 1), (5, 2), (6, 3), (7, 'hello'), (8, [1, 2, 3])]\n"
     ]
    }
   ],
   "source": [
    "BigData=['Big Data', 'Hadoop', 'Spark','Data Science',1,2,3,('hello'),[1,2,3]]\n",
    "eData = enumerate(BigData)\n",
    "print(type(eData))\n",
    "print(list(eData))\n"
   ]
  },
  {
   "cell_type": "code",
   "execution_count": 21,
   "id": "ab165e08",
   "metadata": {},
   "outputs": [
    {
     "name": "stdout",
     "output_type": "stream",
     "text": [
      "0 Big Data\n",
      "1 Hadoop\n",
      "2 Spark\n",
      "3 Data Science\n"
     ]
    }
   ],
   "source": [
    "bd = ['Big Data', 'Hadoop', 'Spark','Data Science']\n",
    "for count, item in enumerate(bd):\n",
    "      print(count, item)\n"
   ]
  },
  {
   "cell_type": "code",
   "execution_count": 23,
   "id": "4053a2f0",
   "metadata": {},
   "outputs": [
    {
     "name": "stdout",
     "output_type": "stream",
     "text": [
      "(100, 'Big Data')\n",
      "(101, 'Hadoop')\n",
      "(102, 'Spark')\n",
      "(103, 'Data Science')\n"
     ]
    }
   ],
   "source": [
    "bd = ['Big Data', 'Hadoop', 'Spark','Data Science']\n",
    "for item in enumerate(bd, 100):\n",
    "      print(item)\n"
   ]
  },
  {
   "cell_type": "code",
   "execution_count": 2,
   "id": "9b3efb30",
   "metadata": {},
   "outputs": [
    {
     "name": "stdout",
     "output_type": "stream",
     "text": [
      "[(0, 'Bob'), (1, 'Alice'), (2, 'Guido')]\n",
      "3\n"
     ]
    }
   ],
   "source": [
    "names = ['Bob', 'Alice', 'Guido']\n",
    "print(list(enumerate(names)))\n",
    "print(len(names))"
   ]
  },
  {
   "cell_type": "code",
   "execution_count": 28,
   "id": "79d9cc97",
   "metadata": {},
   "outputs": [
    {
     "name": "stdout",
     "output_type": "stream",
     "text": [
      "d\n"
     ]
    }
   ],
   "source": [
    "print(max('a','b','c','d','E','1','2','3'))"
   ]
  },
  {
   "cell_type": "code",
   "execution_count": 1,
   "id": "36bacbe7",
   "metadata": {},
   "outputs": [
    {
     "name": "stdout",
     "output_type": "stream",
     "text": [
      "[1, 1]\n",
      "[[1, 1], [1, 1], [1, 1], [1, 1], [1, 1]]\n",
      "[[2, 0], [2, 0], [2, 0], [2, 0]]\n"
     ]
    }
   ],
   "source": [
    "A=[1]*2\n",
    "print(A)\n",
    "B=[[1]*2]*5\n",
    "print(B)\n",
    "C=[[2,0]*1]*4\n",
    "print(C)"
   ]
  },
  {
   "cell_type": "code",
   "execution_count": 13,
   "id": "3f6ad79e",
   "metadata": {},
   "outputs": [
    {
     "name": "stdout",
     "output_type": "stream",
     "text": [
      "12\n"
     ]
    }
   ],
   "source": [
    "x=15\n",
    "y=12\n",
    "print(x & y) "
   ]
  },
  {
   "cell_type": "code",
   "execution_count": 14,
   "id": "5b9085fc",
   "metadata": {},
   "outputs": [
    {
     "data": {
      "text/plain": [
       "'0b1000'"
      ]
     },
     "execution_count": 14,
     "metadata": {},
     "output_type": "execute_result"
    }
   ],
   "source": [
    "bin(0x8)"
   ]
  },
  {
   "cell_type": "code",
   "execution_count": 5,
   "id": "20ac7217",
   "metadata": {},
   "outputs": [
    {
     "data": {
      "text/plain": [
       "'0x35'"
      ]
     },
     "execution_count": 5,
     "metadata": {},
     "output_type": "execute_result"
    }
   ],
   "source": [
    "hex(0x35)"
   ]
  },
  {
   "cell_type": "code",
   "execution_count": 6,
   "id": "ca2a444f",
   "metadata": {},
   "outputs": [
    {
     "name": "stdout",
     "output_type": "stream",
     "text": [
      "117\n"
     ]
    }
   ],
   "source": [
    "a=0x35 \n",
    "b=0x75\n",
    "print(a|b)"
   ]
  },
  {
   "cell_type": "code",
   "execution_count": 15,
   "id": "a9243303",
   "metadata": {},
   "outputs": [
    {
     "data": {
      "text/plain": [
       "'-0b101110'"
      ]
     },
     "execution_count": 15,
     "metadata": {},
     "output_type": "execute_result"
    }
   ],
   "source": [
    "bin(-46)"
   ]
  },
  {
   "cell_type": "code",
   "execution_count": 11,
   "id": "dea1c7d5",
   "metadata": {},
   "outputs": [
    {
     "name": "stdout",
     "output_type": "stream",
     "text": [
      "20 10\n"
     ]
    }
   ],
   "source": [
    "a=10\n",
    "b=20\n",
    "a=a^b\n",
    "b=a^b\n",
    "a=a^b\n",
    "print(a,b)"
   ]
  },
  {
   "cell_type": "code",
   "execution_count": 16,
   "id": "b7d4f4fb",
   "metadata": {},
   "outputs": [
    {
     "data": {
      "text/plain": [
       "-101"
      ]
     },
     "execution_count": 16,
     "metadata": {},
     "output_type": "execute_result"
    }
   ],
   "source": [
    "~100"
   ]
  },
  {
   "cell_type": "code",
   "execution_count": 17,
   "id": "c6e25ca5",
   "metadata": {},
   "outputs": [
    {
     "ename": "TypeError",
     "evalue": "'int' object is not iterable",
     "output_type": "error",
     "traceback": [
      "\u001b[1;31m---------------------------------------------------------------------------\u001b[0m",
      "\u001b[1;31mTypeError\u001b[0m                                 Traceback (most recent call last)",
      "\u001b[1;32m<ipython-input-17-580130510b76>\u001b[0m in \u001b[0;36m<module>\u001b[1;34m\u001b[0m\n\u001b[0;32m      1\u001b[0m \u001b[0ml\u001b[0m\u001b[1;33m=\u001b[0m\u001b[1;33m[\u001b[0m\u001b[1;36m1\u001b[0m\u001b[1;33m,\u001b[0m\u001b[1;36m0\u001b[0m\u001b[1;33m,\u001b[0m\u001b[1;36m2\u001b[0m\u001b[1;33m,\u001b[0m\u001b[1;36m0\u001b[0m\u001b[1;33m,\u001b[0m\u001b[1;34m'hello'\u001b[0m\u001b[1;33m,\u001b[0m\u001b[1;34m\" \"\u001b[0m\u001b[1;33m,\u001b[0m\u001b[1;33m[\u001b[0m\u001b[1;33m]\u001b[0m\u001b[1;33m]\u001b[0m\u001b[1;33m\u001b[0m\u001b[1;33m\u001b[0m\u001b[0m\n\u001b[1;32m----> 2\u001b[1;33m \u001b[0mlist\u001b[0m\u001b[1;33m(\u001b[0m\u001b[0mfilter\u001b[0m\u001b[1;33m(\u001b[0m\u001b[0mbool\u001b[0m\u001b[1;33m,\u001b[0m\u001b[1;36m1\u001b[0m\u001b[1;33m)\u001b[0m\u001b[1;33m)\u001b[0m\u001b[1;33m\u001b[0m\u001b[1;33m\u001b[0m\u001b[0m\n\u001b[0m",
      "\u001b[1;31mTypeError\u001b[0m: 'int' object is not iterable"
     ]
    }
   ],
   "source": [
    "l=[1,0,2,0,'hello',\" \",[]]\n",
    "list(filter(bool,1))"
   ]
  },
  {
   "cell_type": "code",
   "execution_count": 18,
   "id": "ae9aa753",
   "metadata": {},
   "outputs": [
    {
     "data": {
      "text/plain": [
       "False"
      ]
     },
     "execution_count": 18,
     "metadata": {},
     "output_type": "execute_result"
    }
   ],
   "source": [
    "not(10<20) and not(10>30)"
   ]
  },
  {
   "cell_type": "code",
   "execution_count": 20,
   "id": "ec7bad39",
   "metadata": {},
   "outputs": [
    {
     "data": {
      "text/plain": [
       "False"
      ]
     },
     "execution_count": 20,
     "metadata": {},
     "output_type": "execute_result"
    }
   ],
   "source": [
    "\n",
    "bool()"
   ]
  },
  {
   "cell_type": "code",
   "execution_count": 22,
   "id": "758b492e",
   "metadata": {},
   "outputs": [
    {
     "data": {
      "text/plain": [
       "'a'"
      ]
     },
     "execution_count": 22,
     "metadata": {},
     "output_type": "execute_result"
    }
   ],
   "source": [
    "['a','b'][bool('')]"
   ]
  },
  {
   "cell_type": "code",
   "execution_count": 1,
   "id": "9a6510af",
   "metadata": {},
   "outputs": [
    {
     "name": "stdout",
     "output_type": "stream",
     "text": [
      "[[1, 1], [1, 1], [1, 1], [1, 1], [1, 1]]\n"
     ]
    }
   ],
   "source": [
    "a=[[1]*2]*5\n",
    "print(a)"
   ]
  },
  {
   "cell_type": "code",
   "execution_count": 2,
   "id": "71496e6a",
   "metadata": {},
   "outputs": [
    {
     "name": "stdout",
     "output_type": "stream",
     "text": [
      "[[2, 0], [2, 0], [2, 0], [2, 0]]\n"
     ]
    }
   ],
   "source": [
    "b=[[2,0]*1]*4\n",
    "print(b)"
   ]
  },
  {
   "cell_type": "code",
   "execution_count": 5,
   "id": "09bb59d0",
   "metadata": {},
   "outputs": [
    {
     "name": "stdout",
     "output_type": "stream",
     "text": [
      "[2, 2, 2]\n"
     ]
    }
   ],
   "source": [
    "a=[2]*3\n",
    "print(a)"
   ]
  },
  {
   "cell_type": "code",
   "execution_count": 9,
   "id": "cd6eefea",
   "metadata": {},
   "outputs": [
    {
     "name": "stdout",
     "output_type": "stream",
     "text": [
      "[[2, 2, 2], [2, 2, 2]]\n"
     ]
    }
   ],
   "source": [
    "b=[[2]*3]*2\n",
    "print(b)"
   ]
  },
  {
   "cell_type": "code",
   "execution_count": 11,
   "id": "6d3f1d65",
   "metadata": {},
   "outputs": [
    {
     "name": "stdout",
     "output_type": "stream",
     "text": [
      "[[1, 0], [1, 0], [1, 0], [1, 0], [1, 0]]\n"
     ]
    }
   ],
   "source": [
    "c=[[1,0]*1]*5\n",
    "print(c)"
   ]
  },
  {
   "cell_type": "code",
   "execution_count": 12,
   "id": "7704f83e",
   "metadata": {},
   "outputs": [
    {
     "name": "stdout",
     "output_type": "stream",
     "text": [
      "[5, 5, 5, 5]\n"
     ]
    }
   ],
   "source": [
    "a=[5]*4\n",
    "print(a)"
   ]
  },
  {
   "cell_type": "code",
   "execution_count": 13,
   "id": "b331499b",
   "metadata": {},
   "outputs": [
    {
     "name": "stdout",
     "output_type": "stream",
     "text": [
      "2\n",
      "[1, 2, 3, 4, 5, 1, 2, 3, 4, 5]\n",
      "12\n",
      "5\n",
      "[1, 2, 3, 4, 5, 1, 2, 3, 4, 5, 1, 2, 3, 4, 5]\n"
     ]
    }
   ],
   "source": [
    "a=[1,2,3,4,5]\n",
    "print(a[0]*2)\n",
    "print(a*2)\n",
    "print(a[3]*3)\n",
    "print(a[4]*1)\n",
    "print(a*3)"
   ]
  },
  {
   "cell_type": "code",
   "execution_count": 58,
   "id": "9a13be2f",
   "metadata": {},
   "outputs": [
    {
     "name": "stdout",
     "output_type": "stream",
     "text": [
      "2\n"
     ]
    }
   ],
   "source": [
    "a=[1,[2,[3,[4,[5]]]]]\n",
    "print(a[-1][-2])"
   ]
  },
  {
   "cell_type": "code",
   "execution_count": 1,
   "id": "865befff",
   "metadata": {},
   "outputs": [
    {
     "name": "stdout",
     "output_type": "stream",
     "text": [
      "[9, 16, 25]\n"
     ]
    }
   ],
   "source": [
    "result=[x**2 for x in [3,4,5]]\n",
    "print(result)"
   ]
  },
  {
   "cell_type": "code",
   "execution_count": 2,
   "id": "5b865508",
   "metadata": {},
   "outputs": [
    {
     "name": "stdout",
     "output_type": "stream",
     "text": [
      "[4, 16]\n",
      "[1, 9]\n"
     ]
    }
   ],
   "source": [
    "print([x**2 for x in [1,2,3,4] if x%2==0])\n",
    "print([x**2 for x in [1,2,3,4] if x%2!=0])\n"
   ]
  },
  {
   "cell_type": "code",
   "execution_count": 3,
   "id": "0877c3ed",
   "metadata": {},
   "outputs": [
    {
     "name": "stdout",
     "output_type": "stream",
     "text": [
      "['1', '2', '3', '4', '5']\n"
     ]
    }
   ],
   "source": [
    "print([x for x  in \"Hello12345\" if x.isdigit()])"
   ]
  },
  {
   "cell_type": "code",
   "execution_count": 4,
   "id": "6daccdae",
   "metadata": {},
   "outputs": [
    {
     "name": "stdout",
     "output_type": "stream",
     "text": [
      "['H', 'e', 'l', 'l', 'o']\n"
     ]
    }
   ],
   "source": [
    "print([x for x  in \"Hello12345\" if x.isalpha()])"
   ]
  },
  {
   "cell_type": "code",
   "execution_count": 5,
   "id": "23c1351f",
   "metadata": {},
   "outputs": [
    {
     "name": "stdout",
     "output_type": "stream",
     "text": [
      "['HELLO', 'HAI', 'PYTHON']\n"
     ]
    }
   ],
   "source": [
    "words=['Hello',\"Hai\",'python']\n",
    "result=[x.upper() for x in words]\n",
    "print(result)\n"
   ]
  },
  {
   "cell_type": "code",
   "execution_count": 6,
   "id": "8b4084c1",
   "metadata": {},
   "outputs": [
    {
     "name": "stdout",
     "output_type": "stream",
     "text": [
      "['S', 'L']\n"
     ]
    }
   ],
   "source": [
    "Sample_List = [\"Sample\", \"List\"]\n",
    "Result = [item[0] for item in Sample_List]\n",
    "print(Result)\n"
   ]
  },
  {
   "cell_type": "code",
   "execution_count": 7,
   "id": "2a6fc88e",
   "metadata": {},
   "outputs": [
    {
     "name": "stdout",
     "output_type": "stream",
     "text": [
      "[3, 4, 4, 5, 5, 6, 6, 7, 7, 8, 8, 9]\n"
     ]
    }
   ],
   "source": [
    "a=[1,2,3,4,5,6]\n",
    "b=[2,3]\n",
    "result=[x+y for x in a for y in b]\n",
    "print(result )\n"
   ]
  },
  {
   "cell_type": "code",
   "execution_count": 8,
   "id": "835560eb",
   "metadata": {},
   "outputs": [
    {
     "name": "stdout",
     "output_type": "stream",
     "text": [
      "[1, 2, 3, 4, 5, 6]\n",
      "[1, 2, 3, 4, 5, 6]\n",
      "['NareshIT', 2, 3, 4, 5, 6]\n",
      "['NareshIT', 2, 3, 4, 5, 6]\n"
     ]
    }
   ],
   "source": [
    "myList=[1,2,3,4,5,6]\n",
    "print(myList)\n",
    "yourList=myList\n",
    "print(yourList)\n",
    "myList[0]=\"NareshIT\"\n",
    "print(myList)\n",
    "print(yourList)"
   ]
  },
  {
   "cell_type": "code",
   "execution_count": 1,
   "id": "9ba31c42",
   "metadata": {},
   "outputs": [
    {
     "name": "stdout",
     "output_type": "stream",
     "text": [
      "[1, 2, 3, 4, 5, 6]\n",
      "[1, 2, 3, 4, 5, 6]\n",
      "[1, 2, 3, 4, 'PYTHON', 6]\n",
      "[1, 2, 3, 4, 5, 6]\n"
     ]
    }
   ],
   "source": [
    "import copy\n",
    "myList=[1,2,3,4,5,6]\n",
    "print(myList)\n",
    "yourList=myList\n",
    "print(yourList)\n",
    "myList=copy.copy(yourList)\n",
    "myList[4]=\"PYTHON\"\n",
    "print(myList)\n",
    "print(yourList)"
   ]
  },
  {
   "cell_type": "code",
   "execution_count": 2,
   "id": "72033a06",
   "metadata": {},
   "outputs": [
    {
     "name": "stdout",
     "output_type": "stream",
     "text": [
      "Old list: [[1, 1, 1], [2, 2, 2], [3, 3, 3], [4, 4, 4]]\n",
      "New list: [[1, 1, 1], [2, 2, 2], [3, 3, 3]]\n"
     ]
    }
   ],
   "source": [
    "import copy\n",
    "old_list = [[1, 1, 1], [2, 2, 2], [3, 3, 3]]\n",
    "new_list = copy.copy(old_list)\n",
    "old_list.append([4, 4, 4])\n",
    "print(\"Old list:\", old_list)\n",
    "print(\"New list:\", new_list)"
   ]
  },
  {
   "cell_type": "code",
   "execution_count": 1,
   "id": "fda20aff",
   "metadata": {},
   "outputs": [
    {
     "name": "stdout",
     "output_type": "stream",
     "text": [
      "[('Hadoop', 'Bigdata'), ('Spark', 'Teradata'), ('PYTHON', 'Pandas'), ('DataScience', 'SKLearn')]\n"
     ]
    }
   ],
   "source": [
    "PyList1=[\"Hadoop\",\"Spark\",\"PYTHON\",\"DataScience\"]\n",
    "PyList2=[\"Bigdata\",\"Teradata\",\"Pandas\",\"SKLearn\"]\n",
    "z1=zip(PyList1,PyList2)\n",
    "print(list(z1))"
   ]
  },
  {
   "cell_type": "code",
   "execution_count": 2,
   "id": "db59687d",
   "metadata": {},
   "outputs": [
    {
     "name": "stdout",
     "output_type": "stream",
     "text": [
      "[(1, 2), (2, 3)]\n",
      "((1, 2), (2, 3))\n",
      "{(2, 3), (1, 2)}\n",
      "{1: 2, 2: 3}\n"
     ]
    }
   ],
   "source": [
    "Pylist1=[1,2]\n",
    "Pylist2=[2,3]\n",
    "ziplist=zip(Pylist1,Pylist2)\n",
    "ziptuple=zip(Pylist1,Pylist2)\n",
    "zipset=zip(Pylist1,Pylist2)\n",
    "zipdict=zip(Pylist1,Pylist2)\n",
    "print(list(ziplist))\n",
    "print(tuple(ziptuple))\n",
    "print(set(zipset))\n",
    "print(dict(zipdict))"
   ]
  },
  {
   "cell_type": "code",
   "execution_count": 3,
   "id": "a27d030c",
   "metadata": {},
   "outputs": [
    {
     "name": "stdout",
     "output_type": "stream",
     "text": [
      "Hadoop Bigdata\n",
      "Spark Teradata\n",
      "PYTHON Pandas\n",
      "DataScience SKLearn\n"
     ]
    }
   ],
   "source": [
    "PyList1=[\"Hadoop\",\"Spark\",\"PYTHON\",\"DataScience\"]\n",
    "PyList2=[\"Bigdata\",\"Teradata\",\"Pandas\",\"SKLearn\"]\n",
    "for l1,l2 in zip(PyList1,PyList2):\n",
    "    print(l1,l2)\n"
   ]
  },
  {
   "cell_type": "code",
   "execution_count": 7,
   "id": "f46362be",
   "metadata": {},
   "outputs": [
    {
     "name": "stdout",
     "output_type": "stream",
     "text": [
      "10 + 50=60\n",
      "20 + 60=80\n",
      "30 + 70=100\n",
      "40 + 80=120\n"
     ]
    }
   ],
   "source": [
    "PyList1=[10,20,30,40]\n",
    "PyList2=[50,60,70,80]\n",
    "for a,b in zip(PyList1,PyList2):\n",
    "    print('{} + {}={}'.format(a,b,a+b))"
   ]
  },
  {
   "cell_type": "code",
   "execution_count": 11,
   "id": "380b37bd",
   "metadata": {},
   "outputs": [
    {
     "name": "stdout",
     "output_type": "stream",
     "text": [
      "('Hadoop', 'Spark', 'PYTHON', 'DataScience') ('Bigdata', 'Teradata', 'Pandas', 'SKLearn')\n"
     ]
    }
   ],
   "source": [
    "PyList1=[\"Hadoop\",\"Spark\",\"PYTHON\",\"DataScience\"]\n",
    "PyList2=[\"Bigdata\",\"Teradata\",\"Pandas\",\"SKLearn\"]\n",
    "z1=zip(PyList1,PyList2)\n",
    "z2=zip(*z1)\n",
    "print(*z2)\n"
   ]
  },
  {
   "cell_type": "code",
   "execution_count": 1,
   "id": "03033a79",
   "metadata": {},
   "outputs": [
    {
     "name": "stdout",
     "output_type": "stream",
     "text": [
      "{1, 2, 3, 4, 5}\n"
     ]
    }
   ],
   "source": [
    "Numbers=[1,2,3,4,1,2,3,4,5]\n",
    "UniqueNumbers=set(Numbers)\n",
    "print(UniqueNumbers)"
   ]
  },
  {
   "cell_type": "code",
   "execution_count": 2,
   "id": "f2b97474",
   "metadata": {},
   "outputs": [
    {
     "name": "stdout",
     "output_type": "stream",
     "text": [
      "0\n",
      "1\n",
      "2\n",
      "3\n",
      "4\n",
      "5\n"
     ]
    }
   ],
   "source": [
    "NumSet = set([0, 1, 2, 3, 4, 5])  \n",
    "for n in NumSet:  \n",
    "  print(n) \n"
   ]
  },
  {
   "cell_type": "code",
   "execution_count": 7,
   "id": "9a4f4f18",
   "metadata": {},
   "outputs": [
    {
     "name": "stdout",
     "output_type": "stream",
     "text": [
      "{1, 2}\n"
     ]
    }
   ],
   "source": [
    "PySet={2}\n",
    "#print(PySet)\n",
    "PySet.add(1)\n",
    "print(PySet)"
   ]
  },
  {
   "cell_type": "code",
   "execution_count": 8,
   "id": "0ee63870",
   "metadata": {},
   "outputs": [
    {
     "name": "stdout",
     "output_type": "stream",
     "text": [
      "{1}\n",
      "set()\n"
     ]
    }
   ],
   "source": [
    "PySet={1}\n",
    "print(PySet)#{1}\n",
    "PySet.clear()\n",
    "print(PySet)#set()\n"
   ]
  },
  {
   "cell_type": "code",
   "execution_count": 9,
   "id": "621f0bfc",
   "metadata": {},
   "outputs": [
    {
     "name": "stdout",
     "output_type": "stream",
     "text": [
      "{'Data Science', 'Big Data'}\n"
     ]
    }
   ],
   "source": [
    "DataSet=set() \n",
    "DataSet.update([\"Data Science\", \"Big Data\"])  \n",
    "print(DataSet) "
   ]
  },
  {
   "cell_type": "code",
   "execution_count": 12,
   "id": "519fce5a",
   "metadata": {},
   "outputs": [
    {
     "name": "stdout",
     "output_type": "stream",
     "text": [
      "{0, 1, 2, 3, 4, 10, 20, 30, 40, 50, 60}\n"
     ]
    }
   ],
   "source": [
    "A={10,20,30}; B={40,50,60,10}\n",
    "B.update(A,range(5))\n",
    "print(B)"
   ]
  },
  {
   "cell_type": "code",
   "execution_count": 13,
   "id": "d969ccab",
   "metadata": {},
   "outputs": [
    {
     "name": "stdout",
     "output_type": "stream",
     "text": [
      "Return Value is a\n",
      "{'d', 'b', 'c'}\n"
     ]
    }
   ],
   "source": [
    "A ={'a', 'b', 'c', 'd'}\n",
    "print('Return Value is', A.pop())\n",
    "print(A)\n"
   ]
  },
  {
   "cell_type": "code",
   "execution_count": 15,
   "id": "50bae5fc",
   "metadata": {},
   "outputs": [
    {
     "name": "stdout",
     "output_type": "stream",
     "text": [
      "Return Value is g\n",
      "{'d', 'f', 'c', 'a', 'e', 'b'}\n"
     ]
    }
   ],
   "source": [
    "A ={'a', 'b', 'c', 'd','e','f','g'}\n",
    "print('Return Value is', A.pop())\n",
    "print(A)\n"
   ]
  },
  {
   "cell_type": "code",
   "execution_count": 33,
   "id": "0a6c266e",
   "metadata": {},
   "outputs": [
    {
     "name": "stdout",
     "output_type": "stream",
     "text": [
      "0\n",
      "{1, 2, 3, 4, 5}\n"
     ]
    }
   ],
   "source": [
    "NumSet = {0, 1, 2, 3, 4, 5}  \n",
    "a= NumSet.pop()  \n",
    "print(a) \n",
    "\n",
    "#NumSet.pop()  \n",
    "print(NumSet) \n"
   ]
  },
  {
   "cell_type": "code",
   "execution_count": 23,
   "id": "d354f883",
   "metadata": {},
   "outputs": [
    {
     "name": "stdout",
     "output_type": "stream",
     "text": [
      "{2, 3, 4, 5}\n"
     ]
    }
   ],
   "source": [
    "NumSet = set([1, 2, 3, 4, 5])  \n",
    "NumSet.remove(1)  \n",
    "print(NumSet)  \n"
   ]
  },
  {
   "cell_type": "code",
   "execution_count": 28,
   "id": "5b7911e7",
   "metadata": {},
   "outputs": [
    {
     "name": "stdout",
     "output_type": "stream",
     "text": [
      "{0, 1, 2, 4, 5}\n"
     ]
    }
   ],
   "source": [
    "NumSet = {0, 1, 2, 3, 4, 5}  \n",
    "NumSet.discard(3)  \n",
    "print(NumSet)  "
   ]
  },
  {
   "cell_type": "code",
   "execution_count": 27,
   "id": "4a90758c",
   "metadata": {},
   "outputs": [
    {
     "name": "stdout",
     "output_type": "stream",
     "text": [
      "{2, 4, 5}\n",
      "{2, 4, 5}\n"
     ]
    }
   ],
   "source": [
    "PyNums=set({2, 3, 4, 5})\n",
    "PyNums.discard(3)\n",
    "print(PyNums)\n",
    "PyNums.discard(10)\n",
    "print(PyNums)"
   ]
  },
  {
   "cell_type": "code",
   "execution_count": 29,
   "id": "20845ad1",
   "metadata": {},
   "outputs": [
    {
     "name": "stdout",
     "output_type": "stream",
     "text": [
      "{'Violet', 'Orange', 'Black', 'Red'}\n",
      "Violet\n",
      "{'Orange', 'Black', 'Red'}\n"
     ]
    }
   ],
   "source": [
    "Colour = {\"Black\", \"Blue\", \"Red\", \"Green\", \"Orange\", \"Violet\"}\n",
    "Colour.remove(\"Blue\")\n",
    "Colour.discard(\"Green\")\n",
    "print(Colour)\n",
    "x = Colour.pop()\n",
    "print(x)\n",
    "print(Colour)"
   ]
  },
  {
   "cell_type": "code",
   "execution_count": 34,
   "id": "54dc46ae",
   "metadata": {},
   "outputs": [
    {
     "name": "stdout",
     "output_type": "stream",
     "text": [
      "{'d', 'c', 'e'}\n",
      "{'d', 'c', 'e'}\n"
     ]
    }
   ],
   "source": [
    "x = {\"a\",\"b\",\"c\",\"d\",\"e\"}\n",
    "y = {\"c\",\"d\",\"e\",\"f\",\"g\"}\n",
    "print(x.intersection(y))\n",
    "print(x & y)"
   ]
  },
  {
   "cell_type": "code",
   "execution_count": 36,
   "id": "5ca72060",
   "metadata": {},
   "outputs": [
    {
     "name": "stdout",
     "output_type": "stream",
     "text": [
      "{1, 2, 3, 4}\n",
      "{1, 2, 3, 4, 5}\n"
     ]
    }
   ],
   "source": [
    "A = {1, 2, 3, 4}\n",
    "B = {1,2, 3, 4, 5}\n",
    "A.intersection_update(B)\n",
    "print(A)\n",
    "print(B)"
   ]
  },
  {
   "cell_type": "code",
   "execution_count": 37,
   "id": "1628fd9f",
   "metadata": {},
   "outputs": [
    {
     "name": "stdout",
     "output_type": "stream",
     "text": [
      "{'Data Science', 'Big Data', 'Spark'}\n"
     ]
    }
   ],
   "source": [
    "PySetx=set([\"Big Data\", \"Data Science\"])  \n",
    "PySety=set([\"Data Science\", \"Spark\"])  \n",
    "PySeta = PySetx |PySety  #Union\n",
    "print (PySeta)  "
   ]
  },
  {
   "cell_type": "code",
   "execution_count": 38,
   "id": "468de6ef",
   "metadata": {},
   "outputs": [
    {
     "name": "stdout",
     "output_type": "stream",
     "text": [
      "[1, 2]\n",
      "[7, 8]\n",
      "6\n",
      "7\n"
     ]
    }
   ],
   "source": [
    "MultArr = [[1,2], [3,4], [5,6], [7,8]]\n",
    "print(MultArr[0])\n",
    "print(MultArr[3])\n",
    "print(MultArr[2][1])\n",
    "print(MultArr[3][0])"
   ]
  },
  {
   "cell_type": "code",
   "execution_count": 39,
   "id": "7704acdf",
   "metadata": {},
   "outputs": [
    {
     "name": "stdout",
     "output_type": "stream",
     "text": [
      "['Roy', 80, 75, 85, 90, 95]\n",
      "80\n",
      "80\n",
      "80\n"
     ]
    }
   ],
   "source": [
    "PyArr=[['Roy',80,75,85,90,95],\n",
    "     ['John',75,80,75,85,100],\n",
    "     ['Dave',80,80,80,90,95]]\n",
    "print(PyArr[0])\n",
    "print(PyArr[0][1])\n",
    "print(PyArr[1][2])\n",
    "print(PyArr[2][2])\n"
   ]
  },
  {
   "cell_type": "code",
   "execution_count": 3,
   "id": "f8b1ae1d",
   "metadata": {},
   "outputs": [
    {
     "name": "stdout",
     "output_type": "stream",
     "text": [
      "Array c =  array('d', [1.1, 2.1, 3.1, 2.6, 7.8, 3.7, 8.6])\n"
     ]
    }
   ],
   "source": [
    "import array as arr\n",
    "a=arr.array('d',[1.1 , 2.1 ,3.1,2.6,7.8])  \n",
    "b=arr.array('d',[3.7,8.6])  \n",
    "c=arr.array('d')  \n",
    "c=a+b  \n",
    "print(\"Array c = \",c)  "
   ]
  },
  {
   "cell_type": "code",
   "execution_count": 6,
   "id": "eaf874a6",
   "metadata": {},
   "outputs": [
    {
     "name": "stdout",
     "output_type": "stream",
     "text": [
      "<class 'tuple'>\n",
      "(3, 4.6, 'Data Science', (1, 2, 3), [1])\n",
      "3\n",
      "4.6\n",
      "Data Science\n",
      "[1]\n"
     ]
    }
   ],
   "source": [
    "A = 3, 4.6, \"Data Science\",(1,2,3),[1]\n",
    "print(type(A))#<class 'tuple'>\n",
    "print(A)#(3, 4.6, 'Data Science')\n",
    "#Tuple Unpacking is also possible\n",
    "a, b, c,d,e = A\n",
    "print(a);print(b);print(c);print(e)"
   ]
  },
  {
   "cell_type": "code",
   "execution_count": 8,
   "id": "67f1e0af",
   "metadata": {},
   "outputs": [
    {
     "name": "stdout",
     "output_type": "stream",
     "text": [
      "<class 'tuple'>\n",
      "a\n",
      "[1, 2]\n",
      "2\n",
      "('a', [1, 4])\n"
     ]
    }
   ],
   "source": [
    "MyTuple=('a',[1,2])\n",
    "print(type(MyTuple))\n",
    "print(MyTuple[0])\n",
    "print(MyTuple[1])\n",
    "print(MyTuple[1][1])\n",
    "MyTuple[1][1]=4\n",
    "print(MyTuple)\n"
   ]
  },
  {
   "cell_type": "code",
   "execution_count": 10,
   "id": "364e5a34",
   "metadata": {},
   "outputs": [
    {
     "name": "stdout",
     "output_type": "stream",
     "text": [
      "<class 'tuple'>\n",
      "True\n",
      "True\n",
      "True\n"
     ]
    }
   ],
   "source": [
    "PyTuple=(1,2,3,5,[4,5])\n",
    "print(type(PyTuple))#<class 'tuple'>\n",
    "print(1 in PyTuple)\n",
    "print(10 not in PyTuple)\n",
    "print(5 in PyTuple)"
   ]
  },
  {
   "cell_type": "code",
   "execution_count": 11,
   "id": "bfc5265f",
   "metadata": {},
   "outputs": [
    {
     "name": "stdout",
     "output_type": "stream",
     "text": [
      "Hai KSRaju\n",
      "Hai Dinesh\n",
      "Hai NareshIT\n"
     ]
    }
   ],
   "source": [
    "for name in ('KSRaju','Dinesh',\"NareshIT\"):\n",
    "     print(\"Hai\",name)    \n"
   ]
  },
  {
   "cell_type": "code",
   "execution_count": 12,
   "id": "70b87637",
   "metadata": {},
   "outputs": [
    {
     "name": "stdout",
     "output_type": "stream",
     "text": [
      "(5, 4)\n",
      "(2, 4, 3, 5, 4, 6)\n",
      "(6, 7, 8, 6, 1)\n",
      "(2, 4, 3, 5, 4, 6, 7, 8, 6, 1)\n",
      "(3, 5, 4, 6)\n"
     ]
    }
   ],
   "source": [
    "PyTuple = (2, 4, 3, 5, 4, 6, 7, 8, 6, 1)   \n",
    "print(PyTuple[3:5])\n",
    "print(PyTuple[:6])\n",
    "print(PyTuple[5:])\n",
    "print(PyTuple[:])\n",
    "print(PyTuple[-8:-4])"
   ]
  },
  {
   "cell_type": "code",
   "execution_count": 13,
   "id": "3a5faec2",
   "metadata": {},
   "outputs": [
    {
     "name": "stdout",
     "output_type": "stream",
     "text": [
      "('D', 'A', 'T', 'A', ' ', 'S', 'C', 'I', 'E', 'N', 'C', 'E')\n",
      "('T', ' ', 'C', 'E')\n",
      "('D', ' ', 'E')\n",
      "('N', 'C', 'A')\n"
     ]
    }
   ],
   "source": [
    "PyTuple = tuple(\"DATA SCIENCE\")   \n",
    "print(PyTuple)\n",
    "print(PyTuple[2:9:2])\n",
    "print(PyTuple[::4])\n",
    "print(PyTuple[9:2:-3])"
   ]
  },
  {
   "cell_type": "code",
   "execution_count": 14,
   "id": "b02fc80b",
   "metadata": {},
   "outputs": [
    {
     "name": "stdout",
     "output_type": "stream",
     "text": [
      "(3, 6, 9, 12, 15, 'P', 'Y', 'T', 'H', 'O', 'N', True, False)\n",
      "(5, 5, 5, 5, 5, 5)\n"
     ]
    }
   ],
   "source": [
    "PyTuple1=(3, 6, 9, 12, 15)   \n",
    "PyTuple2=(\"P\", \"Y\", \"T\", \"H\", \"O\", \"N\")  \n",
    "PyTuple3=(True, False)  \n",
    "PyTuple4=PyTuple1+PyTuple2+PyTuple3  \n",
    "print(PyTuple4)\n",
    "#Repetation * Operator\n",
    "PyTuple5=5,\n",
    "print(PyTuple5*6)   \n"
   ]
  },
  {
   "cell_type": "code",
   "execution_count": 15,
   "id": "9b9f750b",
   "metadata": {},
   "outputs": [
    {
     "name": "stdout",
     "output_type": "stream",
     "text": [
      "('i', 'n', 'd', 'e', 'x', ' ', 't', 'u', 'p', 'l', 'e')\n",
      "8\n",
      "10\n",
      "3\n"
     ]
    }
   ],
   "source": [
    "PyTuple=tuple(\"index tuple\")   \n",
    "print(PyTuple)\n",
    "print(PyTuple.index(\"p\"))\n",
    "print(PyTuple.index(\"e\", 5))\n",
    "print(PyTuple.index(\"e\", 3, 6))\n"
   ]
  },
  {
   "cell_type": "code",
   "execution_count": 20,
   "id": "c2ced2f0",
   "metadata": {},
   "outputs": [
    {
     "name": "stdout",
     "output_type": "stream",
     "text": [
      "(4, 6, 2, 8, 3, 1)\n",
      "(4, 6, 2, 8, 3, 1, 9, 2, 3, 4)\n"
     ]
    }
   ],
   "source": [
    "a = (4, 6, 2, 8, 3, 1)   \n",
    "print(a)  \n",
    "a = a + (9,2,3,4,)  \n",
    "print(a) "
   ]
  },
  {
   "cell_type": "code",
   "execution_count": 22,
   "id": "0791c951",
   "metadata": {},
   "outputs": [
    {
     "name": "stdout",
     "output_type": "stream",
     "text": [
      "(4, 6, 2, 8, 3, 1)\n",
      "[4, 6, 2, 8, 3, 1]\n",
      "(4, 6, 2, 8, 3, 1, 30)\n"
     ]
    }
   ],
   "source": [
    "tuplez = (4, 6, 2, 8, 3, 1)   \n",
    "print(tuplez)  \n",
    "listx = list(tuplez)\n",
    "print(listx)\n",
    "listx.append(30)  \n",
    "tuplez = tuple(listx)  \n",
    "print(tuplez)\n"
   ]
  },
  {
   "cell_type": "code",
   "execution_count": 23,
   "id": "d463649a",
   "metadata": {},
   "outputs": [
    {
     "ename": "AttributeError",
     "evalue": "'tuple' object has no attribute 'append'",
     "output_type": "error",
     "traceback": [
      "\u001b[1;31m---------------------------------------------------------------------------\u001b[0m",
      "\u001b[1;31mAttributeError\u001b[0m                            Traceback (most recent call last)",
      "\u001b[1;32m<ipython-input-23-1239fc0cbaea>\u001b[0m in \u001b[0;36m<module>\u001b[1;34m\u001b[0m\n\u001b[0;32m      1\u001b[0m \u001b[0mPyTuple\u001b[0m\u001b[1;33m=\u001b[0m\u001b[1;33m(\u001b[0m\u001b[1;36m1\u001b[0m\u001b[1;33m,\u001b[0m\u001b[1;36m2\u001b[0m\u001b[1;33m,\u001b[0m\u001b[1;36m3\u001b[0m\u001b[1;33m,\u001b[0m\u001b[1;36m4\u001b[0m\u001b[1;33m)\u001b[0m\u001b[1;33m\u001b[0m\u001b[1;33m\u001b[0m\u001b[0m\n\u001b[1;32m----> 2\u001b[1;33m \u001b[0mPyTuple\u001b[0m\u001b[1;33m.\u001b[0m\u001b[0mappend\u001b[0m\u001b[1;33m(\u001b[0m\u001b[1;33m(\u001b[0m\u001b[1;36m5\u001b[0m\u001b[1;33m,\u001b[0m\u001b[1;36m6\u001b[0m\u001b[1;33m,\u001b[0m\u001b[1;36m7\u001b[0m\u001b[1;33m)\u001b[0m\u001b[1;33m)\u001b[0m\u001b[1;33m\u001b[0m\u001b[1;33m\u001b[0m\u001b[0m\n\u001b[0m\u001b[0;32m      3\u001b[0m \u001b[0mprint\u001b[0m\u001b[1;33m(\u001b[0m\u001b[0mlen\u001b[0m\u001b[1;33m(\u001b[0m\u001b[0mPyTuple\u001b[0m\u001b[1;33m)\u001b[0m\u001b[1;33m)\u001b[0m\u001b[1;33m\u001b[0m\u001b[1;33m\u001b[0m\u001b[0m\n",
      "\u001b[1;31mAttributeError\u001b[0m: 'tuple' object has no attribute 'append'"
     ]
    }
   ],
   "source": [
    "PyTuple=(1,2,3,4)\n",
    "PyTuple.append((5,6,7))\n",
    "print(len(PyTuple))\n"
   ]
  },
  {
   "cell_type": "code",
   "execution_count": 24,
   "id": "68b7bb31",
   "metadata": {},
   "outputs": [
    {
     "name": "stdout",
     "output_type": "stream",
     "text": [
      "['a', 'e', 'i', 'o', 'u']\n"
     ]
    }
   ],
   "source": [
    "pyList = ['e', 'a', 'u', 'o', 'i']\n",
    "print(sorted(pyList))"
   ]
  },
  {
   "cell_type": "code",
   "execution_count": 25,
   "id": "2bbd9ed7",
   "metadata": {},
   "outputs": [
    {
     "name": "stdout",
     "output_type": "stream",
     "text": [
      "['P', 'h', 'n', 'o', 't', 'y']\n"
     ]
    }
   ],
   "source": [
    "pyString = 'Python'\n",
    "print(sorted(pyString))"
   ]
  },
  {
   "cell_type": "code",
   "execution_count": 26,
   "id": "a6d228f3",
   "metadata": {},
   "outputs": [
    {
     "name": "stdout",
     "output_type": "stream",
     "text": [
      "['u', 'o', 'i', 'e', 'a']\n"
     ]
    }
   ],
   "source": [
    "pyTuple = ('e', 'a', 'u', 'o', 'i')\n",
    "print(sorted(pyTuple,reverse=True))\n"
   ]
  },
  {
   "cell_type": "code",
   "execution_count": 27,
   "id": "3e725d1b",
   "metadata": {},
   "outputs": [
    {
     "name": "stdout",
     "output_type": "stream",
     "text": [
      "Sum of Numbers is:  4.5\n"
     ]
    }
   ],
   "source": [
    "numbers = [2.5, 3, 4, -5]\n",
    "numbers = sum(numbers)\n",
    "print(\"Sum of Numbers is: \" ,numbers)"
   ]
  },
  {
   "cell_type": "code",
   "execution_count": 1,
   "id": "4b9d25e5",
   "metadata": {},
   "outputs": [
    {
     "name": "stdout",
     "output_type": "stream",
     "text": [
      "<class 'generator'>\n",
      "1\n",
      "4\n",
      "9\n",
      "16\n",
      "25\n"
     ]
    }
   ],
   "source": [
    "PyTuple=( x**2 for x in range(1,6))\n",
    "print(type(PyTuple))\n",
    "for x in PyTuple:\n",
    "    print(x)"
   ]
  },
  {
   "cell_type": "code",
   "execution_count": null,
   "id": "53e94b03",
   "metadata": {},
   "outputs": [],
   "source": []
  }
 ],
 "metadata": {
  "kernelspec": {
   "display_name": "Python 3",
   "language": "python",
   "name": "python3"
  },
  "language_info": {
   "codemirror_mode": {
    "name": "ipython",
    "version": 3
   },
   "file_extension": ".py",
   "mimetype": "text/x-python",
   "name": "python",
   "nbconvert_exporter": "python",
   "pygments_lexer": "ipython3",
   "version": "3.8.8"
  }
 },
 "nbformat": 4,
 "nbformat_minor": 5
}
