{
 "cells": [
  {
   "cell_type": "code",
   "execution_count": 2,
   "id": "745268af",
   "metadata": {},
   "outputs": [
    {
     "name": "stdout",
     "output_type": "stream",
     "text": [
      "Collecting simplejson\n",
      "  Downloading simplejson-3.17.5-cp38-cp38-win_amd64.whl (75 kB)\n",
      "Note: you may need to restart the kernel to use updated packages.Installing collected packages: simplejson\n",
      "\n",
      "Successfully installed simplejson-3.17.5\n"
     ]
    }
   ],
   "source": [
    "pip install simplejson"
   ]
  },
  {
   "cell_type": "code",
   "execution_count": 3,
   "id": "4460993d",
   "metadata": {},
   "outputs": [
    {
     "name": "stdout",
     "output_type": "stream",
     "text": [
      "['JSONDecodeError', 'JSONDecoder', 'JSONEncoder', '__all__', '__author__', '__builtins__', '__cached__', '__doc__', '__file__', '__loader__', '__name__', '__package__', '__path__', '__spec__', '__version__', '_default_decoder', '_default_encoder', 'codecs', 'decoder', 'detect_encoding', 'dump', 'dumps', 'encoder', 'load', 'loads', 'scanner']\n"
     ]
    }
   ],
   "source": [
    "import json\n",
    "print(dir(json))"
   ]
  },
  {
   "cell_type": "code",
   "execution_count": 4,
   "id": "1b96c653",
   "metadata": {},
   "outputs": [
    {
     "name": "stdout",
     "output_type": "stream",
     "text": [
      "['Decimal', 'JSONDecodeError', 'JSONDecoder', 'JSONEncoder', 'JSONEncoderForHTML', 'OrderedDict', 'RawJSON', '__all__', '__author__', '__builtins__', '__cached__', '__doc__', '__file__', '__loader__', '__name__', '__package__', '__path__', '__spec__', '__version__', '_default_decoder', '_default_encoder', '_import_OrderedDict', '_import_c_make_encoder', '_speedups', '_toggle_speedups', 'absolute_import', 'compat', 'decoder', 'dump', 'dumps', 'encoder', 'errors', 'load', 'loads', 'raw_json', 'scanner', 'simple_first']\n"
     ]
    }
   ],
   "source": [
    "import simplejson\n",
    "print(dir(simplejson))"
   ]
  },
  {
   "cell_type": "code",
   "execution_count": 5,
   "id": "bfc89dd1",
   "metadata": {},
   "outputs": [
    {
     "name": "stdout",
     "output_type": "stream",
     "text": [
      "<class 'dict'>\n",
      "<class 'str'>\n",
      "{\"raju\": {\"name\": \"raju\", \"address\": \"Ameerpet HYD\", \"Phone\": 9866698666}, \"tom\": {\"name\": \"tom\", \"address\": \"5 Green Street NY\", \"Phone\": 9866612345}}\n"
     ]
    }
   ],
   "source": [
    "book={}\n",
    "book['raju']={'name':'raju','address':'Ameerpet HYD','Phone':9866698666}\n",
    "book['tom']={'name':'tom','address':'5 Green Street NY','Phone':9866612345}\n",
    "import json\n",
    "print(type(book))#<class 'dict'>\n",
    "s=json.dumps(book)\n",
    "print(type(s))#<class 'str'>\n",
    "print(s)\n"
   ]
  },
  {
   "cell_type": "code",
   "execution_count": 6,
   "id": "ab8a7d96",
   "metadata": {},
   "outputs": [
    {
     "name": "stdout",
     "output_type": "stream",
     "text": [
      "<class 'dict'>\n",
      "<class 'str'>\n",
      "DataLoadedSuccessfully..!!\n",
      "FinallyBlockSuccess..!!\n"
     ]
    }
   ],
   "source": [
    "book={}\n",
    "book['raju']={'name':'raju','address':'Ameerpet HYD','Phone':9866698666}\n",
    "book['tom']={'name':'tom','address':'5 Green Street NY','Phone':9866612345}\n",
    "import json\n",
    "print(type(book))\n",
    "SS=json.dumps(book)#converting dict to string format\n",
    "print(type(SS))\n",
    "try:\n",
    "    with open(\"Stduent.txt\",mode='w',encoding='utf-8') as MyFile:\n",
    "        MyFile.write(SS)\n",
    "        print(\"DataLoadedSuccessfully..!!\")\n",
    "except IOError:\n",
    "    print(\"SorryFileUnableToCrete\")\n",
    "finally:\n",
    "    print(\"FinallyBlockSuccess..!!\")  \n"
   ]
  },
  {
   "cell_type": "code",
   "execution_count": 2,
   "id": "aea486c4",
   "metadata": {},
   "outputs": [
    {
     "name": "stdout",
     "output_type": "stream",
     "text": [
      "PickleFileCratedSuccessfully\n",
      "{'a': [1, 2, 3, 4], 'b': 'NareshIT', (1, 2): [1, 2]}\n"
     ]
    },
    {
     "ename": "NameError",
     "evalue": "name 'data' is not defined",
     "output_type": "error",
     "traceback": [
      "\u001b[1;31m---------------------------------------------------------------------------\u001b[0m",
      "\u001b[1;31mNameError\u001b[0m                                 Traceback (most recent call last)",
      "\u001b[1;32m<ipython-input-2-5142aa7aff40>\u001b[0m in \u001b[0;36m<module>\u001b[1;34m\u001b[0m\n\u001b[0;32m      6\u001b[0m \u001b[0mprint\u001b[0m\u001b[1;33m(\u001b[0m\u001b[0mdata\u001b[0m\u001b[1;33m)\u001b[0m\u001b[1;33m\u001b[0m\u001b[1;33m\u001b[0m\u001b[0m\n\u001b[0;32m      7\u001b[0m \u001b[1;32mdel\u001b[0m \u001b[0mdata\u001b[0m\u001b[1;33m\u001b[0m\u001b[1;33m\u001b[0m\u001b[0m\n\u001b[1;32m----> 8\u001b[1;33m \u001b[0mprint\u001b[0m\u001b[1;33m(\u001b[0m\u001b[0mdata\u001b[0m\u001b[1;33m)\u001b[0m\u001b[1;33m\u001b[0m\u001b[1;33m\u001b[0m\u001b[0m\n\u001b[0m",
      "\u001b[1;31mNameError\u001b[0m: name 'data' is not defined"
     ]
    }
   ],
   "source": [
    "import pickle\n",
    "data={'a':[1,2,3,4],'b':'NareshIT',(1,2):[1,2]}\n",
    "with open(\"Data.pkl\",mode=\"wb\") as FPK:\n",
    "    pickle.dump(data,FPK)\n",
    "print(\"PickleFileCratedSuccessfully\")\n",
    "print(data)\n",
    "del data\n",
    "print(data)"
   ]
  },
  {
   "cell_type": "code",
   "execution_count": 3,
   "id": "03252efe",
   "metadata": {},
   "outputs": [
    {
     "name": "stdout",
     "output_type": "stream",
     "text": [
      "DataSerializedSuccessfully...!!\n",
      "FinallyBlockSuccess\n"
     ]
    }
   ],
   "source": [
    "import pickle\n",
    "PyData={'a':[1,2,3,4],'b':\"NareshIT\",'c':(1,2)}\n",
    "try:\n",
    "    with open(\"Data.pkl\",mode='wb') as FPK:\n",
    "        pickle.dump(PyData,FPK)\n",
    "    print(\"DataSerializedSuccessfully...!!\")\n",
    "except IOError:\n",
    "    print(\"SorryDataUnableToSerialize\")\n",
    "finally:\n",
    "    print(\"FinallyBlockSuccess\")"
   ]
  },
  {
   "cell_type": "code",
   "execution_count": 6,
   "id": "7fd5319f",
   "metadata": {},
   "outputs": [
    {
     "name": "stdout",
     "output_type": "stream",
     "text": [
      "{'a': [1, 2, 3], 'b': 'NareshIT', (1, 2): [1, 2]}\n"
     ]
    }
   ],
   "source": [
    "import pickle\n",
    "data ={'a':[1,2,3],'b':'NareshIT',(1,2):[1,2]}\n",
    "with open(\"Hei.pkl\",mode='wb') as FPK:\n",
    "    pickle.dump(data,FPK)\n",
    "del data\n",
    "with open(\"Hei.pkl\",mode='rb')as FPK:\n",
    "    data=pickle.load(FPK)\n",
    "print(data)"
   ]
  },
  {
   "cell_type": "code",
   "execution_count": null,
   "id": "ebc81606",
   "metadata": {},
   "outputs": [],
   "source": []
  }
 ],
 "metadata": {
  "kernelspec": {
   "display_name": "Python 3",
   "language": "python",
   "name": "python3"
  },
  "language_info": {
   "codemirror_mode": {
    "name": "ipython",
    "version": 3
   },
   "file_extension": ".py",
   "mimetype": "text/x-python",
   "name": "python",
   "nbconvert_exporter": "python",
   "pygments_lexer": "ipython3",
   "version": "3.8.8"
  }
 },
 "nbformat": 4,
 "nbformat_minor": 5
}
